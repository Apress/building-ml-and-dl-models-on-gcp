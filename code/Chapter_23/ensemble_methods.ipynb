{
  "nbformat": 4,
  "nbformat_minor": 0,
  "metadata": {
    "colab": {
      "name": "ensemble_methods.ipynb",
      "version": "0.3.2",
      "provenance": []
    },
    "kernelspec": {
      "name": "python3",
      "display_name": "Python 3"
    }
  },
  "cells": [
    {
      "cell_type": "markdown",
      "metadata": {
        "id": "DCiVSKf4MIyN",
        "colab_type": "text"
      },
      "source": [
        "# Chapter 23 - Ensemble Methods\n",
        "## Building Machine Learning and Deep Learning Models on Google Cloud Platform\n",
        "### Ekaba Bisong"
      ]
    },
    {
      "cell_type": "markdown",
      "metadata": {
        "id": "o74hBAwTQrB-",
        "colab_type": "text"
      },
      "source": [
        "## Classification and Regression Trees (CART)"
      ]
    },
    {
      "cell_type": "markdown",
      "metadata": {
        "id": "11lYpmEBQ1Sr",
        "colab_type": "text"
      },
      "source": [
        "### Classification Tree with Scikit-learn"
      ]
    },
    {
      "cell_type": "code",
      "metadata": {
        "id": "_4xpnTKOQog4",
        "colab_type": "code",
        "colab": {}
      },
      "source": [
        "# import packages\n",
        "from sklearn.tree import DecisionTreeClassifier\n",
        "from sklearn import datasets\n",
        "from sklearn.model_selection import train_test_split\n",
        "from sklearn.metrics import accuracy_score"
      ],
      "execution_count": 0,
      "outputs": []
    },
    {
      "cell_type": "code",
      "metadata": {
        "id": "pb91-sdlRBQT",
        "colab_type": "code",
        "colab": {}
      },
      "source": [
        "# load dataset\n",
        "data = datasets.load_iris()\n",
        "\n",
        "# separate features and target\n",
        "X = data.data\n",
        "y = data.target"
      ],
      "execution_count": 0,
      "outputs": []
    },
    {
      "cell_type": "code",
      "metadata": {
        "id": "aRKimJq5RC-7",
        "colab_type": "code",
        "colab": {}
      },
      "source": [
        "# split in train and test sets\n",
        "X_train, X_test, y_train, y_test = train_test_split(X, y, shuffle=True)"
      ],
      "execution_count": 0,
      "outputs": []
    },
    {
      "cell_type": "code",
      "metadata": {
        "id": "IifTv0f2RJCq",
        "colab_type": "code",
        "colab": {}
      },
      "source": [
        "# create the model\n",
        "tree_classifier = DecisionTreeClassifier()"
      ],
      "execution_count": 0,
      "outputs": []
    },
    {
      "cell_type": "code",
      "metadata": {
        "id": "i9nhFUdbREcU",
        "colab_type": "code",
        "outputId": "69de25a3-20e4-4bc7-c272-1a66a942fcb5",
        "colab": {
          "base_uri": "https://localhost:8080/",
          "height": 119
        }
      },
      "source": [
        "# fit the model on the training set\n",
        "tree_classifier.fit(X_train, y_train)"
      ],
      "execution_count": 0,
      "outputs": [
        {
          "output_type": "execute_result",
          "data": {
            "text/plain": [
              "DecisionTreeClassifier(class_weight=None, criterion='gini', max_depth=None,\n",
              "                       max_features=None, max_leaf_nodes=None,\n",
              "                       min_impurity_decrease=0.0, min_impurity_split=None,\n",
              "                       min_samples_leaf=1, min_samples_split=2,\n",
              "                       min_weight_fraction_leaf=0.0, presort=False,\n",
              "                       random_state=None, splitter='best')"
            ]
          },
          "metadata": {
            "tags": []
          },
          "execution_count": 6
        }
      ]
    },
    {
      "cell_type": "code",
      "metadata": {
        "id": "6DT8SFz3RFq7",
        "colab_type": "code",
        "colab": {}
      },
      "source": [
        "# make predictions on the test set\n",
        "predictions = tree_classifier.predict(X_test)"
      ],
      "execution_count": 0,
      "outputs": []
    },
    {
      "cell_type": "code",
      "metadata": {
        "id": "MDVNi2FVRLTN",
        "colab_type": "code",
        "outputId": "54e979a1-5349-477e-b101-cfb7f7457d00",
        "colab": {
          "base_uri": "https://localhost:8080/",
          "height": 34
        }
      },
      "source": [
        "# evaluate the model performance using accuracy metric\n",
        "print(\"Accuracy: %.2f\" % accuracy_score(y_test, predictions))"
      ],
      "execution_count": 0,
      "outputs": [
        {
          "output_type": "stream",
          "text": [
            "Accuracy: 0.97\n"
          ],
          "name": "stdout"
        }
      ]
    },
    {
      "cell_type": "markdown",
      "metadata": {
        "id": "XmAUJbW2ROp2",
        "colab_type": "text"
      },
      "source": [
        "### Regression Tree with Scikit-learn"
      ]
    },
    {
      "cell_type": "code",
      "metadata": {
        "id": "gNRsHPZhRMl9",
        "colab_type": "code",
        "colab": {}
      },
      "source": [
        "# import packages\n",
        "from sklearn.tree import DecisionTreeRegressor\n",
        "from sklearn import datasets\n",
        "from sklearn.model_selection import train_test_split\n",
        "from sklearn.metrics import mean_squared_error\n",
        "from math import sqrt"
      ],
      "execution_count": 0,
      "outputs": []
    },
    {
      "cell_type": "code",
      "metadata": {
        "id": "99IuPppIRW5x",
        "colab_type": "code",
        "colab": {}
      },
      "source": [
        "# load dataset\n",
        "data = datasets.load_boston()\n",
        "\n",
        "# separate features and target\n",
        "X = data.data\n",
        "y = data.target"
      ],
      "execution_count": 0,
      "outputs": []
    },
    {
      "cell_type": "code",
      "metadata": {
        "id": "AtemhjywRYpC",
        "colab_type": "code",
        "colab": {}
      },
      "source": [
        "# split in train and test sets\n",
        "X_train, X_test, y_train, y_test = train_test_split(X, y, shuffle=True)"
      ],
      "execution_count": 0,
      "outputs": []
    },
    {
      "cell_type": "code",
      "metadata": {
        "id": "HqVjHKN-RZsq",
        "colab_type": "code",
        "colab": {}
      },
      "source": [
        "# create the model\n",
        "tree_reg = DecisionTreeRegressor()"
      ],
      "execution_count": 0,
      "outputs": []
    },
    {
      "cell_type": "code",
      "metadata": {
        "id": "fQTRABpIRbUC",
        "colab_type": "code",
        "outputId": "7f3362e5-3653-4bfa-d90c-0c19adf61d6c",
        "colab": {
          "base_uri": "https://localhost:8080/",
          "height": 102
        }
      },
      "source": [
        "# fit the model on the training set\n",
        "tree_reg.fit(X_train, y_train)"
      ],
      "execution_count": 0,
      "outputs": [
        {
          "output_type": "execute_result",
          "data": {
            "text/plain": [
              "DecisionTreeRegressor(criterion='mse', max_depth=None, max_features=None,\n",
              "                      max_leaf_nodes=None, min_impurity_decrease=0.0,\n",
              "                      min_impurity_split=None, min_samples_leaf=1,\n",
              "                      min_samples_split=2, min_weight_fraction_leaf=0.0,\n",
              "                      presort=False, random_state=None, splitter='best')"
            ]
          },
          "metadata": {
            "tags": []
          },
          "execution_count": 13
        }
      ]
    },
    {
      "cell_type": "code",
      "metadata": {
        "id": "Wt_I6uXORchq",
        "colab_type": "code",
        "colab": {}
      },
      "source": [
        "# make predictions on the test set\n",
        "predictions = tree_reg.predict(X_test)"
      ],
      "execution_count": 0,
      "outputs": []
    },
    {
      "cell_type": "code",
      "metadata": {
        "id": "pkvZBr6BRdnz",
        "colab_type": "code",
        "outputId": "e5144ead-2bb8-467d-cd85-d58eedf6f9b8",
        "colab": {
          "base_uri": "https://localhost:8080/",
          "height": 34
        }
      },
      "source": [
        "# evaluate the model performance using the root mean square error metric\n",
        "print(\"Root Mean squared error: %.2f\" % sqrt(mean_squared_error(y_test, predictions)))"
      ],
      "execution_count": 0,
      "outputs": [
        {
          "output_type": "stream",
          "text": [
            "Root Mean squared error: 4.93\n"
          ],
          "name": "stdout"
        }
      ]
    },
    {
      "cell_type": "markdown",
      "metadata": {
        "colab_type": "text",
        "id": "ru9GSz26QkEi"
      },
      "source": [
        "## Random Forests"
      ]
    },
    {
      "cell_type": "markdown",
      "metadata": {
        "colab_type": "text",
        "id": "xBo-uYNxQkEj"
      },
      "source": [
        "### Random Forests for Classification"
      ]
    },
    {
      "cell_type": "code",
      "metadata": {
        "colab_type": "code",
        "id": "xESkNxWxQkEl",
        "colab": {}
      },
      "source": [
        "# import packages\n",
        "from sklearn.ensemble import RandomForestClassifier\n",
        "from sklearn import datasets\n",
        "from sklearn.model_selection import train_test_split\n",
        "from sklearn.metrics import accuracy_score"
      ],
      "execution_count": 0,
      "outputs": []
    },
    {
      "cell_type": "code",
      "metadata": {
        "colab_type": "code",
        "id": "djNmyZynQkEo",
        "colab": {}
      },
      "source": [
        "# load dataset\n",
        "data = datasets.load_iris()\n",
        "\n",
        "# separate features and target\n",
        "X = data.data\n",
        "y = data.target"
      ],
      "execution_count": 0,
      "outputs": []
    },
    {
      "cell_type": "code",
      "metadata": {
        "colab_type": "code",
        "id": "YpgDSXj2QkEr",
        "colab": {}
      },
      "source": [
        "# split in train and test sets\n",
        "X_train, X_test, y_train, y_test = train_test_split(X, y, shuffle=True)"
      ],
      "execution_count": 0,
      "outputs": []
    },
    {
      "cell_type": "code",
      "metadata": {
        "colab_type": "code",
        "id": "_hAJXtHZQkEu",
        "colab": {}
      },
      "source": [
        "# create the model\n",
        "rf_classifier = RandomForestClassifier()"
      ],
      "execution_count": 0,
      "outputs": []
    },
    {
      "cell_type": "code",
      "metadata": {
        "colab_type": "code",
        "outputId": "456eca74-1855-45e9-8f8b-2bd0d66586d7",
        "id": "d06jytixQkEw",
        "colab": {
          "base_uri": "https://localhost:8080/",
          "height": 190
        }
      },
      "source": [
        "# fit the model on the training set\n",
        "rf_classifier.fit(X_train, y_train)"
      ],
      "execution_count": 0,
      "outputs": [
        {
          "output_type": "stream",
          "text": [
            "/usr/local/lib/python3.6/dist-packages/sklearn/ensemble/forest.py:245: FutureWarning: The default value of n_estimators will change from 10 in version 0.20 to 100 in 0.22.\n",
            "  \"10 in version 0.20 to 100 in 0.22.\", FutureWarning)\n"
          ],
          "name": "stderr"
        },
        {
          "output_type": "execute_result",
          "data": {
            "text/plain": [
              "RandomForestClassifier(bootstrap=True, class_weight=None, criterion='gini',\n",
              "                       max_depth=None, max_features='auto', max_leaf_nodes=None,\n",
              "                       min_impurity_decrease=0.0, min_impurity_split=None,\n",
              "                       min_samples_leaf=1, min_samples_split=2,\n",
              "                       min_weight_fraction_leaf=0.0, n_estimators=10,\n",
              "                       n_jobs=None, oob_score=False, random_state=None,\n",
              "                       verbose=0, warm_start=False)"
            ]
          },
          "metadata": {
            "tags": []
          },
          "execution_count": 5
        }
      ]
    },
    {
      "cell_type": "code",
      "metadata": {
        "colab_type": "code",
        "id": "LOP8nRmaQkE0",
        "colab": {}
      },
      "source": [
        "# make predictions on the test set\n",
        "predictions = rf_classifier.predict(X_test)"
      ],
      "execution_count": 0,
      "outputs": []
    },
    {
      "cell_type": "code",
      "metadata": {
        "colab_type": "code",
        "outputId": "eac7b05d-87c3-4b11-fc31-54b6c321cbe8",
        "id": "yXUcYbHyQkE3",
        "colab": {
          "base_uri": "https://localhost:8080/",
          "height": 34
        }
      },
      "source": [
        "# evaluate the model performance using accuracy metric\n",
        "print(\"Accuracy: %.2f\" % accuracy_score(y_test, predictions))"
      ],
      "execution_count": 0,
      "outputs": [
        {
          "output_type": "stream",
          "text": [
            "Accuracy: 1.00\n"
          ],
          "name": "stdout"
        }
      ]
    },
    {
      "cell_type": "markdown",
      "metadata": {
        "colab_type": "text",
        "id": "WVT02a3JQkE9"
      },
      "source": [
        "### Random Forests for Regression"
      ]
    },
    {
      "cell_type": "code",
      "metadata": {
        "colab_type": "code",
        "id": "lM9NzPwnQkE_",
        "colab": {}
      },
      "source": [
        "# import packages\n",
        "from sklearn.ensemble import RandomForestRegressor\n",
        "from sklearn import datasets\n",
        "from sklearn.model_selection import train_test_split\n",
        "from sklearn.metrics import mean_squared_error\n",
        "from math import sqrt"
      ],
      "execution_count": 0,
      "outputs": []
    },
    {
      "cell_type": "code",
      "metadata": {
        "colab_type": "code",
        "id": "ldisG8vxQkFC",
        "colab": {}
      },
      "source": [
        "# load dataset\n",
        "data = datasets.load_boston()\n",
        "\n",
        "# separate features and target\n",
        "X = data.data\n",
        "y = data.target"
      ],
      "execution_count": 0,
      "outputs": []
    },
    {
      "cell_type": "code",
      "metadata": {
        "colab_type": "code",
        "id": "vf5GIJxMQkFG",
        "colab": {}
      },
      "source": [
        "# split in train and test sets\n",
        "X_train, X_test, y_train, y_test = train_test_split(X, y, shuffle=True)"
      ],
      "execution_count": 0,
      "outputs": []
    },
    {
      "cell_type": "code",
      "metadata": {
        "colab_type": "code",
        "id": "AOLMbp2wQkFJ",
        "colab": {}
      },
      "source": [
        "# create the model\n",
        "rf_reg = RandomForestRegressor()"
      ],
      "execution_count": 0,
      "outputs": []
    },
    {
      "cell_type": "code",
      "metadata": {
        "colab_type": "code",
        "outputId": "cc4d29a6-2521-4888-a840-31f62f56a76a",
        "id": "cIQmmQKgQkFL",
        "colab": {
          "base_uri": "https://localhost:8080/",
          "height": 190
        }
      },
      "source": [
        "# fit the model on the training set\n",
        "rf_reg.fit(X_train, y_train)"
      ],
      "execution_count": 0,
      "outputs": [
        {
          "output_type": "stream",
          "text": [
            "/usr/local/lib/python3.6/dist-packages/sklearn/ensemble/forest.py:245: FutureWarning: The default value of n_estimators will change from 10 in version 0.20 to 100 in 0.22.\n",
            "  \"10 in version 0.20 to 100 in 0.22.\", FutureWarning)\n"
          ],
          "name": "stderr"
        },
        {
          "output_type": "execute_result",
          "data": {
            "text/plain": [
              "RandomForestRegressor(bootstrap=True, criterion='mse', max_depth=None,\n",
              "                      max_features='auto', max_leaf_nodes=None,\n",
              "                      min_impurity_decrease=0.0, min_impurity_split=None,\n",
              "                      min_samples_leaf=1, min_samples_split=2,\n",
              "                      min_weight_fraction_leaf=0.0, n_estimators=10,\n",
              "                      n_jobs=None, oob_score=False, random_state=None,\n",
              "                      verbose=0, warm_start=False)"
            ]
          },
          "metadata": {
            "tags": []
          },
          "execution_count": 5
        }
      ]
    },
    {
      "cell_type": "code",
      "metadata": {
        "colab_type": "code",
        "id": "EyfQtPGXQkFO",
        "colab": {}
      },
      "source": [
        "# make predictions on the test set\n",
        "predictions = rf_reg.predict(X_test)"
      ],
      "execution_count": 0,
      "outputs": []
    },
    {
      "cell_type": "code",
      "metadata": {
        "colab_type": "code",
        "outputId": "5be05321-32a0-4f06-c297-edca8ac048bc",
        "id": "CBZog7ixQkFP",
        "colab": {
          "base_uri": "https://localhost:8080/",
          "height": 34
        }
      },
      "source": [
        "# evaluate the model performance using the root mean square error metric\n",
        "print(\"Root Mean squared error: %.2f\" % sqrt(mean_squared_error(y_test, predictions)))"
      ],
      "execution_count": 0,
      "outputs": [
        {
          "output_type": "stream",
          "text": [
            "Root Mean squared error: 3.18\n"
          ],
          "name": "stdout"
        }
      ]
    },
    {
      "cell_type": "code",
      "metadata": {
        "id": "E3g888vnxP6Z",
        "colab_type": "code",
        "colab": {}
      },
      "source": [
        ""
      ],
      "execution_count": 0,
      "outputs": []
    },
    {
      "cell_type": "markdown",
      "metadata": {
        "colab_type": "text",
        "id": "thdzqmBEQtwX"
      },
      "source": [
        "## Stochastic Gradient Boosting (SGB)"
      ]
    },
    {
      "cell_type": "markdown",
      "metadata": {
        "colab_type": "text",
        "id": "r2LQ-GKgQtwb"
      },
      "source": [
        "### SGB for Classification"
      ]
    },
    {
      "cell_type": "code",
      "metadata": {
        "colab_type": "code",
        "id": "eyHgH6TOQtwc",
        "colab": {}
      },
      "source": [
        "# import packages\n",
        "from sklearn.ensemble import GradientBoostingClassifier\n",
        "from sklearn import datasets\n",
        "from sklearn.model_selection import train_test_split\n",
        "from sklearn.metrics import accuracy_score"
      ],
      "execution_count": 0,
      "outputs": []
    },
    {
      "cell_type": "code",
      "metadata": {
        "colab_type": "code",
        "id": "yAxH97nEQtwi",
        "colab": {}
      },
      "source": [
        "# load dataset\n",
        "data = datasets.load_iris()\n",
        "\n",
        "# separate features and target\n",
        "X = data.data\n",
        "y = data.target"
      ],
      "execution_count": 0,
      "outputs": []
    },
    {
      "cell_type": "code",
      "metadata": {
        "colab_type": "code",
        "id": "ev6nMJhSQtwk",
        "colab": {}
      },
      "source": [
        "# split in train and test sets\n",
        "X_train, X_test, y_train, y_test = train_test_split(X, y, shuffle=True)"
      ],
      "execution_count": 0,
      "outputs": []
    },
    {
      "cell_type": "code",
      "metadata": {
        "colab_type": "code",
        "id": "eGurOozmQtwo",
        "colab": {}
      },
      "source": [
        "# create the model\n",
        "sgb_classifier = GradientBoostingClassifier()"
      ],
      "execution_count": 0,
      "outputs": []
    },
    {
      "cell_type": "code",
      "metadata": {
        "colab_type": "code",
        "outputId": "2c550911-693b-4e85-d712-7a21442599a8",
        "id": "ojIKJp-RQtwq",
        "colab": {
          "base_uri": "https://localhost:8080/",
          "height": 187
        }
      },
      "source": [
        "# fit the model on the training set\n",
        "sgb_classifier.fit(X_train, y_train)"
      ],
      "execution_count": 0,
      "outputs": [
        {
          "output_type": "execute_result",
          "data": {
            "text/plain": [
              "GradientBoostingClassifier(criterion='friedman_mse', init=None,\n",
              "                           learning_rate=0.1, loss='deviance', max_depth=3,\n",
              "                           max_features=None, max_leaf_nodes=None,\n",
              "                           min_impurity_decrease=0.0, min_impurity_split=None,\n",
              "                           min_samples_leaf=1, min_samples_split=2,\n",
              "                           min_weight_fraction_leaf=0.0, n_estimators=100,\n",
              "                           n_iter_no_change=None, presort='auto',\n",
              "                           random_state=None, subsample=1.0, tol=0.0001,\n",
              "                           validation_fraction=0.1, verbose=0,\n",
              "                           warm_start=False)"
            ]
          },
          "metadata": {
            "tags": []
          },
          "execution_count": 5
        }
      ]
    },
    {
      "cell_type": "code",
      "metadata": {
        "colab_type": "code",
        "id": "sByWbcb8Qtw0",
        "colab": {}
      },
      "source": [
        "# make predictions on the test set\n",
        "predictions = sgb_classifier.predict(X_test)"
      ],
      "execution_count": 0,
      "outputs": []
    },
    {
      "cell_type": "code",
      "metadata": {
        "colab_type": "code",
        "outputId": "63682900-aa60-4727-c89b-b7e04d4f4ceb",
        "id": "ugP_i5TeQtw2",
        "colab": {
          "base_uri": "https://localhost:8080/",
          "height": 34
        }
      },
      "source": [
        "# evaluate the model performance using accuracy metric\n",
        "print(\"Accuracy: %.2f\" % accuracy_score(y_test, predictions))"
      ],
      "execution_count": 0,
      "outputs": [
        {
          "output_type": "stream",
          "text": [
            "Accuracy: 0.92\n"
          ],
          "name": "stdout"
        }
      ]
    },
    {
      "cell_type": "markdown",
      "metadata": {
        "colab_type": "text",
        "id": "vfbFGD2fQtw5"
      },
      "source": [
        "### SGB for Regression"
      ]
    },
    {
      "cell_type": "code",
      "metadata": {
        "colab_type": "code",
        "id": "XWuk4MSeQtw6",
        "colab": {}
      },
      "source": [
        "# import packages\n",
        "from sklearn.ensemble import GradientBoostingRegressor\n",
        "from sklearn import datasets\n",
        "from sklearn.model_selection import train_test_split\n",
        "from sklearn.metrics import mean_squared_error\n",
        "from math import sqrt"
      ],
      "execution_count": 0,
      "outputs": []
    },
    {
      "cell_type": "code",
      "metadata": {
        "colab_type": "code",
        "id": "RNEnZk2oQtw7",
        "colab": {}
      },
      "source": [
        "# load dataset\n",
        "data = datasets.load_boston()\n",
        "\n",
        "# separate features and target\n",
        "X = data.data\n",
        "y = data.target"
      ],
      "execution_count": 0,
      "outputs": []
    },
    {
      "cell_type": "code",
      "metadata": {
        "colab_type": "code",
        "id": "0trPwWwgQtw9",
        "colab": {}
      },
      "source": [
        "# split in train and test sets\n",
        "X_train, X_test, y_train, y_test = train_test_split(X, y, shuffle=True)"
      ],
      "execution_count": 0,
      "outputs": []
    },
    {
      "cell_type": "code",
      "metadata": {
        "colab_type": "code",
        "id": "5FKi-QMkQtw_",
        "colab": {}
      },
      "source": [
        "# create the model\n",
        "sgb_reg = GradientBoostingRegressor()"
      ],
      "execution_count": 0,
      "outputs": []
    },
    {
      "cell_type": "code",
      "metadata": {
        "colab_type": "code",
        "outputId": "69354fe9-5c47-4cbd-e407-39b47b3b7cf0",
        "id": "Bxi5hSQtQtxC",
        "colab": {
          "base_uri": "https://localhost:8080/",
          "height": 170
        }
      },
      "source": [
        "# fit the model on the training set\n",
        "sgb_reg.fit(X_train, y_train)"
      ],
      "execution_count": 0,
      "outputs": [
        {
          "output_type": "execute_result",
          "data": {
            "text/plain": [
              "GradientBoostingRegressor(alpha=0.9, criterion='friedman_mse', init=None,\n",
              "                          learning_rate=0.1, loss='ls', max_depth=3,\n",
              "                          max_features=None, max_leaf_nodes=None,\n",
              "                          min_impurity_decrease=0.0, min_impurity_split=None,\n",
              "                          min_samples_leaf=1, min_samples_split=2,\n",
              "                          min_weight_fraction_leaf=0.0, n_estimators=100,\n",
              "                          n_iter_no_change=None, presort='auto',\n",
              "                          random_state=None, subsample=1.0, tol=0.0001,\n",
              "                          validation_fraction=0.1, verbose=0, warm_start=False)"
            ]
          },
          "metadata": {
            "tags": []
          },
          "execution_count": 12
        }
      ]
    },
    {
      "cell_type": "code",
      "metadata": {
        "colab_type": "code",
        "id": "scV8cFT8QtxG",
        "colab": {}
      },
      "source": [
        "# make predictions on the test set\n",
        "predictions = sgb_reg.predict(X_test)"
      ],
      "execution_count": 0,
      "outputs": []
    },
    {
      "cell_type": "code",
      "metadata": {
        "colab_type": "code",
        "outputId": "6c2e85df-a8ba-4711-de43-893ce5dad0a3",
        "id": "V4l84MogQtxI",
        "colab": {
          "base_uri": "https://localhost:8080/",
          "height": 34
        }
      },
      "source": [
        "# evaluate the model performance using the root mean square error metric\n",
        "print(\"Root Mean squared error: %.2f\" % sqrt(mean_squared_error(y_test, predictions)))"
      ],
      "execution_count": 0,
      "outputs": [
        {
          "output_type": "stream",
          "text": [
            "Root Mean squared error: 2.86\n"
          ],
          "name": "stdout"
        }
      ]
    },
    {
      "cell_type": "markdown",
      "metadata": {
        "colab_type": "text",
        "id": "dicBmy6KRNhU"
      },
      "source": [
        "## Extreme Gradient Boosting (XGBoost)"
      ]
    },
    {
      "cell_type": "markdown",
      "metadata": {
        "colab_type": "text",
        "id": "xtp364G4RNhV"
      },
      "source": [
        "### XGBoost for Classification"
      ]
    },
    {
      "cell_type": "code",
      "metadata": {
        "colab_type": "code",
        "id": "qX5PkdunRNhW",
        "colab": {}
      },
      "source": [
        "# import packages\n",
        "from xgboost import XGBClassifier\n",
        "from sklearn import datasets\n",
        "from sklearn.model_selection import train_test_split\n",
        "from sklearn.metrics import accuracy_score"
      ],
      "execution_count": 0,
      "outputs": []
    },
    {
      "cell_type": "code",
      "metadata": {
        "colab_type": "code",
        "id": "OtaFW4uBRNhZ",
        "colab": {}
      },
      "source": [
        "# load dataset\n",
        "data = datasets.load_iris()\n",
        "\n",
        "# separate features and target\n",
        "X = data.data\n",
        "y = data.target"
      ],
      "execution_count": 0,
      "outputs": []
    },
    {
      "cell_type": "code",
      "metadata": {
        "colab_type": "code",
        "id": "UeSK41vfRNhb",
        "colab": {}
      },
      "source": [
        "# split in train and test sets\n",
        "X_train, X_test, y_train, y_test = train_test_split(X, y, shuffle=True)"
      ],
      "execution_count": 0,
      "outputs": []
    },
    {
      "cell_type": "code",
      "metadata": {
        "colab_type": "code",
        "id": "xDzS0L5HRNhd",
        "colab": {}
      },
      "source": [
        "# create the model\n",
        "xgboost_classifier = XGBClassifier()"
      ],
      "execution_count": 0,
      "outputs": []
    },
    {
      "cell_type": "code",
      "metadata": {
        "colab_type": "code",
        "outputId": "7f56adb5-c358-47cf-8563-e9873e261b9e",
        "id": "r_iJ_hgxRNhf",
        "colab": {
          "base_uri": "https://localhost:8080/",
          "height": 136
        }
      },
      "source": [
        "# fit the model on the training set\n",
        "xgboost_classifier.fit(X_train, y_train)"
      ],
      "execution_count": 0,
      "outputs": [
        {
          "output_type": "execute_result",
          "data": {
            "text/plain": [
              "XGBClassifier(base_score=0.5, booster='gbtree', colsample_bylevel=1,\n",
              "              colsample_bynode=1, colsample_bytree=1, gamma=0,\n",
              "              learning_rate=0.1, max_delta_step=0, max_depth=3,\n",
              "              min_child_weight=1, missing=None, n_estimators=100, n_jobs=1,\n",
              "              nthread=None, objective='multi:softprob', random_state=0,\n",
              "              reg_alpha=0, reg_lambda=1, scale_pos_weight=1, seed=None,\n",
              "              silent=None, subsample=1, verbosity=1)"
            ]
          },
          "metadata": {
            "tags": []
          },
          "execution_count": 5
        }
      ]
    },
    {
      "cell_type": "code",
      "metadata": {
        "colab_type": "code",
        "id": "w8LXWOn0RNhk",
        "colab": {}
      },
      "source": [
        "# make predictions on the test set\n",
        "predictions = xgboost_classifier.predict(X_test)"
      ],
      "execution_count": 0,
      "outputs": []
    },
    {
      "cell_type": "code",
      "metadata": {
        "colab_type": "code",
        "outputId": "cbc5bb49-ec4e-40d4-d8f4-6bccaec7f1c0",
        "id": "qgLNZjFmRNhm",
        "colab": {
          "base_uri": "https://localhost:8080/",
          "height": 34
        }
      },
      "source": [
        "# evaluate the model performance using accuracy metric\n",
        "print(\"Accuracy: %.2f\" % accuracy_score(y_test, predictions))"
      ],
      "execution_count": 0,
      "outputs": [
        {
          "output_type": "stream",
          "text": [
            "Accuracy: 0.95\n"
          ],
          "name": "stdout"
        }
      ]
    },
    {
      "cell_type": "markdown",
      "metadata": {
        "colab_type": "text",
        "id": "-oJgVdg1RNhq"
      },
      "source": [
        "### XGBoost for Regression"
      ]
    },
    {
      "cell_type": "code",
      "metadata": {
        "colab_type": "code",
        "id": "V22iMbQTRNhr",
        "colab": {}
      },
      "source": [
        "# import packages\n",
        "from xgboost import XGBRegressor\n",
        "from sklearn import datasets\n",
        "from sklearn.model_selection import train_test_split\n",
        "from sklearn.metrics import mean_squared_error\n",
        "from math import sqrt"
      ],
      "execution_count": 0,
      "outputs": []
    },
    {
      "cell_type": "code",
      "metadata": {
        "colab_type": "code",
        "id": "yIkKS5ruRNht",
        "colab": {}
      },
      "source": [
        "# load dataset\n",
        "data = datasets.load_boston()\n",
        "\n",
        "# separate features and target\n",
        "X = data.data\n",
        "y = data.target"
      ],
      "execution_count": 0,
      "outputs": []
    },
    {
      "cell_type": "code",
      "metadata": {
        "colab_type": "code",
        "id": "HHS_JSWxRNhx",
        "colab": {}
      },
      "source": [
        "# split in train and test sets\n",
        "X_train, X_test, y_train, y_test = train_test_split(X, y, shuffle=True)"
      ],
      "execution_count": 0,
      "outputs": []
    },
    {
      "cell_type": "code",
      "metadata": {
        "colab_type": "code",
        "id": "Qbs4b7dnRNhy",
        "colab": {}
      },
      "source": [
        "# create the model\n",
        "xgboost_reg = XGBRegressor()"
      ],
      "execution_count": 0,
      "outputs": []
    },
    {
      "cell_type": "code",
      "metadata": {
        "colab_type": "code",
        "outputId": "6bdcc678-15f9-4f4b-cbac-587436f88b01",
        "id": "C-m7gcMnRNh0",
        "colab": {
          "base_uri": "https://localhost:8080/",
          "height": 153
        }
      },
      "source": [
        "# fit the model on the training set\n",
        "xgboost_reg.fit(X_train, y_train)"
      ],
      "execution_count": 0,
      "outputs": [
        {
          "output_type": "stream",
          "text": [
            "[15:34:27] WARNING: /workspace/src/objective/regression_obj.cu:152: reg:linear is now deprecated in favor of reg:squarederror.\n"
          ],
          "name": "stdout"
        },
        {
          "output_type": "execute_result",
          "data": {
            "text/plain": [
              "XGBRegressor(base_score=0.5, booster='gbtree', colsample_bylevel=1,\n",
              "             colsample_bynode=1, colsample_bytree=1, gamma=0,\n",
              "             importance_type='gain', learning_rate=0.1, max_delta_step=0,\n",
              "             max_depth=3, min_child_weight=1, missing=None, n_estimators=100,\n",
              "             n_jobs=1, nthread=None, objective='reg:linear', random_state=0,\n",
              "             reg_alpha=0, reg_lambda=1, scale_pos_weight=1, seed=None,\n",
              "             silent=None, subsample=1, verbosity=1)"
            ]
          },
          "metadata": {
            "tags": []
          },
          "execution_count": 12
        }
      ]
    },
    {
      "cell_type": "code",
      "metadata": {
        "colab_type": "code",
        "id": "hRhEYI2lRNh4",
        "colab": {}
      },
      "source": [
        "# make predictions on the test set\n",
        "predictions = xgboost_reg.predict(X_test)"
      ],
      "execution_count": 0,
      "outputs": []
    },
    {
      "cell_type": "code",
      "metadata": {
        "colab_type": "code",
        "outputId": "6615a47d-1de0-4993-ff32-00472ed8a377",
        "id": "66OJya0SRNh6",
        "colab": {
          "base_uri": "https://localhost:8080/",
          "height": 34
        }
      },
      "source": [
        "# evaluate the model performance using the root mean square error metric\n",
        "print(\"Root Mean squared error: %.2f\" % sqrt(mean_squared_error(y_test, predictions)))"
      ],
      "execution_count": 0,
      "outputs": [
        {
          "output_type": "stream",
          "text": [
            "Root Mean squared error: 3.69\n"
          ],
          "name": "stdout"
        }
      ]
    }
  ]
}