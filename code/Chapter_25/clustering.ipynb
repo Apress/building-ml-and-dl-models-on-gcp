{
  "nbformat": 4,
  "nbformat_minor": 0,
  "metadata": {
    "colab": {
      "name": "clustering.ipynb",
      "version": "0.3.2",
      "provenance": [],
      "collapsed_sections": [
        "5npqy1caY5rf",
        "QxqY3QIvZTLU"
      ]
    },
    "kernelspec": {
      "name": "python3",
      "display_name": "Python 3"
    }
  },
  "cells": [
    {
      "cell_type": "markdown",
      "metadata": {
        "id": "sF4g6NwhY3yZ",
        "colab_type": "text"
      },
      "source": [
        "# Chapter 25 - Clustering\n",
        "## Building Machine Learning and Deep Learning Models on Google Cloud Platform\n",
        "### Ekaba Bisong"
      ]
    },
    {
      "cell_type": "markdown",
      "metadata": {
        "id": "5npqy1caY5rf",
        "colab_type": "text"
      },
      "source": [
        "## K-Means Clustering"
      ]
    },
    {
      "cell_type": "code",
      "metadata": {
        "id": "ZLiRKZZpW-0E",
        "colab_type": "code",
        "colab": {}
      },
      "source": [
        "# import packages\n",
        "import matplotlib.pyplot as plt\n",
        "from sklearn.cluster import KMeans\n",
        "from sklearn import datasets\n",
        "from sklearn.model_selection import train_test_split"
      ],
      "execution_count": 0,
      "outputs": []
    },
    {
      "cell_type": "code",
      "metadata": {
        "id": "2Jxq-mBiY44X",
        "colab_type": "code",
        "colab": {}
      },
      "source": [
        "# load dataset\n",
        "data = datasets.load_iris()"
      ],
      "execution_count": 0,
      "outputs": []
    },
    {
      "cell_type": "code",
      "metadata": {
        "id": "tIYvJE2pZJBk",
        "colab_type": "code",
        "colab": {}
      },
      "source": [
        "# separate features and target\n",
        "X = data.data"
      ],
      "execution_count": 0,
      "outputs": []
    },
    {
      "cell_type": "code",
      "metadata": {
        "id": "uPrLXFiyZL8k",
        "colab_type": "code",
        "colab": {}
      },
      "source": [
        "# create the model. Since we know that the iris dataset has 3 classes, we set n_clusters = 3\n",
        "kmeans = KMeans(n_clusters=3, random_state=0)"
      ],
      "execution_count": 0,
      "outputs": []
    },
    {
      "cell_type": "code",
      "metadata": {
        "id": "7ofrl-KOZNGF",
        "colab_type": "code",
        "outputId": "4c6b0c3f-3c1a-4edc-ac88-43a99a3964bf",
        "colab": {
          "base_uri": "https://localhost:8080/",
          "height": 68
        }
      },
      "source": [
        "# fit the model on the training set\n",
        "kmeans.fit(X)"
      ],
      "execution_count": 0,
      "outputs": [
        {
          "output_type": "execute_result",
          "data": {
            "text/plain": [
              "KMeans(algorithm='auto', copy_x=True, init='k-means++', max_iter=300,\n",
              "       n_clusters=3, n_init=10, n_jobs=None, precompute_distances='auto',\n",
              "       random_state=0, tol=0.0001, verbose=0)"
            ]
          },
          "metadata": {
            "tags": []
          },
          "execution_count": 55
        }
      ]
    },
    {
      "cell_type": "code",
      "metadata": {
        "id": "s4Q2PWQfZPF9",
        "colab_type": "code",
        "outputId": "8d1b9f77-493a-4059-9aa1-5e33b7fa10c1",
        "colab": {
          "base_uri": "https://localhost:8080/",
          "height": 136
        }
      },
      "source": [
        "# print the clustered labels for the training points\n",
        "kmeans.labels_"
      ],
      "execution_count": 0,
      "outputs": [
        {
          "output_type": "execute_result",
          "data": {
            "text/plain": [
              "array([1, 1, 1, 1, 1, 1, 1, 1, 1, 1, 1, 1, 1, 1, 1, 1, 1, 1, 1, 1, 1, 1,\n",
              "       1, 1, 1, 1, 1, 1, 1, 1, 1, 1, 1, 1, 1, 1, 1, 1, 1, 1, 1, 1, 1, 1,\n",
              "       1, 1, 1, 1, 1, 1, 0, 0, 2, 0, 0, 0, 0, 0, 0, 0, 0, 0, 0, 0, 0, 0,\n",
              "       0, 0, 0, 0, 0, 0, 0, 0, 0, 0, 0, 2, 0, 0, 0, 0, 0, 0, 0, 0, 0, 0,\n",
              "       0, 0, 0, 0, 0, 0, 0, 0, 0, 0, 0, 0, 2, 0, 2, 2, 2, 2, 0, 2, 2, 2,\n",
              "       2, 2, 2, 0, 0, 2, 2, 2, 2, 0, 2, 0, 2, 0, 2, 2, 0, 0, 2, 2, 2, 2,\n",
              "       2, 0, 2, 2, 2, 2, 0, 2, 2, 2, 0, 2, 2, 2, 0, 2, 2, 0], dtype=int32)"
            ]
          },
          "metadata": {
            "tags": []
          },
          "execution_count": 56
        }
      ]
    },
    {
      "cell_type": "code",
      "metadata": {
        "id": "wxNMGYLzgB2z",
        "colab_type": "code",
        "colab": {}
      },
      "source": [
        "# predict the closest cluster each sample in X belongs to.\n",
        "y_kmeans = kmeans.predict(X)"
      ],
      "execution_count": 0,
      "outputs": []
    },
    {
      "cell_type": "code",
      "metadata": {
        "id": "8YhS5JJSdBUW",
        "colab_type": "code",
        "outputId": "36f2292a-e00d-4c14-afb6-e540b117ab7b",
        "colab": {
          "base_uri": "https://localhost:8080/",
          "height": 269
        }
      },
      "source": [
        "# plot clustered labels\n",
        "plt.scatter(X[:, 0], X[:, 1], c=y_kmeans, cmap='viridis')\n",
        "\n",
        "# plot cluster centers\n",
        "centers = kmeans.cluster_centers_\n",
        "plt.scatter(centers[:, 0], centers[:, 1], c='black', s=200, alpha=0.7);\n",
        "plt.show()"
      ],
      "execution_count": 0,
      "outputs": [
        {
          "output_type": "display_data",
          "data": {
            "image/png": "[encoded data removed]",
            "text/plain": [
              "<Figure size 432x288 with 1 Axes>"
            ]
          },
          "metadata": {
            "tags": []
          }
        }
      ]
    },
    {
      "cell_type": "markdown",
      "metadata": {
        "id": "QxqY3QIvZTLU",
        "colab_type": "text"
      },
      "source": [
        "## Hierarchical Clustering"
      ]
    },
    {
      "cell_type": "code",
      "metadata": {
        "id": "aYLvX1_yZVaG",
        "colab_type": "code",
        "colab": {}
      },
      "source": [
        "# import packages\n",
        "import matplotlib.pyplot as plt\n",
        "from scipy.cluster.hierarchy import dendrogram\n",
        "from scipy.cluster import hierarchy"
      ],
      "execution_count": 0,
      "outputs": []
    },
    {
      "cell_type": "code",
      "metadata": {
        "id": "AAb1ytKQt4Wu",
        "colab_type": "code",
        "colab": {}
      },
      "source": [
        "Z = hierarchy.linkage(X, method='complete')"
      ],
      "execution_count": 0,
      "outputs": []
    },
    {
      "cell_type": "code",
      "metadata": {
        "id": "vQX8Lbuzua9a",
        "colab_type": "code",
        "outputId": "1a9416c3-9047-4501-e561-6477c82c1302",
        "colab": {
          "base_uri": "https://localhost:8080/",
          "height": 280
        }
      },
      "source": [
        "fig = plt.figure()\n",
        "dn = hierarchy.dendrogram(Z, truncate_mode='lastp')\n",
        "plt.show()"
      ],
      "execution_count": 0,
      "outputs": [
        {
          "output_type": "display_data",
          "data": {
            "image/png": "[encoded data removed]",
            "text/plain": [
              "<Figure size 432x288 with 1 Axes>"
            ]
          },
          "metadata": {
            "tags": []
          }
        }
      ]
    }
  ]
}