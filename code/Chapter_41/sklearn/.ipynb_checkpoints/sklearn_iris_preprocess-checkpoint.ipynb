{
 "cells": [
  {
   "cell_type": "code",
   "execution_count": 19,
   "metadata": {},
   "outputs": [],
   "source": [
    "import numpy as np\n",
    "import pandas as pd\n",
    "from sklearn import datasets\n",
    "from sklearn.model_selection import train_test_split"
   ]
  },
  {
   "cell_type": "code",
   "execution_count": 2,
   "metadata": {},
   "outputs": [],
   "source": [
    "data = datasets.load_iris()"
   ]
  },
  {
   "cell_type": "code",
   "execution_count": 3,
   "metadata": {},
   "outputs": [],
   "source": [
    "X = data.data\n",
    "y = data.target"
   ]
  },
  {
   "cell_type": "code",
   "execution_count": 4,
   "metadata": {},
   "outputs": [],
   "source": [
    "X_train, X_test, y_train, y_test = train_test_split(X, y, shuffle=True)"
   ]
  },
  {
   "cell_type": "code",
   "execution_count": 20,
   "metadata": {},
   "outputs": [],
   "source": [
    "pd.DataFrame(X_train).to_csv('X_train.csv', sep=',', encoding='utf-8', index=False, header=None)\n",
    "pd.DataFrame(y_train).to_csv('y_train.csv', sep=',', encoding='utf-8', index=False, header=None)\n",
    "pd.DataFrame(y_test).to_csv('y_test.csv', sep=',', encoding='utf-8', index=False, header=None)\n",
    "pd.DataFrame(X_test).to_csv('X_test.csv', sep=',', encoding='utf-8', index=False, header=None)\n",
    "\n",
    "# np.savetxt(\"X_train.csv\", X_train, delimiter=\",\")\n",
    "# np.savetxt(\"y_train.csv\", y_train, delimiter=\",\")\n",
    "# np.savetxt(\"y_test.csv\", y_test, delimiter=\",\")\n",
    "# np.savetxt(\"X_test.csv\", X_test, delimiter=\",\")"
   ]
  },
  {
   "cell_type": "code",
   "execution_count": 14,
   "metadata": {},
   "outputs": [],
   "source": [
    "iris_data = pd.read_csv('X_train.csv',\n",
    "                        sep=',',\n",
    "                        header=0,\n",
    "                        engine='python').values"
   ]
  },
  {
   "cell_type": "code",
   "execution_count": 16,
   "metadata": {},
   "outputs": [],
   "source": [
    "iris_target = pd.read_csv('y_train.csv',\n",
    "                        header=0,\n",
    "                        sep=',',\n",
    "                        engine='python').values"
   ]
  },
  {
   "cell_type": "code",
   "execution_count": 17,
   "metadata": {},
   "outputs": [],
   "source": [
    "iris_target = iris_target.reshape((iris_target.size,))"
   ]
  },
  {
   "cell_type": "code",
   "execution_count": 18,
   "metadata": {},
   "outputs": [
    {
     "data": {
      "text/plain": [
       "array([0., 1., 1., 1., 0., 1., 1., 1., 0., 1., 1., 0., 2., 0., 2., 2., 0.,\n",
       "       2., 0., 0., 2., 1., 1., 2., 2., 1., 2., 2., 2., 2., 2., 0., 0., 0.,\n",
       "       0., 2., 1., 2., 1., 1., 0., 1., 2., 2., 2., 1., 2., 0., 2., 1., 2.,\n",
       "       2., 0., 1., 0., 0., 2., 1., 1., 0., 0., 1., 0., 0., 2., 0., 0., 0.,\n",
       "       2., 0., 2., 2., 2., 2., 0., 1., 2., 1., 1., 2., 1., 0., 2., 2., 0.,\n",
       "       0., 1., 1., 0., 0., 0., 2., 1., 0., 1., 1., 1., 0., 0., 1., 1., 2.,\n",
       "       2., 2., 0., 1., 0., 1., 2., 0., 2.])"
      ]
     },
     "execution_count": 18,
     "metadata": {},
     "output_type": "execute_result"
    }
   ],
   "source": [
    "iris_target"
   ]
  },
  {
   "cell_type": "code",
   "execution_count": 15,
   "metadata": {},
   "outputs": [
    {
     "data": {
      "text/plain": [
       "array([[5.2, 3.5, 1.5, 0.2],\n",
       "       [6. , 2.9, 4.5, 1.5],\n",
       "       [5.5, 2.5, 4. , 1.3],\n",
       "       [4.9, 2.4, 3.3, 1. ],\n",
       "       [5.4, 3.9, 1.3, 0.4],\n",
       "       [6.1, 2.9, 4.7, 1.4],\n",
       "       [6. , 3.4, 4.5, 1.6],\n",
       "       [5.7, 2.8, 4.1, 1.3],\n",
       "       [5.1, 3.3, 1.7, 0.5],\n",
       "       [5.8, 2.7, 3.9, 1.2],\n",
       "       [5.8, 2.7, 4.1, 1. ],\n",
       "       [5.4, 3.7, 1.5, 0.2],\n",
       "       [7.1, 3. , 5.9, 2.1],\n",
       "       [4.6, 3.6, 1. , 0.2],\n",
       "       [6. , 2.2, 5. , 1.5],\n",
       "       [5.8, 2.8, 5.1, 2.4],\n",
       "       [4.8, 3.1, 1.6, 0.2],\n",
       "       [7.2, 3.2, 6. , 1.8],\n",
       "       [5. , 3.3, 1.4, 0.2],\n",
       "       [5.3, 3.7, 1.5, 0.2],\n",
       "       [6.3, 2.5, 5. , 1.9],\n",
       "       [6.4, 2.9, 4.3, 1.3],\n",
       "       [5. , 2. , 3.5, 1. ],\n",
       "       [6.5, 3.2, 5.1, 2. ],\n",
       "       [7.7, 3. , 6.1, 2.3],\n",
       "       [5.9, 3.2, 4.8, 1.8],\n",
       "       [6.9, 3.1, 5.4, 2.1],\n",
       "       [6.3, 3.4, 5.6, 2.4],\n",
       "       [6.4, 3.1, 5.5, 1.8],\n",
       "       [5.8, 2.7, 5.1, 1.9],\n",
       "       [6.7, 3.3, 5.7, 2.1],\n",
       "       [5.7, 3.8, 1.7, 0.3],\n",
       "       [4.4, 2.9, 1.4, 0.2],\n",
       "       [4.6, 3.1, 1.5, 0.2],\n",
       "       [5. , 3. , 1.6, 0.2],\n",
       "       [6.5, 3. , 5.5, 1.8],\n",
       "       [6.8, 2.8, 4.8, 1.4],\n",
       "       [6.4, 2.8, 5.6, 2.2],\n",
       "       [5.7, 3. , 4.2, 1.2],\n",
       "       [6.7, 3. , 5. , 1.7],\n",
       "       [5.5, 4.2, 1.4, 0.2],\n",
       "       [5.5, 2.3, 4. , 1.3],\n",
       "       [6.7, 2.5, 5.8, 1.8],\n",
       "       [6.1, 3. , 4.9, 1.8],\n",
       "       [6.3, 3.3, 6. , 2.5],\n",
       "       [5. , 2.3, 3.3, 1. ],\n",
       "       [7.7, 3.8, 6.7, 2.2],\n",
       "       [4.9, 3.1, 1.5, 0.1],\n",
       "       [7.2, 3. , 5.8, 1.6],\n",
       "       [6.2, 2.9, 4.3, 1.3],\n",
       "       [6.5, 3. , 5.8, 2.2],\n",
       "       [6.8, 3. , 5.5, 2.1],\n",
       "       [5. , 3.4, 1.5, 0.2],\n",
       "       [5.1, 2.5, 3. , 1.1],\n",
       "       [4.8, 3.4, 1.6, 0.2],\n",
       "       [5.7, 4.4, 1.5, 0.4],\n",
       "       [7.2, 3.6, 6.1, 2.5],\n",
       "       [6.5, 2.8, 4.6, 1.5],\n",
       "       [5.5, 2.4, 3.8, 1.1],\n",
       "       [4.9, 3.1, 1.5, 0.1],\n",
       "       [4.3, 3. , 1.1, 0.1],\n",
       "       [6.1, 2.8, 4. , 1.3],\n",
       "       [4.5, 2.3, 1.3, 0.3],\n",
       "       [4.6, 3.4, 1.4, 0.3],\n",
       "       [6.9, 3.1, 5.1, 2.3],\n",
       "       [5.4, 3.4, 1.7, 0.2],\n",
       "       [5. , 3.2, 1.2, 0.2],\n",
       "       [5.2, 4.1, 1.5, 0.1],\n",
       "       [6.2, 3.4, 5.4, 2.3],\n",
       "       [4.8, 3. , 1.4, 0.1],\n",
       "       [4.9, 2.5, 4.5, 1.7],\n",
       "       [6.3, 2.9, 5.6, 1.8],\n",
       "       [5.8, 2.7, 5.1, 1.9],\n",
       "       [7.9, 3.8, 6.4, 2. ],\n",
       "       [4.8, 3. , 1.4, 0.3],\n",
       "       [5.7, 2.8, 4.5, 1.3],\n",
       "       [6.7, 3.1, 5.6, 2.4],\n",
       "       [6.1, 3. , 4.6, 1.4],\n",
       "       [6.3, 2.3, 4.4, 1.3],\n",
       "       [6.4, 2.8, 5.6, 2.1],\n",
       "       [5.4, 3. , 4.5, 1.5],\n",
       "       [5. , 3.6, 1.4, 0.2],\n",
       "       [6.7, 3.3, 5.7, 2.5],\n",
       "       [6.3, 2.8, 5.1, 1.5],\n",
       "       [4.7, 3.2, 1.3, 0.2],\n",
       "       [4.4, 3.2, 1.3, 0.2],\n",
       "       [5.5, 2.4, 3.7, 1. ],\n",
       "       [6.7, 3.1, 4.7, 1.5],\n",
       "       [5.4, 3.9, 1.7, 0.4],\n",
       "       [5.1, 3.7, 1.5, 0.4],\n",
       "       [5.1, 3.5, 1.4, 0.3],\n",
       "       [5.6, 2.8, 4.9, 2. ],\n",
       "       [5.7, 2.6, 3.5, 1. ],\n",
       "       [5.2, 3.4, 1.4, 0.2],\n",
       "       [6. , 2.7, 5.1, 1.6],\n",
       "       [6.6, 3. , 4.4, 1.4],\n",
       "       [6.6, 2.9, 4.6, 1.3],\n",
       "       [5.8, 4. , 1.2, 0.2],\n",
       "       [4.4, 3. , 1.3, 0.2],\n",
       "       [6.3, 2.5, 4.9, 1.5],\n",
       "       [5.6, 3. , 4.5, 1.5],\n",
       "       [7.3, 2.9, 6.3, 1.8],\n",
       "       [6.8, 3.2, 5.9, 2.3],\n",
       "       [7.6, 3. , 6.6, 2.1],\n",
       "       [4.9, 3.1, 1.5, 0.1],\n",
       "       [6.7, 3.1, 4.4, 1.4],\n",
       "       [5.1, 3.8, 1.5, 0.3],\n",
       "       [5.6, 3. , 4.1, 1.3],\n",
       "       [6.4, 3.2, 5.3, 2.3],\n",
       "       [4.8, 3.4, 1.9, 0.2],\n",
       "       [6.4, 2.7, 5.3, 1.9]])"
      ]
     },
     "execution_count": 15,
     "metadata": {},
     "output_type": "execute_result"
    }
   ],
   "source": [
    "iris_data"
   ]
  },
  {
   "cell_type": "code",
   "execution_count": null,
   "metadata": {},
   "outputs": [],
   "source": []
  }
 ],
 "metadata": {
  "kernelspec": {
   "display_name": "Python 3",
   "language": "python",
   "name": "python3"
  },
  "language_info": {
   "codemirror_mode": {
    "name": "ipython",
    "version": 3
   },
   "file_extension": ".py",
   "mimetype": "text/x-python",
   "name": "python",
   "nbconvert_exporter": "python",
   "pygments_lexer": "ipython3",
   "version": "3.6.4"
  }
 },
 "nbformat": 4,
 "nbformat_minor": 2
}
