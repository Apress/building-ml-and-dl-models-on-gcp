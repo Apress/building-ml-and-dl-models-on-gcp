{
  "nbformat": 4,
  "nbformat_minor": 0,
  "metadata": {
    "colab": {
      "name": "dataflow.ipynb",
      "version": "0.3.2",
      "provenance": [],
      "collapsed_sections": [
        "Xv8FsLD0DCvm"
      ]
    },
    "language_info": {
      "codemirror_mode": {
        "name": "ipython",
        "version": 2
      },
      "file_extension": ".py",
      "mimetype": "text/x-python",
      "name": "python",
      "nbconvert_exporter": "python",
      "pygments_lexer": "ipython2",
      "version": "2.7.13"
    },
    "kernelspec": {
      "name": "python2",
      "display_name": "Python 2"
    }
  },
  "cells": [
    {
      "cell_type": "markdown",
      "metadata": {
        "id": "Xv8FsLD0DCvm",
        "colab_type": "text"
      },
      "source": [
        "# Chapter 40 - Google Cloud Dataflow\n",
        "## Building Machine Learning and Deep Learning Models on Google Cloud Platform\n",
        "### Ekaba Bisong"
      ]
    },
    {
      "cell_type": "code",
      "metadata": {
        "id": "0YCu1Pl8lY6s",
        "colab_type": "code",
        "outputId": "923ab9c8-8e53-4ad7-e27f-7e216190f2d1",
        "colab": {
          "base_uri": "https://localhost:8080/",
          "height": 34
        }
      },
      "source": [
        "from google.colab import auth\n",
        "auth.authenticate_user()\n",
        "print('Authenticated')"
      ],
      "execution_count": 17,
      "outputs": [
        {
          "output_type": "stream",
          "text": [
            "Authenticated\n"
          ],
          "name": "stdout"
        }
      ]
    },
    {
      "cell_type": "code",
      "metadata": {
        "id": "9Xt4w5IduGxX",
        "colab_type": "code",
        "outputId": "59919e09-9139-4224-9e03-cc3b63f3faab",
        "colab": {
          "base_uri": "https://localhost:8080/",
          "height": 34
        }
      },
      "source": [
        "# configure GCP project\n",
        "project_id = 'ekabasandbox'\n",
        "!gcloud config set project {project_id}"
      ],
      "execution_count": 18,
      "outputs": [
        {
          "output_type": "stream",
          "text": [
            "Updated property [core/project].\n"
          ],
          "name": "stdout"
        }
      ]
    },
    {
      "cell_type": "code",
      "metadata": {
        "id": "LIwY83OH5_Lj",
        "colab_type": "code",
        "outputId": "da83d8f0-733f-419d-ba3d-bee475f5dedc",
        "colab": {
          "base_uri": "https://localhost:8080/",
          "height": 904
        }
      },
      "source": [
        "%%bash\n",
        "pip install apache-beam[gcp]"
      ],
      "execution_count": 0,
      "outputs": [
        {
          "output_type": "stream",
          "text": [
            "Requirement already satisfied: apache-beam[gcp] in /usr/local/lib/python2.7/dist-packages (2.13.0)\n",
            "Requirement already satisfied: pyyaml<4.0.0,>=3.12 in /usr/local/lib/python2.7/dist-packages (from apache-beam[gcp]) (3.13)\n",
            "Requirement already satisfied: avro<2.0.0,>=1.8.1; python_version < \"3.0\" in /usr/local/lib/python2.7/dist-packages (from apache-beam[gcp]) (1.9.0)\n",
            "Requirement already satisfied: hdfs<3.0.0,>=2.1.0 in /usr/local/lib/python2.7/dist-packages (from apache-beam[gcp]) (2.5.8)\n",
            "Requirement already satisfied: pyarrow<0.14.0,>=0.11.1; python_version >= \"3.0\" or platform_system != \"Windows\" in /usr/local/lib/python2.7/dist-packages (from apache-beam[gcp]) (0.13.0)\n",
            "Requirement already satisfied: mock<3.0.0,>=1.0.1 in /usr/local/lib/python2.7/dist-packages (from apache-beam[gcp]) (2.0.0)\n",
            "Requirement already satisfied: future<1.0.0,>=0.16.0 in /usr/local/lib/python2.7/dist-packages (from apache-beam[gcp]) (0.16.0)\n",
            "Requirement already satisfied: fastavro<0.22,>=0.21.4 in /usr/local/lib/python2.7/dist-packages (from apache-beam[gcp]) (0.21.24)\n",
            "Requirement already satisfied: typing<3.7.0,>=3.6.0; python_version < \"3.5.0\" in /usr/local/lib/python2.7/dist-packages (from apache-beam[gcp]) (3.6.6)\n",
            "Requirement already satisfied: dill<0.2.10,>=0.2.9 in /usr/local/lib/python2.7/dist-packages (from apache-beam[gcp]) (0.2.9)\n",
            "Requirement already satisfied: grpcio<2,>=1.8 in /usr/local/lib/python2.7/dist-packages (from apache-beam[gcp]) (1.15.0)\n",
            "Requirement already satisfied: pytz>=2018.3 in /usr/local/lib/python2.7/dist-packages (from apache-beam[gcp]) (2018.9)\n",
            "Requirement already satisfied: protobuf<4,>=3.5.0.post1 in /usr/local/lib/python2.7/dist-packages (from apache-beam[gcp]) (3.7.1)\n",
            "Requirement already satisfied: httplib2<=0.12.0,>=0.8 in /usr/local/lib/python2.7/dist-packages (from apache-beam[gcp]) (0.11.3)\n",
            "Requirement already satisfied: pydot<1.3,>=1.2.0 in /usr/local/lib/python2.7/dist-packages (from apache-beam[gcp]) (1.2.4)\n",
            "Requirement already satisfied: oauth2client<4,>=2.0.1 in /usr/local/lib/python2.7/dist-packages (from apache-beam[gcp]) (3.0.0)\n",
            "Requirement already satisfied: futures<4.0.0,>=3.2.0; python_version < \"3.0\" in /usr/local/lib/python2.7/dist-packages (from apache-beam[gcp]) (3.2.0)\n",
            "Requirement already satisfied: pyvcf<0.7.0,>=0.6.8; python_version < \"3.0\" in /usr/local/lib/python2.7/dist-packages (from apache-beam[gcp]) (0.6.8)\n",
            "Requirement already satisfied: crcmod<2.0,>=1.7 in /usr/local/lib/python2.7/dist-packages (from apache-beam[gcp]) (1.7)\n",
            "Requirement already satisfied: google-apitools<0.5.29,>=0.5.28; extra == \"gcp\" in /usr/local/lib/python2.7/dist-packages (from apache-beam[gcp]) (0.5.28)\n",
            "Requirement already satisfied: proto-google-cloud-datastore-v1<=0.90.4,>=0.90.0; python_version < \"3.0\" and extra == \"gcp\" in /usr/local/lib/python2.7/dist-packages (from apache-beam[gcp]) (0.90.4)\n",
            "Requirement already satisfied: google-cloud-bigquery<1.7.0,>=1.6.0; extra == \"gcp\" in /usr/local/lib/python2.7/dist-packages (from apache-beam[gcp]) (1.6.1)\n",
            "Requirement already satisfied: cachetools<4,>=3.1.0; extra == \"gcp\" in /usr/local/lib/python2.7/dist-packages (from apache-beam[gcp]) (3.1.1)\n",
            "Requirement already satisfied: google-cloud-pubsub<0.40.0,>=0.39.0; extra == \"gcp\" in /usr/local/lib/python2.7/dist-packages (from apache-beam[gcp]) (0.39.1)\n",
            "Requirement already satisfied: google-cloud-core<0.30.0,>=0.28.1; extra == \"gcp\" in /usr/local/lib/python2.7/dist-packages (from apache-beam[gcp]) (0.29.1)\n",
            "Requirement already satisfied: googledatastore<7.1,>=7.0.1; python_version < \"3.0\" and extra == \"gcp\" in /usr/local/lib/python2.7/dist-packages (from apache-beam[gcp]) (7.0.2)\n",
            "Requirement already satisfied: google-cloud-bigtable<0.33.0,>=0.31.1; extra == \"gcp\" in /usr/local/lib/python2.7/dist-packages (from apache-beam[gcp]) (0.32.2)\n",
            "Requirement already satisfied: google-cloud-datastore<1.8.0,>=1.7.1; extra == \"gcp\" in /usr/local/lib/python2.7/dist-packages (from apache-beam[gcp]) (1.7.4)\n",
            "Requirement already satisfied: docopt in /usr/local/lib/python2.7/dist-packages (from hdfs<3.0.0,>=2.1.0->apache-beam[gcp]) (0.6.2)\n",
            "Requirement already satisfied: requests>=2.7.0 in /usr/local/lib/python2.7/dist-packages (from hdfs<3.0.0,>=2.1.0->apache-beam[gcp]) (2.21.0)\n",
            "Requirement already satisfied: six>=1.9.0 in /usr/local/lib/python2.7/dist-packages (from hdfs<3.0.0,>=2.1.0->apache-beam[gcp]) (1.12.0)\n",
            "Requirement already satisfied: enum34>=1.1.6; python_version < \"3.4\" in /usr/local/lib/python2.7/dist-packages (from pyarrow<0.14.0,>=0.11.1; python_version >= \"3.0\" or platform_system != \"Windows\"->apache-beam[gcp]) (1.1.6)\n",
            "Requirement already satisfied: numpy>=1.14 in /usr/local/lib/python2.7/dist-packages (from pyarrow<0.14.0,>=0.11.1; python_version >= \"3.0\" or platform_system != \"Windows\"->apache-beam[gcp]) (1.16.4)\n",
            "Requirement already satisfied: funcsigs>=1; python_version < \"3.3\" in /usr/local/lib/python2.7/dist-packages (from mock<3.0.0,>=1.0.1->apache-beam[gcp]) (1.0.2)\n",
            "Requirement already satisfied: pbr>=0.11 in /usr/local/lib/python2.7/dist-packages (from mock<3.0.0,>=1.0.1->apache-beam[gcp]) (5.4.0)\n",
            "Requirement already satisfied: setuptools in /usr/local/lib/python2.7/dist-packages (from protobuf<4,>=3.5.0.post1->apache-beam[gcp]) (41.0.1)\n",
            "Requirement already satisfied: pyparsing>=2.1.4 in /usr/local/lib/python2.7/dist-packages (from pydot<1.3,>=1.2.0->apache-beam[gcp]) (2.4.0)\n",
            "Requirement already satisfied: rsa>=3.1.4 in /usr/local/lib/python2.7/dist-packages (from oauth2client<4,>=2.0.1->apache-beam[gcp]) (4.0)\n",
            "Requirement already satisfied: pyasn1>=0.1.7 in /usr/local/lib/python2.7/dist-packages (from oauth2client<4,>=2.0.1->apache-beam[gcp]) (0.4.5)\n",
            "Requirement already satisfied: pyasn1-modules>=0.0.5 in /usr/local/lib/python2.7/dist-packages (from oauth2client<4,>=2.0.1->apache-beam[gcp]) (0.2.5)\n",
            "Requirement already satisfied: fasteners>=0.14 in /usr/local/lib/python2.7/dist-packages (from google-apitools<0.5.29,>=0.5.28; extra == \"gcp\"->apache-beam[gcp]) (0.15)\n",
            "Requirement already satisfied: googleapis-common-protos<2.0dev,>=1.5.2 in /usr/local/lib/python2.7/dist-packages (from proto-google-cloud-datastore-v1<=0.90.4,>=0.90.0; python_version < \"3.0\" and extra == \"gcp\"->apache-beam[gcp]) (1.6.0)\n",
            "Requirement already satisfied: google-api-core<2.0.0dev,>=1.0.0 in /usr/local/lib/python2.7/dist-packages (from google-cloud-bigquery<1.7.0,>=1.6.0; extra == \"gcp\"->apache-beam[gcp]) (1.13.0)\n",
            "Requirement already satisfied: google-resumable-media>=0.2.1 in /usr/local/lib/python2.7/dist-packages (from google-cloud-bigquery<1.7.0,>=1.6.0; extra == \"gcp\"->apache-beam[gcp]) (0.3.2)\n",
            "Requirement already satisfied: grpc-google-iam-v1<0.12dev,>=0.11.4 in /usr/local/lib/python2.7/dist-packages (from google-cloud-pubsub<0.40.0,>=0.39.0; extra == \"gcp\"->apache-beam[gcp]) (0.11.4)\n",
            "Requirement already satisfied: urllib3<1.25,>=1.21.1 in /usr/local/lib/python2.7/dist-packages (from requests>=2.7.0->hdfs<3.0.0,>=2.1.0->apache-beam[gcp]) (1.24.3)\n",
            "Requirement already satisfied: certifi>=2017.4.17 in /usr/local/lib/python2.7/dist-packages (from requests>=2.7.0->hdfs<3.0.0,>=2.1.0->apache-beam[gcp]) (2019.6.16)\n",
            "Requirement already satisfied: chardet<3.1.0,>=3.0.2 in /usr/local/lib/python2.7/dist-packages (from requests>=2.7.0->hdfs<3.0.0,>=2.1.0->apache-beam[gcp]) (3.0.4)\n",
            "Requirement already satisfied: idna<2.9,>=2.5 in /usr/local/lib/python2.7/dist-packages (from requests>=2.7.0->hdfs<3.0.0,>=2.1.0->apache-beam[gcp]) (2.8)\n",
            "Requirement already satisfied: monotonic>=0.1 in /usr/local/lib/python2.7/dist-packages (from fasteners>=0.14->google-apitools<0.5.29,>=0.5.28; extra == \"gcp\"->apache-beam[gcp]) (1.5)\n",
            "Requirement already satisfied: google-auth<2.0dev,>=0.4.0 in /usr/local/lib/python2.7/dist-packages (from google-api-core<2.0.0dev,>=1.0.0->google-cloud-bigquery<1.7.0,>=1.6.0; extra == \"gcp\"->apache-beam[gcp]) (1.4.2)\n"
          ],
          "name": "stdout"
        }
      ]
    },
    {
      "cell_type": "code",
      "metadata": {
        "id": "zxDoTcwX5_Lm",
        "colab_type": "code",
        "colab": {}
      },
      "source": [
        "import apache_beam as beam\n",
        "from apache_beam.io import ReadFromText\n",
        "from apache_beam.io import WriteToText"
      ],
      "execution_count": 0,
      "outputs": []
    },
    {
      "cell_type": "code",
      "metadata": {
        "id": "bCVNnypV5_Lo",
        "colab_type": "code",
        "colab": {}
      },
      "source": [
        "# replace parameters with your entries\n",
        "staging_location = 'gs://ekaba-test-data/staging'\n",
        "temp_location = 'gs://ekaba-test-data/temp'\n",
        "job_name = 'dataflow-crypto'\n",
        "project_id = 'ekabasandbox'\n",
        "source_bucket = 'ekaba-test-data'\n",
        "target_bucket = 'ekaba-test-data'"
      ],
      "execution_count": 0,
      "outputs": []
    },
    {
      "cell_type": "code",
      "metadata": {
        "id": "ojTNktpe5_Lr",
        "colab_type": "code",
        "colab": {}
      },
      "source": [
        "def run(project, source_bucket, target_bucket):\n",
        "    import csv\n",
        "\n",
        "    options = {\n",
        "        'staging_location': staging_location,\n",
        "        'temp_location': temp_location,\n",
        "        'job_name': job_name,\n",
        "        'project': project,\n",
        "        'max_num_workers': 24,\n",
        "        'teardown_policy': 'TEARDOWN_ALWAYS',\n",
        "        'no_save_main_session': True,\n",
        "        'runner': 'DataflowRunner'\n",
        "      }\n",
        "    options = beam.pipeline.PipelineOptions(flags=[], **options)\n",
        "    \n",
        "    crypto_dataset = 'gs://{}/crypto-markets.csv'.format(source_bucket)\n",
        "    processed_ds = 'gs://{}/transformed-crypto-bitcoin'.format(target_bucket)\n",
        "\n",
        "    pipeline = beam.Pipeline(options=options)\n",
        "\n",
        "    # 0:slug, 3:date, 5:open, 6:high, 7:low, 8:close\n",
        "    rows = (\n",
        "        pipeline |\n",
        "            'Read from bucket' >> ReadFromText(crypto_dataset) |\n",
        "            'Tokenize as csv columns' >> beam.Map(lambda line: next(csv.reader([line]))) |\n",
        "            'Select columns' >> beam.Map(lambda fields: (fields[0], fields[3], fields[5], fields[6], fields[7], fields[8])) |\n",
        "            'Filter bitcoin rows' >> beam.Filter(lambda row: row[0] == 'bitcoin')\n",
        "        )\n",
        "        \n",
        "    combined = (\n",
        "        rows |\n",
        "            'Write to bucket' >> beam.Map(lambda (slug, date, open, high, low, close): '{},{},{},{},{},{}'.format(\n",
        "                slug, date, open, high, low, close)) |\n",
        "            WriteToText(\n",
        "                file_path_prefix=processed_ds,\n",
        "                file_name_suffix=\".csv\", num_shards=2,\n",
        "                shard_name_template=\"-SS-of-NN\",\n",
        "                header='slug, date, open, high, low, close')\n",
        "        )\n",
        "\n",
        "    pipeline.run()"
      ],
      "execution_count": 0,
      "outputs": []
    },
    {
      "cell_type": "code",
      "metadata": {
        "id": "mOkHI5pW5_Lu",
        "colab_type": "code",
        "outputId": "a5f22bea-8536-4c70-c5b3-38b215d4fe44",
        "colab": {
          "base_uri": "https://localhost:8080/",
          "height": 34
        }
      },
      "source": [
        "if __name__ == '__main__':\n",
        "     print 'Run pipeline on the cloud'\n",
        "     run(project=project_id, source_bucket=source_bucket, target_bucket=target_bucket)"
      ],
      "execution_count": 22,
      "outputs": [
        {
          "output_type": "stream",
          "text": [
            "Run pipeline on the cloud\n"
          ],
          "name": "stdout"
        }
      ]
    }
  ]
}