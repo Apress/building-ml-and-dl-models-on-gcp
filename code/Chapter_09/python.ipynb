{
  "nbformat": 4,
  "nbformat_minor": 0,
  "metadata": {
    "colab": {
      "name": "python.ipynb",
      "version": "0.3.2",
      "provenance": [],
      "collapsed_sections": [
        "5uSs1p2wbkE8",
        "48ZPba3ybo97",
        "uHmvN1BAchAY",
        "ZQZDbY6KclPC",
        "i_47UCDnc-fA",
        "2g7_CNkwdSZF",
        "jJezT3fg6fWB",
        "uP-95YT-7qot",
        "c2pqnXli8FnG",
        "CHCpjj1A95tV",
        "LFUHtrEx-G9q",
        "90QMDs3u-SdV",
        "H7nPX2Vi-Wa7",
        "YsXW5Ckv-dvv",
        "1Kz5pkw7-jN1",
        "8ME34fT8-uTl",
        "U4O6EPQmD9Kr",
        "IdPJUBl5ENhy",
        "ii24CBOqEjDE",
        "7bXDK7x0Erc8"
      ]
    },
    "kernelspec": {
      "name": "python3",
      "display_name": "Python 3"
    }
  },
  "cells": [
    {
      "cell_type": "markdown",
      "metadata": {
        "id": "1KZXEzQWa8x3",
        "colab_type": "text"
      },
      "source": [
        "# Chapter 9 - Python\n",
        "## Building Machine Learning and Deep Learning Models on Google Cloud Platform\n",
        "### Ekaba Bisong"
      ]
    },
    {
      "cell_type": "markdown",
      "metadata": {
        "id": "5uSs1p2wbkE8",
        "colab_type": "text"
      },
      "source": [
        "## Data and Operations"
      ]
    },
    {
      "cell_type": "code",
      "metadata": {
        "id": "EjKeCEcpamlA",
        "colab_type": "code",
        "colab": {}
      },
      "source": [
        "# assigning data to a variable\n",
        "x = 1\n",
        "user_name = 'Emmanuel Okoi'"
      ],
      "execution_count": 0,
      "outputs": []
    },
    {
      "cell_type": "code",
      "metadata": {
        "id": "Zj7eXK2vbsS8",
        "colab_type": "code",
        "outputId": "2c93428b-0085-44c4-c9cd-eaedffff9f15",
        "colab": {
          "base_uri": "https://localhost:8080/",
          "height": 51
        }
      },
      "source": [
        "# print-out variables\n",
        "print(x)\n",
        "print(user_name)"
      ],
      "execution_count": 0,
      "outputs": [
        {
          "output_type": "stream",
          "text": [
            "1\n",
            "Emmanuel Okoi\n"
          ],
          "name": "stdout"
        }
      ]
    },
    {
      "cell_type": "markdown",
      "metadata": {
        "id": "48ZPba3ybo97",
        "colab_type": "text"
      },
      "source": [
        "## Data Types"
      ]
    },
    {
      "cell_type": "code",
      "metadata": {
        "id": "nbSqdN2mbytd",
        "colab_type": "code",
        "outputId": "05fd4987-1b0d-4c73-e223-ba915b508950",
        "colab": {
          "base_uri": "https://localhost:8080/",
          "height": 34
        }
      },
      "source": [
        "# data types\n",
        "type(3)"
      ],
      "execution_count": 0,
      "outputs": [
        {
          "output_type": "execute_result",
          "data": {
            "text/plain": [
              "int"
            ]
          },
          "metadata": {
            "tags": []
          },
          "execution_count": 5
        }
      ]
    },
    {
      "cell_type": "code",
      "metadata": {
        "id": "1c36WiAAcLVz",
        "colab_type": "code",
        "outputId": "5248d09d-7b88-445f-fc85-426af799b03f",
        "colab": {
          "base_uri": "https://localhost:8080/",
          "height": 34
        }
      },
      "source": [
        "type(3.0)"
      ],
      "execution_count": 0,
      "outputs": [
        {
          "output_type": "execute_result",
          "data": {
            "text/plain": [
              "float"
            ]
          },
          "metadata": {
            "tags": []
          },
          "execution_count": 6
        }
      ]
    },
    {
      "cell_type": "code",
      "metadata": {
        "id": "2m8vGL6bcOoT",
        "colab_type": "code",
        "outputId": "dcb3698c-f9ec-4972-ffd3-8b51343e53c9",
        "colab": {
          "base_uri": "https://localhost:8080/",
          "height": 34
        }
      },
      "source": [
        "type('Jesam Ujong')"
      ],
      "execution_count": 0,
      "outputs": [
        {
          "output_type": "execute_result",
          "data": {
            "text/plain": [
              "str"
            ]
          },
          "metadata": {
            "tags": []
          },
          "execution_count": 7
        }
      ]
    },
    {
      "cell_type": "markdown",
      "metadata": {
        "id": "uHmvN1BAchAY",
        "colab_type": "text"
      },
      "source": [
        "### Tuples"
      ]
    },
    {
      "cell_type": "code",
      "metadata": {
        "id": "ISor-eWPcO2z",
        "colab_type": "code",
        "colab": {}
      },
      "source": [
        "my_tuple = (5, 4, 3, 2, 1, 'hello')"
      ],
      "execution_count": 0,
      "outputs": []
    },
    {
      "cell_type": "code",
      "metadata": {
        "id": "5Ugmc35ucXr1",
        "colab_type": "code",
        "outputId": "77148bf2-a449-4a75-a6b4-a1c4bf63bf66",
        "colab": {
          "base_uri": "https://localhost:8080/",
          "height": 34
        }
      },
      "source": [
        "type(my_tuple)"
      ],
      "execution_count": 0,
      "outputs": [
        {
          "output_type": "execute_result",
          "data": {
            "text/plain": [
              "tuple"
            ]
          },
          "metadata": {
            "tags": []
          },
          "execution_count": 9
        }
      ]
    },
    {
      "cell_type": "code",
      "metadata": {
        "id": "sWE4DX4RcYoF",
        "colab_type": "code",
        "outputId": "e0b33a88-ab23-4ec3-e2b2-8daa40b708a9",
        "colab": {
          "base_uri": "https://localhost:8080/",
          "height": 34
        }
      },
      "source": [
        "# return the sixth elelment (indexed from 0)\n",
        "my_tuple[5]           "
      ],
      "execution_count": 0,
      "outputs": [
        {
          "output_type": "execute_result",
          "data": {
            "text/plain": [
              "'hello'"
            ]
          },
          "metadata": {
            "tags": []
          },
          "execution_count": 10
        }
      ]
    },
    {
      "cell_type": "code",
      "metadata": {
        "id": "wWtw1zBbcaK-",
        "colab_type": "code",
        "outputId": "5395e533-bf3c-49d4-fcad-19b7a68f6c7d",
        "colab": {
          "base_uri": "https://localhost:8080/",
          "height": 184
        }
      },
      "source": [
        "# we cannot alter an immutable data type\n",
        "my_tuple[5] = 'hi'    "
      ],
      "execution_count": 0,
      "outputs": [
        {
          "output_type": "error",
          "ename": "TypeError",
          "evalue": "ignored",
          "traceback": [
            "\u001b[0;31m---------------------------------------------------------------------------\u001b[0m",
            "\u001b[0;31mTypeError\u001b[0m                                 Traceback (most recent call last)",
            "\u001b[0;32m<ipython-input-11-7eb2fb559801>\u001b[0m in \u001b[0;36m<module>\u001b[0;34m()\u001b[0m\n\u001b[0;32m----> 1\u001b[0;31m \u001b[0mmy_tuple\u001b[0m\u001b[0;34m[\u001b[0m\u001b[0;36m5\u001b[0m\u001b[0;34m]\u001b[0m \u001b[0;34m=\u001b[0m \u001b[0;34m'hi'\u001b[0m    \u001b[0;31m# we cannot alter an immutable data type\u001b[0m\u001b[0;34m\u001b[0m\u001b[0;34m\u001b[0m\u001b[0m\n\u001b[0m",
            "\u001b[0;31mTypeError\u001b[0m: 'tuple' object does not support item assignment"
          ]
        }
      ]
    },
    {
      "cell_type": "markdown",
      "metadata": {
        "id": "ZQZDbY6KclPC",
        "colab_type": "text"
      },
      "source": [
        "### Lists"
      ]
    },
    {
      "cell_type": "code",
      "metadata": {
        "id": "N38soPQlcbUu",
        "colab_type": "code",
        "outputId": "514b3eeb-bbe0-42f8-82bb-584f197bcf12",
        "colab": {
          "base_uri": "https://localhost:8080/",
          "height": 34
        }
      },
      "source": [
        "my_list = [4, 8, 16, 32, 64]\n",
        "# print list items to console\n",
        "print(my_list)    "
      ],
      "execution_count": 0,
      "outputs": [
        {
          "output_type": "stream",
          "text": [
            "[4, 8, 16, 32, 64]\n"
          ],
          "name": "stdout"
        }
      ]
    },
    {
      "cell_type": "code",
      "metadata": {
        "id": "W3-8DixKcrKT",
        "colab_type": "code",
        "outputId": "2ce763c8-ecf4-43f7-e658-849db85914e0",
        "colab": {
          "base_uri": "https://localhost:8080/",
          "height": 34
        }
      },
      "source": [
        "# return the fourth list elelment (indexed from 0)\n",
        "my_list[3]        "
      ],
      "execution_count": 0,
      "outputs": [
        {
          "output_type": "execute_result",
          "data": {
            "text/plain": [
              "32"
            ]
          },
          "metadata": {
            "tags": []
          },
          "execution_count": 13
        }
      ]
    },
    {
      "cell_type": "code",
      "metadata": {
        "id": "NFHBqeZUcv6_",
        "colab_type": "code",
        "outputId": "af101062-fb89-4913-9736-add1ce27f935",
        "colab": {
          "base_uri": "https://localhost:8080/",
          "height": 34
        }
      },
      "source": [
        "my_list[4] = 256\n",
        "print(my_list)"
      ],
      "execution_count": 0,
      "outputs": [
        {
          "output_type": "stream",
          "text": [
            "[4, 8, 16, 32, 256]\n"
          ],
          "name": "stdout"
        }
      ]
    },
    {
      "cell_type": "markdown",
      "metadata": {
        "id": "i_47UCDnc-fA",
        "colab_type": "text"
      },
      "source": [
        "### Dictionary"
      ]
    },
    {
      "cell_type": "code",
      "metadata": {
        "id": "VTNokE5UcxhA",
        "colab_type": "code",
        "outputId": "2b8ce171-c4af-4e2d-baf5-641b07415e10",
        "colab": {
          "base_uri": "https://localhost:8080/",
          "height": 34
        }
      },
      "source": [
        "my_dict = {'name':'Rijami', 'age':42, 'height':72}\n",
        "# dictionary items are un-ordered\n",
        "my_dict"
      ],
      "execution_count": 0,
      "outputs": [
        {
          "output_type": "execute_result",
          "data": {
            "text/plain": [
              "{'age': 42, 'height': 72, 'name': 'Rijami'}"
            ]
          },
          "metadata": {
            "tags": []
          },
          "execution_count": 16
        }
      ]
    },
    {
      "cell_type": "code",
      "metadata": {
        "id": "riR2uIg6dDWB",
        "colab_type": "code",
        "outputId": "2ffba14b-4a5a-48d5-9af6-fd1cdb151dab",
        "colab": {
          "base_uri": "https://localhost:8080/",
          "height": 34
        }
      },
      "source": [
        "# get dictionary value by indexing on keys\n",
        "my_dict['age']"
      ],
      "execution_count": 0,
      "outputs": [
        {
          "output_type": "execute_result",
          "data": {
            "text/plain": [
              "42"
            ]
          },
          "metadata": {
            "tags": []
          },
          "execution_count": 17
        }
      ]
    },
    {
      "cell_type": "code",
      "metadata": {
        "id": "DLtme31ndHYR",
        "colab_type": "code",
        "outputId": "b96a7efa-1373-4a78-e9a5-14887cb70aeb",
        "colab": {
          "base_uri": "https://localhost:8080/",
          "height": 34
        }
      },
      "source": [
        "# change the value of a dictionary item\n",
        "my_dict['age'] = 35\n",
        "my_dict['age']"
      ],
      "execution_count": 0,
      "outputs": [
        {
          "output_type": "execute_result",
          "data": {
            "text/plain": [
              "35"
            ]
          },
          "metadata": {
            "tags": []
          },
          "execution_count": 18
        }
      ]
    },
    {
      "cell_type": "markdown",
      "metadata": {
        "id": "2g7_CNkwdSZF",
        "colab_type": "text"
      },
      "source": [
        "## More on Lists\n",
        "Because list items are mutable, they can be changed, deleted and sliced to produce a new list."
      ]
    },
    {
      "cell_type": "code",
      "metadata": {
        "id": "wYeVQSfodI9p",
        "colab_type": "code",
        "outputId": "49593321-ff8c-4481-e2c8-9ce50832acf2",
        "colab": {
          "base_uri": "https://localhost:8080/",
          "height": 34
        }
      },
      "source": [
        "my_list = [4, 8, 16, 32, 64]\n",
        "my_list"
      ],
      "execution_count": 0,
      "outputs": [
        {
          "output_type": "execute_result",
          "data": {
            "text/plain": [
              "[4, 8, 16, 32, 64]"
            ]
          },
          "metadata": {
            "tags": []
          },
          "execution_count": 1
        }
      ]
    },
    {
      "cell_type": "code",
      "metadata": {
        "id": "HaUSaLV0zsul",
        "colab_type": "code",
        "outputId": "69d12fd4-e804-4fa3-de11-0527a00ee4be",
        "colab": {
          "base_uri": "https://localhost:8080/",
          "height": 34
        }
      },
      "source": [
        "# slice the 2nd to 4th element (indexed from 0)\n",
        "my_list[1:3]      "
      ],
      "execution_count": 0,
      "outputs": [
        {
          "output_type": "execute_result",
          "data": {
            "text/plain": [
              "[8, 16]"
            ]
          },
          "metadata": {
            "tags": []
          },
          "execution_count": 2
        }
      ]
    },
    {
      "cell_type": "code",
      "metadata": {
        "id": "Lm0H8E85z1WP",
        "colab_type": "code",
        "outputId": "65faa46c-b13c-48c9-fae0-66889a996f2c",
        "colab": {
          "base_uri": "https://localhost:8080/",
          "height": 34
        }
      },
      "source": [
        "# slice from the 3rd element (indexed from 0)\n",
        "my_list[2:]"
      ],
      "execution_count": 0,
      "outputs": [
        {
          "output_type": "execute_result",
          "data": {
            "text/plain": [
              "[16, 32, 64]"
            ]
          },
          "metadata": {
            "tags": []
          },
          "execution_count": 3
        }
      ]
    },
    {
      "cell_type": "code",
      "metadata": {
        "id": "jds6RjU2z8_e",
        "colab_type": "code",
        "outputId": "d8d6bb8e-5a1d-4a03-f5c8-cb2ff91e5fa8",
        "colab": {
          "base_uri": "https://localhost:8080/",
          "height": 34
        }
      },
      "source": [
        "# slice till the 5th element (indexed from 0)\n",
        "my_list[:4]"
      ],
      "execution_count": 0,
      "outputs": [
        {
          "output_type": "execute_result",
          "data": {
            "text/plain": [
              "[4, 8, 16, 32]"
            ]
          },
          "metadata": {
            "tags": []
          },
          "execution_count": 4
        }
      ]
    },
    {
      "cell_type": "code",
      "metadata": {
        "id": "-kkwW0q70D5I",
        "colab_type": "code",
        "outputId": "b62c7ec0-79ac-4b52-d503-88e94b7aade4",
        "colab": {
          "base_uri": "https://localhost:8080/",
          "height": 34
        }
      },
      "source": [
        "# get the last element in the list\n",
        "my_list[-1]"
      ],
      "execution_count": 0,
      "outputs": [
        {
          "output_type": "execute_result",
          "data": {
            "text/plain": [
              "64"
            ]
          },
          "metadata": {
            "tags": []
          },
          "execution_count": 5
        }
      ]
    },
    {
      "cell_type": "code",
      "metadata": {
        "id": "3mnCIq4b0HFf",
        "colab_type": "code",
        "outputId": "da8baaae-e6a7-4000-ceb5-3e81f37a9fe5",
        "colab": {
          "base_uri": "https://localhost:8080/",
          "height": 34
        }
      },
      "source": [
        "# get the minimum element in the list\n",
        "min(my_list)      "
      ],
      "execution_count": 0,
      "outputs": [
        {
          "output_type": "execute_result",
          "data": {
            "text/plain": [
              "4"
            ]
          },
          "metadata": {
            "tags": []
          },
          "execution_count": 6
        }
      ]
    },
    {
      "cell_type": "code",
      "metadata": {
        "id": "n2I6wbZF0JSR",
        "colab_type": "code",
        "outputId": "0b9abb6f-320a-4bac-c0da-6c09275b50c5",
        "colab": {
          "base_uri": "https://localhost:8080/",
          "height": 34
        }
      },
      "source": [
        "# get the maximum element in the list\n",
        "max(my_list)      "
      ],
      "execution_count": 0,
      "outputs": [
        {
          "output_type": "execute_result",
          "data": {
            "text/plain": [
              "64"
            ]
          },
          "metadata": {
            "tags": []
          },
          "execution_count": 7
        }
      ]
    },
    {
      "cell_type": "code",
      "metadata": {
        "id": "DoRgCeP80OoQ",
        "colab_type": "code",
        "outputId": "fdc8f3d0-a158-4283-ce77-e1550c9bf82c",
        "colab": {
          "base_uri": "https://localhost:8080/",
          "height": 34
        }
      },
      "source": [
        "# get the sum of elements in the list\n",
        "sum(my_list)      "
      ],
      "execution_count": 0,
      "outputs": [
        {
          "output_type": "execute_result",
          "data": {
            "text/plain": [
              "124"
            ]
          },
          "metadata": {
            "tags": []
          },
          "execution_count": 8
        }
      ]
    },
    {
      "cell_type": "code",
      "metadata": {
        "id": "4rM1iZHS0wXb",
        "colab_type": "code",
        "outputId": "a99b0136-3bb5-44ee-cbf8-b129166bbd8a",
        "colab": {
          "base_uri": "https://localhost:8080/",
          "height": 34
        }
      },
      "source": [
        "# index(k) - return the index of the first occurrence of item k in the list\n",
        "my_list.index(16)"
      ],
      "execution_count": 0,
      "outputs": [
        {
          "output_type": "execute_result",
          "data": {
            "text/plain": [
              "2"
            ]
          },
          "metadata": {
            "tags": []
          },
          "execution_count": 9
        }
      ]
    },
    {
      "cell_type": "markdown",
      "metadata": {
        "id": "jz85APR_2VKS",
        "colab_type": "text"
      },
      "source": [
        "When modifying a slice of elements in the list - the right-hand side can be of any length depending that the left-hand size is not a single index."
      ]
    },
    {
      "cell_type": "code",
      "metadata": {
        "id": "485oh-sa2LST",
        "colab_type": "code",
        "outputId": "441c4aeb-ed41-45e0-8ffa-4f8cf97108f4",
        "colab": {
          "base_uri": "https://localhost:8080/",
          "height": 34
        }
      },
      "source": [
        "# modifying a list: extended index example\n",
        "my_list[1:4] = [43, 59, 78, 21]\n",
        "my_list"
      ],
      "execution_count": 0,
      "outputs": [
        {
          "output_type": "execute_result",
          "data": {
            "text/plain": [
              "[4, 43, 59, 78, 21, 21, 64]"
            ]
          },
          "metadata": {
            "tags": []
          },
          "execution_count": 11
        }
      ]
    },
    {
      "cell_type": "code",
      "metadata": {
        "id": "k_l1l7wt5Ov_",
        "colab_type": "code",
        "outputId": "a9072112-5a9f-4e62-f250-2464ecfb8e00",
        "colab": {
          "base_uri": "https://localhost:8080/",
          "height": 34
        }
      },
      "source": [
        "# re-initialize list elements\n",
        "my_list = [4, 8, 16, 32, 64]  \n",
        "my_list[1:4] = [43]\n",
        "my_list"
      ],
      "execution_count": 0,
      "outputs": [
        {
          "output_type": "execute_result",
          "data": {
            "text/plain": [
              "[4, 43, 64]"
            ]
          },
          "metadata": {
            "tags": []
          },
          "execution_count": 12
        }
      ]
    },
    {
      "cell_type": "code",
      "metadata": {
        "id": "HkfWctz95U05",
        "colab_type": "code",
        "outputId": "0add37cc-30a1-4e5e-9748-d97da4db3f22",
        "colab": {
          "base_uri": "https://localhost:8080/",
          "height": 34
        }
      },
      "source": [
        "# modifying a list: single index example\n",
        "# this will give a list-on-list\n",
        "my_list[0] = [1, 2, 3] \n",
        "my_list"
      ],
      "execution_count": 0,
      "outputs": [
        {
          "output_type": "execute_result",
          "data": {
            "text/plain": [
              "[[1, 2, 3], 43, 64]"
            ]
          },
          "metadata": {
            "tags": []
          },
          "execution_count": 13
        }
      ]
    },
    {
      "cell_type": "code",
      "metadata": {
        "id": "-oEXXhGN5ZFa",
        "colab_type": "code",
        "outputId": "882aa77a-134f-4b78-a041-8a8d0dff5d27",
        "colab": {
          "base_uri": "https://localhost:8080/",
          "height": 34
        }
      },
      "source": [
        "# again - this is the proper way to extend lists\n",
        "my_list[0:1] = [1, 2, 3]    \n",
        "my_list"
      ],
      "execution_count": 0,
      "outputs": [
        {
          "output_type": "execute_result",
          "data": {
            "text/plain": [
              "[1, 2, 3, 43, 64]"
            ]
          },
          "metadata": {
            "tags": []
          },
          "execution_count": 14
        }
      ]
    },
    {
      "cell_type": "markdown",
      "metadata": {
        "id": "WZys9-OB5h8T",
        "colab_type": "text"
      },
      "source": [
        "Some useful list methods include:"
      ]
    },
    {
      "cell_type": "code",
      "metadata": {
        "id": "0q07bIRt5gdC",
        "colab_type": "code",
        "outputId": "ec810681-17e2-442e-89bb-70a36caa30f2",
        "colab": {
          "base_uri": "https://localhost:8080/",
          "height": 34
        }
      },
      "source": [
        "my_list = [4, 8, 16, 32, 64]\n",
        "# get the length of the list\n",
        "len(my_list)          "
      ],
      "execution_count": 0,
      "outputs": [
        {
          "output_type": "execute_result",
          "data": {
            "text/plain": [
              "5"
            ]
          },
          "metadata": {
            "tags": []
          },
          "execution_count": 15
        }
      ]
    },
    {
      "cell_type": "code",
      "metadata": {
        "id": "RSLkw2Of5w0Q",
        "colab_type": "code",
        "outputId": "c3ce7191-0100-48d5-ce5a-21d0b80ab190",
        "colab": {
          "base_uri": "https://localhost:8080/",
          "height": 34
        }
      },
      "source": [
        "# insert(i,k) - insert the element k at index i\n",
        "my_list.insert(0,2)   \n",
        "my_list"
      ],
      "execution_count": 0,
      "outputs": [
        {
          "output_type": "execute_result",
          "data": {
            "text/plain": [
              "[2, 4, 8, 16, 32, 64]"
            ]
          },
          "metadata": {
            "tags": []
          },
          "execution_count": 16
        }
      ]
    },
    {
      "cell_type": "code",
      "metadata": {
        "id": "GghX1s8J507F",
        "colab_type": "code",
        "outputId": "134b5a73-a8db-47e7-adba-f7b4ddde454d",
        "colab": {
          "base_uri": "https://localhost:8080/",
          "height": 34
        }
      },
      "source": [
        "# remove(k) - remove the first occurence of element k in the list\n",
        "my_list.remove(8) \n",
        "my_list"
      ],
      "execution_count": 0,
      "outputs": [
        {
          "output_type": "execute_result",
          "data": {
            "text/plain": [
              "[2, 4, 16, 32, 64]"
            ]
          },
          "metadata": {
            "tags": []
          },
          "execution_count": 17
        }
      ]
    },
    {
      "cell_type": "code",
      "metadata": {
        "id": "askpM2gf54ad",
        "colab_type": "code",
        "outputId": "d1113a0d-2dca-463f-cdc0-f8cc210403f7",
        "colab": {
          "base_uri": "https://localhost:8080/",
          "height": 34
        }
      },
      "source": [
        "# pop(i) - return the value of the list at index i\n",
        "my_list.pop(3)    "
      ],
      "execution_count": 0,
      "outputs": [
        {
          "output_type": "execute_result",
          "data": {
            "text/plain": [
              "32"
            ]
          },
          "metadata": {
            "tags": []
          },
          "execution_count": 18
        }
      ]
    },
    {
      "cell_type": "code",
      "metadata": {
        "id": "7I02Rq8B58I_",
        "colab_type": "code",
        "outputId": "7513b9f7-282b-4fe2-bc93-1ef9feee072c",
        "colab": {
          "base_uri": "https://localhost:8080/",
          "height": 34
        }
      },
      "source": [
        "# reverse in-place the elements in the list\n",
        "my_list.reverse() \n",
        "my_list"
      ],
      "execution_count": 0,
      "outputs": [
        {
          "output_type": "execute_result",
          "data": {
            "text/plain": [
              "[64, 16, 4, 2]"
            ]
          },
          "metadata": {
            "tags": []
          },
          "execution_count": 19
        }
      ]
    },
    {
      "cell_type": "code",
      "metadata": {
        "id": "jG6UM7_t5-qo",
        "colab_type": "code",
        "outputId": "1d35fcdb-f004-4344-da28-0d332051d3fb",
        "colab": {
          "base_uri": "https://localhost:8080/",
          "height": 34
        }
      },
      "source": [
        "# sort in-place the elements in the list\n",
        "my_list.sort()    \n",
        "my_list"
      ],
      "execution_count": 0,
      "outputs": [
        {
          "output_type": "execute_result",
          "data": {
            "text/plain": [
              "[2, 4, 16, 64]"
            ]
          },
          "metadata": {
            "tags": []
          },
          "execution_count": 20
        }
      ]
    },
    {
      "cell_type": "code",
      "metadata": {
        "id": "l7EMj7Lc6BMI",
        "colab_type": "code",
        "outputId": "895d34bc-0a0b-4917-a281-d742b6960449",
        "colab": {
          "base_uri": "https://localhost:8080/",
          "height": 34
        }
      },
      "source": [
        "# clear all elements from the list\n",
        "my_list.clear()   \n",
        "my_list"
      ],
      "execution_count": 0,
      "outputs": [
        {
          "output_type": "execute_result",
          "data": {
            "text/plain": [
              "[]"
            ]
          },
          "metadata": {
            "tags": []
          },
          "execution_count": 21
        }
      ]
    },
    {
      "cell_type": "markdown",
      "metadata": {
        "id": "GTu8r76J6EWD",
        "colab_type": "text"
      },
      "source": [
        "The append() method adds an item (could be a list, string, or number) to the end of a list. If the item is a list, the list as a whole is appended to the end of the current list."
      ]
    },
    {
      "cell_type": "code",
      "metadata": {
        "id": "FOaK3bNL6Dro",
        "colab_type": "code",
        "outputId": "6f2b50fb-124f-4086-bfcd-4b3cce74a49f",
        "colab": {
          "base_uri": "https://localhost:8080/",
          "height": 34
        }
      },
      "source": [
        "my_list = [4, 8, 16, 32, 64]  # initial list\n",
        "my_list.append(2)             # append a number to the end of list\n",
        "my_list.append('wonder')      # append a string to the end of list\n",
        "my_list.append([256, 512])    # append a list to the end of list\n",
        "my_list"
      ],
      "execution_count": 0,
      "outputs": [
        {
          "output_type": "execute_result",
          "data": {
            "text/plain": [
              "[4, 8, 16, 32, 64, 2, 'wonder', [256, 512]]"
            ]
          },
          "metadata": {
            "tags": []
          },
          "execution_count": 22
        }
      ]
    },
    {
      "cell_type": "markdown",
      "metadata": {
        "id": "FS4CaGOl6Otv",
        "colab_type": "text"
      },
      "source": [
        "The extend() method extends the list by adding items from an iterable. Lists and strings are iterable objects. So extend appends all the elements of the iterable to the end of the list."
      ]
    },
    {
      "cell_type": "code",
      "metadata": {
        "id": "rU1L61pz6Kbx",
        "colab_type": "code",
        "outputId": "2d637633-f648-4075-f7f3-9026c10d7001",
        "colab": {
          "base_uri": "https://localhost:8080/",
          "height": 218
        }
      },
      "source": [
        "my_list = [4, 8, 16, 32, 64]\n",
        "# a number is not an iterable\n",
        "my_list.extend(2)             "
      ],
      "execution_count": 0,
      "outputs": [
        {
          "output_type": "error",
          "ename": "TypeError",
          "evalue": "ignored",
          "traceback": [
            "\u001b[0;31m---------------------------------------------------------------------------\u001b[0m",
            "\u001b[0;31mTypeError\u001b[0m                                 Traceback (most recent call last)",
            "\u001b[0;32m<ipython-input-23-ba3167ee0dba>\u001b[0m in \u001b[0;36m<module>\u001b[0;34m()\u001b[0m\n\u001b[1;32m      1\u001b[0m \u001b[0mmy_list\u001b[0m \u001b[0;34m=\u001b[0m \u001b[0;34m[\u001b[0m\u001b[0;36m4\u001b[0m\u001b[0;34m,\u001b[0m \u001b[0;36m8\u001b[0m\u001b[0;34m,\u001b[0m \u001b[0;36m16\u001b[0m\u001b[0;34m,\u001b[0m \u001b[0;36m32\u001b[0m\u001b[0;34m,\u001b[0m \u001b[0;36m64\u001b[0m\u001b[0;34m]\u001b[0m\u001b[0;34m\u001b[0m\u001b[0;34m\u001b[0m\u001b[0m\n\u001b[1;32m      2\u001b[0m \u001b[0;31m# a number is not an iterable\u001b[0m\u001b[0;34m\u001b[0m\u001b[0;34m\u001b[0m\u001b[0;34m\u001b[0m\u001b[0m\n\u001b[0;32m----> 3\u001b[0;31m \u001b[0mmy_list\u001b[0m\u001b[0;34m.\u001b[0m\u001b[0mextend\u001b[0m\u001b[0;34m(\u001b[0m\u001b[0;36m2\u001b[0m\u001b[0;34m)\u001b[0m\u001b[0;34m\u001b[0m\u001b[0;34m\u001b[0m\u001b[0m\n\u001b[0m",
            "\u001b[0;31mTypeError\u001b[0m: 'int' object is not iterable"
          ]
        }
      ]
    },
    {
      "cell_type": "code",
      "metadata": {
        "id": "P2LSRE1c6XrQ",
        "colab_type": "code",
        "outputId": "5530505f-dea7-4e74-80da-d1e08e044a28",
        "colab": {
          "base_uri": "https://localhost:8080/",
          "height": 34
        }
      },
      "source": [
        "my_list.extend('wonder')      # append a string to the end of list\n",
        "my_list.extend([256, 512])    # append a list to the end of list\n",
        "my_list"
      ],
      "execution_count": 0,
      "outputs": [
        {
          "output_type": "execute_result",
          "data": {
            "text/plain": [
              "[4, 8, 16, 32, 64, 'w', 'o', 'n', 'd', 'e', 'r', 256, 512]"
            ]
          },
          "metadata": {
            "tags": []
          },
          "execution_count": 24
        }
      ]
    },
    {
      "cell_type": "markdown",
      "metadata": {
        "id": "mqhKHuY-6a2Y",
        "colab_type": "text"
      },
      "source": [
        "We can combine a list with another list by overloading the operator +"
      ]
    },
    {
      "cell_type": "code",
      "metadata": {
        "id": "Ar06imA16Zv2",
        "colab_type": "code",
        "outputId": "4ab75dcf-fde4-4813-9d02-29cb663e1df4",
        "colab": {
          "base_uri": "https://localhost:8080/",
          "height": 34
        }
      },
      "source": [
        "my_list = [4, 8, 16, 32, 64]\n",
        "my_list + [256, 512]"
      ],
      "execution_count": 0,
      "outputs": [
        {
          "output_type": "execute_result",
          "data": {
            "text/plain": [
              "[4, 8, 16, 32, 64, 256, 512]"
            ]
          },
          "metadata": {
            "tags": []
          },
          "execution_count": 25
        }
      ]
    },
    {
      "cell_type": "markdown",
      "metadata": {
        "id": "jJezT3fg6fWB",
        "colab_type": "text"
      },
      "source": [
        "## Strings\n",
        "Strings can be indexed like a list as well as sliced to create new lists."
      ]
    },
    {
      "cell_type": "code",
      "metadata": {
        "id": "rIaoePui6d5H",
        "colab_type": "code",
        "outputId": "a24c5322-bb10-4fd2-d0d4-9d464c6a8422",
        "colab": {
          "base_uri": "https://localhost:8080/",
          "height": 34
        }
      },
      "source": [
        "my_string = 'Schatz'\n",
        "# get first index of string\n",
        "my_string[0]      "
      ],
      "execution_count": 0,
      "outputs": [
        {
          "output_type": "execute_result",
          "data": {
            "text/plain": [
              "'S'"
            ]
          },
          "metadata": {
            "tags": []
          },
          "execution_count": 26
        }
      ]
    },
    {
      "cell_type": "code",
      "metadata": {
        "id": "aADxPB7s6tsq",
        "colab_type": "code",
        "outputId": "4eff2800-ca6c-4019-c5b2-329b89d106d2",
        "colab": {
          "base_uri": "https://localhost:8080/",
          "height": 34
        }
      },
      "source": [
        "# slice the string from the 2nd to the 5th element (indexed from 0)\n",
        "my_string[1:4]    "
      ],
      "execution_count": 0,
      "outputs": [
        {
          "output_type": "execute_result",
          "data": {
            "text/plain": [
              "'cha'"
            ]
          },
          "metadata": {
            "tags": []
          },
          "execution_count": 27
        }
      ]
    },
    {
      "cell_type": "code",
      "metadata": {
        "id": "M74nNyCy64Jj",
        "colab_type": "code",
        "outputId": "20bac4fd-5273-4f27-a6c2-41356bb90bc9",
        "colab": {
          "base_uri": "https://localhost:8080/",
          "height": 34
        }
      },
      "source": [
        "# get the length of the string\n",
        "len(my_string)    "
      ],
      "execution_count": 0,
      "outputs": [
        {
          "output_type": "execute_result",
          "data": {
            "text/plain": [
              "6"
            ]
          },
          "metadata": {
            "tags": []
          },
          "execution_count": 28
        }
      ]
    },
    {
      "cell_type": "code",
      "metadata": {
        "id": "EsjtNsxo69tM",
        "colab_type": "code",
        "outputId": "f9bab5d3-7686-467b-9bf2-4378525fcb0b",
        "colab": {
          "base_uri": "https://localhost:8080/",
          "height": 34
        }
      },
      "source": [
        "# get last element of the string\n",
        "my_string[-1]     "
      ],
      "execution_count": 0,
      "outputs": [
        {
          "output_type": "execute_result",
          "data": {
            "text/plain": [
              "'z'"
            ]
          },
          "metadata": {
            "tags": []
          },
          "execution_count": 29
        }
      ]
    },
    {
      "cell_type": "markdown",
      "metadata": {
        "id": "QdiVVpTG7Mjj",
        "colab_type": "text"
      },
      "source": [
        "We can operate on string values with the boolean operators."
      ]
    },
    {
      "cell_type": "code",
      "metadata": {
        "id": "RH7w80R-7B4E",
        "colab_type": "code",
        "outputId": "a9b3aac6-cde6-4e59-e950-41454a907bd2",
        "colab": {
          "base_uri": "https://localhost:8080/",
          "height": 34
        }
      },
      "source": [
        "'t' in my_string"
      ],
      "execution_count": 0,
      "outputs": [
        {
          "output_type": "execute_result",
          "data": {
            "text/plain": [
              "True"
            ]
          },
          "metadata": {
            "tags": []
          },
          "execution_count": 30
        }
      ]
    },
    {
      "cell_type": "code",
      "metadata": {
        "id": "jKLzHuIz7PWK",
        "colab_type": "code",
        "outputId": "afa2ea9a-a687-4e39-bd8d-8bb885d4c9e8",
        "colab": {
          "base_uri": "https://localhost:8080/",
          "height": 34
        }
      },
      "source": [
        "'t' not in my_string"
      ],
      "execution_count": 0,
      "outputs": [
        {
          "output_type": "execute_result",
          "data": {
            "text/plain": [
              "False"
            ]
          },
          "metadata": {
            "tags": []
          },
          "execution_count": 31
        }
      ]
    },
    {
      "cell_type": "code",
      "metadata": {
        "id": "UawGQEgf7Q5y",
        "colab_type": "code",
        "outputId": "28237793-d982-4094-a02e-1844326032db",
        "colab": {
          "base_uri": "https://localhost:8080/",
          "height": 34
        }
      },
      "source": [
        "'t' is my_string"
      ],
      "execution_count": 0,
      "outputs": [
        {
          "output_type": "execute_result",
          "data": {
            "text/plain": [
              "False"
            ]
          },
          "metadata": {
            "tags": []
          },
          "execution_count": 32
        }
      ]
    },
    {
      "cell_type": "code",
      "metadata": {
        "id": "l5gCL_-V7SO7",
        "colab_type": "code",
        "outputId": "d8422708-ebe7-4dbc-a292-783930aea68c",
        "colab": {
          "base_uri": "https://localhost:8080/",
          "height": 34
        }
      },
      "source": [
        "'t' is not my_string"
      ],
      "execution_count": 0,
      "outputs": [
        {
          "output_type": "execute_result",
          "data": {
            "text/plain": [
              "True"
            ]
          },
          "metadata": {
            "tags": []
          },
          "execution_count": 33
        }
      ]
    },
    {
      "cell_type": "code",
      "metadata": {
        "id": "EqRkAFsA7TfS",
        "colab_type": "code",
        "outputId": "b266db5e-d9d5-4231-a69c-165fa9585e27",
        "colab": {
          "base_uri": "https://localhost:8080/",
          "height": 34
        }
      },
      "source": [
        "'t' == my_string"
      ],
      "execution_count": 0,
      "outputs": [
        {
          "output_type": "execute_result",
          "data": {
            "text/plain": [
              "False"
            ]
          },
          "metadata": {
            "tags": []
          },
          "execution_count": 34
        }
      ]
    },
    {
      "cell_type": "code",
      "metadata": {
        "id": "Lzkn_QvG7U5b",
        "colab_type": "code",
        "outputId": "383e1efc-c882-4f9a-fe84-e65925db8205",
        "colab": {
          "base_uri": "https://localhost:8080/",
          "height": 34
        }
      },
      "source": [
        "'t' != my_string"
      ],
      "execution_count": 0,
      "outputs": [
        {
          "output_type": "execute_result",
          "data": {
            "text/plain": [
              "True"
            ]
          },
          "metadata": {
            "tags": []
          },
          "execution_count": 35
        }
      ]
    },
    {
      "cell_type": "markdown",
      "metadata": {
        "id": "sY6fOte07XC8",
        "colab_type": "text"
      },
      "source": [
        "We can concatenate two strings to create a new string using the overloaded operator +."
      ]
    },
    {
      "cell_type": "code",
      "metadata": {
        "id": "jVEV-ixT7Z7U",
        "colab_type": "code",
        "outputId": "b9075295-801d-4474-859d-1c94e008ec3a",
        "colab": {
          "base_uri": "https://localhost:8080/",
          "height": 34
        }
      },
      "source": [
        "a = 'I'\n",
        "b = 'Love'\n",
        "c = 'You'\n",
        "a + b + c"
      ],
      "execution_count": 0,
      "outputs": [
        {
          "output_type": "execute_result",
          "data": {
            "text/plain": [
              "'ILoveYou'"
            ]
          },
          "metadata": {
            "tags": []
          },
          "execution_count": 36
        }
      ]
    },
    {
      "cell_type": "code",
      "metadata": {
        "id": "xnZgUZNZ7cWN",
        "colab_type": "code",
        "outputId": "ee613849-3ae6-4686-b75d-a93b45f5e0f6",
        "colab": {
          "base_uri": "https://localhost:8080/",
          "height": 34
        }
      },
      "source": [
        "# let's add some space\n",
        "a + ' ' + b +  ' ' + c"
      ],
      "execution_count": 0,
      "outputs": [
        {
          "output_type": "execute_result",
          "data": {
            "text/plain": [
              "'I Love You'"
            ]
          },
          "metadata": {
            "tags": []
          },
          "execution_count": 37
        }
      ]
    },
    {
      "cell_type": "markdown",
      "metadata": {
        "id": "lOK4jQHR7kVR",
        "colab_type": "text"
      },
      "source": [
        "## Arithmetic and Boolean Operations"
      ]
    },
    {
      "cell_type": "markdown",
      "metadata": {
        "id": "uP-95YT-7qot",
        "colab_type": "text"
      },
      "source": [
        "### Arithmetic Operations"
      ]
    },
    {
      "cell_type": "code",
      "metadata": {
        "id": "wDeGptxd7j2M",
        "colab_type": "code",
        "outputId": "eb9978cb-daf1-4676-b807-bf32b733111a",
        "colab": {
          "base_uri": "https://localhost:8080/",
          "height": 34
        }
      },
      "source": [
        "# addition\n",
        "2 + 2     "
      ],
      "execution_count": 0,
      "outputs": [
        {
          "output_type": "execute_result",
          "data": {
            "text/plain": [
              "4"
            ]
          },
          "metadata": {
            "tags": []
          },
          "execution_count": 38
        }
      ]
    },
    {
      "cell_type": "code",
      "metadata": {
        "id": "o8u2Z7yQ7eDg",
        "colab_type": "code",
        "outputId": "635b5db3-febf-43f7-b9e5-1027140bbfd3",
        "colab": {
          "base_uri": "https://localhost:8080/",
          "height": 34
        }
      },
      "source": [
        "# subtraction\n",
        "5 - 3     "
      ],
      "execution_count": 0,
      "outputs": [
        {
          "output_type": "execute_result",
          "data": {
            "text/plain": [
              "2"
            ]
          },
          "metadata": {
            "tags": []
          },
          "execution_count": 39
        }
      ]
    },
    {
      "cell_type": "code",
      "metadata": {
        "id": "sRu8aPyG70XK",
        "colab_type": "code",
        "outputId": "e10b623a-92a3-40df-8411-4fac489aaf4f",
        "colab": {
          "base_uri": "https://localhost:8080/",
          "height": 34
        }
      },
      "source": [
        "# multiplication\n",
        "4 * 4"
      ],
      "execution_count": 0,
      "outputs": [
        {
          "output_type": "execute_result",
          "data": {
            "text/plain": [
              "16"
            ]
          },
          "metadata": {
            "tags": []
          },
          "execution_count": 40
        }
      ]
    },
    {
      "cell_type": "code",
      "metadata": {
        "id": "CnVoPkKC733T",
        "colab_type": "code",
        "outputId": "ef94990a-e449-4b65-ff97-16b0e0ebbd65",
        "colab": {
          "base_uri": "https://localhost:8080/",
          "height": 34
        }
      },
      "source": [
        "# division\n",
        "10 / 2    "
      ],
      "execution_count": 0,
      "outputs": [
        {
          "output_type": "execute_result",
          "data": {
            "text/plain": [
              "5.0"
            ]
          },
          "metadata": {
            "tags": []
          },
          "execution_count": 41
        }
      ]
    },
    {
      "cell_type": "code",
      "metadata": {
        "id": "_waMELJ276Jb",
        "colab_type": "code",
        "outputId": "f929d223-4930-49bf-f23b-ef3fa152daf8",
        "colab": {
          "base_uri": "https://localhost:8080/",
          "height": 34
        }
      },
      "source": [
        "# use brackets to enforce precedence\n",
        "2**4 / (5 + 3)    "
      ],
      "execution_count": 0,
      "outputs": [
        {
          "output_type": "execute_result",
          "data": {
            "text/plain": [
              "2.0"
            ]
          },
          "metadata": {
            "tags": []
          },
          "execution_count": 42
        }
      ]
    },
    {
      "cell_type": "markdown",
      "metadata": {
        "id": "c2pqnXli8FnG",
        "colab_type": "text"
      },
      "source": [
        "### Boolean Operations"
      ]
    },
    {
      "cell_type": "code",
      "metadata": {
        "id": "IA8L6WiE78sc",
        "colab_type": "code",
        "outputId": "d437f0b0-33d2-438d-bba4-ed363397144e",
        "colab": {
          "base_uri": "https://localhost:8080/",
          "height": 34
        }
      },
      "source": [
        "# less than\n",
        "2 < 5"
      ],
      "execution_count": 0,
      "outputs": [
        {
          "output_type": "execute_result",
          "data": {
            "text/plain": [
              "True"
            ]
          },
          "metadata": {
            "tags": []
          },
          "execution_count": 43
        }
      ]
    },
    {
      "cell_type": "code",
      "metadata": {
        "id": "W0LYizjV9One",
        "colab_type": "code",
        "outputId": "3590b1cd-0622-4101-e47f-456f6be6734b",
        "colab": {
          "base_uri": "https://localhost:8080/",
          "height": 34
        }
      },
      "source": [
        "# less than or equal to\n",
        "2 <= 5"
      ],
      "execution_count": 0,
      "outputs": [
        {
          "output_type": "execute_result",
          "data": {
            "text/plain": [
              "True"
            ]
          },
          "metadata": {
            "tags": []
          },
          "execution_count": 44
        }
      ]
    },
    {
      "cell_type": "code",
      "metadata": {
        "id": "Mm50c2bp9TpX",
        "colab_type": "code",
        "outputId": "f3edf665-3e0e-4ae4-8d6c-c5265f8be72f",
        "colab": {
          "base_uri": "https://localhost:8080/",
          "height": 34
        }
      },
      "source": [
        "# greater than\n",
        "2 > 5"
      ],
      "execution_count": 0,
      "outputs": [
        {
          "output_type": "execute_result",
          "data": {
            "text/plain": [
              "False"
            ]
          },
          "metadata": {
            "tags": []
          },
          "execution_count": 45
        }
      ]
    },
    {
      "cell_type": "code",
      "metadata": {
        "id": "8m6etWkO9W2C",
        "colab_type": "code",
        "outputId": "6ad64f2d-2b48-4498-ef17-8d784410fb50",
        "colab": {
          "base_uri": "https://localhost:8080/",
          "height": 34
        }
      },
      "source": [
        "# greater than or equal to\n",
        "2 >= 5"
      ],
      "execution_count": 0,
      "outputs": [
        {
          "output_type": "execute_result",
          "data": {
            "text/plain": [
              "False"
            ]
          },
          "metadata": {
            "tags": []
          },
          "execution_count": 46
        }
      ]
    },
    {
      "cell_type": "code",
      "metadata": {
        "id": "W5NvyTY_9a-C",
        "colab_type": "code",
        "outputId": "a80db030-95bc-4eb0-e196-6e99979949d1",
        "colab": {
          "base_uri": "https://localhost:8080/",
          "height": 34
        }
      },
      "source": [
        "# not equals to\n",
        "2 != 5"
      ],
      "execution_count": 0,
      "outputs": [
        {
          "output_type": "execute_result",
          "data": {
            "text/plain": [
              "True"
            ]
          },
          "metadata": {
            "tags": []
          },
          "execution_count": 48
        }
      ]
    },
    {
      "cell_type": "code",
      "metadata": {
        "id": "PNtENY9Z9dRy",
        "colab_type": "code",
        "outputId": "d91ed92d-fa51-4b25-e45e-73d7d7088f05",
        "colab": {
          "base_uri": "https://localhost:8080/",
          "height": 34
        }
      },
      "source": [
        "# equals to\n",
        "2 == 5"
      ],
      "execution_count": 0,
      "outputs": [
        {
          "output_type": "execute_result",
          "data": {
            "text/plain": [
              "False"
            ]
          },
          "metadata": {
            "tags": []
          },
          "execution_count": 50
        }
      ]
    },
    {
      "cell_type": "markdown",
      "metadata": {
        "id": "pJV77MAx9vgp",
        "colab_type": "text"
      },
      "source": [
        "We can also carry-out identity and membership tests"
      ]
    },
    {
      "cell_type": "code",
      "metadata": {
        "id": "VWzaKWET9ge7",
        "colab_type": "code",
        "colab": {}
      },
      "source": [
        "a = [1, 2, 3]"
      ],
      "execution_count": 0,
      "outputs": []
    },
    {
      "cell_type": "code",
      "metadata": {
        "id": "stt4GF439yYZ",
        "colab_type": "code",
        "outputId": "37d32143-821b-495e-ba36-3ca9084450bd",
        "colab": {
          "base_uri": "https://localhost:8080/",
          "height": 34
        }
      },
      "source": [
        "2 in a"
      ],
      "execution_count": 0,
      "outputs": [
        {
          "output_type": "execute_result",
          "data": {
            "text/plain": [
              "True"
            ]
          },
          "metadata": {
            "tags": []
          },
          "execution_count": 52
        }
      ]
    },
    {
      "cell_type": "code",
      "metadata": {
        "id": "ZU4hdZ8D9zOm",
        "colab_type": "code",
        "outputId": "24d04c87-8c8c-4627-bfdf-33126b1e7070",
        "colab": {
          "base_uri": "https://localhost:8080/",
          "height": 34
        }
      },
      "source": [
        "2 not in a"
      ],
      "execution_count": 0,
      "outputs": [
        {
          "output_type": "execute_result",
          "data": {
            "text/plain": [
              "False"
            ]
          },
          "metadata": {
            "tags": []
          },
          "execution_count": 53
        }
      ]
    },
    {
      "cell_type": "code",
      "metadata": {
        "id": "DTBoLp3990z_",
        "colab_type": "code",
        "outputId": "ed73d68c-5dc7-4cd7-fd49-f7e441d2dfa6",
        "colab": {
          "base_uri": "https://localhost:8080/",
          "height": 34
        }
      },
      "source": [
        "2 is a"
      ],
      "execution_count": 0,
      "outputs": [
        {
          "output_type": "execute_result",
          "data": {
            "text/plain": [
              "False"
            ]
          },
          "metadata": {
            "tags": []
          },
          "execution_count": 54
        }
      ]
    },
    {
      "cell_type": "code",
      "metadata": {
        "id": "waHr6nIA92dY",
        "colab_type": "code",
        "outputId": "722baa29-63fb-40c5-c834-9d707d06ea07",
        "colab": {
          "base_uri": "https://localhost:8080/",
          "height": 34
        }
      },
      "source": [
        "2 is not a"
      ],
      "execution_count": 0,
      "outputs": [
        {
          "output_type": "execute_result",
          "data": {
            "text/plain": [
              "True"
            ]
          },
          "metadata": {
            "tags": []
          },
          "execution_count": 55
        }
      ]
    },
    {
      "cell_type": "markdown",
      "metadata": {
        "id": "CHCpjj1A95tV",
        "colab_type": "text"
      },
      "source": [
        "## The print() statement"
      ]
    },
    {
      "cell_type": "markdown",
      "metadata": {
        "id": "ZZ28jsPO-Cwu",
        "colab_type": "text"
      },
      "source": [
        "Variables can be concatenated using the comma. Space is implicitly added after the comma."
      ]
    },
    {
      "cell_type": "code",
      "metadata": {
        "id": "2cOXAjqD98xR",
        "colab_type": "code",
        "outputId": "c7ce9f6b-4941-410a-c4b3-ca144c49e889",
        "colab": {
          "base_uri": "https://localhost:8080/",
          "height": 34
        }
      },
      "source": [
        "a = 'I'\n",
        "b = 'Love'\n",
        "c = 'You'\n",
        "print(a, b, c)"
      ],
      "execution_count": 0,
      "outputs": [
        {
          "output_type": "stream",
          "text": [
            "I Love You\n"
          ],
          "name": "stdout"
        }
      ]
    },
    {
      "cell_type": "markdown",
      "metadata": {
        "id": "LFUHtrEx-G9q",
        "colab_type": "text"
      },
      "source": [
        "### Using the Formatter\n",
        "Formatters add a placeholder for inputting a data value into a string output using the curly brace {}."
      ]
    },
    {
      "cell_type": "code",
      "metadata": {
        "id": "vXScMh_f-FPz",
        "colab_type": "code",
        "outputId": "50de512c-206d-4da5-f029-13b2f74130d1",
        "colab": {
          "base_uri": "https://localhost:8080/",
          "height": 34
        }
      },
      "source": [
        "print(\"{} {} {}\".format(a, b, c))"
      ],
      "execution_count": 0,
      "outputs": [
        {
          "output_type": "stream",
          "text": [
            "I Love You\n"
          ],
          "name": "stdout"
        }
      ]
    },
    {
      "cell_type": "code",
      "metadata": {
        "id": "UeSKmvFW-PM1",
        "colab_type": "code",
        "outputId": "d6bffd8b-3572-44d5-9aab-65553ab05b33",
        "colab": {
          "base_uri": "https://localhost:8080/",
          "height": 34
        }
      },
      "source": [
        "# re-ordering the output\n",
        "print(\"{2} {1} {0}\".format(a, b, c))"
      ],
      "execution_count": 0,
      "outputs": [
        {
          "output_type": "stream",
          "text": [
            "You Love I\n"
          ],
          "name": "stdout"
        }
      ]
    },
    {
      "cell_type": "markdown",
      "metadata": {
        "id": "90QMDs3u-SdV",
        "colab_type": "text"
      },
      "source": [
        "## Control Structures"
      ]
    },
    {
      "cell_type": "markdown",
      "metadata": {
        "id": "H7nPX2Vi-Wa7",
        "colab_type": "text"
      },
      "source": [
        "### The if / elif (else-if) statements"
      ]
    },
    {
      "cell_type": "code",
      "metadata": {
        "id": "G2m_c49r-QKF",
        "colab_type": "code",
        "outputId": "5aedb345-1e39-4997-cde0-ebce0403e930",
        "colab": {
          "base_uri": "https://localhost:8080/",
          "height": 34
        }
      },
      "source": [
        "a = 8\n",
        "if type(a) is int:\n",
        "    print('Number is an integer')\n",
        "elif a > 0:\n",
        "    print('Number is positive')\n",
        "else:\n",
        "    print('The number is negative and not an integer')"
      ],
      "execution_count": 0,
      "outputs": [
        {
          "output_type": "stream",
          "text": [
            "Number is an integer\n"
          ],
          "name": "stdout"
        }
      ]
    },
    {
      "cell_type": "markdown",
      "metadata": {
        "id": "YsXW5Ckv-dvv",
        "colab_type": "text"
      },
      "source": [
        "### The while loop"
      ]
    },
    {
      "cell_type": "code",
      "metadata": {
        "id": "Dar-WtjV-ceh",
        "colab_type": "code",
        "outputId": "178b26d8-bd00-4ed2-b1b8-8326782ac41b",
        "colab": {
          "base_uri": "https://localhost:8080/",
          "height": 153
        }
      },
      "source": [
        "a = 8\n",
        "while a > 0:\n",
        "    print('Number is', a)\n",
        "\n",
        "    # decrement a\n",
        "    a -= 1"
      ],
      "execution_count": 0,
      "outputs": [
        {
          "output_type": "stream",
          "text": [
            "Number is 8\n",
            "Number is 7\n",
            "Number is 6\n",
            "Number is 5\n",
            "Number is 4\n",
            "Number is 3\n",
            "Number is 2\n",
            "Number is 1\n"
          ],
          "name": "stdout"
        }
      ]
    },
    {
      "cell_type": "markdown",
      "metadata": {
        "id": "1Kz5pkw7-jN1",
        "colab_type": "text"
      },
      "source": [
        "### The for loop"
      ]
    },
    {
      "cell_type": "code",
      "metadata": {
        "id": "dvmF3MRq-iIh",
        "colab_type": "code",
        "outputId": "94c9862f-1086-4eab-8afa-4a2069708963",
        "colab": {
          "base_uri": "https://localhost:8080/",
          "height": 102
        }
      },
      "source": [
        "a = [2, 4, 6, 8, 10]\n",
        "for elem in a:\n",
        "    print(elem**2)"
      ],
      "execution_count": 0,
      "outputs": [
        {
          "output_type": "stream",
          "text": [
            "4\n",
            "16\n",
            "36\n",
            "64\n",
            "100\n"
          ],
          "name": "stdout"
        }
      ]
    },
    {
      "cell_type": "markdown",
      "metadata": {
        "id": "lAVFFb9C-q8E",
        "colab_type": "text"
      },
      "source": [
        "To loop for a specific number of time use the range() function."
      ]
    },
    {
      "cell_type": "code",
      "metadata": {
        "id": "KWrvOYvC-n3z",
        "colab_type": "code",
        "outputId": "a84ab25e-5134-4d40-d021-7c47961de0ef",
        "colab": {
          "base_uri": "https://localhost:8080/",
          "height": 102
        }
      },
      "source": [
        "for idx in range(5):\n",
        "    print('The index is', idx)"
      ],
      "execution_count": 0,
      "outputs": [
        {
          "output_type": "stream",
          "text": [
            "The index is 0\n",
            "The index is 1\n",
            "The index is 2\n",
            "The index is 3\n",
            "The index is 4\n"
          ],
          "name": "stdout"
        }
      ]
    },
    {
      "cell_type": "markdown",
      "metadata": {
        "id": "8ME34fT8-uTl",
        "colab_type": "text"
      },
      "source": [
        "## List Comprehensions\n",
        "Using list comprehension, we can succinctly re-write a for-loop that iteratively builds a new list using an elegant syntax."
      ]
    },
    {
      "cell_type": "code",
      "metadata": {
        "id": "x1JwL8yv-tEL",
        "colab_type": "code",
        "outputId": "3ca7dbbd-9fef-4350-8aa1-b504ca935721",
        "colab": {
          "base_uri": "https://localhost:8080/",
          "height": 34
        }
      },
      "source": [
        "squares = []\n",
        "for elem in range(0,5):\n",
        "    squares.append((elem+1)**2)\n",
        "\n",
        "squares"
      ],
      "execution_count": 0,
      "outputs": [
        {
          "output_type": "execute_result",
          "data": {
            "text/plain": [
              "[1, 4, 9, 16, 25]"
            ]
          },
          "metadata": {
            "tags": []
          },
          "execution_count": 63
        }
      ]
    },
    {
      "cell_type": "markdown",
      "metadata": {
        "id": "ZidIrW-cDt1Y",
        "colab_type": "text"
      },
      "source": [
        "The above code can be concisely written as:"
      ]
    },
    {
      "cell_type": "code",
      "metadata": {
        "id": "_mD7JGj-DrJB",
        "colab_type": "code",
        "outputId": "3e1cab93-d215-4184-9a11-e7c38c90572d",
        "colab": {
          "base_uri": "https://localhost:8080/",
          "height": 34
        }
      },
      "source": [
        "[(elem+1)**2 for elem in range(0,5)]"
      ],
      "execution_count": 0,
      "outputs": [
        {
          "output_type": "execute_result",
          "data": {
            "text/plain": [
              "[1, 4, 9, 16, 25]"
            ]
          },
          "metadata": {
            "tags": []
          },
          "execution_count": 64
        }
      ]
    },
    {
      "cell_type": "markdown",
      "metadata": {
        "id": "rUoKZ3MVDyPq",
        "colab_type": "text"
      },
      "source": [
        "This is even more elegant in the presence of nested control structures."
      ]
    },
    {
      "cell_type": "code",
      "metadata": {
        "id": "qo4hGac1DwBy",
        "colab_type": "code",
        "outputId": "4070129e-dcbf-44d6-bb8b-013b100911cb",
        "colab": {
          "base_uri": "https://localhost:8080/",
          "height": 34
        }
      },
      "source": [
        "evens = []\n",
        "for elem in range(0,20):\n",
        "    if elem % 2 == 0 and elem != 0:\n",
        "        evens.append(elem)\n",
        "evens"
      ],
      "execution_count": 0,
      "outputs": [
        {
          "output_type": "execute_result",
          "data": {
            "text/plain": [
              "[2, 4, 6, 8, 10, 12, 14, 16, 18]"
            ]
          },
          "metadata": {
            "tags": []
          },
          "execution_count": 66
        }
      ]
    },
    {
      "cell_type": "markdown",
      "metadata": {
        "id": "rWE4MW2DD4e9",
        "colab_type": "text"
      },
      "source": [
        "With list comprehension, we can code this as:"
      ]
    },
    {
      "cell_type": "code",
      "metadata": {
        "id": "CCGPn2RvD10L",
        "colab_type": "code",
        "outputId": "c4c20deb-9f1f-456e-b134-31a210765a6f",
        "colab": {
          "base_uri": "https://localhost:8080/",
          "height": 34
        }
      },
      "source": [
        "[elem for elem in range(0,20) if elem % 2 == 0 and elem != 0]"
      ],
      "execution_count": 0,
      "outputs": [
        {
          "output_type": "execute_result",
          "data": {
            "text/plain": [
              "[2, 4, 6, 8, 10, 12, 14, 16, 18]"
            ]
          },
          "metadata": {
            "tags": []
          },
          "execution_count": 67
        }
      ]
    },
    {
      "cell_type": "markdown",
      "metadata": {
        "id": "U4O6EPQmD9Kr",
        "colab_type": "text"
      },
      "source": [
        "## The break and continue statements"
      ]
    },
    {
      "cell_type": "markdown",
      "metadata": {
        "id": "Uat5A5wBEEMV",
        "colab_type": "text"
      },
      "source": [
        "The break statement terminates the execution of the nearest enclosing loop (for, while loops) in which it appears."
      ]
    },
    {
      "cell_type": "code",
      "metadata": {
        "id": "1BJw0L2ID6_V",
        "colab_type": "code",
        "outputId": "c78d0004-ae2c-4ad1-fcec-db3ad2aed568",
        "colab": {
          "base_uri": "https://localhost:8080/",
          "height": 153
        }
      },
      "source": [
        "for val in range(0,10):\n",
        "    print(\"The variable val is:\", val)\n",
        "    if val > 5:\n",
        "        print(\"Break out of for loop\")\n",
        "        break"
      ],
      "execution_count": 0,
      "outputs": [
        {
          "output_type": "stream",
          "text": [
            "The variable val is: 0\n",
            "The variable val is: 1\n",
            "The variable val is: 2\n",
            "The variable val is: 3\n",
            "The variable val is: 4\n",
            "The variable val is: 5\n",
            "The variable val is: 6\n",
            "Break out of for loop\n"
          ],
          "name": "stdout"
        }
      ]
    },
    {
      "cell_type": "markdown",
      "metadata": {
        "id": "__feGy4OEH80",
        "colab_type": "text"
      },
      "source": [
        "The continue statement skips the next iteration of the loop to which it belongs; ignoring any code after it."
      ]
    },
    {
      "cell_type": "code",
      "metadata": {
        "id": "8yNZ6lSxEGr3",
        "colab_type": "code",
        "outputId": "cd149c4d-69b7-4155-ee31-422486a40671",
        "colab": {
          "base_uri": "https://localhost:8080/",
          "height": 119
        }
      },
      "source": [
        "a = 6\n",
        "while a > 0:\n",
        "    if a != 3:\n",
        "        print(\"The variable a is:\", a)\n",
        "    # decrement a\n",
        "    a = a - 1\n",
        "    if a == 3:\n",
        "        print(\"Skip the iteration when a is\", a)\n",
        "        continue"
      ],
      "execution_count": 0,
      "outputs": [
        {
          "output_type": "stream",
          "text": [
            "The variable a is: 6\n",
            "The variable a is: 5\n",
            "The variable a is: 4\n",
            "Skip the iteration when a is 3\n",
            "The variable a is: 2\n",
            "The variable a is: 1\n"
          ],
          "name": "stdout"
        }
      ]
    },
    {
      "cell_type": "markdown",
      "metadata": {
        "id": "IdPJUBl5ENhy",
        "colab_type": "text"
      },
      "source": [
        "## Functions"
      ]
    },
    {
      "cell_type": "markdown",
      "metadata": {
        "id": "5wbrX1yVEUI4",
        "colab_type": "text"
      },
      "source": [
        "Let’s create a simple function:"
      ]
    },
    {
      "cell_type": "code",
      "metadata": {
        "id": "y_BsshaQELqR",
        "colab_type": "code",
        "colab": {}
      },
      "source": [
        "def squares(number):\n",
        "    return number**2"
      ],
      "execution_count": 0,
      "outputs": []
    },
    {
      "cell_type": "code",
      "metadata": {
        "id": "Pj88Fm0iEW7a",
        "colab_type": "code",
        "outputId": "e2101a90-eefe-491f-dc9b-12dda9f888e7",
        "colab": {
          "base_uri": "https://localhost:8080/",
          "height": 34
        }
      },
      "source": [
        "squares(2)"
      ],
      "execution_count": 0,
      "outputs": [
        {
          "output_type": "execute_result",
          "data": {
            "text/plain": [
              "4"
            ]
          },
          "metadata": {
            "tags": []
          },
          "execution_count": 71
        }
      ]
    },
    {
      "cell_type": "markdown",
      "metadata": {
        "id": "-zBoH_tSEaPY",
        "colab_type": "text"
      },
      "source": [
        "Here’s another function example:\n",
        "\n",
        "The * before the parameter number indicates that the variable can receive any number of values - which is implicitly bound to a tuple."
      ]
    },
    {
      "cell_type": "code",
      "metadata": {
        "id": "gXXWWuO1EYCz",
        "colab_type": "code",
        "colab": {}
      },
      "source": [
        "def _mean_(*number):\n",
        "    avg = sum(number)/len(number)\n",
        "    return avg"
      ],
      "execution_count": 0,
      "outputs": []
    },
    {
      "cell_type": "code",
      "metadata": {
        "id": "spcSopNIEc5U",
        "colab_type": "code",
        "outputId": "8c945a1b-af53-4282-c508-a38cebf39ec6",
        "colab": {
          "base_uri": "https://localhost:8080/",
          "height": 34
        }
      },
      "source": [
        "_mean_(1,2,3,4,5,6,7,8,9)"
      ],
      "execution_count": 0,
      "outputs": [
        {
          "output_type": "execute_result",
          "data": {
            "text/plain": [
              "5.0"
            ]
          },
          "metadata": {
            "tags": []
          },
          "execution_count": 73
        }
      ]
    },
    {
      "cell_type": "markdown",
      "metadata": {
        "id": "ii24CBOqEjDE",
        "colab_type": "text"
      },
      "source": [
        "## Lambda expressions"
      ]
    },
    {
      "cell_type": "markdown",
      "metadata": {
        "id": "fOhjBrZNEn1i",
        "colab_type": "text"
      },
      "source": [
        "Lambda expressions provide a concise and succinct way to write simple functions that contain just a single-line."
      ]
    },
    {
      "cell_type": "code",
      "metadata": {
        "id": "K3vtuIx3Eeqc",
        "colab_type": "code",
        "colab": {}
      },
      "source": [
        "square = lambda x: x**2"
      ],
      "execution_count": 0,
      "outputs": []
    },
    {
      "cell_type": "code",
      "metadata": {
        "id": "c_kpiz5wEqgX",
        "colab_type": "code",
        "outputId": "22a991a6-af60-468e-a54f-dc7b8398701e",
        "colab": {
          "base_uri": "https://localhost:8080/",
          "height": 34
        }
      },
      "source": [
        "square(2)"
      ],
      "execution_count": 0,
      "outputs": [
        {
          "output_type": "execute_result",
          "data": {
            "text/plain": [
              "4"
            ]
          },
          "metadata": {
            "tags": []
          },
          "execution_count": 75
        }
      ]
    },
    {
      "cell_type": "markdown",
      "metadata": {
        "id": "7bXDK7x0Erc8",
        "colab_type": "text"
      },
      "source": [
        "## Packages and Modules"
      ]
    },
    {
      "cell_type": "markdown",
      "metadata": {
        "id": "QAZzIhezE3Yv",
        "colab_type": "text"
      },
      "source": [
        "The import statement allows you to load any Python module into your source file. It has the following syntax:"
      ]
    },
    {
      "cell_type": "code",
      "metadata": {
        "id": "i-KXJq4JErA3",
        "colab_type": "code",
        "outputId": "6a5dec85-1060-4d61-a8fb-f95073e9bcef",
        "colab": {
          "base_uri": "https://localhost:8080/",
          "height": 34
        }
      },
      "source": [
        "import numpy as np\n",
        "\n",
        "# the absolute value of -10\n",
        "np.abs(-10)   "
      ],
      "execution_count": 0,
      "outputs": [
        {
          "output_type": "execute_result",
          "data": {
            "text/plain": [
              "10"
            ]
          },
          "metadata": {
            "tags": []
          },
          "execution_count": 76
        }
      ]
    },
    {
      "cell_type": "markdown",
      "metadata": {
        "id": "31d7zLJYE_OO",
        "colab_type": "text"
      },
      "source": [
        "The from statement allows you to import a specific feature from a module into your source file. The syntax is as follows:"
      ]
    },
    {
      "cell_type": "code",
      "metadata": {
        "id": "x3EgCue-FBgr",
        "colab_type": "code",
        "outputId": "343f53ce-629b-4cd2-8013-29b97549c75a",
        "colab": {
          "base_uri": "https://localhost:8080/",
          "height": 34
        }
      },
      "source": [
        "from numpy import mean\n",
        "\n",
        "mean([2,4,6,8])"
      ],
      "execution_count": 0,
      "outputs": [
        {
          "output_type": "execute_result",
          "data": {
            "text/plain": [
              "5.0"
            ]
          },
          "metadata": {
            "tags": []
          },
          "execution_count": 77
        }
      ]
    }
  ]
}