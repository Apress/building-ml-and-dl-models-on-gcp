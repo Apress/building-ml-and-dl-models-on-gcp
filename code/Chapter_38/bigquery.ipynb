{
  "nbformat": 4,
  "nbformat_minor": 0,
  "metadata": {
    "colab": {
      "name": "bigquery.ipynb",
      "version": "0.3.2",
      "provenance": [],
      "collapsed_sections": [
        "RMQzR5yU5epP",
        "HGCx68575ad9",
        "C9E3Ka_t812Y"
      ]
    },
    "kernelspec": {
      "name": "python3",
      "display_name": "Python 3"
    }
  },
  "cells": [
    {
      "cell_type": "markdown",
      "metadata": {
        "id": "imZqq02gpYWr",
        "colab_type": "text"
      },
      "source": [
        "# Chapter 38 - Google BigQuery\n",
        "## Building Machine Learning and Deep Learning Models on Google Cloud Platform\n",
        "### Ekaba Bisong"
      ]
    },
    {
      "cell_type": "markdown",
      "metadata": {
        "id": "RMQzR5yU5epP",
        "colab_type": "text"
      },
      "source": [
        "## Creating BQ Dataset and Loading Dataset"
      ]
    },
    {
      "cell_type": "code",
      "metadata": {
        "id": "0YCu1Pl8lY6s",
        "colab_type": "code",
        "outputId": "099cb151-d0f6-4f2a-9075-1b1a785d724b",
        "colab": {
          "base_uri": "https://localhost:8080/",
          "height": 34
        }
      },
      "source": [
        "from google.colab import auth\n",
        "auth.authenticate_user()\n",
        "print('Authenticated')"
      ],
      "execution_count": 18,
      "outputs": [
        {
          "output_type": "stream",
          "text": [
            "Authenticated\n"
          ],
          "name": "stdout"
        }
      ]
    },
    {
      "cell_type": "code",
      "metadata": {
        "id": "9Xt4w5IduGxX",
        "colab_type": "code",
        "colab": {
          "base_uri": "https://localhost:8080/",
          "height": 34
        },
        "outputId": "d60bc9f0-7cd8-42e9-b544-87141ce9fc62"
      },
      "source": [
        "# configure GCP project\n",
        "project_id = 'ekabasandbox'\n",
        "!gcloud config set project {project_id}"
      ],
      "execution_count": 19,
      "outputs": [
        {
          "output_type": "stream",
          "text": [
            "Updated property [core/project].\n"
          ],
          "name": "stdout"
        }
      ]
    },
    {
      "cell_type": "code",
      "metadata": {
        "id": "qRM4qd-gsd9M",
        "colab_type": "code",
        "colab": {}
      },
      "source": [
        "# unique bucket name\n",
        "bucket_name ='ebisong-bq'\n",
        "bigquery_dataset = 'ebisong_crypto'"
      ],
      "execution_count": 0,
      "outputs": []
    },
    {
      "cell_type": "code",
      "metadata": {
        "id": "j6Yv8FrtseAA",
        "colab_type": "code",
        "colab": {
          "base_uri": "https://localhost:8080/",
          "height": 34
        },
        "outputId": "fafd78a1-2cc9-4c4a-a8fc-0528fda2b1aa"
      },
      "source": [
        "# create bucket\n",
        "!gsutil mb gs://{bucket_name}"
      ],
      "execution_count": 7,
      "outputs": [
        {
          "output_type": "stream",
          "text": [
            "Creating gs://ebisong-bq/...\n"
          ],
          "name": "stdout"
        }
      ]
    },
    {
      "cell_type": "code",
      "metadata": {
        "id": "jbyYm3opseDM",
        "colab_type": "code",
        "colab": {
          "base_uri": "https://localhost:8080/",
          "height": 88
        },
        "outputId": "c5e9934d-cb76-492a-e94a-8bd837e68de0"
      },
      "source": [
        "# upload dataset to bucket\n",
        "!gsutil cp crypto-markets.csv gs://{bucket_name}"
      ],
      "execution_count": 8,
      "outputs": [
        {
          "output_type": "stream",
          "text": [
            "Copying file://crypto-markets.csv [Content-Type=text/csv]...\n",
            "-\n",
            "Operation completed over 1 objects/47.0 MiB.                                     \n"
          ],
          "name": "stdout"
        }
      ]
    },
    {
      "cell_type": "code",
      "metadata": {
        "id": "kZC1xnT5wQNx",
        "colab_type": "code",
        "colab": {
          "base_uri": "https://localhost:8080/",
          "height": 34
        },
        "outputId": "ee449d48-12c6-4f3d-e9cb-2403adb26e88"
      },
      "source": [
        "# show the transferred data in the bucket\n",
        "!gsutil ls gs://{bucket_name}"
      ],
      "execution_count": 10,
      "outputs": [
        {
          "output_type": "stream",
          "text": [
            "gs://ebisong-bq/crypto-markets.csv\n"
          ],
          "name": "stdout"
        }
      ]
    },
    {
      "cell_type": "code",
      "metadata": {
        "id": "s9Bm-x6ewQS-",
        "colab_type": "code",
        "colab": {
          "base_uri": "https://localhost:8080/",
          "height": 34
        },
        "outputId": "c26f67e7-79d4-47cb-f092-7294c0ebcc9e"
      },
      "source": [
        "# create a BigQuery dataset\n",
        "!bq mk {bigquery_dataset}"
      ],
      "execution_count": 16,
      "outputs": [
        {
          "output_type": "stream",
          "text": [
            "Dataset 'ekabasandbox:ebisong_crypto' successfully created.\n"
          ],
          "name": "stdout"
        }
      ]
    },
    {
      "cell_type": "code",
      "metadata": {
        "id": "4NXBmnHOwQVe",
        "colab_type": "code",
        "colab": {
          "base_uri": "https://localhost:8080/",
          "height": 68
        },
        "outputId": "203674e1-136f-4184-a765-8e98d41ef5d1"
      },
      "source": [
        "# list BigQuery datasets\n",
        "!bq ls"
      ],
      "execution_count": 13,
      "outputs": [
        {
          "output_type": "stream",
          "text": [
            "     datasetId      \n",
            " ------------------ \n",
            "  bigquery_dataset  \n"
          ],
          "name": "stdout"
        }
      ]
    },
    {
      "cell_type": "code",
      "metadata": {
        "id": "zqu6yjsmxCbG",
        "colab_type": "code",
        "colab": {
          "base_uri": "https://localhost:8080/",
          "height": 54
        },
        "outputId": "43360996-f9b7-4db1-daeb-93f8d599a00a"
      },
      "source": [
        "# load dataset from Cloud Storage to BigQuery\n",
        "!bq load {bigquery_dataset}.markets_terminal gs://{bucket_name}/crypto-markets.csv slug,symbol,name,date,ranknow,open,high,low,close,volume,market,close_ratio,spread"
      ],
      "execution_count": 17,
      "outputs": [
        {
          "output_type": "stream",
          "text": [
            "Waiting on bqjob_r6bdd11ffcabe1bf_0000016befc5ba49_1 ... (15s) Current status: DONE   \n"
          ],
          "name": "stdout"
        }
      ]
    },
    {
      "cell_type": "code",
      "metadata": {
        "id": "4JeKPcxKxCeI",
        "colab_type": "code",
        "colab": {
          "base_uri": "https://localhost:8080/",
          "height": 88
        },
        "outputId": "44e96c1e-04c2-42af-bdea-09f3ba901e80"
      },
      "source": [
        "# examine the newly created table\n",
        "!bq ls {bigquery_dataset}"
      ],
      "execution_count": 22,
      "outputs": [
        {
          "output_type": "stream",
          "text": [
            "      tableId        Type    Labels   Time Partitioning   Clustered Fields  \n",
            " ------------------ ------- -------- ------------------- ------------------ \n",
            "  markets_terminal   TABLE                                                  \n"
          ],
          "name": "stdout"
        }
      ]
    },
    {
      "cell_type": "code",
      "metadata": {
        "id": "vTqvmepTxCj2",
        "colab_type": "code",
        "colab": {
          "base_uri": "https://localhost:8080/",
          "height": 343
        },
        "outputId": "ac72ff0a-eb88-4fd1-c669-45c47979338b"
      },
      "source": [
        "# examine the table schema\n",
        "!bq show {bigquery_dataset}.markets_terminal"
      ],
      "execution_count": 23,
      "outputs": [
        {
          "output_type": "stream",
          "text": [
            "Table ekabasandbox:ebisong_crypto.markets_terminal\n",
            "\n",
            "   Last modified            Schema           Total Rows   Total Bytes   Expiration   Time Partitioning   Clustered Fields   Labels  \n",
            " ----------------- ------------------------ ------------ ------------- ------------ ------------------- ------------------ -------- \n",
            "  14 Jul 09:17:34   |- slug: string          498381       52777964                                                                  \n",
            "                    |- symbol: string                                                                                               \n",
            "                    |- name: string                                                                                                 \n",
            "                    |- date: string                                                                                                 \n",
            "                    |- ranknow: string                                                                                              \n",
            "                    |- open: string                                                                                                 \n",
            "                    |- high: string                                                                                                 \n",
            "                    |- low: string                                                                                                  \n",
            "                    |- close: string                                                                                                \n",
            "                    |- volume: string                                                                                               \n",
            "                    |- market: string                                                                                               \n",
            "                    |- close_ratio: string                                                                                          \n",
            "                    |- spread: string                                                                                               \n",
            "\n"
          ],
          "name": "stdout"
        }
      ]
    },
    {
      "cell_type": "markdown",
      "metadata": {
        "id": "HGCx68575ad9",
        "colab_type": "text"
      },
      "source": [
        "## BigQuery SQL"
      ]
    },
    {
      "cell_type": "code",
      "metadata": {
        "id": "rFC0E5UbxCmP",
        "colab_type": "code",
        "colab": {
          "base_uri": "https://localhost:8080/",
          "height": 292
        },
        "outputId": "d1a33f15-8db5-4500-f87e-f9bcc45f286f"
      },
      "source": [
        "# Filtering\n",
        "%%shell\n",
        "bq query --use_legacy_sql=false 'SELECT\n",
        "  country_name AS country,\n",
        "  total_fertility_rate AS fertility_rate\n",
        "FROM\n",
        "  `bigquery-public-data.census_bureau_international.age_specific_fertility_rates`\n",
        "WHERE\n",
        "  year = 2018\n",
        "ORDER BY\n",
        "  fertility_rate DESC\n",
        "LIMIT\n",
        "  10'"
      ],
      "execution_count": 25,
      "outputs": [
        {
          "output_type": "stream",
          "text": [
            "Waiting on bqjob_r507db339dbcf23c1_0000016befedf7db_1 ... (0s) Current status: DONE   \n",
            "+-------------+----------------+\n",
            "|   country   | fertility_rate |\n",
            "+-------------+----------------+\n",
            "| Niger       |         6.3504 |\n",
            "| Angola      |         6.0945 |\n",
            "| Burundi     |          5.934 |\n",
            "| Mali        |            5.9 |\n",
            "| Chad        |            5.9 |\n",
            "| Somalia     |          5.702 |\n",
            "| Uganda      |           5.62 |\n",
            "| Zambia      |          5.582 |\n",
            "| Malawi      |         5.4286 |\n",
            "| South Sudan |           5.34 |\n",
            "+-------------+----------------+\n"
          ],
          "name": "stdout"
        },
        {
          "output_type": "execute_result",
          "data": {
            "text/plain": [
              ""
            ]
          },
          "metadata": {
            "tags": []
          },
          "execution_count": 25
        }
      ]
    },
    {
      "cell_type": "code",
      "metadata": {
        "id": "IgSnj8cE5ROb",
        "colab_type": "code",
        "colab": {
          "base_uri": "https://localhost:8080/",
          "height": 462
        },
        "outputId": "63e0afc6-573b-49b6-83c7-d91cc00cab5f"
      },
      "source": [
        "# Aggregation\n",
        "%%shell\n",
        "bq query --use_legacy_sql=false 'SELECT\n",
        "  country_name AS country,\n",
        "  AVG(midyear_population) AS average_population\n",
        "FROM\n",
        "  `bigquery-public-data.census_bureau_international.midyear_population`\n",
        "WHERE\n",
        "  year >= 2000 AND year <= 2018\n",
        "GROUP BY\n",
        "  country\n",
        "ORDER BY\n",
        "  average_population DESC\n",
        "LIMIT\n",
        "  20'"
      ],
      "execution_count": 26,
      "outputs": [
        {
          "output_type": "stream",
          "text": [
            "Waiting on bqjob_r32ef7ed2c34421fa_0000016beff1fa31_1 ... (0s) Current status: DONE   \n",
            "+------------------+----------------------+\n",
            "|     country      |  average_population  |\n",
            "+------------------+----------------------+\n",
            "| China            | 1.3285399873157895E9 |\n",
            "| India            | 1.1549123771052635E9 |\n",
            "| United States    |  3.059430222631579E8 |\n",
            "| Indonesia        | 2.3984691394736844E8 |\n",
            "| Brazil           | 1.9309789294736844E8 |\n",
            "| Pakistan         |  1.811208352631579E8 |\n",
            "| Nigeria          | 1.6255564478947368E8 |\n",
            "| Bangladesh       | 1.4477494757894737E8 |\n",
            "| Russia           | 1.4330035963157898E8 |\n",
            "| Japan            | 1.2727527184210527E8 |\n",
            "| Mexico           | 1.1269223210526317E8 |\n",
            "| Philippines      |  9.135729499999999E7 |\n",
            "| Vietnam          |  8.837861847368422E7 |\n",
            "| Ethiopia         |  8.460339989473684E7 |\n",
            "| Germany          |  8.168817173684213E7 |\n",
            "| Egypt            |  8.064017100000001E7 |\n",
            "| Iran             |  7.427240431578946E7 |\n",
            "| Turkey           |  7.389499394736841E7 |\n",
            "| Congo (Kinshasa) |  6.829585652631578E7 |\n",
            "| Thailand         |  6.619103463157895E7 |\n",
            "+------------------+----------------------+\n"
          ],
          "name": "stdout"
        },
        {
          "output_type": "execute_result",
          "data": {
            "text/plain": [
              ""
            ]
          },
          "metadata": {
            "tags": []
          },
          "execution_count": 26
        }
      ]
    },
    {
      "cell_type": "code",
      "metadata": {
        "id": "TAxTwD1N5RRG",
        "colab_type": "code",
        "colab": {
          "base_uri": "https://localhost:8080/",
          "height": 462
        },
        "outputId": "edb7b583-aad1-4ed1-84f2-7b96c785ba6e"
      },
      "source": [
        "# Joins\n",
        "%%shell\n",
        "bq query --use_legacy_sql=false 'SELECT\n",
        "  midyearpop.country_name AS country,\n",
        "  midyearpop.year AS year,\n",
        "  AVG(midyearpop.midyear_population) AS population,\n",
        "  AVG(mortality.life_expectancy) AS life_expectancy\n",
        "FROM\n",
        "  `bigquery-public-data.census_bureau_international.midyear_population` AS midyearpop\n",
        "JOIN\n",
        "  `bigquery-public-data.census_bureau_international.mortality_life_expectancy` AS mortality\n",
        "ON\n",
        "  midyearpop.country_name = mortality.country_name\n",
        "WHERE\n",
        "  midyearpop.year = 2018\n",
        "GROUP BY\n",
        "  country, year\n",
        "ORDER BY\n",
        "  population DESC\n",
        "LIMIT\n",
        "  20'"
      ],
      "execution_count": 27,
      "outputs": [
        {
          "output_type": "stream",
          "text": [
            "Waiting on bqjob_r4cea93b98ed9e5c9_0000016beff27bde_1 ... (0s) Current status: DONE   \n",
            "+------------------+------+---------------+--------------------+\n",
            "|     country      | year |  population   |  life_expectancy   |\n",
            "+------------------+------+---------------+--------------------+\n",
            "| China            | 2018 | 1.384688986E9 |  75.58754098360657 |\n",
            "| India            | 2018 | 1.296834042E9 |  69.15033333333332 |\n",
            "| United States    | 2018 |  3.29256465E8 |  82.25324324324325 |\n",
            "| Indonesia        | 2018 |  2.62787403E8 |  70.89647887323946 |\n",
            "| Brazil           | 2018 |  2.08846892E8 |  71.26444444444448 |\n",
            "| Pakistan         | 2018 |  2.07862518E8 |  66.57942857142856 |\n",
            "| Nigeria          | 2018 |  2.03452505E8 | 53.483061224489774 |\n",
            "| Bangladesh       | 2018 |  1.59453001E8 |  69.93685714285714 |\n",
            "| Russia           | 2018 |  1.42122776E8 |  71.61112903225806 |\n",
            "| Japan            | 2018 |  1.26168156E8 |  85.65622950819673 |\n",
            "| Mexico           | 2018 |  1.25959205E8 |  75.21999999999997 |\n",
            "| Ethiopia         | 2018 |  1.08386391E8 | 59.355633802816904 |\n",
            "| Philippines      | 2018 |  1.05893381E8 |  69.13042253521127 |\n",
            "| Egypt            | 2018 |   9.9413317E7 |  73.89636363636362 |\n",
            "| Vietnam          | 2018 |   9.7040334E7 |  74.00145161290321 |\n",
            "| Congo (Kinshasa) | 2018 |   8.5281024E7 |  56.48337662337663 |\n",
            "| Iran             | 2018 |   8.3024745E7 |  72.58800000000001 |\n",
            "| Turkey           | 2018 |   8.1257239E7 |   73.3357746478873 |\n",
            "| Germany          | 2018 |   8.0457737E7 |  80.61899999999999 |\n",
            "| Thailand         | 2018 |   6.8615858E7 |  75.35032786885245 |\n",
            "+------------------+------+---------------+--------------------+\n"
          ],
          "name": "stdout"
        },
        {
          "output_type": "execute_result",
          "data": {
            "text/plain": [
              ""
            ]
          },
          "metadata": {
            "tags": []
          },
          "execution_count": 27
        }
      ]
    },
    {
      "cell_type": "code",
      "metadata": {
        "id": "6ntHzpdC8mjW",
        "colab_type": "code",
        "colab": {
          "base_uri": "https://localhost:8080/",
          "height": 156
        },
        "outputId": "08574e4f-6cc5-4cc8-9d65-fb19bc372e64"
      },
      "source": [
        "# Subselect\n",
        "%%shell\n",
        "bq query --use_legacy_sql=false 'SELECT\n",
        "  midyearpop.country_name AS country,\n",
        "  midyearpop.year AS year,\n",
        "  AVG(midyearpop.midyear_population) AS population,\n",
        "  AVG(mortality.life_expectancy) AS life_expectancy\n",
        "FROM (\n",
        "  SELECT\n",
        "    country_name,\n",
        "    year,\n",
        "    midyear_population\n",
        "  FROM\n",
        "    `bigquery-public-data.census_bureau_international.midyear_population`\n",
        "  WHERE\n",
        "    year = 2018\n",
        "    AND (country_name LIKE \"Nigeria\"\n",
        "    OR country_name LIKE \"Egypt\")) AS midyearpop\n",
        "JOIN\n",
        "  `bigquery-public-data.census_bureau_international.mortality_life_expectancy` AS mortality\n",
        "ON\n",
        "  midyearpop.country_name = mortality.country_name\n",
        "GROUP BY\n",
        "  country,\n",
        "  year\n",
        "ORDER BY\n",
        "  population DESC\n",
        "LIMIT\n",
        "  20'"
      ],
      "execution_count": 28,
      "outputs": [
        {
          "output_type": "stream",
          "text": [
            "Waiting on bqjob_rcdc9490ed03bb15_0000016beff2d2a3_1 ... (0s) Current status: DONE   \n",
            "+---------+------+--------------+--------------------+\n",
            "| country | year |  population  |  life_expectancy   |\n",
            "+---------+------+--------------+--------------------+\n",
            "| Nigeria | 2018 | 2.03452505E8 | 53.483061224489774 |\n",
            "| Egypt   | 2018 |  9.9413317E7 |  73.89636363636362 |\n",
            "+---------+------+--------------+--------------------+\n"
          ],
          "name": "stdout"
        },
        {
          "output_type": "execute_result",
          "data": {
            "text/plain": [
              ""
            ]
          },
          "metadata": {
            "tags": []
          },
          "execution_count": 28
        }
      ]
    },
    {
      "cell_type": "markdown",
      "metadata": {
        "id": "C9E3Ka_t812Y",
        "colab_type": "text"
      },
      "source": [
        "## BQ with Pandas on Colab"
      ]
    },
    {
      "cell_type": "code",
      "metadata": {
        "id": "8_VeXuEGyh5a",
        "colab_type": "code",
        "colab": {}
      },
      "source": [
        "import pandas as pd\n",
        "import matplotlib.pyplot as plt"
      ],
      "execution_count": 0,
      "outputs": []
    },
    {
      "cell_type": "code",
      "metadata": {
        "id": "n2nGqEUnlt46",
        "colab_type": "code",
        "colab": {}
      },
      "source": [
        "%%bigquery --project ekabasandbox litcoin_crypto\n",
        "SELECT\n",
        "  symbol,\n",
        "  date,\n",
        "  close,\n",
        "  open,\n",
        "  high,\n",
        "  low,        \n",
        "  spread\n",
        "FROM\n",
        "  `ebisong_crypto.markets_terminal`\n",
        "WHERE\n",
        "  symbol = 'LTC'\n",
        "LIMIT 10"
      ],
      "execution_count": 0,
      "outputs": []
    },
    {
      "cell_type": "code",
      "metadata": {
        "id": "2ssKL-dC-m5H",
        "colab_type": "code",
        "colab": {
          "base_uri": "https://localhost:8080/",
          "height": 359
        },
        "outputId": "96cc5383-9f74-420b-f9f8-654f863f0279"
      },
      "source": [
        "litcoin_crypto"
      ],
      "execution_count": 34,
      "outputs": [
        {
          "output_type": "execute_result",
          "data": {
            "text/html": [
              "<div>\n",
              "<style scoped>\n",
              "    .dataframe tbody tr th:only-of-type {\n",
              "        vertical-align: middle;\n",
              "    }\n",
              "\n",
              "    .dataframe tbody tr th {\n",
              "        vertical-align: top;\n",
              "    }\n",
              "\n",
              "    .dataframe thead th {\n",
              "        text-align: right;\n",
              "    }\n",
              "</style>\n",
              "<table border=\"1\" class=\"dataframe\">\n",
              "  <thead>\n",
              "    <tr style=\"text-align: right;\">\n",
              "      <th></th>\n",
              "      <th>symbol</th>\n",
              "      <th>date</th>\n",
              "      <th>close</th>\n",
              "      <th>open</th>\n",
              "      <th>high</th>\n",
              "      <th>low</th>\n",
              "      <th>spread</th>\n",
              "    </tr>\n",
              "  </thead>\n",
              "  <tbody>\n",
              "    <tr>\n",
              "      <th>0</th>\n",
              "      <td>LTC</td>\n",
              "      <td>2013-04-28</td>\n",
              "      <td>4.35</td>\n",
              "      <td>4.3</td>\n",
              "      <td>4.4</td>\n",
              "      <td>4.18</td>\n",
              "      <td>0.22</td>\n",
              "    </tr>\n",
              "    <tr>\n",
              "      <th>1</th>\n",
              "      <td>LTC</td>\n",
              "      <td>2013-04-29</td>\n",
              "      <td>4.38</td>\n",
              "      <td>4.37</td>\n",
              "      <td>4.57</td>\n",
              "      <td>4.23</td>\n",
              "      <td>0.34</td>\n",
              "    </tr>\n",
              "    <tr>\n",
              "      <th>2</th>\n",
              "      <td>LTC</td>\n",
              "      <td>2013-04-30</td>\n",
              "      <td>4.3</td>\n",
              "      <td>4.4</td>\n",
              "      <td>4.57</td>\n",
              "      <td>4.17</td>\n",
              "      <td>0.4</td>\n",
              "    </tr>\n",
              "    <tr>\n",
              "      <th>3</th>\n",
              "      <td>LTC</td>\n",
              "      <td>2013-05-01</td>\n",
              "      <td>3.8</td>\n",
              "      <td>4.29</td>\n",
              "      <td>4.36</td>\n",
              "      <td>3.52</td>\n",
              "      <td>0.84</td>\n",
              "    </tr>\n",
              "    <tr>\n",
              "      <th>4</th>\n",
              "      <td>LTC</td>\n",
              "      <td>2013-05-02</td>\n",
              "      <td>3.37</td>\n",
              "      <td>3.78</td>\n",
              "      <td>4.04</td>\n",
              "      <td>3.01</td>\n",
              "      <td>1.03</td>\n",
              "    </tr>\n",
              "    <tr>\n",
              "      <th>5</th>\n",
              "      <td>LTC</td>\n",
              "      <td>2013-05-03</td>\n",
              "      <td>3.04</td>\n",
              "      <td>3.39</td>\n",
              "      <td>3.45</td>\n",
              "      <td>2.4</td>\n",
              "      <td>1.05</td>\n",
              "    </tr>\n",
              "    <tr>\n",
              "      <th>6</th>\n",
              "      <td>LTC</td>\n",
              "      <td>2013-05-04</td>\n",
              "      <td>3.48</td>\n",
              "      <td>3.03</td>\n",
              "      <td>3.64</td>\n",
              "      <td>2.9</td>\n",
              "      <td>0.74</td>\n",
              "    </tr>\n",
              "    <tr>\n",
              "      <th>7</th>\n",
              "      <td>LTC</td>\n",
              "      <td>2013-05-05</td>\n",
              "      <td>3.59</td>\n",
              "      <td>3.49</td>\n",
              "      <td>3.69</td>\n",
              "      <td>3.35</td>\n",
              "      <td>0.34</td>\n",
              "    </tr>\n",
              "    <tr>\n",
              "      <th>8</th>\n",
              "      <td>LTC</td>\n",
              "      <td>2013-05-06</td>\n",
              "      <td>3.37</td>\n",
              "      <td>3.59</td>\n",
              "      <td>3.78</td>\n",
              "      <td>3.12</td>\n",
              "      <td>0.66</td>\n",
              "    </tr>\n",
              "    <tr>\n",
              "      <th>9</th>\n",
              "      <td>LTC</td>\n",
              "      <td>2013-05-07</td>\n",
              "      <td>3.33</td>\n",
              "      <td>3.37</td>\n",
              "      <td>3.41</td>\n",
              "      <td>2.94</td>\n",
              "      <td>0.47</td>\n",
              "    </tr>\n",
              "  </tbody>\n",
              "</table>\n",
              "</div>"
            ],
            "text/plain": [
              "  symbol        date close  open  high   low spread\n",
              "0    LTC  2013-04-28  4.35   4.3   4.4  4.18   0.22\n",
              "1    LTC  2013-04-29  4.38  4.37  4.57  4.23   0.34\n",
              "2    LTC  2013-04-30   4.3   4.4  4.57  4.17    0.4\n",
              "3    LTC  2013-05-01   3.8  4.29  4.36  3.52   0.84\n",
              "4    LTC  2013-05-02  3.37  3.78  4.04  3.01   1.03\n",
              "5    LTC  2013-05-03  3.04  3.39  3.45   2.4   1.05\n",
              "6    LTC  2013-05-04  3.48  3.03  3.64   2.9   0.74\n",
              "7    LTC  2013-05-05  3.59  3.49  3.69  3.35   0.34\n",
              "8    LTC  2013-05-06  3.37  3.59  3.78  3.12   0.66\n",
              "9    LTC  2013-05-07  3.33  3.37  3.41  2.94   0.47"
            ]
          },
          "metadata": {
            "tags": []
          },
          "execution_count": 34
        }
      ]
    },
    {
      "cell_type": "code",
      "metadata": {
        "id": "Mqb8c3UB5jZ4",
        "colab_type": "code",
        "colab": {}
      },
      "source": [
        "# convert columns to numeric\n",
        "litcoin_crypto = litcoin_crypto.apply(pd.to_numeric, errors='ignore')"
      ],
      "execution_count": 0,
      "outputs": []
    },
    {
      "cell_type": "code",
      "metadata": {
        "id": "g63Iv99vVE2Z",
        "colab_type": "code",
        "outputId": "240ea838-a2ca-4f2e-c7cd-2e813bb70c85",
        "colab": {
          "base_uri": "https://localhost:8080/",
          "height": 153
        }
      },
      "source": [
        "# check the datatypes\n",
        "litcoin_crypto.dtypes"
      ],
      "execution_count": 36,
      "outputs": [
        {
          "output_type": "execute_result",
          "data": {
            "text/plain": [
              "symbol     object\n",
              "date       object\n",
              "close     float64\n",
              "open      float64\n",
              "high      float64\n",
              "low       float64\n",
              "spread    float64\n",
              "dtype: object"
            ]
          },
          "metadata": {
            "tags": []
          },
          "execution_count": 36
        }
      ]
    },
    {
      "cell_type": "code",
      "metadata": {
        "id": "dfpzzIEcVHnZ",
        "colab_type": "code",
        "outputId": "c480fa13-3483-471f-fedd-b4adadb5c5ec",
        "colab": {
          "base_uri": "https://localhost:8080/",
          "height": 331
        }
      },
      "source": [
        "# plot the bar chart\n",
        "litcoin_crypto.plot(kind='bar', x='date', y='close')\n",
        "plt.show()"
      ],
      "execution_count": 43,
      "outputs": [
        {
          "output_type": "display_data",
          "data": {
            "image/png": "[encoded data removed]",
            "text/plain": [
              "<Figure size 432x288 with 1 Axes>"
            ]
          },
          "metadata": {
            "tags": []
          }
        }
      ]
    },
    {
      "cell_type": "markdown",
      "metadata": {
        "id": "VyoxMz1J_Q9I",
        "colab_type": "text"
      },
      "source": [
        "## BigQuery ML"
      ]
    },
    {
      "cell_type": "code",
      "metadata": {
        "id": "Sl9cmr1_XhW-",
        "colab_type": "code",
        "colab": {}
      },
      "source": [
        "%%bigquery --project ekabasandbox btc_market\n",
        "WITH\n",
        "  params AS (\n",
        "  SELECT\n",
        "    1 AS TRAIN,\n",
        "    2 AS EVAL ),\n",
        "    \n",
        "  btc_market AS (\n",
        "  SELECT\n",
        "    symbol,\n",
        "    date,\n",
        "    open,\n",
        "    high,\n",
        "    low,\n",
        "    close,\n",
        "    spread,\n",
        "    cast(LEAD(close, 1) OVER (PARTITION BY symbol ORDER BY symbol DESC) AS NUMERIC) AS next_day_close\n",
        "  FROM\n",
        "    `ebisong_crypto.markets_terminal`,\n",
        "    params\n",
        "  WHERE\n",
        "    symbol = 'BTC'\n",
        "    AND MOD(ABS(FARM_FINGERPRINT(CAST(date AS STRING))),4) = params.TRAIN )\n",
        "    \n",
        "SELECT\n",
        "  *\n",
        "FROM\n",
        "  btc_market\n",
        "WHERE\n",
        "  next_day_close IS NOT NULL"
      ],
      "execution_count": 0,
      "outputs": []
    },
    {
      "cell_type": "code",
      "metadata": {
        "id": "sCQSk7F8_jp-",
        "colab_type": "code",
        "colab": {
          "base_uri": "https://localhost:8080/",
          "height": 529
        },
        "outputId": "987f0397-a784-4310-9564-98c5b262ad19"
      },
      "source": [
        "# display the first 10 rows of the query\n",
        "btc_market.head(10)"
      ],
      "execution_count": 46,
      "outputs": [
        {
          "output_type": "execute_result",
          "data": {
            "text/html": [
              "<div>\n",
              "<style scoped>\n",
              "    .dataframe tbody tr th:only-of-type {\n",
              "        vertical-align: middle;\n",
              "    }\n",
              "\n",
              "    .dataframe tbody tr th {\n",
              "        vertical-align: top;\n",
              "    }\n",
              "\n",
              "    .dataframe thead th {\n",
              "        text-align: right;\n",
              "    }\n",
              "</style>\n",
              "<table border=\"1\" class=\"dataframe\">\n",
              "  <thead>\n",
              "    <tr style=\"text-align: right;\">\n",
              "      <th></th>\n",
              "      <th>symbol</th>\n",
              "      <th>date</th>\n",
              "      <th>open</th>\n",
              "      <th>high</th>\n",
              "      <th>low</th>\n",
              "      <th>close</th>\n",
              "      <th>spread</th>\n",
              "      <th>next_day_close</th>\n",
              "    </tr>\n",
              "  </thead>\n",
              "  <tbody>\n",
              "    <tr>\n",
              "      <th>0</th>\n",
              "      <td>BTC</td>\n",
              "      <td>2013-05-05</td>\n",
              "      <td>112.9</td>\n",
              "      <td>118.8</td>\n",
              "      <td>107.14</td>\n",
              "      <td>115.91</td>\n",
              "      <td>11.66</td>\n",
              "      <td>115.24</td>\n",
              "    </tr>\n",
              "    <tr>\n",
              "      <th>1</th>\n",
              "      <td>BTC</td>\n",
              "      <td>2013-05-11</td>\n",
              "      <td>117.7</td>\n",
              "      <td>118.68</td>\n",
              "      <td>113.01</td>\n",
              "      <td>115.24</td>\n",
              "      <td>5.67</td>\n",
              "      <td>111.5</td>\n",
              "    </tr>\n",
              "    <tr>\n",
              "      <th>2</th>\n",
              "      <td>BTC</td>\n",
              "      <td>2013-05-14</td>\n",
              "      <td>117.98</td>\n",
              "      <td>119.8</td>\n",
              "      <td>110.25</td>\n",
              "      <td>111.5</td>\n",
              "      <td>9.55</td>\n",
              "      <td>114.22</td>\n",
              "    </tr>\n",
              "    <tr>\n",
              "      <th>3</th>\n",
              "      <td>BTC</td>\n",
              "      <td>2013-05-15</td>\n",
              "      <td>111.4</td>\n",
              "      <td>115.81</td>\n",
              "      <td>103.5</td>\n",
              "      <td>114.22</td>\n",
              "      <td>12.31</td>\n",
              "      <td>121.99</td>\n",
              "    </tr>\n",
              "    <tr>\n",
              "      <th>4</th>\n",
              "      <td>BTC</td>\n",
              "      <td>2013-05-19</td>\n",
              "      <td>123.21</td>\n",
              "      <td>124.5</td>\n",
              "      <td>119.57</td>\n",
              "      <td>121.99</td>\n",
              "      <td>4.93</td>\n",
              "      <td>123.89</td>\n",
              "    </tr>\n",
              "    <tr>\n",
              "      <th>5</th>\n",
              "      <td>BTC</td>\n",
              "      <td>2013-05-22</td>\n",
              "      <td>122.89</td>\n",
              "      <td>124</td>\n",
              "      <td>122</td>\n",
              "      <td>123.89</td>\n",
              "      <td>2</td>\n",
              "      <td>133.2</td>\n",
              "    </tr>\n",
              "    <tr>\n",
              "      <th>6</th>\n",
              "      <td>BTC</td>\n",
              "      <td>2013-05-24</td>\n",
              "      <td>126.3</td>\n",
              "      <td>133.85</td>\n",
              "      <td>125.72</td>\n",
              "      <td>133.2</td>\n",
              "      <td>8.13</td>\n",
              "      <td>128.8</td>\n",
              "    </tr>\n",
              "    <tr>\n",
              "      <th>7</th>\n",
              "      <td>BTC</td>\n",
              "      <td>2013-05-30</td>\n",
              "      <td>132.25</td>\n",
              "      <td>132.25</td>\n",
              "      <td>127</td>\n",
              "      <td>128.8</td>\n",
              "      <td>5.25</td>\n",
              "      <td>106.35</td>\n",
              "    </tr>\n",
              "    <tr>\n",
              "      <th>8</th>\n",
              "      <td>BTC</td>\n",
              "      <td>2013-06-10</td>\n",
              "      <td>100.44</td>\n",
              "      <td>110.1</td>\n",
              "      <td>95</td>\n",
              "      <td>106.35</td>\n",
              "      <td>15.1</td>\n",
              "      <td>110.15</td>\n",
              "    </tr>\n",
              "    <tr>\n",
              "      <th>9</th>\n",
              "      <td>BTC</td>\n",
              "      <td>2013-06-20</td>\n",
              "      <td>108.25</td>\n",
              "      <td>114.3</td>\n",
              "      <td>107.5</td>\n",
              "      <td>110.15</td>\n",
              "      <td>6.8</td>\n",
              "      <td>109.5</td>\n",
              "    </tr>\n",
              "  </tbody>\n",
              "</table>\n",
              "</div>"
            ],
            "text/plain": [
              "  symbol        date    open    high     low   close spread next_day_close\n",
              "0    BTC  2013-05-05   112.9   118.8  107.14  115.91  11.66         115.24\n",
              "1    BTC  2013-05-11   117.7  118.68  113.01  115.24   5.67          111.5\n",
              "2    BTC  2013-05-14  117.98   119.8  110.25   111.5   9.55         114.22\n",
              "3    BTC  2013-05-15   111.4  115.81   103.5  114.22  12.31         121.99\n",
              "4    BTC  2013-05-19  123.21   124.5  119.57  121.99   4.93         123.89\n",
              "5    BTC  2013-05-22  122.89     124     122  123.89      2          133.2\n",
              "6    BTC  2013-05-24   126.3  133.85  125.72   133.2   8.13          128.8\n",
              "7    BTC  2013-05-30  132.25  132.25     127   128.8   5.25         106.35\n",
              "8    BTC  2013-06-10  100.44   110.1      95  106.35   15.1         110.15\n",
              "9    BTC  2013-06-20  108.25   114.3   107.5  110.15    6.8          109.5"
            ]
          },
          "metadata": {
            "tags": []
          },
          "execution_count": 46
        }
      ]
    },
    {
      "cell_type": "markdown",
      "metadata": {
        "id": "p1taMwpo_vJA",
        "colab_type": "text"
      },
      "source": [
        "The trained model is stored in a BigQuery dataset. In this case, we’ll create a BigQuery dataset to store the model."
      ]
    },
    {
      "cell_type": "code",
      "metadata": {
        "id": "XLGByMDeVP50",
        "colab_type": "code",
        "colab": {}
      },
      "source": [
        "from google.cloud import bigquery"
      ],
      "execution_count": 0,
      "outputs": []
    },
    {
      "cell_type": "code",
      "metadata": {
        "id": "eOVHLRn1XIZX",
        "colab_type": "code",
        "colab": {}
      },
      "source": [
        "client = bigquery.Client(project='ekabasandbox')"
      ],
      "execution_count": 0,
      "outputs": []
    },
    {
      "cell_type": "code",
      "metadata": {
        "id": "4UnIZpwfXJ_4",
        "colab_type": "code",
        "colab": {}
      },
      "source": [
        "# create a BigQuery dataset to store your ML model\n",
        "dataset = client.create_dataset('btc_crypto')"
      ],
      "execution_count": 0,
      "outputs": []
    },
    {
      "cell_type": "code",
      "metadata": {
        "id": "n86fOYIOZAG6",
        "colab_type": "code",
        "outputId": "51dc31e4-8cf3-4192-cf48-48c7655b92a5",
        "colab": {
          "base_uri": "https://localhost:8080/",
          "height": 34
        }
      },
      "source": [
        "print('Dataset: `{}` created.'.format(dataset.dataset_id))"
      ],
      "execution_count": 50,
      "outputs": [
        {
          "output_type": "stream",
          "text": [
            "Dataset: `btc_crypto` created.\n"
          ],
          "name": "stdout"
        }
      ]
    },
    {
      "cell_type": "code",
      "metadata": {
        "id": "OcXAFCxpZbAU",
        "colab_type": "code",
        "colab": {}
      },
      "source": [
        "# train the model\n",
        "%%bigquery --project ekabasandbox model\n",
        "CREATE OR REPLACE MODEL `btc_crypto.market_closing_model`\n",
        "OPTIONS\n",
        "  (model_type='linear_reg',\n",
        "    labels=['next_day_close']) AS\n",
        "WITH\n",
        "  params AS (\n",
        "  SELECT\n",
        "    1 AS TRAIN,\n",
        "    2 AS EVAL ),\n",
        "  btc_market AS (\n",
        "  SELECT\n",
        "    CAST(open AS NUMERIC) AS open,\n",
        "    CAST(high AS NUMERIC) AS high,\n",
        "    CAST(low AS NUMERIC) AS low,\n",
        "    CAST(close AS NUMERIC) AS close,\n",
        "    CAST(spread AS NUMERIC) AS spread,\n",
        "    CAST(LEAD(close, 1) OVER (PARTITION BY symbol ORDER BY symbol DESC) AS NUMERIC) AS next_day_close\n",
        "  FROM\n",
        "    `ebisong_crypto.markets_terminal`,\n",
        "    params\n",
        "  WHERE\n",
        "    symbol = 'BTC'\n",
        "    AND MOD(ABS(FARM_FINGERPRINT(CAST(date AS STRING))),4) = params.TRAIN )\n",
        "SELECT\n",
        "  *\n",
        "FROM\n",
        "  btc_market\n",
        "WHERE\n",
        "  next_day_close IS NOT NULL"
      ],
      "execution_count": 0,
      "outputs": []
    },
    {
      "cell_type": "code",
      "metadata": {
        "id": "jbcXbOnPaH3b",
        "colab_type": "code",
        "colab": {
          "base_uri": "https://localhost:8080/",
          "height": 88
        },
        "outputId": "1342868b-87c7-4216-8a00-eaaadb1fbcd4"
      },
      "source": [
        "# check that the created model exists\n",
        "!bq ls btc_crypto"
      ],
      "execution_count": 53,
      "outputs": [
        {
          "output_type": "stream",
          "text": [
            "        tableId          Type    Labels   Time Partitioning   Clustered Fields  \n",
            " ---------------------- ------- -------- ------------------- ------------------ \n",
            "  market_closing_model   MODEL                                                  \n"
          ],
          "name": "stdout"
        }
      ]
    },
    {
      "cell_type": "code",
      "metadata": {
        "id": "MM6kIAmRAXoF",
        "colab_type": "code",
        "colab": {}
      },
      "source": [
        "# evaluate the model\n",
        "%%bigquery --project ekabasandbox rmse\n",
        "SELECT\n",
        "  SQRT(mean_squared_error) AS rmse\n",
        "FROM\n",
        "  ML.EVALUATE(MODEL `btc_crypto.market_closing_model`,\n",
        "    (\n",
        "    WITH\n",
        "      params AS (\n",
        "      SELECT\n",
        "        1 AS TRAIN,\n",
        "        2 AS EVAL ),\n",
        "      btc_market AS (\n",
        "      SELECT\n",
        "        CAST(open AS NUMERIC) AS open,\n",
        "        CAST(high AS NUMERIC) AS high,\n",
        "        CAST(low AS NUMERIC) AS low,\n",
        "        CAST(close AS NUMERIC) AS close,\n",
        "        CAST(spread AS NUMERIC) AS spread,\n",
        "        CAST(LEAD(close, 1) OVER (PARTITION BY symbol ORDER BY symbol DESC) AS NUMERIC) AS next_day_close\n",
        "      FROM\n",
        "        `ebisong_crypto.markets_terminal`,\n",
        "        params\n",
        "      WHERE\n",
        "        symbol = 'BTC'\n",
        "        AND MOD(ABS(FARM_FINGERPRINT(CAST(date AS STRING))),4) = params.EVAL )\n",
        "    SELECT\n",
        "      *\n",
        "    FROM\n",
        "      btc_market\n",
        "    WHERE\n",
        "      next_day_close IS NOT NULL ))"
      ],
      "execution_count": 0,
      "outputs": []
    },
    {
      "cell_type": "code",
      "metadata": {
        "id": "SDaIWA2hAov5",
        "colab_type": "code",
        "colab": {
          "base_uri": "https://localhost:8080/",
          "height": 80
        },
        "outputId": "f883e36b-014d-409f-f7b8-611a20df8a76"
      },
      "source": [
        "rmse"
      ],
      "execution_count": 56,
      "outputs": [
        {
          "output_type": "execute_result",
          "data": {
            "text/html": [
              "<div>\n",
              "<style scoped>\n",
              "    .dataframe tbody tr th:only-of-type {\n",
              "        vertical-align: middle;\n",
              "    }\n",
              "\n",
              "    .dataframe tbody tr th {\n",
              "        vertical-align: top;\n",
              "    }\n",
              "\n",
              "    .dataframe thead th {\n",
              "        text-align: right;\n",
              "    }\n",
              "</style>\n",
              "<table border=\"1\" class=\"dataframe\">\n",
              "  <thead>\n",
              "    <tr style=\"text-align: right;\">\n",
              "      <th></th>\n",
              "      <th>rmse</th>\n",
              "    </tr>\n",
              "  </thead>\n",
              "  <tbody>\n",
              "    <tr>\n",
              "      <th>0</th>\n",
              "      <td>419.169302</td>\n",
              "    </tr>\n",
              "  </tbody>\n",
              "</table>\n",
              "</div>"
            ],
            "text/plain": [
              "         rmse\n",
              "0  419.169302"
            ]
          },
          "metadata": {
            "tags": []
          },
          "execution_count": 56
        }
      ]
    },
    {
      "cell_type": "code",
      "metadata": {
        "id": "Liw3oXCUA0er",
        "colab_type": "code",
        "colab": {}
      },
      "source": [
        "# predict with the model\n",
        "%%bigquery --project ekabasandbox predict\n",
        "SELECT\n",
        "  *\n",
        "FROM\n",
        "  ml.PREDICT(MODEL `btc_crypto.market_closing_model`,\n",
        "    (\n",
        "    WITH\n",
        "      params AS (\n",
        "      SELECT\n",
        "        1 AS TRAIN,\n",
        "        2 AS EVAL ),\n",
        "      btc_market AS (\n",
        "      SELECT\n",
        "        CAST(close AS NUMERIC) AS close,\n",
        "        date,\n",
        "        CAST(open AS NUMERIC) AS open,\n",
        "        CAST(high AS NUMERIC) AS high,\n",
        "        CAST(low AS NUMERIC) AS low,        \n",
        "        CAST(spread AS NUMERIC) AS spread,\n",
        "        CAST(LEAD(close, 1) OVER (PARTITION BY symbol ORDER BY symbol DESC) AS NUMERIC) AS next_day_close\n",
        "      FROM\n",
        "        `ebisong_crypto.markets_terminal`,\n",
        "        params\n",
        "      WHERE\n",
        "        symbol = 'BTC'\n",
        "        AND MOD(ABS(FARM_FINGERPRINT(CAST(date AS STRING))),4) = params.EVAL )\n",
        "    SELECT\n",
        "      *\n",
        "    FROM\n",
        "      btc_market\n",
        "    WHERE\n",
        "      next_day_close IS NOT NULL ))"
      ],
      "execution_count": 0,
      "outputs": []
    },
    {
      "cell_type": "code",
      "metadata": {
        "id": "BOnerxhYA6qJ",
        "colab_type": "code",
        "colab": {
          "base_uri": "https://localhost:8080/",
          "height": 1000
        },
        "outputId": "04662b25-742f-4a95-b8e9-cecad045f1c1"
      },
      "source": [
        "predict"
      ],
      "execution_count": 59,
      "outputs": [
        {
          "output_type": "execute_result",
          "data": {
            "text/html": [
              "<div>\n",
              "<style scoped>\n",
              "    .dataframe tbody tr th:only-of-type {\n",
              "        vertical-align: middle;\n",
              "    }\n",
              "\n",
              "    .dataframe tbody tr th {\n",
              "        vertical-align: top;\n",
              "    }\n",
              "\n",
              "    .dataframe thead th {\n",
              "        text-align: right;\n",
              "    }\n",
              "</style>\n",
              "<table border=\"1\" class=\"dataframe\">\n",
              "  <thead>\n",
              "    <tr style=\"text-align: right;\">\n",
              "      <th></th>\n",
              "      <th>predicted_next_day_close</th>\n",
              "      <th>close</th>\n",
              "      <th>date</th>\n",
              "      <th>open</th>\n",
              "      <th>high</th>\n",
              "      <th>low</th>\n",
              "      <th>spread</th>\n",
              "      <th>next_day_close</th>\n",
              "    </tr>\n",
              "  </thead>\n",
              "  <tbody>\n",
              "    <tr>\n",
              "      <th>0</th>\n",
              "      <td>170.690742</td>\n",
              "      <td>116.99</td>\n",
              "      <td>2013-05-01</td>\n",
              "      <td>139</td>\n",
              "      <td>139.89</td>\n",
              "      <td>107.72</td>\n",
              "      <td>32.17</td>\n",
              "      <td>112.5</td>\n",
              "    </tr>\n",
              "    <tr>\n",
              "      <th>1</th>\n",
              "      <td>152.628050</td>\n",
              "      <td>112.5</td>\n",
              "      <td>2013-05-04</td>\n",
              "      <td>98.1</td>\n",
              "      <td>115</td>\n",
              "      <td>92.5</td>\n",
              "      <td>22.5</td>\n",
              "      <td>111.5</td>\n",
              "    </tr>\n",
              "    <tr>\n",
              "      <th>2</th>\n",
              "      <td>135.175293</td>\n",
              "      <td>111.5</td>\n",
              "      <td>2013-05-07</td>\n",
              "      <td>112.25</td>\n",
              "      <td>113.44</td>\n",
              "      <td>97.7</td>\n",
              "      <td>15.74</td>\n",
              "      <td>117.2</td>\n",
              "    </tr>\n",
              "    <tr>\n",
              "      <th>3</th>\n",
              "      <td>161.370665</td>\n",
              "      <td>117.2</td>\n",
              "      <td>2013-05-10</td>\n",
              "      <td>112.8</td>\n",
              "      <td>122</td>\n",
              "      <td>111.55</td>\n",
              "      <td>10.45</td>\n",
              "      <td>115</td>\n",
              "    </tr>\n",
              "    <tr>\n",
              "      <th>4</th>\n",
              "      <td>149.780035</td>\n",
              "      <td>115</td>\n",
              "      <td>2013-05-12</td>\n",
              "      <td>115.64</td>\n",
              "      <td>117.45</td>\n",
              "      <td>113.44</td>\n",
              "      <td>4.01</td>\n",
              "      <td>117.98</td>\n",
              "    </tr>\n",
              "    <tr>\n",
              "      <th>5</th>\n",
              "      <td>151.535356</td>\n",
              "      <td>117.98</td>\n",
              "      <td>2013-05-13</td>\n",
              "      <td>114.82</td>\n",
              "      <td>118.7</td>\n",
              "      <td>114.5</td>\n",
              "      <td>4.2</td>\n",
              "      <td>123.02</td>\n",
              "    </tr>\n",
              "    <tr>\n",
              "      <th>6</th>\n",
              "      <td>160.145236</td>\n",
              "      <td>123.02</td>\n",
              "      <td>2013-05-17</td>\n",
              "      <td>118.21</td>\n",
              "      <td>125.3</td>\n",
              "      <td>116.57</td>\n",
              "      <td>8.73</td>\n",
              "      <td>123.5</td>\n",
              "    </tr>\n",
              "    <tr>\n",
              "      <th>7</th>\n",
              "      <td>157.069385</td>\n",
              "      <td>123.5</td>\n",
              "      <td>2013-05-18</td>\n",
              "      <td>123.5</td>\n",
              "      <td>125.25</td>\n",
              "      <td>122.3</td>\n",
              "      <td>2.95</td>\n",
              "      <td>126.7</td>\n",
              "    </tr>\n",
              "    <tr>\n",
              "      <th>8</th>\n",
              "      <td>158.004928</td>\n",
              "      <td>126.7</td>\n",
              "      <td>2013-05-23</td>\n",
              "      <td>123.8</td>\n",
              "      <td>126.93</td>\n",
              "      <td>123.1</td>\n",
              "      <td>3.83</td>\n",
              "      <td>129.75</td>\n",
              "    </tr>\n",
              "    <tr>\n",
              "      <th>9</th>\n",
              "      <td>165.272868</td>\n",
              "      <td>129.75</td>\n",
              "      <td>2013-05-27</td>\n",
              "      <td>133.5</td>\n",
              "      <td>135.47</td>\n",
              "      <td>124.7</td>\n",
              "      <td>10.77</td>\n",
              "      <td>129</td>\n",
              "    </tr>\n",
              "    <tr>\n",
              "      <th>10</th>\n",
              "      <td>159.151879</td>\n",
              "      <td>129</td>\n",
              "      <td>2013-05-31</td>\n",
              "      <td>128.8</td>\n",
              "      <td>129.9</td>\n",
              "      <td>126.4</td>\n",
              "      <td>3.5</td>\n",
              "      <td>129.3</td>\n",
              "    </tr>\n",
              "    <tr>\n",
              "      <th>11</th>\n",
              "      <td>159.120348</td>\n",
              "      <td>129.3</td>\n",
              "      <td>2013-06-01</td>\n",
              "      <td>128.81</td>\n",
              "      <td>129.78</td>\n",
              "      <td>127.2</td>\n",
              "      <td>2.58</td>\n",
              "      <td>122.22</td>\n",
              "    </tr>\n",
              "    <tr>\n",
              "      <th>12</th>\n",
              "      <td>147.616890</td>\n",
              "      <td>122.22</td>\n",
              "      <td>2013-06-03</td>\n",
              "      <td>122.5</td>\n",
              "      <td>122.5</td>\n",
              "      <td>116</td>\n",
              "      <td>6.5</td>\n",
              "      <td>99.51</td>\n",
              "    </tr>\n",
              "    <tr>\n",
              "      <th>13</th>\n",
              "      <td>135.553558</td>\n",
              "      <td>99.51</td>\n",
              "      <td>2013-06-16</td>\n",
              "      <td>99.8</td>\n",
              "      <td>101.6</td>\n",
              "      <td>98.95</td>\n",
              "      <td>2.65</td>\n",
              "      <td>101.7</td>\n",
              "    </tr>\n",
              "    <tr>\n",
              "      <th>14</th>\n",
              "      <td>134.521335</td>\n",
              "      <td>101.7</td>\n",
              "      <td>2013-06-17</td>\n",
              "      <td>99.9</td>\n",
              "      <td>102.21</td>\n",
              "      <td>99</td>\n",
              "      <td>3.21</td>\n",
              "      <td>107.4</td>\n",
              "    </tr>\n",
              "    <tr>\n",
              "      <th>15</th>\n",
              "      <td>150.122984</td>\n",
              "      <td>107.4</td>\n",
              "      <td>2013-06-18</td>\n",
              "      <td>101.95</td>\n",
              "      <td>111.11</td>\n",
              "      <td>101.03</td>\n",
              "      <td>10.08</td>\n",
              "      <td>103.95</td>\n",
              "    </tr>\n",
              "    <tr>\n",
              "      <th>16</th>\n",
              "      <td>141.779216</td>\n",
              "      <td>103.95</td>\n",
              "      <td>2013-06-25</td>\n",
              "      <td>102.09</td>\n",
              "      <td>106.47</td>\n",
              "      <td>101.01</td>\n",
              "      <td>5.46</td>\n",
              "      <td>90.13</td>\n",
              "    </tr>\n",
              "    <tr>\n",
              "      <th>17</th>\n",
              "      <td>128.429283</td>\n",
              "      <td>90.13</td>\n",
              "      <td>2013-07-02</td>\n",
              "      <td>88.05</td>\n",
              "      <td>92.3</td>\n",
              "      <td>87.51</td>\n",
              "      <td>4.79</td>\n",
              "      <td>88.98</td>\n",
              "    </tr>\n",
              "    <tr>\n",
              "      <th>18</th>\n",
              "      <td>122.590043</td>\n",
              "      <td>88.98</td>\n",
              "      <td>2013-07-11</td>\n",
              "      <td>88</td>\n",
              "      <td>90.28</td>\n",
              "      <td>85.08</td>\n",
              "      <td>5.2</td>\n",
              "      <td>99.76</td>\n",
              "    </tr>\n",
              "    <tr>\n",
              "      <th>19</th>\n",
              "      <td>135.757537</td>\n",
              "      <td>99.76</td>\n",
              "      <td>2013-07-28</td>\n",
              "      <td>94.4</td>\n",
              "      <td>100.58</td>\n",
              "      <td>94</td>\n",
              "      <td>6.58</td>\n",
              "      <td>107.99</td>\n",
              "    </tr>\n",
              "    <tr>\n",
              "      <th>20</th>\n",
              "      <td>141.436603</td>\n",
              "      <td>107.99</td>\n",
              "      <td>2013-07-30</td>\n",
              "      <td>101.49</td>\n",
              "      <td>107.99</td>\n",
              "      <td>100.47</td>\n",
              "      <td>7.52</td>\n",
              "      <td>104.5</td>\n",
              "    </tr>\n",
              "    <tr>\n",
              "      <th>21</th>\n",
              "      <td>141.642785</td>\n",
              "      <td>104.5</td>\n",
              "      <td>2013-08-02</td>\n",
              "      <td>104.86</td>\n",
              "      <td>108</td>\n",
              "      <td>101.21</td>\n",
              "      <td>6.79</td>\n",
              "      <td>106.75</td>\n",
              "    </tr>\n",
              "    <tr>\n",
              "      <th>22</th>\n",
              "      <td>138.452471</td>\n",
              "      <td>106.75</td>\n",
              "      <td>2013-08-06</td>\n",
              "      <td>106.72</td>\n",
              "      <td>107.38</td>\n",
              "      <td>105.56</td>\n",
              "      <td>1.82</td>\n",
              "      <td>106.75</td>\n",
              "    </tr>\n",
              "    <tr>\n",
              "      <th>23</th>\n",
              "      <td>137.721248</td>\n",
              "      <td>106.75</td>\n",
              "      <td>2013-08-07</td>\n",
              "      <td>106.75</td>\n",
              "      <td>106.75</td>\n",
              "      <td>106.75</td>\n",
              "      <td>0</td>\n",
              "      <td>103</td>\n",
              "    </tr>\n",
              "    <tr>\n",
              "      <th>24</th>\n",
              "      <td>136.343001</td>\n",
              "      <td>103</td>\n",
              "      <td>2013-08-10</td>\n",
              "      <td>102.8</td>\n",
              "      <td>103.9</td>\n",
              "      <td>102.41</td>\n",
              "      <td>1.49</td>\n",
              "      <td>105</td>\n",
              "    </tr>\n",
              "    <tr>\n",
              "      <th>25</th>\n",
              "      <td>137.410392</td>\n",
              "      <td>105</td>\n",
              "      <td>2013-08-11</td>\n",
              "      <td>103</td>\n",
              "      <td>105.19</td>\n",
              "      <td>102.75</td>\n",
              "      <td>2.44</td>\n",
              "      <td>109</td>\n",
              "    </tr>\n",
              "    <tr>\n",
              "      <th>26</th>\n",
              "      <td>139.911954</td>\n",
              "      <td>109</td>\n",
              "      <td>2013-08-13</td>\n",
              "      <td>106.99</td>\n",
              "      <td>109.35</td>\n",
              "      <td>104.65</td>\n",
              "      <td>4.7</td>\n",
              "      <td>121.15</td>\n",
              "    </tr>\n",
              "    <tr>\n",
              "      <th>27</th>\n",
              "      <td>154.110951</td>\n",
              "      <td>121.15</td>\n",
              "      <td>2013-08-22</td>\n",
              "      <td>123.3</td>\n",
              "      <td>123.5</td>\n",
              "      <td>120.6</td>\n",
              "      <td>2.9</td>\n",
              "      <td>118.5</td>\n",
              "    </tr>\n",
              "    <tr>\n",
              "      <th>28</th>\n",
              "      <td>153.238572</td>\n",
              "      <td>118.5</td>\n",
              "      <td>2013-08-23</td>\n",
              "      <td>122</td>\n",
              "      <td>122</td>\n",
              "      <td>118.44</td>\n",
              "      <td>3.56</td>\n",
              "      <td>120.06</td>\n",
              "    </tr>\n",
              "    <tr>\n",
              "      <th>29</th>\n",
              "      <td>154.446163</td>\n",
              "      <td>120.06</td>\n",
              "      <td>2013-08-26</td>\n",
              "      <td>122.11</td>\n",
              "      <td>122.75</td>\n",
              "      <td>119.93</td>\n",
              "      <td>2.82</td>\n",
              "      <td>135.35</td>\n",
              "    </tr>\n",
              "    <tr>\n",
              "      <th>...</th>\n",
              "      <td>...</td>\n",
              "      <td>...</td>\n",
              "      <td>...</td>\n",
              "      <td>...</td>\n",
              "      <td>...</td>\n",
              "      <td>...</td>\n",
              "      <td>...</td>\n",
              "      <td>...</td>\n",
              "    </tr>\n",
              "    <tr>\n",
              "      <th>388</th>\n",
              "      <td>4612.884100</td>\n",
              "      <td>4703.39</td>\n",
              "      <td>2017-08-31</td>\n",
              "      <td>4555.59</td>\n",
              "      <td>4736.05</td>\n",
              "      <td>4549.4</td>\n",
              "      <td>186.65</td>\n",
              "      <td>4597.12</td>\n",
              "    </tr>\n",
              "    <tr>\n",
              "      <th>389</th>\n",
              "      <td>4522.963957</td>\n",
              "      <td>4597.12</td>\n",
              "      <td>2017-09-06</td>\n",
              "      <td>4376.59</td>\n",
              "      <td>4617.25</td>\n",
              "      <td>4376.59</td>\n",
              "      <td>240.66</td>\n",
              "      <td>4122.94</td>\n",
              "    </tr>\n",
              "    <tr>\n",
              "      <th>390</th>\n",
              "      <td>3952.116232</td>\n",
              "      <td>4122.94</td>\n",
              "      <td>2017-09-10</td>\n",
              "      <td>4229.34</td>\n",
              "      <td>4245.44</td>\n",
              "      <td>3951.04</td>\n",
              "      <td>294.4</td>\n",
              "      <td>4161.27</td>\n",
              "    </tr>\n",
              "    <tr>\n",
              "      <th>391</th>\n",
              "      <td>4210.730121</td>\n",
              "      <td>4161.27</td>\n",
              "      <td>2017-09-11</td>\n",
              "      <td>4122.47</td>\n",
              "      <td>4261.67</td>\n",
              "      <td>4099.4</td>\n",
              "      <td>162.27</td>\n",
              "      <td>4130.81</td>\n",
              "    </tr>\n",
              "    <tr>\n",
              "      <th>392</th>\n",
              "      <td>4390.300571</td>\n",
              "      <td>4130.81</td>\n",
              "      <td>2017-09-12</td>\n",
              "      <td>4168.88</td>\n",
              "      <td>4344.65</td>\n",
              "      <td>4085.22</td>\n",
              "      <td>259.43</td>\n",
              "      <td>3882.59</td>\n",
              "    </tr>\n",
              "    <tr>\n",
              "      <th>393</th>\n",
              "      <td>3932.868104</td>\n",
              "      <td>3882.59</td>\n",
              "      <td>2017-09-13</td>\n",
              "      <td>4131.98</td>\n",
              "      <td>4131.98</td>\n",
              "      <td>3789.92</td>\n",
              "      <td>342.06</td>\n",
              "      <td>3637.52</td>\n",
              "    </tr>\n",
              "    <tr>\n",
              "      <th>394</th>\n",
              "      <td>3773.223715</td>\n",
              "      <td>3637.52</td>\n",
              "      <td>2017-09-15</td>\n",
              "      <td>3166.3</td>\n",
              "      <td>3733.45</td>\n",
              "      <td>2946.62</td>\n",
              "      <td>786.83</td>\n",
              "      <td>4065.2</td>\n",
              "    </tr>\n",
              "    <tr>\n",
              "      <th>395</th>\n",
              "      <td>4138.805823</td>\n",
              "      <td>4065.2</td>\n",
              "      <td>2017-09-18</td>\n",
              "      <td>3591.09</td>\n",
              "      <td>4079.23</td>\n",
              "      <td>3591.09</td>\n",
              "      <td>488.14</td>\n",
              "      <td>3630.7</td>\n",
              "    </tr>\n",
              "    <tr>\n",
              "      <th>396</th>\n",
              "      <td>3723.331118</td>\n",
              "      <td>3630.7</td>\n",
              "      <td>2017-09-22</td>\n",
              "      <td>3628.02</td>\n",
              "      <td>3758.27</td>\n",
              "      <td>3553.53</td>\n",
              "      <td>204.74</td>\n",
              "      <td>4317.48</td>\n",
              "    </tr>\n",
              "    <tr>\n",
              "      <th>397</th>\n",
              "      <td>4226.677960</td>\n",
              "      <td>4317.48</td>\n",
              "      <td>2017-10-03</td>\n",
              "      <td>4408.46</td>\n",
              "      <td>4432.47</td>\n",
              "      <td>4258.89</td>\n",
              "      <td>173.58</td>\n",
              "      <td>4826.48</td>\n",
              "    </tr>\n",
              "    <tr>\n",
              "      <th>398</th>\n",
              "      <td>4684.087765</td>\n",
              "      <td>4826.48</td>\n",
              "      <td>2017-10-11</td>\n",
              "      <td>4789.25</td>\n",
              "      <td>4873.73</td>\n",
              "      <td>4751.63</td>\n",
              "      <td>122.1</td>\n",
              "      <td>5647.21</td>\n",
              "    </tr>\n",
              "    <tr>\n",
              "      <th>399</th>\n",
              "      <td>5920.464591</td>\n",
              "      <td>5647.21</td>\n",
              "      <td>2017-10-13</td>\n",
              "      <td>5464.16</td>\n",
              "      <td>5840.3</td>\n",
              "      <td>5436.85</td>\n",
              "      <td>403.45</td>\n",
              "      <td>5725.59</td>\n",
              "    </tr>\n",
              "    <tr>\n",
              "      <th>400</th>\n",
              "      <td>5453.002602</td>\n",
              "      <td>5725.59</td>\n",
              "      <td>2017-10-16</td>\n",
              "      <td>5687.57</td>\n",
              "      <td>5776.23</td>\n",
              "      <td>5544.21</td>\n",
              "      <td>232.02</td>\n",
              "      <td>5708.52</td>\n",
              "    </tr>\n",
              "    <tr>\n",
              "      <th>401</th>\n",
              "      <td>5516.092223</td>\n",
              "      <td>5708.52</td>\n",
              "      <td>2017-10-19</td>\n",
              "      <td>5583.74</td>\n",
              "      <td>5744.35</td>\n",
              "      <td>5531.06</td>\n",
              "      <td>213.29</td>\n",
              "      <td>6011.45</td>\n",
              "    </tr>\n",
              "    <tr>\n",
              "      <th>402</th>\n",
              "      <td>5904.144475</td>\n",
              "      <td>6011.45</td>\n",
              "      <td>2017-10-20</td>\n",
              "      <td>5708.11</td>\n",
              "      <td>6060.11</td>\n",
              "      <td>5627.23</td>\n",
              "      <td>432.88</td>\n",
              "      <td>6767.31</td>\n",
              "    </tr>\n",
              "    <tr>\n",
              "      <th>403</th>\n",
              "      <td>6513.134951</td>\n",
              "      <td>6767.31</td>\n",
              "      <td>2017-11-01</td>\n",
              "      <td>6440.97</td>\n",
              "      <td>6767.31</td>\n",
              "      <td>6377.88</td>\n",
              "      <td>389.43</td>\n",
              "      <td>7078.5</td>\n",
              "    </tr>\n",
              "    <tr>\n",
              "      <th>404</th>\n",
              "      <td>7583.108890</td>\n",
              "      <td>7078.5</td>\n",
              "      <td>2017-11-02</td>\n",
              "      <td>6777.77</td>\n",
              "      <td>7367.33</td>\n",
              "      <td>6758.72</td>\n",
              "      <td>608.61</td>\n",
              "      <td>7407.41</td>\n",
              "    </tr>\n",
              "    <tr>\n",
              "      <th>405</th>\n",
              "      <td>7489.615014</td>\n",
              "      <td>7407.41</td>\n",
              "      <td>2017-11-05</td>\n",
              "      <td>7404.52</td>\n",
              "      <td>7617.48</td>\n",
              "      <td>7333.19</td>\n",
              "      <td>284.29</td>\n",
              "      <td>9330.55</td>\n",
              "    </tr>\n",
              "    <tr>\n",
              "      <th>406</th>\n",
              "      <td>9575.728743</td>\n",
              "      <td>9330.55</td>\n",
              "      <td>2017-11-26</td>\n",
              "      <td>8789.04</td>\n",
              "      <td>9522.93</td>\n",
              "      <td>8775.59</td>\n",
              "      <td>747.34</td>\n",
              "      <td>10233.6</td>\n",
              "    </tr>\n",
              "    <tr>\n",
              "      <th>407</th>\n",
              "      <td>10738.119542</td>\n",
              "      <td>10233.6</td>\n",
              "      <td>2017-11-30</td>\n",
              "      <td>9906.79</td>\n",
              "      <td>10801</td>\n",
              "      <td>9202.05</td>\n",
              "      <td>1598.95</td>\n",
              "      <td>11657.2</td>\n",
              "    </tr>\n",
              "    <tr>\n",
              "      <th>408</th>\n",
              "      <td>10977.659740</td>\n",
              "      <td>11657.2</td>\n",
              "      <td>2017-12-04</td>\n",
              "      <td>11315.4</td>\n",
              "      <td>11657.2</td>\n",
              "      <td>11081.8</td>\n",
              "      <td>575.4</td>\n",
              "      <td>15455.4</td>\n",
              "    </tr>\n",
              "    <tr>\n",
              "      <th>409</th>\n",
              "      <td>14178.147028</td>\n",
              "      <td>15455.4</td>\n",
              "      <td>2017-12-10</td>\n",
              "      <td>15168.4</td>\n",
              "      <td>15850.6</td>\n",
              "      <td>13226.6</td>\n",
              "      <td>2624</td>\n",
              "      <td>17415.4</td>\n",
              "    </tr>\n",
              "    <tr>\n",
              "      <th>410</th>\n",
              "      <td>17332.973204</td>\n",
              "      <td>17415.4</td>\n",
              "      <td>2017-12-12</td>\n",
              "      <td>16919.8</td>\n",
              "      <td>17781.8</td>\n",
              "      <td>16571.6</td>\n",
              "      <td>1210.2</td>\n",
              "      <td>19114.2</td>\n",
              "    </tr>\n",
              "    <tr>\n",
              "      <th>411</th>\n",
              "      <td>18065.870360</td>\n",
              "      <td>19114.2</td>\n",
              "      <td>2017-12-18</td>\n",
              "      <td>19106.4</td>\n",
              "      <td>19371</td>\n",
              "      <td>18355.9</td>\n",
              "      <td>1015.1</td>\n",
              "      <td>17776.7</td>\n",
              "    </tr>\n",
              "    <tr>\n",
              "      <th>412</th>\n",
              "      <td>18225.070287</td>\n",
              "      <td>17776.7</td>\n",
              "      <td>2017-12-19</td>\n",
              "      <td>19118.3</td>\n",
              "      <td>19177.8</td>\n",
              "      <td>17275.4</td>\n",
              "      <td>1902.4</td>\n",
              "      <td>16624.6</td>\n",
              "    </tr>\n",
              "    <tr>\n",
              "      <th>413</th>\n",
              "      <td>17140.345435</td>\n",
              "      <td>16624.6</td>\n",
              "      <td>2017-12-20</td>\n",
              "      <td>17760.3</td>\n",
              "      <td>17934.7</td>\n",
              "      <td>16077.7</td>\n",
              "      <td>1857</td>\n",
              "      <td>13925.8</td>\n",
              "    </tr>\n",
              "    <tr>\n",
              "      <th>414</th>\n",
              "      <td>13101.772393</td>\n",
              "      <td>13925.8</td>\n",
              "      <td>2017-12-24</td>\n",
              "      <td>14608.2</td>\n",
              "      <td>14626</td>\n",
              "      <td>12747.7</td>\n",
              "      <td>1878.3</td>\n",
              "      <td>16099.8</td>\n",
              "    </tr>\n",
              "    <tr>\n",
              "      <th>415</th>\n",
              "      <td>17170.492804</td>\n",
              "      <td>16099.8</td>\n",
              "      <td>2017-12-26</td>\n",
              "      <td>14036.6</td>\n",
              "      <td>16461.2</td>\n",
              "      <td>14028.9</td>\n",
              "      <td>2432.3</td>\n",
              "      <td>15201</td>\n",
              "    </tr>\n",
              "    <tr>\n",
              "      <th>416</th>\n",
              "      <td>15297.844237</td>\n",
              "      <td>15201</td>\n",
              "      <td>2018-01-03</td>\n",
              "      <td>14978.2</td>\n",
              "      <td>15572.8</td>\n",
              "      <td>14844.5</td>\n",
              "      <td>728.3</td>\n",
              "      <td>15599.2</td>\n",
              "    </tr>\n",
              "    <tr>\n",
              "      <th>417</th>\n",
              "      <td>14627.561910</td>\n",
              "      <td>15599.2</td>\n",
              "      <td>2018-01-04</td>\n",
              "      <td>15270.7</td>\n",
              "      <td>15739.7</td>\n",
              "      <td>14522.2</td>\n",
              "      <td>1217.5</td>\n",
              "      <td>14595.4</td>\n",
              "    </tr>\n",
              "  </tbody>\n",
              "</table>\n",
              "<p>418 rows × 8 columns</p>\n",
              "</div>"
            ],
            "text/plain": [
              "     predicted_next_day_close    close  ...   spread next_day_close\n",
              "0                  170.690742   116.99  ...    32.17          112.5\n",
              "1                  152.628050    112.5  ...     22.5          111.5\n",
              "2                  135.175293    111.5  ...    15.74          117.2\n",
              "3                  161.370665    117.2  ...    10.45            115\n",
              "4                  149.780035      115  ...     4.01         117.98\n",
              "5                  151.535356   117.98  ...      4.2         123.02\n",
              "6                  160.145236   123.02  ...     8.73          123.5\n",
              "7                  157.069385    123.5  ...     2.95          126.7\n",
              "8                  158.004928    126.7  ...     3.83         129.75\n",
              "9                  165.272868   129.75  ...    10.77            129\n",
              "10                 159.151879      129  ...      3.5          129.3\n",
              "11                 159.120348    129.3  ...     2.58         122.22\n",
              "12                 147.616890   122.22  ...      6.5          99.51\n",
              "13                 135.553558    99.51  ...     2.65          101.7\n",
              "14                 134.521335    101.7  ...     3.21          107.4\n",
              "15                 150.122984    107.4  ...    10.08         103.95\n",
              "16                 141.779216   103.95  ...     5.46          90.13\n",
              "17                 128.429283    90.13  ...     4.79          88.98\n",
              "18                 122.590043    88.98  ...      5.2          99.76\n",
              "19                 135.757537    99.76  ...     6.58         107.99\n",
              "20                 141.436603   107.99  ...     7.52          104.5\n",
              "21                 141.642785    104.5  ...     6.79         106.75\n",
              "22                 138.452471   106.75  ...     1.82         106.75\n",
              "23                 137.721248   106.75  ...        0            103\n",
              "24                 136.343001      103  ...     1.49            105\n",
              "25                 137.410392      105  ...     2.44            109\n",
              "26                 139.911954      109  ...      4.7         121.15\n",
              "27                 154.110951   121.15  ...      2.9          118.5\n",
              "28                 153.238572    118.5  ...     3.56         120.06\n",
              "29                 154.446163   120.06  ...     2.82         135.35\n",
              "..                        ...      ...  ...      ...            ...\n",
              "388               4612.884100  4703.39  ...   186.65        4597.12\n",
              "389               4522.963957  4597.12  ...   240.66        4122.94\n",
              "390               3952.116232  4122.94  ...    294.4        4161.27\n",
              "391               4210.730121  4161.27  ...   162.27        4130.81\n",
              "392               4390.300571  4130.81  ...   259.43        3882.59\n",
              "393               3932.868104  3882.59  ...   342.06        3637.52\n",
              "394               3773.223715  3637.52  ...   786.83         4065.2\n",
              "395               4138.805823   4065.2  ...   488.14         3630.7\n",
              "396               3723.331118   3630.7  ...   204.74        4317.48\n",
              "397               4226.677960  4317.48  ...   173.58        4826.48\n",
              "398               4684.087765  4826.48  ...    122.1        5647.21\n",
              "399               5920.464591  5647.21  ...   403.45        5725.59\n",
              "400               5453.002602  5725.59  ...   232.02        5708.52\n",
              "401               5516.092223  5708.52  ...   213.29        6011.45\n",
              "402               5904.144475  6011.45  ...   432.88        6767.31\n",
              "403               6513.134951  6767.31  ...   389.43         7078.5\n",
              "404               7583.108890   7078.5  ...   608.61        7407.41\n",
              "405               7489.615014  7407.41  ...   284.29        9330.55\n",
              "406               9575.728743  9330.55  ...   747.34        10233.6\n",
              "407              10738.119542  10233.6  ...  1598.95        11657.2\n",
              "408              10977.659740  11657.2  ...    575.4        15455.4\n",
              "409              14178.147028  15455.4  ...     2624        17415.4\n",
              "410              17332.973204  17415.4  ...   1210.2        19114.2\n",
              "411              18065.870360  19114.2  ...   1015.1        17776.7\n",
              "412              18225.070287  17776.7  ...   1902.4        16624.6\n",
              "413              17140.345435  16624.6  ...     1857        13925.8\n",
              "414              13101.772393  13925.8  ...   1878.3        16099.8\n",
              "415              17170.492804  16099.8  ...   2432.3          15201\n",
              "416              15297.844237    15201  ...    728.3        15599.2\n",
              "417              14627.561910  15599.2  ...   1217.5        14595.4\n",
              "\n",
              "[418 rows x 8 columns]"
            ]
          },
          "metadata": {
            "tags": []
          },
          "execution_count": 59
        }
      ]
    },
    {
      "cell_type": "code",
      "metadata": {
        "id": "uj6QOtXjBBXe",
        "colab_type": "code",
        "colab": {}
      },
      "source": [
        ""
      ],
      "execution_count": 0,
      "outputs": []
    }
  ]
}