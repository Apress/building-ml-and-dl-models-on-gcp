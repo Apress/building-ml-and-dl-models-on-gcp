{
  "nbformat": 4,
  "nbformat_minor": 0,
  "metadata": {
    "colab": {
      "name": "scikit-learn.ipynb",
      "version": "0.3.2",
      "provenance": [],
      "collapsed_sections": [
        "vnKmSViQzDmO",
        "qqMDA7xWzT1x",
        "81JhfElMzh5d",
        "7htIKQtmzpne",
        "PHEjrqWMzvsF",
        "Kpg1YAGnz1jP",
        "jNuFB_J2z7sx",
        "05XA8YNR0FUj",
        "lrA6AtfD0iWL",
        "SPJGBp6E1C0o",
        "rul2j3JK16XJ"
      ]
    },
    "kernelspec": {
      "name": "python3",
      "display_name": "Python 3"
    }
  },
  "cells": [
    {
      "cell_type": "markdown",
      "metadata": {
        "id": "C_4E6ZcV-aIz",
        "colab_type": "text"
      },
      "source": [
        "# Chapter 18 - Introduction to Scikit-learn\n",
        "## Building Machine Learning and Deep Learning Models on Google Cloud Platform\n",
        "### Ekaba Bisong"
      ]
    },
    {
      "cell_type": "markdown",
      "metadata": {
        "id": "vnKmSViQzDmO",
        "colab_type": "text"
      },
      "source": [
        "## Loading Sample datasets from Scikit-learn"
      ]
    },
    {
      "cell_type": "code",
      "metadata": {
        "id": "LOSj0O-kyzcY",
        "colab_type": "code",
        "colab": {}
      },
      "source": [
        "# load library\n",
        "from sklearn import datasets\n",
        "import numpy as np"
      ],
      "execution_count": 0,
      "outputs": []
    },
    {
      "cell_type": "code",
      "metadata": {
        "id": "Jlhn7IFizE6E",
        "colab_type": "code",
        "outputId": "40ddeed9-29a4-4261-b64b-42cf0b2d9b10",
        "colab": {
          "base_uri": "https://localhost:8080/",
          "height": 34
        }
      },
      "source": [
        "# load iris\n",
        "iris = datasets.load_iris()\n",
        "iris.data.shape"
      ],
      "execution_count": 0,
      "outputs": [
        {
          "output_type": "execute_result",
          "data": {
            "text/plain": [
              "(150, 4)"
            ]
          },
          "metadata": {
            "tags": []
          },
          "execution_count": 2
        }
      ]
    },
    {
      "cell_type": "code",
      "metadata": {
        "id": "G9Gp3Yi7zLm4",
        "colab_type": "code",
        "outputId": "320184cb-1ed0-443c-ab00-ed100ae1c827",
        "colab": {
          "base_uri": "https://localhost:8080/",
          "height": 85
        }
      },
      "source": [
        "iris.feature_names"
      ],
      "execution_count": 0,
      "outputs": [
        {
          "output_type": "execute_result",
          "data": {
            "text/plain": [
              "['sepal length (cm)',\n",
              " 'sepal width (cm)',\n",
              " 'petal length (cm)',\n",
              " 'petal width (cm)']"
            ]
          },
          "metadata": {
            "tags": []
          },
          "execution_count": 3
        }
      ]
    },
    {
      "cell_type": "markdown",
      "metadata": {
        "id": "qqMDA7xWzT1x",
        "colab_type": "text"
      },
      "source": [
        "## Splitting the Dataset into training and test sets"
      ]
    },
    {
      "cell_type": "code",
      "metadata": {
        "id": "L_4IyWTwzNLv",
        "colab_type": "code",
        "outputId": "1aeedb90-7440-404c-94f0-1f32f0ab1b6f",
        "colab": {
          "base_uri": "https://localhost:8080/",
          "height": 34
        }
      },
      "source": [
        "# import module\n",
        "from sklearn.model_selection import train_test_split\n",
        "# split in train and test sets\n",
        "X_train, X_test, y_train, y_test = train_test_split(iris.data, iris.target, shuffle=True)\n",
        "X_train.shape\n"
      ],
      "execution_count": 0,
      "outputs": [
        {
          "output_type": "execute_result",
          "data": {
            "text/plain": [
              "(112, 4)"
            ]
          },
          "metadata": {
            "tags": []
          },
          "execution_count": 4
        }
      ]
    },
    {
      "cell_type": "code",
      "metadata": {
        "id": "coGLBXUKzXq7",
        "colab_type": "code",
        "outputId": "ff5b9b57-5dc1-475b-aebc-bd39d93f11c4",
        "colab": {
          "base_uri": "https://localhost:8080/",
          "height": 34
        }
      },
      "source": [
        "X_test.shape"
      ],
      "execution_count": 0,
      "outputs": [
        {
          "output_type": "execute_result",
          "data": {
            "text/plain": [
              "(38, 4)"
            ]
          },
          "metadata": {
            "tags": []
          },
          "execution_count": 5
        }
      ]
    },
    {
      "cell_type": "code",
      "metadata": {
        "id": "EhNkOIZTzZEq",
        "colab_type": "code",
        "outputId": "98621fb1-fd82-4856-fe98-628208edda34",
        "colab": {
          "base_uri": "https://localhost:8080/",
          "height": 34
        }
      },
      "source": [
        "y_train.shape"
      ],
      "execution_count": 0,
      "outputs": [
        {
          "output_type": "execute_result",
          "data": {
            "text/plain": [
              "(112,)"
            ]
          },
          "metadata": {
            "tags": []
          },
          "execution_count": 6
        }
      ]
    },
    {
      "cell_type": "code",
      "metadata": {
        "id": "aZ6srGTszaSr",
        "colab_type": "code",
        "outputId": "fc48b5c0-ede0-469e-8c43-2b2628ed5b56",
        "colab": {
          "base_uri": "https://localhost:8080/",
          "height": 34
        }
      },
      "source": [
        "y_test.shape"
      ],
      "execution_count": 0,
      "outputs": [
        {
          "output_type": "execute_result",
          "data": {
            "text/plain": [
              "(38,)"
            ]
          },
          "metadata": {
            "tags": []
          },
          "execution_count": 7
        }
      ]
    },
    {
      "cell_type": "markdown",
      "metadata": {
        "id": "v4Ih8_R2zdWw",
        "colab_type": "text"
      },
      "source": [
        "## Preprocessing the Data for model fitting"
      ]
    },
    {
      "cell_type": "markdown",
      "metadata": {
        "id": "81JhfElMzh5d",
        "colab_type": "text"
      },
      "source": [
        "### Data Rescaling"
      ]
    },
    {
      "cell_type": "code",
      "metadata": {
        "id": "FQKfMESVzbPk",
        "colab_type": "code",
        "outputId": "566c6f52-09bc-406c-b6f0-49aa053691ae",
        "colab": {
          "base_uri": "https://localhost:8080/",
          "height": 102
        }
      },
      "source": [
        "# import packages\n",
        "from sklearn import datasets\n",
        "from sklearn.preprocessing import MinMaxScaler\n",
        "\n",
        "# load dataset\n",
        "data = datasets.load_iris()\n",
        "# separate features and target\n",
        "X = data.data\n",
        "y = data.target\n",
        "\n",
        "# print first 5 rows of X before rescaling\n",
        "X[0:5,:]"
      ],
      "execution_count": 0,
      "outputs": [
        {
          "output_type": "execute_result",
          "data": {
            "text/plain": [
              "array([[5.1, 3.5, 1.4, 0.2],\n",
              "       [4.9, 3. , 1.4, 0.2],\n",
              "       [4.7, 3.2, 1.3, 0.2],\n",
              "       [4.6, 3.1, 1.5, 0.2],\n",
              "       [5. , 3.6, 1.4, 0.2]])"
            ]
          },
          "metadata": {
            "tags": []
          },
          "execution_count": 8
        }
      ]
    },
    {
      "cell_type": "code",
      "metadata": {
        "id": "L1fLQjjuzlbX",
        "colab_type": "code",
        "outputId": "d3635dda-f6a8-4e1d-a813-c3102f6fafaf",
        "colab": {
          "base_uri": "https://localhost:8080/",
          "height": 102
        }
      },
      "source": [
        "# rescale X\n",
        "scaler = MinMaxScaler(feature_range=(0, 1))\n",
        "rescaled_X = scaler.fit_transform(X)\n",
        "\n",
        "# print first 5 rows of X after rescaling\n",
        "rescaled_X[0:5,:]"
      ],
      "execution_count": 0,
      "outputs": [
        {
          "output_type": "execute_result",
          "data": {
            "text/plain": [
              "array([[0.22222222, 0.625     , 0.06779661, 0.04166667],\n",
              "       [0.16666667, 0.41666667, 0.06779661, 0.04166667],\n",
              "       [0.11111111, 0.5       , 0.05084746, 0.04166667],\n",
              "       [0.08333333, 0.45833333, 0.08474576, 0.04166667],\n",
              "       [0.19444444, 0.66666667, 0.06779661, 0.04166667]])"
            ]
          },
          "metadata": {
            "tags": []
          },
          "execution_count": 9
        }
      ]
    },
    {
      "cell_type": "markdown",
      "metadata": {
        "id": "7htIKQtmzpne",
        "colab_type": "text"
      },
      "source": [
        "### Standardization"
      ]
    },
    {
      "cell_type": "code",
      "metadata": {
        "id": "O-jJjwWUznWA",
        "colab_type": "code",
        "outputId": "99eb6947-db7f-4ea0-cb28-e879debbfe68",
        "colab": {
          "base_uri": "https://localhost:8080/",
          "height": 102
        }
      },
      "source": [
        "# import packages\n",
        "from sklearn import datasets\n",
        "from sklearn.preprocessing import StandardScaler\n",
        "\n",
        "# load dataset\n",
        "data = datasets.load_iris()\n",
        "# separate features and target\n",
        "X = data.data\n",
        "y = data.target\n",
        "\n",
        "# print first 5 rows of X before standardization\n",
        "X[0:5,:]"
      ],
      "execution_count": 0,
      "outputs": [
        {
          "output_type": "execute_result",
          "data": {
            "text/plain": [
              "array([[5.1, 3.5, 1.4, 0.2],\n",
              "       [4.9, 3. , 1.4, 0.2],\n",
              "       [4.7, 3.2, 1.3, 0.2],\n",
              "       [4.6, 3.1, 1.5, 0.2],\n",
              "       [5. , 3.6, 1.4, 0.2]])"
            ]
          },
          "metadata": {
            "tags": []
          },
          "execution_count": 10
        }
      ]
    },
    {
      "cell_type": "code",
      "metadata": {
        "id": "CXbmqNpqzr4B",
        "colab_type": "code",
        "outputId": "2de2f9d8-149e-414f-db62-a94ee7d90b45",
        "colab": {
          "base_uri": "https://localhost:8080/",
          "height": 102
        }
      },
      "source": [
        "# standardize X\n",
        "scaler = StandardScaler().fit(X)\n",
        "standardize_X = scaler.transform(X)\n",
        "\n",
        "# print first 5 rows of X after standardization\n",
        "standardize_X[0:5,:]"
      ],
      "execution_count": 0,
      "outputs": [
        {
          "output_type": "execute_result",
          "data": {
            "text/plain": [
              "array([[-0.90068117,  1.01900435, -1.34022653, -1.3154443 ],\n",
              "       [-1.14301691, -0.13197948, -1.34022653, -1.3154443 ],\n",
              "       [-1.38535265,  0.32841405, -1.39706395, -1.3154443 ],\n",
              "       [-1.50652052,  0.09821729, -1.2833891 , -1.3154443 ],\n",
              "       [-1.02184904,  1.24920112, -1.34022653, -1.3154443 ]])"
            ]
          },
          "metadata": {
            "tags": []
          },
          "execution_count": 11
        }
      ]
    },
    {
      "cell_type": "markdown",
      "metadata": {
        "id": "PHEjrqWMzvsF",
        "colab_type": "text"
      },
      "source": [
        "### Normalization"
      ]
    },
    {
      "cell_type": "code",
      "metadata": {
        "id": "rIL2vpbkzubq",
        "colab_type": "code",
        "outputId": "09ae2903-9bf1-45cb-d2a9-05ff45f34dd5",
        "colab": {
          "base_uri": "https://localhost:8080/",
          "height": 102
        }
      },
      "source": [
        "# import packages\n",
        "from sklearn import datasets\n",
        "from sklearn.preprocessing import Normalizer\n",
        "\n",
        "# load dataset\n",
        "data = datasets.load_iris()\n",
        "\n",
        "# separate features and target\n",
        "X = data.data\n",
        "y = data.target\n",
        "\n",
        "# print first 5 rows of X before normalization\n",
        "X[0:5,:]"
      ],
      "execution_count": 0,
      "outputs": [
        {
          "output_type": "execute_result",
          "data": {
            "text/plain": [
              "array([[5.1, 3.5, 1.4, 0.2],\n",
              "       [4.9, 3. , 1.4, 0.2],\n",
              "       [4.7, 3.2, 1.3, 0.2],\n",
              "       [4.6, 3.1, 1.5, 0.2],\n",
              "       [5. , 3.6, 1.4, 0.2]])"
            ]
          },
          "metadata": {
            "tags": []
          },
          "execution_count": 12
        }
      ]
    },
    {
      "cell_type": "code",
      "metadata": {
        "id": "BQddaV5yzyBa",
        "colab_type": "code",
        "outputId": "af7f9fd9-feba-4b5e-eb72-11c6e540d1f4",
        "colab": {
          "base_uri": "https://localhost:8080/",
          "height": 102
        }
      },
      "source": [
        "# normalize X\n",
        "scaler = Normalizer().fit(X)\n",
        "normalize_X = scaler.transform(X)\n",
        "\n",
        "# print first 5 rows of X after normalization\n",
        "normalize_X[0:5,:]"
      ],
      "execution_count": 0,
      "outputs": [
        {
          "output_type": "execute_result",
          "data": {
            "text/plain": [
              "array([[0.80377277, 0.55160877, 0.22064351, 0.0315205 ],\n",
              "       [0.82813287, 0.50702013, 0.23660939, 0.03380134],\n",
              "       [0.80533308, 0.54831188, 0.2227517 , 0.03426949],\n",
              "       [0.80003025, 0.53915082, 0.26087943, 0.03478392],\n",
              "       [0.790965  , 0.5694948 , 0.2214702 , 0.0316386 ]])"
            ]
          },
          "metadata": {
            "tags": []
          },
          "execution_count": 13
        }
      ]
    },
    {
      "cell_type": "markdown",
      "metadata": {
        "id": "Kpg1YAGnz1jP",
        "colab_type": "text"
      },
      "source": [
        "### Binarization"
      ]
    },
    {
      "cell_type": "code",
      "metadata": {
        "id": "mwcxwYz3zz-M",
        "colab_type": "code",
        "outputId": "eb89256f-d378-4955-df31-024982127602",
        "colab": {
          "base_uri": "https://localhost:8080/",
          "height": 102
        }
      },
      "source": [
        "# import packages\n",
        "from sklearn import datasets\n",
        "from sklearn.preprocessing import Binarizer\n",
        "\n",
        "# load dataset\n",
        "data = datasets.load_iris()\n",
        "# separate features and target\n",
        "X = data.data\n",
        "y = data.target\n",
        "\n",
        "# print first 5 rows of X before binarization\n",
        "X[0:5,:]"
      ],
      "execution_count": 0,
      "outputs": [
        {
          "output_type": "execute_result",
          "data": {
            "text/plain": [
              "array([[5.1, 3.5, 1.4, 0.2],\n",
              "       [4.9, 3. , 1.4, 0.2],\n",
              "       [4.7, 3.2, 1.3, 0.2],\n",
              "       [4.6, 3.1, 1.5, 0.2],\n",
              "       [5. , 3.6, 1.4, 0.2]])"
            ]
          },
          "metadata": {
            "tags": []
          },
          "execution_count": 14
        }
      ]
    },
    {
      "cell_type": "code",
      "metadata": {
        "id": "3Ef6LCrxz3n9",
        "colab_type": "code",
        "outputId": "f42e6c94-4e54-4fd8-b01b-a9645babafec",
        "colab": {
          "base_uri": "https://localhost:8080/",
          "height": 102
        }
      },
      "source": [
        "# binarize X\n",
        "scaler = Binarizer(threshold = 1.5).fit(X)\n",
        "binarize_X = scaler.transform(X)\n",
        "\n",
        "# print first 5 rows of X after binarization\n",
        "binarize_X[0:5,:]"
      ],
      "execution_count": 0,
      "outputs": [
        {
          "output_type": "execute_result",
          "data": {
            "text/plain": [
              "array([[1., 1., 0., 0.],\n",
              "       [1., 1., 0., 0.],\n",
              "       [1., 1., 0., 0.],\n",
              "       [1., 1., 0., 0.],\n",
              "       [1., 1., 0., 0.]])"
            ]
          },
          "metadata": {
            "tags": []
          },
          "execution_count": 15
        }
      ]
    },
    {
      "cell_type": "markdown",
      "metadata": {
        "id": "jNuFB_J2z7sx",
        "colab_type": "text"
      },
      "source": [
        "## Encoding Categorical Variables"
      ]
    },
    {
      "cell_type": "markdown",
      "metadata": {
        "id": "05XA8YNR0FUj",
        "colab_type": "text"
      },
      "source": [
        "### LabelEncoder"
      ]
    },
    {
      "cell_type": "code",
      "metadata": {
        "id": "zdmpofaMz5EW",
        "colab_type": "code",
        "outputId": "8c61caa5-7a27-4c9d-faa9-7c6f778a4c20",
        "colab": {
          "base_uri": "https://localhost:8080/",
          "height": 136
        }
      },
      "source": [
        "# import packages\n",
        "from sklearn.preprocessing import LabelEncoder\n",
        "\n",
        "# create dataset\n",
        "data = np.array([[5,8,\"calabar\"],[9,3,\"uyo\"],[8,6,\"owerri\"],\n",
        "                    [0,5,\"uyo\"],[2,3,\"calabar\"],[0,8,\"calabar\"],\n",
        "                    [1,8,\"owerri\"]])\n",
        "data"
      ],
      "execution_count": 0,
      "outputs": [
        {
          "output_type": "execute_result",
          "data": {
            "text/plain": [
              "array([['5', '8', 'calabar'],\n",
              "       ['9', '3', 'uyo'],\n",
              "       ['8', '6', 'owerri'],\n",
              "       ['0', '5', 'uyo'],\n",
              "       ['2', '3', 'calabar'],\n",
              "       ['0', '8', 'calabar'],\n",
              "       ['1', '8', 'owerri']], dtype='<U21')"
            ]
          },
          "metadata": {
            "tags": []
          },
          "execution_count": 20
        }
      ]
    },
    {
      "cell_type": "code",
      "metadata": {
        "id": "8C46NUPr0ICy",
        "colab_type": "code",
        "colab": {}
      },
      "source": [
        "# separate features and target\n",
        "X = data[:,:2]\n",
        "y = data[:,-1]"
      ],
      "execution_count": 0,
      "outputs": []
    },
    {
      "cell_type": "code",
      "metadata": {
        "id": "NeJXeCeF0ar5",
        "colab_type": "code",
        "colab": {}
      },
      "source": [
        "# encode y\n",
        "encoder = LabelEncoder()\n",
        "encode_y = encoder.fit_transform(y)"
      ],
      "execution_count": 0,
      "outputs": []
    },
    {
      "cell_type": "code",
      "metadata": {
        "id": "IK5HY_7f0hKt",
        "colab_type": "code",
        "outputId": "46c64b66-9dd5-4c47-bc4d-060966b26647",
        "colab": {
          "base_uri": "https://localhost:8080/",
          "height": 136
        }
      },
      "source": [
        "# adjust dataset with encoded targets\n",
        "data[:,-1] = encode_y\n",
        "data"
      ],
      "execution_count": 0,
      "outputs": [
        {
          "output_type": "execute_result",
          "data": {
            "text/plain": [
              "array([['5', '8', '0'],\n",
              "       ['9', '3', '2'],\n",
              "       ['8', '6', '1'],\n",
              "       ['0', '5', '2'],\n",
              "       ['2', '3', '0'],\n",
              "       ['0', '8', '0'],\n",
              "       ['1', '8', '1']], dtype='<U21')"
            ]
          },
          "metadata": {
            "tags": []
          },
          "execution_count": 23
        }
      ]
    },
    {
      "cell_type": "markdown",
      "metadata": {
        "id": "lrA6AtfD0iWL",
        "colab_type": "text"
      },
      "source": [
        "### OneHotEncoder"
      ]
    },
    {
      "cell_type": "code",
      "metadata": {
        "id": "sICfPMT00huj",
        "colab_type": "code",
        "outputId": "97db9cf0-e99b-4bd7-c301-896d824929d9",
        "colab": {
          "base_uri": "https://localhost:8080/",
          "height": 136
        }
      },
      "source": [
        "# import packages\n",
        "from sklearn.preprocessing import OneHotEncoder\n",
        "\n",
        "# create dataset\n",
        "data = np.array([[5,\"efik\", 8,\"calabar\"],[9,\"ibibio\",3,\"uyo\"],[8,\"igbo\",6,\"owerri\"],\n",
        "                    [0,\"ibibio\",5,\"uyo\"],[2,\"efik\",3,\"calabar\"],[0,\"efik\",8,\"calabar\"],\n",
        "                    [1,\"igbo\",8,\"owerri\"]])\n",
        "\n",
        "# separate features and target\n",
        "X = data[:,:3]\n",
        "y = data[:,-1]\n",
        "\n",
        "# print the feature or design matrix X\n",
        "X"
      ],
      "execution_count": 0,
      "outputs": [
        {
          "output_type": "execute_result",
          "data": {
            "text/plain": [
              "array([['5', 'efik', '8'],\n",
              "       ['9', 'ibibio', '3'],\n",
              "       ['8', 'igbo', '6'],\n",
              "       ['0', 'ibibio', '5'],\n",
              "       ['2', 'efik', '3'],\n",
              "       ['0', 'efik', '8'],\n",
              "       ['1', 'igbo', '8']], dtype='<U21')"
            ]
          },
          "metadata": {
            "tags": []
          },
          "execution_count": 52
        }
      ]
    },
    {
      "cell_type": "code",
      "metadata": {
        "id": "TOxQWeWD0qU-",
        "colab_type": "code",
        "outputId": "ab105ab3-c4fb-4b1b-988e-55e2d71e7e61",
        "colab": {
          "base_uri": "https://localhost:8080/",
          "height": 136
        }
      },
      "source": [
        "# one_hot_encode X\n",
        "one_hot_encoder = OneHotEncoder(handle_unknown='ignore')\n",
        "encode_categorical = X[:,1].reshape(len(X[:,1]), 1)\n",
        "one_hot_encode_X = one_hot_encoder.fit_transform(encode_categorical)\n",
        "\n",
        "# print one_hot encoded matrix - use todense() to print sparse matrix\n",
        "# or convert to array with toarray()\n",
        "one_hot_encode_X.todense()"
      ],
      "execution_count": 0,
      "outputs": [
        {
          "output_type": "execute_result",
          "data": {
            "text/plain": [
              "matrix([[1., 0., 0.],\n",
              "        [0., 1., 0.],\n",
              "        [0., 0., 1.],\n",
              "        [0., 1., 0.],\n",
              "        [1., 0., 0.],\n",
              "        [1., 0., 0.],\n",
              "        [0., 0., 1.]])"
            ]
          },
          "metadata": {
            "tags": []
          },
          "execution_count": 53
        }
      ]
    },
    {
      "cell_type": "code",
      "metadata": {
        "id": "TrZK8zXI0tnP",
        "colab_type": "code",
        "outputId": "414a992e-7193-43b3-ce97-6e9b9315ea2f",
        "colab": {
          "base_uri": "https://localhost:8080/",
          "height": 136
        }
      },
      "source": [
        "# remove categorical label\n",
        "X = np.delete(X, 1, axis=1)\n",
        "# append encoded matrix\n",
        "X = np.append(X, one_hot_encode_X.toarray(), axis=1)\n",
        "X"
      ],
      "execution_count": 0,
      "outputs": [
        {
          "output_type": "execute_result",
          "data": {
            "text/plain": [
              "array([['5', '8', '1.0', '0.0', '0.0'],\n",
              "       ['9', '3', '0.0', '1.0', '0.0'],\n",
              "       ['8', '6', '0.0', '0.0', '1.0'],\n",
              "       ['0', '5', '0.0', '1.0', '0.0'],\n",
              "       ['2', '3', '1.0', '0.0', '0.0'],\n",
              "       ['0', '8', '1.0', '0.0', '0.0'],\n",
              "       ['1', '8', '0.0', '0.0', '1.0']], dtype='<U32')"
            ]
          },
          "metadata": {
            "tags": []
          },
          "execution_count": 54
        }
      ]
    },
    {
      "cell_type": "markdown",
      "metadata": {
        "id": "SPJGBp6E1C0o",
        "colab_type": "text"
      },
      "source": [
        "## Input Missing Data"
      ]
    },
    {
      "cell_type": "code",
      "metadata": {
        "id": "0kSvpH-9077k",
        "colab_type": "code",
        "outputId": "1f9598d5-76a1-4046-887f-8c98a483ba2a",
        "colab": {
          "base_uri": "https://localhost:8080/",
          "height": 136
        }
      },
      "source": [
        "# import packages\n",
        "from sklearn.impute import SimpleImputer\n",
        "\n",
        "# create dataset\n",
        "data = np.array([[5,np.nan,8],[9,3,5],[8,6,4],\n",
        "                 [np.nan,5,2],[2,3,9],[np.nan,8,7],\n",
        "                 [1,np.nan,5]])\n",
        "data"
      ],
      "execution_count": 0,
      "outputs": [
        {
          "output_type": "execute_result",
          "data": {
            "text/plain": [
              "array([[ 5., nan,  8.],\n",
              "       [ 9.,  3.,  5.],\n",
              "       [ 8.,  6.,  4.],\n",
              "       [nan,  5.,  2.],\n",
              "       [ 2.,  3.,  9.],\n",
              "       [nan,  8.,  7.],\n",
              "       [ 1., nan,  5.]])"
            ]
          },
          "metadata": {
            "tags": []
          },
          "execution_count": 36
        }
      ]
    },
    {
      "cell_type": "code",
      "metadata": {
        "id": "7sLqk6M01FUw",
        "colab_type": "code",
        "outputId": "e8e13467-1a30-43c9-f1f7-5f6a98c9ba7f",
        "colab": {
          "base_uri": "https://localhost:8080/",
          "height": 136
        }
      },
      "source": [
        "# impute missing values - axix=0: impute along columns\n",
        "imputer = SimpleImputer(missing_values=np.nan, strategy='mean')\n",
        "imputer.fit_transform(data)"
      ],
      "execution_count": 0,
      "outputs": [
        {
          "output_type": "execute_result",
          "data": {
            "text/plain": [
              "array([[5., 5., 8.],\n",
              "       [9., 3., 5.],\n",
              "       [8., 6., 4.],\n",
              "       [5., 5., 2.],\n",
              "       [2., 3., 9.],\n",
              "       [5., 8., 7.],\n",
              "       [1., 5., 5.]])"
            ]
          },
          "metadata": {
            "tags": []
          },
          "execution_count": 39
        }
      ]
    },
    {
      "cell_type": "markdown",
      "metadata": {
        "id": "rul2j3JK16XJ",
        "colab_type": "text"
      },
      "source": [
        "## Generating Higer Order Polynomial Features"
      ]
    },
    {
      "cell_type": "code",
      "metadata": {
        "id": "m5Pn7Cp51HiX",
        "colab_type": "code",
        "outputId": "42809f33-6460-4fae-f6d8-594d057f3d55",
        "colab": {
          "base_uri": "https://localhost:8080/",
          "height": 136
        }
      },
      "source": [
        "# import packages\n",
        "from sklearn.preprocessing import PolynomialFeatures\n",
        "\n",
        "# create dataset\n",
        "data = np.array([[5,8],[9,3],[8,6],\n",
        "                 [5,2],[3,9],[8,7],\n",
        "                 [1,5]])\n",
        "data"
      ],
      "execution_count": 0,
      "outputs": [
        {
          "output_type": "execute_result",
          "data": {
            "text/plain": [
              "array([[5, 8],\n",
              "       [9, 3],\n",
              "       [8, 6],\n",
              "       [5, 2],\n",
              "       [3, 9],\n",
              "       [8, 7],\n",
              "       [1, 5]])"
            ]
          },
          "metadata": {
            "tags": []
          },
          "execution_count": 40
        }
      ]
    },
    {
      "cell_type": "code",
      "metadata": {
        "id": "4VXLE5hj18rZ",
        "colab_type": "code",
        "outputId": "49c9b1f2-fc2e-4d53-ad84-6e54a2842c3c",
        "colab": {
          "base_uri": "https://localhost:8080/",
          "height": 136
        }
      },
      "source": [
        "# create polynomial features\n",
        "polynomial_features = PolynomialFeatures(2)\n",
        "data = polynomial_features.fit_transform(data)\n",
        "data"
      ],
      "execution_count": 0,
      "outputs": [
        {
          "output_type": "execute_result",
          "data": {
            "text/plain": [
              "array([[ 1.,  5.,  8., 25., 40., 64.],\n",
              "       [ 1.,  9.,  3., 81., 27.,  9.],\n",
              "       [ 1.,  8.,  6., 64., 48., 36.],\n",
              "       [ 1.,  5.,  2., 25., 10.,  4.],\n",
              "       [ 1.,  3.,  9.,  9., 27., 81.],\n",
              "       [ 1.,  8.,  7., 64., 56., 49.],\n",
              "       [ 1.,  1.,  5.,  1.,  5., 25.]])"
            ]
          },
          "metadata": {
            "tags": []
          },
          "execution_count": 41
        }
      ]
    }
  ]
}