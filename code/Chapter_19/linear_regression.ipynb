{
  "nbformat": 4,
  "nbformat_minor": 0,
  "metadata": {
    "colab": {
      "name": "linear_regression.ipynb",
      "version": "0.3.2",
      "provenance": [],
      "collapsed_sections": [
        "uRgzwuu9n4Lo",
        "7bL830KNSjzD"
      ]
    },
    "kernelspec": {
      "name": "python3",
      "display_name": "Python 3"
    }
  },
  "cells": [
    {
      "cell_type": "markdown",
      "metadata": {
        "id": "ANYkZiBsQW9Y",
        "colab_type": "text"
      },
      "source": [
        "# Chapter 19 - Linear Regression\n",
        "## Building Machine Learning and Deep Learning Models on Google Cloud Platform\n",
        "### Ekaba Bisong"
      ]
    },
    {
      "cell_type": "markdown",
      "metadata": {
        "id": "uRgzwuu9n4Lo",
        "colab_type": "text"
      },
      "source": [
        "## Linear Regression (scikit-learn)"
      ]
    },
    {
      "cell_type": "code",
      "metadata": {
        "id": "JWCIGOCrnw20",
        "colab_type": "code",
        "colab": {}
      },
      "source": [
        "# import packages\n",
        "from sklearn.linear_model import LinearRegression\n",
        "from sklearn import datasets\n",
        "from sklearn.model_selection import train_test_split\n",
        "from sklearn.metrics import mean_squared_error\n",
        "from math import sqrt"
      ],
      "execution_count": 0,
      "outputs": []
    },
    {
      "cell_type": "code",
      "metadata": {
        "id": "Kwz53Cgun9xj",
        "colab_type": "code",
        "colab": {}
      },
      "source": [
        "# load dataset\n",
        "data = datasets.load_boston()\n",
        "\n",
        "# separate features and target\n",
        "X = data.data\n",
        "y = data.target"
      ],
      "execution_count": 0,
      "outputs": []
    },
    {
      "cell_type": "code",
      "metadata": {
        "id": "0fhiCPYtoBcL",
        "colab_type": "code",
        "colab": {}
      },
      "source": [
        "# split in train and test sets\n",
        "X_train, X_test, y_train, y_test = train_test_split(X, y, shuffle=True)"
      ],
      "execution_count": 0,
      "outputs": []
    },
    {
      "cell_type": "code",
      "metadata": {
        "id": "C2dHgt51oDeK",
        "colab_type": "code",
        "colab": {}
      },
      "source": [
        "# create the model\n",
        "# setting normalize to true normalizes the dataset before fitting the model\n",
        "linear_reg = LinearRegression(normalize = True)"
      ],
      "execution_count": 0,
      "outputs": []
    },
    {
      "cell_type": "code",
      "metadata": {
        "id": "wxIwACJSoFAj",
        "colab_type": "code",
        "outputId": "53e90157-dbe8-41c2-cfd8-c13741ea2121",
        "colab": {
          "base_uri": "https://localhost:8080/",
          "height": 34
        }
      },
      "source": [
        "# fit the model on the training set\n",
        "linear_reg.fit(X_train, y_train)"
      ],
      "execution_count": 0,
      "outputs": [
        {
          "output_type": "execute_result",
          "data": {
            "text/plain": [
              "LinearRegression(copy_X=True, fit_intercept=True, n_jobs=None, normalize=True)"
            ]
          },
          "metadata": {
            "tags": []
          },
          "execution_count": 13
        }
      ]
    },
    {
      "cell_type": "code",
      "metadata": {
        "id": "M8m-0geVoGQc",
        "colab_type": "code",
        "colab": {}
      },
      "source": [
        "# make predictions on the test set\n",
        "predictions = linear_reg.predict(X_test)"
      ],
      "execution_count": 0,
      "outputs": []
    },
    {
      "cell_type": "code",
      "metadata": {
        "id": "x7L0c3V6oIF0",
        "colab_type": "code",
        "outputId": "4da4f777-6a3c-4bef-ddfe-c2e7586528a5",
        "colab": {
          "base_uri": "https://localhost:8080/",
          "height": 34
        }
      },
      "source": [
        "# evaluate the model performance using the root mean square error metric\n",
        "print(\"Root mean squared error (RMSE): %.2f\" % sqrt(mean_squared_error(y_test, predictions)))"
      ],
      "execution_count": 0,
      "outputs": [
        {
          "output_type": "stream",
          "text": [
            "Root mean squared error (RMSE): 4.33\n"
          ],
          "name": "stdout"
        }
      ]
    },
    {
      "cell_type": "markdown",
      "metadata": {
        "id": "7bL830KNSjzD",
        "colab_type": "text"
      },
      "source": [
        "## Higher-Order Linear Regression with Scikit-learn"
      ]
    },
    {
      "cell_type": "code",
      "metadata": {
        "id": "Y2GeO62GSkhN",
        "colab_type": "code",
        "colab": {}
      },
      "source": [
        "# import packages\n",
        "from sklearn.linear_model import LinearRegression\n",
        "from sklearn import datasets\n",
        "from sklearn.model_selection import train_test_split\n",
        "from sklearn.metrics import mean_squared_error\n",
        "from math import sqrt\n",
        "from sklearn.preprocessing import PolynomialFeatures"
      ],
      "execution_count": 0,
      "outputs": []
    },
    {
      "cell_type": "code",
      "metadata": {
        "id": "er77A8OdSqjJ",
        "colab_type": "code",
        "colab": {}
      },
      "source": [
        "# load dataset\n",
        "data = datasets.load_boston()"
      ],
      "execution_count": 0,
      "outputs": []
    },
    {
      "cell_type": "code",
      "metadata": {
        "id": "4D70Gy6aTAD2",
        "colab_type": "code",
        "colab": {}
      },
      "source": [
        "# separate features and target\n",
        "X = data.data\n",
        "y = data.target"
      ],
      "execution_count": 0,
      "outputs": []
    },
    {
      "cell_type": "code",
      "metadata": {
        "id": "Qegt8h5ITFAw",
        "colab_type": "code",
        "colab": {}
      },
      "source": [
        "# create polynomial features\n",
        "polynomial_features = PolynomialFeatures(2)\n",
        "X_higher_order = polynomial_features.fit_transform(X)"
      ],
      "execution_count": 0,
      "outputs": []
    },
    {
      "cell_type": "code",
      "metadata": {
        "id": "IN9udvY7TVIL",
        "colab_type": "code",
        "colab": {}
      },
      "source": [
        "# split in train and test sets\n",
        "X_train, X_test, y_train, y_test = train_test_split(X_higher_order, y, shuffle=True)"
      ],
      "execution_count": 0,
      "outputs": []
    },
    {
      "cell_type": "code",
      "metadata": {
        "id": "cYdnTCDoTX68",
        "colab_type": "code",
        "colab": {}
      },
      "source": [
        "# create the model\n",
        "# setting normalize to true normalizes the dataset before fitting the model\n",
        "linear_reg = LinearRegression(normalize = True)"
      ],
      "execution_count": 0,
      "outputs": []
    },
    {
      "cell_type": "code",
      "metadata": {
        "id": "AGymcBTuTd9k",
        "colab_type": "code",
        "outputId": "0c47959f-1559-4c65-eaca-a413fd57b92c",
        "colab": {
          "base_uri": "https://localhost:8080/",
          "height": 34
        }
      },
      "source": [
        "# fit the model on the training set\n",
        "linear_reg.fit(X_train, y_train)"
      ],
      "execution_count": 0,
      "outputs": [
        {
          "output_type": "execute_result",
          "data": {
            "text/plain": [
              "LinearRegression(copy_X=True, fit_intercept=True, n_jobs=None, normalize=True)"
            ]
          },
          "metadata": {
            "tags": []
          },
          "execution_count": 27
        }
      ]
    },
    {
      "cell_type": "code",
      "metadata": {
        "id": "y_jXakYdTgMd",
        "colab_type": "code",
        "colab": {}
      },
      "source": [
        "# make predictions on the test set\n",
        "predictions = linear_reg.predict(X_test)"
      ],
      "execution_count": 0,
      "outputs": []
    },
    {
      "cell_type": "code",
      "metadata": {
        "id": "kstRx_b5Th02",
        "colab_type": "code",
        "outputId": "98eb8aa8-26e0-4000-a5e2-e9a138495937",
        "colab": {
          "base_uri": "https://localhost:8080/",
          "height": 34
        }
      },
      "source": [
        "# evaluate the model performance using the root mean square error metric\n",
        "print(\"Root mean squared error (RMSE): %.2f\" % sqrt(mean_squared_error(y_test, predictions)))"
      ],
      "execution_count": 0,
      "outputs": [
        {
          "output_type": "stream",
          "text": [
            "Root mean squared error (RMSE): 3.01\n"
          ],
          "name": "stdout"
        }
      ]
    }
  ]
}