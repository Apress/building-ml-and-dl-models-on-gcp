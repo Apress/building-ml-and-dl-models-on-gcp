{
  "nbformat": 4,
  "nbformat_minor": 0,
  "metadata": {
    "colab": {
      "name": "preprocessing.ipynb",
      "version": "0.3.2",
      "provenance": [],
      "collapsed_sections": []
    },
    "language_info": {
      "codemirror_mode": {
        "name": "ipython",
        "version": 3
      },
      "file_extension": ".py",
      "mimetype": "text/x-python",
      "name": "python",
      "nbconvert_exporter": "python",
      "pygments_lexer": "ipython3",
      "version": "3.6.4"
    },
    "kernelspec": {
      "display_name": "Python 3",
      "language": "python",
      "name": "python3"
    }
  },
  "cells": [
    {
      "cell_type": "markdown",
      "metadata": {
        "id": "TgUT8b57Qt-V",
        "colab_type": "text"
      },
      "source": [
        "# Chapter 42 - AutoML Vision\n",
        "## Building Machine Learning and Deep Learning Models on Google Cloud Platform\n",
        "### Ekaba Bisong"
      ]
    },
    {
      "cell_type": "code",
      "metadata": {
        "id": "xjL3WnqQQmgA",
        "colab_type": "code",
        "colab": {}
      },
      "source": [
        "import os\n",
        "import numpy as np\n",
        "import pandas as pd"
      ],
      "execution_count": 0,
      "outputs": []
    },
    {
      "cell_type": "code",
      "metadata": {
        "id": "dtVY_YnCQmgD",
        "colab_type": "code",
        "colab": {}
      },
      "source": [
        "directory = 'cereal_photos/'"
      ],
      "execution_count": 0,
      "outputs": []
    },
    {
      "cell_type": "code",
      "metadata": {
        "id": "pB_2s2_CQmgI",
        "colab_type": "code",
        "colab": {}
      },
      "source": [
        "data = []"
      ],
      "execution_count": 0,
      "outputs": []
    },
    {
      "cell_type": "code",
      "metadata": {
        "id": "h0hEGNkTQmgK",
        "colab_type": "code",
        "colab": {}
      },
      "source": [
        "for subdir, dirs, files in os.walk(directory):\n",
        "    for file in files:\n",
        "        filepath = subdir + os.sep + file\n",
        "\n",
        "        if filepath.endswith(\".jpg\"):\n",
        "            entry = ['{}/{}'.format('gs://quantum-ally-219323-vcm',filepath), os.path.basename(subdir)]\n",
        "            data.append(entry)"
      ],
      "execution_count": 0,
      "outputs": []
    },
    {
      "cell_type": "code",
      "metadata": {
        "id": "a9gQLiHkQmgN",
        "colab_type": "code",
        "colab": {}
      },
      "source": [
        "# convert to Pandas DataFrame\n",
        "data_pd = pd.DataFrame(np.array(data))"
      ],
      "execution_count": 0,
      "outputs": []
    },
    {
      "cell_type": "code",
      "metadata": {
        "id": "gsFg3VZgQmgP",
        "colab_type": "code",
        "colab": {}
      },
      "source": [
        "#np.savetxt(\"data_np.csv\", data_np, delimiter=\",\")\n",
        "data_pd.to_csv(\"data.csv\", header=None, index=None)"
      ],
      "execution_count": 0,
      "outputs": []
    }
  ]
}