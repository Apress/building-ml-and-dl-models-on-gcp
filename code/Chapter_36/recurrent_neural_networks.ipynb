{
  "nbformat": 4,
  "nbformat_minor": 0,
  "metadata": {
    "colab": {
      "name": "recurrent_neural_networks.ipynb",
      "version": "0.3.2",
      "provenance": [],
      "collapsed_sections": [
        "-CiPbtTYVcLI"
      ]
    },
    "kernelspec": {
      "name": "python3",
      "display_name": "Python 3"
    },
    "accelerator": "GPU"
  },
  "cells": [
    {
      "cell_type": "markdown",
      "metadata": {
        "id": "XaJi6JWFVUc0",
        "colab_type": "text"
      },
      "source": [
        "# Chapter 36 - Recurrent Neural Networks\n",
        "## Building Machine Learning and Deep Learning Models on Google Cloud Platform\n",
        "### Ekaba Bisong"
      ]
    },
    {
      "cell_type": "markdown",
      "metadata": {
        "id": "-CiPbtTYVcLI",
        "colab_type": "text"
      },
      "source": [
        "## Univariate Timeseries"
      ]
    },
    {
      "cell_type": "code",
      "metadata": {
        "id": "6UtscpTaVipk",
        "colab_type": "code",
        "colab": {}
      },
      "source": [
        "# import TensorFlow 2.0 with GPU\n",
        "!pip install -q tf-nightly-gpu-2.0-preview"
      ],
      "execution_count": 0,
      "outputs": []
    },
    {
      "cell_type": "code",
      "metadata": {
        "id": "XV-KIc_L2i4b",
        "colab_type": "code",
        "colab": {}
      },
      "source": [
        "# import packages\n",
        "import tensorflow as tf\n",
        "import pandas as pd\n",
        "import numpy as np\n",
        "import matplotlib.pyplot as plt\n",
        "from sklearn.model_selection import train_test_split\n",
        "from sklearn.preprocessing import MinMaxScaler"
      ],
      "execution_count": 0,
      "outputs": []
    },
    {
      "cell_type": "code",
      "metadata": {
        "id": "LQ7GkQs2mpug",
        "colab_type": "code",
        "outputId": "67fcdd29-82b5-498c-8230-48a7c1840f1f",
        "colab": {
          "base_uri": "https://localhost:8080/",
          "height": 34
        }
      },
      "source": [
        "# confirm tensorflow can see GPU\n",
        "device_name = tf.test.gpu_device_name()\n",
        "if device_name != '/device:GPU:0':\n",
        "  raise SystemError('GPU device not found')\n",
        "print('Found GPU at: {}'.format(device_name))"
      ],
      "execution_count": 0,
      "outputs": [
        {
          "output_type": "stream",
          "text": [
            "Found GPU at: /device:GPU:0\n"
          ],
          "name": "stdout"
        }
      ]
    },
    {
      "cell_type": "code",
      "metadata": {
        "id": "HriL_wn4VvIE",
        "colab_type": "code",
        "colab": {}
      },
      "source": [
        "# data url\n",
        "url = \"https://raw.githubusercontent.com/dvdbisong/gcp-learningmodels-book/master/Chapter_12/nigeria-power-consumption.csv\""
      ],
      "execution_count": 0,
      "outputs": []
    },
    {
      "cell_type": "code",
      "metadata": {
        "id": "K2jvzJqkVx0J",
        "colab_type": "code",
        "colab": {}
      },
      "source": [
        "# load data\n",
        "parse_date = lambda dates: pd.datetime.strptime(dates, '%d-%m')\n",
        "data = pd.read_csv(url, parse_dates=['Month'], index_col='Month',\n",
        "                   date_parser=parse_date,\n",
        "                   engine='python', skipfooter=2)"
      ],
      "execution_count": 0,
      "outputs": []
    },
    {
      "cell_type": "code",
      "metadata": {
        "id": "hbfgkAEIVztk",
        "colab_type": "code",
        "outputId": "8741397d-c18e-4033-eadf-755799832986",
        "colab": {
          "base_uri": "https://localhost:8080/",
          "height": 34
        }
      },
      "source": [
        "# print column name\n",
        "data.columns"
      ],
      "execution_count": 0,
      "outputs": [
        {
          "output_type": "execute_result",
          "data": {
            "text/plain": [
              "Index(['Nigeria power consumption'], dtype='object')"
            ]
          },
          "metadata": {
            "tags": []
          },
          "execution_count": 52
        }
      ]
    },
    {
      "cell_type": "code",
      "metadata": {
        "id": "krsdMB6hV07T",
        "colab_type": "code",
        "colab": {}
      },
      "source": [
        "# change column names\n",
        "data.rename(columns={'Nigeria power consumption': 'power-consumption'},\n",
        "            inplace=True)"
      ],
      "execution_count": 0,
      "outputs": []
    },
    {
      "cell_type": "code",
      "metadata": {
        "id": "GOYFMPqXV2nj",
        "colab_type": "code",
        "colab": {}
      },
      "source": [
        "# split in training and evaluation set\n",
        "data_train, data_eval = train_test_split(data, test_size=0.2, shuffle=False)"
      ],
      "execution_count": 0,
      "outputs": []
    },
    {
      "cell_type": "code",
      "metadata": {
        "id": "IyilIy3RV4Ic",
        "colab_type": "code",
        "colab": {}
      },
      "source": [
        "# MinMaxScaler - center and scale the dataset\n",
        "scaler = MinMaxScaler(feature_range=(0, 1))\n",
        "data_train = scaler.fit_transform(data_train)\n",
        "data_eval = scaler.fit_transform(data_eval)"
      ],
      "execution_count": 0,
      "outputs": []
    },
    {
      "cell_type": "code",
      "metadata": {
        "id": "lxXwLiD9V6DF",
        "colab_type": "code",
        "colab": {}
      },
      "source": [
        "# adjust univariate data for timeseries prediction\n",
        "def convert_to_sequences(data, sequence, is_target=False):\n",
        "    temp_df = []\n",
        "    for i in range(len(data) - sequence):\n",
        "        if is_target:\n",
        "            temp_df.append(data[(i+1): (i+1) + sequence])\n",
        "        else:\n",
        "            temp_df.append(data[i: i + sequence])\n",
        "    return np.array(temp_df)"
      ],
      "execution_count": 0,
      "outputs": []
    },
    {
      "cell_type": "code",
      "metadata": {
        "id": "7n4IgB1BV7tt",
        "colab_type": "code",
        "colab": {}
      },
      "source": [
        "# parameters\n",
        "time_steps = 20\n",
        "batch_size = 50"
      ],
      "execution_count": 0,
      "outputs": []
    },
    {
      "cell_type": "code",
      "metadata": {
        "id": "1wmnOzzfV8-3",
        "colab_type": "code",
        "colab": {}
      },
      "source": [
        "# create training and testing data\n",
        "train_x = convert_to_sequences(data_train, time_steps, is_target=False)\n",
        "train_y = convert_to_sequences(data_train, time_steps, is_target=True)\n",
        "\n",
        "eval_x = convert_to_sequences(data_eval, time_steps, is_target=False)\n",
        "eval_y = convert_to_sequences(data_eval, time_steps, is_target=True)"
      ],
      "execution_count": 0,
      "outputs": []
    },
    {
      "cell_type": "code",
      "metadata": {
        "id": "dItg-AJ8V-i1",
        "colab_type": "code",
        "outputId": "3b911c2c-0fa3-440b-ae83-547f506b8641",
        "colab": {
          "base_uri": "https://localhost:8080/",
          "height": 105
        }
      },
      "source": [
        "# build model\n",
        "model = tf.keras.Sequential()\n",
        "model.add(tf.keras.layers.LSTM(128, input_shape=train_x.shape[1:],\n",
        "                               return_sequences=True))\n",
        "model.add(tf.keras.layers.Dense(1))\n",
        "\n",
        "# compile the model\n",
        "model.compile(loss='mean_squared_error',\n",
        "              optimizer='adam',\n",
        "              metrics=['mse'])"
      ],
      "execution_count": 0,
      "outputs": [
        {
          "output_type": "stream",
          "text": [
            "W0610 04:51:36.732175 139770387998592 ag_logging.py:145] Entity <function standard_lstm at 0x7f1e7496e950> could not be transformed and will be executed as-is. Please report this to the AutoGraph team. When filing the bug, set the verbosity to 10 (on Linux, `export AUTOGRAPH_VERBOSITY=10`) and attach the full output. Cause: No module named 'tensorflow_core.contrib'\n",
            "W0610 04:51:36.845579 139770387998592 ag_logging.py:145] Entity <function cudnn_lstm at 0x7f1e7496e9d8> could not be transformed and will be executed as-is. Please report this to the AutoGraph team. When filing the bug, set the verbosity to 10 (on Linux, `export AUTOGRAPH_VERBOSITY=10`) and attach the full output. Cause: No module named 'tensorflow_core.contrib'\n"
          ],
          "name": "stderr"
        },
        {
          "output_type": "stream",
          "text": [
            "WARNING: Entity <function standard_lstm at 0x7f1e7496e950> could not be transformed and will be executed as-is. Please report this to the AutoGraph team. When filing the bug, set the verbosity to 10 (on Linux, `export AUTOGRAPH_VERBOSITY=10`) and attach the full output. Cause: No module named 'tensorflow_core.contrib'\n",
            "WARNING: Entity <function cudnn_lstm at 0x7f1e7496e9d8> could not be transformed and will be executed as-is. Please report this to the AutoGraph team. When filing the bug, set the verbosity to 10 (on Linux, `export AUTOGRAPH_VERBOSITY=10`) and attach the full output. Cause: No module named 'tensorflow_core.contrib'\n"
          ],
          "name": "stdout"
        }
      ]
    },
    {
      "cell_type": "code",
      "metadata": {
        "id": "XztmcZFJWB0C",
        "colab_type": "code",
        "outputId": "55b3d175-75dc-4062-a953-db17822953b1",
        "colab": {
          "base_uri": "https://localhost:8080/",
          "height": 221
        }
      },
      "source": [
        "# print model summary\n",
        "model.summary()"
      ],
      "execution_count": 0,
      "outputs": [
        {
          "output_type": "stream",
          "text": [
            "Model: \"sequential_2\"\n",
            "_________________________________________________________________\n",
            "Layer (type)                 Output Shape              Param #   \n",
            "=================================================================\n",
            "lstm_2 (LSTM)                (None, 20, 128)           66560     \n",
            "_________________________________________________________________\n",
            "dense_2 (Dense)              (None, 20, 1)             129       \n",
            "=================================================================\n",
            "Total params: 66,689\n",
            "Trainable params: 66,689\n",
            "Non-trainable params: 0\n",
            "_________________________________________________________________\n"
          ],
          "name": "stdout"
        }
      ]
    },
    {
      "cell_type": "code",
      "metadata": {
        "id": "27dYvewkWOam",
        "colab_type": "code",
        "colab": {}
      },
      "source": [
        "# create dataset pipeline\n",
        "train_ds = tf.data.Dataset.from_tensor_slices(\n",
        "    (train_x, train_y)).shuffle(len(train_x)).repeat().batch(batch_size)\n",
        "test_ds = tf.data.Dataset.from_tensor_slices((eval_x, eval_y)).batch(batch_size)"
      ],
      "execution_count": 0,
      "outputs": []
    },
    {
      "cell_type": "code",
      "metadata": {
        "id": "Frgl_m1zl4G7",
        "colab_type": "code",
        "outputId": "0f2aa65c-f7c5-45cd-8561-ee86e5e2409b",
        "colab": {
          "base_uri": "https://localhost:8080/",
          "height": 357
        }
      },
      "source": [
        "# train the model\n",
        "history = model.fit(train_ds, epochs=10,\n",
        "                    steps_per_epoch=500)"
      ],
      "execution_count": 0,
      "outputs": [
        {
          "output_type": "stream",
          "text": [
            "Epoch 1/10\n",
            "500/500 [==============================] - 14s 28ms/step - loss: 0.0062 - mse: 0.0062\n",
            "Epoch 2/10\n",
            "500/500 [==============================] - 12s 25ms/step - loss: 0.0037 - mse: 0.0037\n",
            "Epoch 3/10\n",
            "500/500 [==============================] - 12s 25ms/step - loss: 0.0035 - mse: 0.0035\n",
            "Epoch 4/10\n",
            "500/500 [==============================] - 12s 25ms/step - loss: 0.0032 - mse: 0.0032\n",
            "Epoch 5/10\n",
            "500/500 [==============================] - 12s 25ms/step - loss: 0.0023 - mse: 0.0023\n",
            "Epoch 6/10\n",
            "500/500 [==============================] - 13s 25ms/step - loss: 0.0020 - mse: 0.0020\n",
            "Epoch 7/10\n",
            "500/500 [==============================] - 12s 25ms/step - loss: 0.0018 - mse: 0.0018\n",
            "Epoch 8/10\n",
            "500/500 [==============================] - 12s 25ms/step - loss: 0.0016 - mse: 0.0016\n",
            "Epoch 9/10\n",
            "500/500 [==============================] - 12s 25ms/step - loss: 0.0015 - mse: 0.0015\n",
            "Epoch 10/10\n",
            "500/500 [==============================] - 12s 24ms/step - loss: 0.0014 - mse: 0.0014\n"
          ],
          "name": "stdout"
        }
      ]
    },
    {
      "cell_type": "code",
      "metadata": {
        "id": "7yW0oVAzWrnC",
        "colab_type": "code",
        "outputId": "2014d0f3-8ce6-453f-ec63-22b5d09c35a6",
        "colab": {
          "base_uri": "https://localhost:8080/",
          "height": 34
        }
      },
      "source": [
        "# evaluate the model\n",
        "loss, mse = model.evaluate(test_ds)"
      ],
      "execution_count": 0,
      "outputs": [
        {
          "output_type": "stream",
          "text": [
            "\r1/1 [==============================] - 0s 235ms/step - loss: 0.0330 - mse: 0.0330\n"
          ],
          "name": "stdout"
        }
      ]
    },
    {
      "cell_type": "code",
      "metadata": {
        "id": "gXbtwLuzW0Gm",
        "colab_type": "code",
        "outputId": "7ec4e39b-13b5-4403-cb7e-91ce9eb91e63",
        "colab": {
          "base_uri": "https://localhost:8080/",
          "height": 51
        }
      },
      "source": [
        "print('Test loss: {:.4f}'.format(loss))\n",
        "print('Test mse: {:.4f}'.format(mse))"
      ],
      "execution_count": 0,
      "outputs": [
        {
          "output_type": "stream",
          "text": [
            "Test loss: 0.0330\n",
            "Test mse: 0.0330\n"
          ],
          "name": "stdout"
        }
      ]
    },
    {
      "cell_type": "code",
      "metadata": {
        "id": "fEYZCYljW6UM",
        "colab_type": "code",
        "colab": {}
      },
      "source": [
        "# predict\n",
        "y_pred = model.predict(eval_x)"
      ],
      "execution_count": 0,
      "outputs": []
    },
    {
      "cell_type": "code",
      "metadata": {
        "id": "pWMWAnLsW7YU",
        "colab_type": "code",
        "outputId": "4ed65514-18fd-4b5d-d25c-cb16bceef643",
        "colab": {
          "base_uri": "https://localhost:8080/",
          "height": 295
        }
      },
      "source": [
        "# plot predicted sequence\n",
        "plt.title(\"Model Testing\", fontsize=12)\n",
        "plt.plot(eval_x[0,:,0], \"b--\", markersize=10, label=\"training instance\")\n",
        "plt.plot(eval_y[0,:,0], \"g--\", markersize=10, label=\"targets\")\n",
        "plt.plot(y_pred[0,:,0], \"r--\", markersize=10, label=\"model prediction\")\n",
        "plt.legend(loc=\"upper left\")\n",
        "plt.xlabel(\"Time\")\n",
        "plt.show()\n",
        "# plt.savefig('lstm-ts-model-testing.png', dpi=800)"
      ],
      "execution_count": 0,
      "outputs": [
        {
          "output_type": "display_data",
          "data": {
            "image/png": "[encoded data removed]",
            "text/plain": [
              "<Figure size 432x288 with 1 Axes>"
            ]
          },
          "metadata": {
            "tags": []
          }
        }
      ]
    },
    {
      "cell_type": "code",
      "metadata": {
        "id": "_XdwFz3qYtLv",
        "colab_type": "code",
        "colab": {}
      },
      "source": [
        "# use model to predict sequences using training data as seed\n",
        "rnn_data = list(data_train[:20])\n",
        "for i in range(len(data_train) - time_steps):\n",
        "    batch = np.array(rnn_data[-time_steps:]).reshape(1, time_steps, 1)\n",
        "    y_pred = model.predict(batch)\n",
        "    rnn_data.append(y_pred[0, -1, 0])"
      ],
      "execution_count": 0,
      "outputs": []
    },
    {
      "cell_type": "code",
      "metadata": {
        "id": "rI5pC8ORdoPA",
        "colab_type": "code",
        "outputId": "4b4eeb4f-a8a0-40c7-bf6c-d00cd3b6fb7a",
        "colab": {
          "base_uri": "https://localhost:8080/",
          "height": 295
        }
      },
      "source": [
        "plt.title(\"RNN vs. Original series\", fontsize=12)\n",
        "plt.plot(data_train, \"b--\", markersize=10, label=\"Original series\")\n",
        "plt.plot(rnn_data, \"g--\", markersize=10, label=\"RNN generated series\")\n",
        "plt.legend(loc=\"upper left\")\n",
        "plt.xlabel(\"Time\")\n",
        "plt.show()\n",
        "# plt.savefig('rnn-vs-original-series.png', dpi=800)"
      ],
      "execution_count": 0,
      "outputs": [
        {
          "output_type": "display_data",
          "data": {
            "image/png": "[encoded data removed]",
            "text/plain": [
              "<Figure size 432x288 with 1 Axes>"
            ]
          },
          "metadata": {
            "tags": []
          }
        }
      ]
    },
    {
      "cell_type": "code",
      "metadata": {
        "id": "B09pQeCGdl-B",
        "colab_type": "code",
        "outputId": "39099687-6701-4a77-c81f-fc3d674d4307",
        "colab": {
          "base_uri": "https://localhost:8080/",
          "height": 295
        }
      },
      "source": [
        "# inverse to normal scale and plot\n",
        "data_train_inverse = scaler.inverse_transform(data_train.reshape(-1, 1))\n",
        "rnn_data_inverse = scaler.inverse_transform(np.array(rnn_data).reshape(-1, 1))\n",
        "\n",
        "plt.title(\"RNN vs. Original series with normal scale\", fontsize=12)\n",
        "plt.plot(data_train_inverse, \"b--\", markersize=10, label=\"Original series\")\n",
        "plt.plot(rnn_data_inverse, \"g--\", markersize=10, label=\"RNN generated series\")\n",
        "plt.legend(loc=\"upper left\")\n",
        "plt.xlabel(\"Time\")\n",
        "plt.show()\n",
        "# plt.savefig('rnn-vs-original-series-normal-scale.png', dpi=800)"
      ],
      "execution_count": 0,
      "outputs": [
        {
          "output_type": "display_data",
          "data": {
            "image/png": "[encoded data removed]",
            "text/plain": [
              "<Figure size 432x288 with 1 Axes>"
            ]
          },
          "metadata": {
            "tags": []
          }
        }
      ]
    },
    {
      "cell_type": "markdown",
      "metadata": {
        "colab_type": "text",
        "id": "1QrlEPNv4Yba"
      },
      "source": [
        "## Multivariate Timeseries"
      ]
    },
    {
      "cell_type": "code",
      "metadata": {
        "colab_type": "code",
        "id": "7uHHHf8L4Ybd",
        "colab": {}
      },
      "source": [
        "# import TensorFlow 2.0 with GPU\n",
        "!pip install -q tf-nightly-gpu-2.0-preview"
      ],
      "execution_count": 0,
      "outputs": []
    },
    {
      "cell_type": "code",
      "metadata": {
        "colab_type": "code",
        "id": "D70YgaOY4Ybg",
        "colab": {}
      },
      "source": [
        "# import packages\n",
        "import tensorflow as tf\n",
        "import pandas as pd\n",
        "import numpy as np\n",
        "import matplotlib.pyplot as plt\n",
        "from sklearn.model_selection import train_test_split\n",
        "from sklearn.preprocessing import MinMaxScaler"
      ],
      "execution_count": 0,
      "outputs": []
    },
    {
      "cell_type": "code",
      "metadata": {
        "colab_type": "code",
        "outputId": "8fd7e73f-1bfe-4f58-8a7b-141718696a58",
        "id": "k0geNXrj4Ybi",
        "colab": {
          "base_uri": "https://localhost:8080/",
          "height": 34
        }
      },
      "source": [
        "# confirm tensorflow can see GPU\n",
        "device_name = tf.test.gpu_device_name()\n",
        "if device_name != '/device:GPU:0':\n",
        "  raise SystemError('GPU device not found')\n",
        "print('Found GPU at: {}'.format(device_name))"
      ],
      "execution_count": 0,
      "outputs": [
        {
          "output_type": "stream",
          "text": [
            "Found GPU at: /device:GPU:0\n"
          ],
          "name": "stdout"
        }
      ]
    },
    {
      "cell_type": "code",
      "metadata": {
        "colab_type": "code",
        "id": "kMCEku4a4Ybl",
        "colab": {}
      },
      "source": [
        "# data url\n",
        "url = \"https://raw.githubusercontent.com/dvdbisong/gcp-learningmodels-book/master/Chapter_12/dow_jones_index.data\""
      ],
      "execution_count": 0,
      "outputs": []
    },
    {
      "cell_type": "code",
      "metadata": {
        "colab_type": "code",
        "id": "hwZYidEe4Ybp",
        "colab": {}
      },
      "source": [
        "# load data\n",
        "data = pd.read_csv(url, parse_dates=['date'], index_col='date')"
      ],
      "execution_count": 0,
      "outputs": []
    },
    {
      "cell_type": "code",
      "metadata": {
        "colab_type": "code",
        "outputId": "67e36db5-850a-4fb0-9b74-eb00c00a753b",
        "id": "gzyvak_o4Ybq",
        "colab": {
          "base_uri": "https://localhost:8080/",
          "height": 119
        }
      },
      "source": [
        "# print column name\n",
        "data.columns"
      ],
      "execution_count": 0,
      "outputs": [
        {
          "output_type": "execute_result",
          "data": {
            "text/plain": [
              "Index(['quarter', 'stock', 'open', 'high', 'low', 'close', 'volume',\n",
              "       'percent_change_price', 'percent_change_volume_over_last_wk',\n",
              "       'previous_weeks_volume', 'next_weeks_open', 'next_weeks_close',\n",
              "       'percent_change_next_weeks_price', 'days_to_next_dividend',\n",
              "       'percent_return_next_dividend'],\n",
              "      dtype='object')"
            ]
          },
          "metadata": {
            "tags": []
          },
          "execution_count": 85
        }
      ]
    },
    {
      "cell_type": "code",
      "metadata": {
        "colab_type": "code",
        "id": "2FppKoUs4Ybt",
        "outputId": "770348b8-e764-4a05-82eb-d55cad9ae9d0",
        "colab": {
          "base_uri": "https://localhost:8080/",
          "height": 289
        }
      },
      "source": [
        "# print column datatypes\n",
        "data.dtypes"
      ],
      "execution_count": 0,
      "outputs": [
        {
          "output_type": "execute_result",
          "data": {
            "text/plain": [
              "quarter                                 int64\n",
              "stock                                  object\n",
              "open                                   object\n",
              "high                                   object\n",
              "low                                    object\n",
              "close                                  object\n",
              "volume                                  int64\n",
              "percent_change_price                  float64\n",
              "percent_change_volume_over_last_wk    float64\n",
              "previous_weeks_volume                 float64\n",
              "next_weeks_open                        object\n",
              "next_weeks_close                       object\n",
              "percent_change_next_weeks_price       float64\n",
              "days_to_next_dividend                   int64\n",
              "percent_return_next_dividend          float64\n",
              "dtype: object"
            ]
          },
          "metadata": {
            "tags": []
          },
          "execution_count": 86
        }
      ]
    },
    {
      "cell_type": "code",
      "metadata": {
        "colab_type": "code",
        "id": "WIz-IN254Ybx",
        "colab": {}
      },
      "source": [
        "# parameters\n",
        "outputs = 1\n",
        "stock ='BAC'  # Bank of America"
      ],
      "execution_count": 0,
      "outputs": []
    },
    {
      "cell_type": "code",
      "metadata": {
        "colab_type": "code",
        "id": "n1hP3NbZ4Yb0",
        "colab": {}
      },
      "source": [
        "def clean_dataset(data):\n",
        "    # strip dollar sign from `object` type columns\n",
        "    col = ['open', 'high', 'low', 'close', 'next_weeks_open', 'next_weeks_close']\n",
        "    data[col] = data[col].replace({'\\$': ''}, regex=True)\n",
        "    # drop NaN\n",
        "    data.dropna(inplace=True)\n",
        "    # rearrange columns\n",
        "    columns = ['quarter', 'stock', 'open', 'high', 'low', 'close', 'volume',\n",
        "       'percent_change_price', 'percent_change_volume_over_last_wk',\n",
        "       'previous_weeks_volume', 'next_weeks_open', 'next_weeks_close',\n",
        "       'days_to_next_dividend', 'percent_return_next_dividend',\n",
        "       'percent_change_next_weeks_price']\n",
        "    data = data[columns]\n",
        "    return data"
      ],
      "execution_count": 0,
      "outputs": []
    },
    {
      "cell_type": "code",
      "metadata": {
        "colab_type": "code",
        "id": "nC9woAzz4Yb2",
        "colab": {}
      },
      "source": [
        "def data_transform(data):\n",
        "    # select stock data belonging to Bank of America\n",
        "    data = data[data.stock == stock]\n",
        "    # adjust target(t) to depend on input (t-1)\n",
        "    data.percent_change_next_weeks_price = data.percent_change_next_weeks_price.shift(-1)\n",
        "    # remove nans as a result of the shifted values\n",
        "    data = data.iloc[:-1,:]\n",
        "    # split quarter 1 as training data and quarter 2 as testing data\n",
        "    train_df = data[data.quarter == 1]\n",
        "    test_df = data[data.quarter == 2]   \n",
        "    return (np.array(train_df), np.array(test_df))"
      ],
      "execution_count": 0,
      "outputs": []
    },
    {
      "cell_type": "code",
      "metadata": {
        "colab_type": "code",
        "id": "M-0QjI9p4Yb6",
        "colab": {}
      },
      "source": [
        "def normalize_and_scale(train_df, test_df):\n",
        "    # remove string columns and convert to float\n",
        "    train_df = train_df[:,2:].astype(float,copy=False)\n",
        "    test_df = test_df[:,2:].astype(float,copy=False)\n",
        "    # MinMaxScaler - center and scale the dataset\n",
        "    scaler = MinMaxScaler(feature_range=(0, 1))    \n",
        "    train_df_scale = scaler.fit_transform(train_df[:,2:])\n",
        "    test_df_scale = scaler.fit_transform(test_df[:,2:])  \n",
        "    return (scaler, train_df_scale, test_df_scale)"
      ],
      "execution_count": 0,
      "outputs": []
    },
    {
      "cell_type": "code",
      "metadata": {
        "colab_type": "code",
        "id": "-p4tWxXE4YcG",
        "colab": {}
      },
      "source": [
        "# clean the dataset\n",
        "data = clean_dataset(data)"
      ],
      "execution_count": 0,
      "outputs": []
    },
    {
      "cell_type": "code",
      "metadata": {
        "colab_type": "code",
        "outputId": "d4a849c9-37a8-4c69-8d72-a261d465d494",
        "id": "igMf8ChG4YcN",
        "colab": {
          "base_uri": "https://localhost:8080/",
          "height": 119
        }
      },
      "source": [
        "# select Dow Jones stock and split into training and test sets\n",
        "train_df, test_df = data_transform(data)"
      ],
      "execution_count": 0,
      "outputs": [
        {
          "output_type": "stream",
          "text": [
            "/usr/local/lib/python3.6/dist-packages/pandas/core/generic.py:5096: SettingWithCopyWarning: \n",
            "A value is trying to be set on a copy of a slice from a DataFrame.\n",
            "Try using .loc[row_indexer,col_indexer] = value instead\n",
            "\n",
            "See the caveats in the documentation: http://pandas.pydata.org/pandas-docs/stable/indexing.html#indexing-view-versus-copy\n",
            "  self[name] = value\n"
          ],
          "name": "stderr"
        }
      ]
    },
    {
      "cell_type": "code",
      "metadata": {
        "colab_type": "code",
        "id": "3cXwgOCx4YcQ",
        "colab": {}
      },
      "source": [
        "# scale the data\n",
        "scaler, train_df_scaled, test_df_scaled = normalize_and_scale(train_df, test_df)"
      ],
      "execution_count": 0,
      "outputs": []
    },
    {
      "cell_type": "code",
      "metadata": {
        "colab_type": "code",
        "id": "w4TmeaZl4YcS",
        "colab": {}
      },
      "source": [
        "# split train/ test\n",
        "train_X, train_y = train_df_scaled[:, :-1], train_df_scaled[:, -1]\n",
        "test_X, test_y = test_df_scaled[:, :-1], test_df_scaled[:, -1]"
      ],
      "execution_count": 0,
      "outputs": []
    },
    {
      "cell_type": "code",
      "metadata": {
        "colab_type": "code",
        "id": "dnyoT2-94YcW",
        "colab": {}
      },
      "source": [
        "# reshape inputs to 3D array\n",
        "train_X = train_X[:,None,:]\n",
        "test_X = test_X[:,None,:]"
      ],
      "execution_count": 0,
      "outputs": []
    },
    {
      "cell_type": "code",
      "metadata": {
        "colab_type": "code",
        "id": "_nb3rmkY4Yca",
        "colab": {}
      },
      "source": [
        "# reshape outputs\n",
        "train_y = np.reshape(train_y, (-1,outputs))\n",
        "test_y = np.reshape(test_y, (-1,outputs))"
      ],
      "execution_count": 0,
      "outputs": []
    },
    {
      "cell_type": "code",
      "metadata": {
        "colab_type": "code",
        "id": "TeLjlCgN4Ycc",
        "colab": {}
      },
      "source": [
        "# model parameters\n",
        "batch_size = int(train_X.shape[0]/5)\n",
        "length = train_X.shape[0]"
      ],
      "execution_count": 0,
      "outputs": []
    },
    {
      "cell_type": "code",
      "metadata": {
        "colab_type": "code",
        "id": "R6Jpfgkm4Ycm",
        "outputId": "695ae640-8292-4b64-9033-f2e4e0d34752",
        "colab": {
          "base_uri": "https://localhost:8080/",
          "height": 241
        }
      },
      "source": [
        "# build model\n",
        "model = tf.keras.Sequential()\n",
        "model.add(tf.keras.layers.GRU(128, input_shape=train_X.shape[1:],\n",
        "                               return_sequences=True))\n",
        "model.add(tf.keras.layers.GRU(100, return_sequences=True))\n",
        "model.add(tf.keras.layers.GRU(64))\n",
        "model.add(tf.keras.layers.Dense(1))\n",
        "\n",
        "# compile the model\n",
        "model.compile(loss='mean_squared_error',\n",
        "              optimizer='adam',\n",
        "              metrics=['mse'])"
      ],
      "execution_count": 0,
      "outputs": [
        {
          "output_type": "stream",
          "text": [
            "W0610 06:11:23.746963 139770387998592 ag_logging.py:145] Entity <function standard_gru at 0x7f1e7496e400> could not be transformed and will be executed as-is. Please report this to the AutoGraph team. When filing the bug, set the verbosity to 10 (on Linux, `export AUTOGRAPH_VERBOSITY=10`) and attach the full output. Cause: No module named 'tensorflow_core.contrib'\n",
            "W0610 06:11:23.858603 139770387998592 ag_logging.py:145] Entity <function cudnn_gru at 0x7f1e7496e6a8> could not be transformed and will be executed as-is. Please report this to the AutoGraph team. When filing the bug, set the verbosity to 10 (on Linux, `export AUTOGRAPH_VERBOSITY=10`) and attach the full output. Cause: No module named 'tensorflow_core.contrib'\n"
          ],
          "name": "stderr"
        },
        {
          "output_type": "stream",
          "text": [
            "WARNING: Entity <function standard_gru at 0x7f1e7496e400> could not be transformed and will be executed as-is. Please report this to the AutoGraph team. When filing the bug, set the verbosity to 10 (on Linux, `export AUTOGRAPH_VERBOSITY=10`) and attach the full output. Cause: No module named 'tensorflow_core.contrib'\n",
            "WARNING: Entity <function cudnn_gru at 0x7f1e7496e6a8> could not be transformed and will be executed as-is. Please report this to the AutoGraph team. When filing the bug, set the verbosity to 10 (on Linux, `export AUTOGRAPH_VERBOSITY=10`) and attach the full output. Cause: No module named 'tensorflow_core.contrib'\n"
          ],
          "name": "stdout"
        },
        {
          "output_type": "stream",
          "text": [
            "W0610 06:11:24.044071 139770387998592 ag_logging.py:145] Entity <function standard_gru at 0x7f1e7496e400> could not be transformed and will be executed as-is. Please report this to the AutoGraph team. When filing the bug, set the verbosity to 10 (on Linux, `export AUTOGRAPH_VERBOSITY=10`) and attach the full output. Cause: No module named 'tensorflow_core.contrib'\n",
            "W0610 06:11:24.164159 139770387998592 ag_logging.py:145] Entity <function cudnn_gru at 0x7f1e7496e6a8> could not be transformed and will be executed as-is. Please report this to the AutoGraph team. When filing the bug, set the verbosity to 10 (on Linux, `export AUTOGRAPH_VERBOSITY=10`) and attach the full output. Cause: No module named 'tensorflow_core.contrib'\n"
          ],
          "name": "stderr"
        },
        {
          "output_type": "stream",
          "text": [
            "WARNING: Entity <function standard_gru at 0x7f1e7496e400> could not be transformed and will be executed as-is. Please report this to the AutoGraph team. When filing the bug, set the verbosity to 10 (on Linux, `export AUTOGRAPH_VERBOSITY=10`) and attach the full output. Cause: No module named 'tensorflow_core.contrib'\n",
            "WARNING: Entity <function cudnn_gru at 0x7f1e7496e6a8> could not be transformed and will be executed as-is. Please report this to the AutoGraph team. When filing the bug, set the verbosity to 10 (on Linux, `export AUTOGRAPH_VERBOSITY=10`) and attach the full output. Cause: No module named 'tensorflow_core.contrib'\n"
          ],
          "name": "stdout"
        },
        {
          "output_type": "stream",
          "text": [
            "W0610 06:11:24.364269 139770387998592 ag_logging.py:145] Entity <function standard_gru at 0x7f1e7496e400> could not be transformed and will be executed as-is. Please report this to the AutoGraph team. When filing the bug, set the verbosity to 10 (on Linux, `export AUTOGRAPH_VERBOSITY=10`) and attach the full output. Cause: No module named 'tensorflow_core.contrib'\n",
            "W0610 06:11:24.484912 139770387998592 ag_logging.py:145] Entity <function cudnn_gru at 0x7f1e7496e6a8> could not be transformed and will be executed as-is. Please report this to the AutoGraph team. When filing the bug, set the verbosity to 10 (on Linux, `export AUTOGRAPH_VERBOSITY=10`) and attach the full output. Cause: No module named 'tensorflow_core.contrib'\n"
          ],
          "name": "stderr"
        },
        {
          "output_type": "stream",
          "text": [
            "WARNING: Entity <function standard_gru at 0x7f1e7496e400> could not be transformed and will be executed as-is. Please report this to the AutoGraph team. When filing the bug, set the verbosity to 10 (on Linux, `export AUTOGRAPH_VERBOSITY=10`) and attach the full output. Cause: No module named 'tensorflow_core.contrib'\n",
            "WARNING: Entity <function cudnn_gru at 0x7f1e7496e6a8> could not be transformed and will be executed as-is. Please report this to the AutoGraph team. When filing the bug, set the verbosity to 10 (on Linux, `export AUTOGRAPH_VERBOSITY=10`) and attach the full output. Cause: No module named 'tensorflow_core.contrib'\n"
          ],
          "name": "stdout"
        }
      ]
    },
    {
      "cell_type": "code",
      "metadata": {
        "colab_type": "code",
        "outputId": "8d57d9a0-0353-4774-a7c7-9b6b829e8fa3",
        "id": "YCQ3n4r34Ycz",
        "colab": {
          "base_uri": "https://localhost:8080/",
          "height": 289
        }
      },
      "source": [
        "# print model summary\n",
        "model.summary()"
      ],
      "execution_count": 0,
      "outputs": [
        {
          "output_type": "stream",
          "text": [
            "Model: \"sequential_3\"\n",
            "_________________________________________________________________\n",
            "Layer (type)                 Output Shape              Param #   \n",
            "=================================================================\n",
            "gru (GRU)                    (None, 1, 128)            53760     \n",
            "_________________________________________________________________\n",
            "gru_1 (GRU)                  (None, 1, 100)            69000     \n",
            "_________________________________________________________________\n",
            "gru_2 (GRU)                  (None, 64)                31872     \n",
            "_________________________________________________________________\n",
            "dense_3 (Dense)              (None, 1)                 65        \n",
            "=================================================================\n",
            "Total params: 154,697\n",
            "Trainable params: 154,697\n",
            "Non-trainable params: 0\n",
            "_________________________________________________________________\n"
          ],
          "name": "stdout"
        }
      ]
    },
    {
      "cell_type": "code",
      "metadata": {
        "colab_type": "code",
        "id": "mFh3w3Zb4Yc4",
        "colab": {}
      },
      "source": [
        "# create dataset pipeline\n",
        "train_ds = tf.data.Dataset.from_tensor_slices(\n",
        "    (train_X, train_y)).shuffle(len(train_X)).repeat().batch(batch_size)\n",
        "test_ds = tf.data.Dataset.from_tensor_slices((test_X, test_y)).batch(batch_size)"
      ],
      "execution_count": 0,
      "outputs": []
    },
    {
      "cell_type": "code",
      "metadata": {
        "colab_type": "code",
        "outputId": "6e393577-d299-4024-a3b3-7fb18a8d4d67",
        "id": "pHgdAMmZ4Yc5",
        "colab": {
          "base_uri": "https://localhost:8080/",
          "height": 357
        }
      },
      "source": [
        "# train the model\n",
        "history = model.fit(train_ds, epochs=10,\n",
        "                    steps_per_epoch=500)"
      ],
      "execution_count": 0,
      "outputs": [
        {
          "output_type": "stream",
          "text": [
            "Epoch 1/10\n",
            "500/500 [==============================] - 8s 16ms/step - loss: 0.0235 - mse: 0.0235\n",
            "Epoch 2/10\n",
            "500/500 [==============================] - 6s 11ms/step - loss: 0.0012 - mse: 0.0012\n",
            "Epoch 3/10\n",
            "500/500 [==============================] - 6s 11ms/step - loss: 3.4133e-04 - mse: 3.4133e-04\n",
            "Epoch 4/10\n",
            "500/500 [==============================] - 6s 11ms/step - loss: 9.0216e-04 - mse: 9.0216e-04\n",
            "Epoch 5/10\n",
            "500/500 [==============================] - 6s 11ms/step - loss: 4.4839e-04 - mse: 4.4839e-04\n",
            "Epoch 6/10\n",
            "500/500 [==============================] - 6s 11ms/step - loss: 1.0782e-04 - mse: 1.0782e-04\n",
            "Epoch 7/10\n",
            "500/500 [==============================] - 6s 11ms/step - loss: 2.0152e-05 - mse: 2.0152e-05\n",
            "Epoch 8/10\n",
            "500/500 [==============================] - 6s 11ms/step - loss: 0.0010 - mse: 0.0010\n",
            "Epoch 9/10\n",
            "500/500 [==============================] - 6s 11ms/step - loss: 4.2878e-06 - mse: 4.2878e-06\n",
            "Epoch 10/10\n",
            "500/500 [==============================] - 6s 11ms/step - loss: 4.2001e-04 - mse: 4.2001e-04\n"
          ],
          "name": "stdout"
        }
      ]
    },
    {
      "cell_type": "code",
      "metadata": {
        "colab_type": "code",
        "outputId": "4401a6d5-7050-44bb-e788-5d09deb7d193",
        "id": "ipa9pLzx4Yc7",
        "colab": {
          "base_uri": "https://localhost:8080/",
          "height": 34
        }
      },
      "source": [
        "# evaluate the model\n",
        "loss, mse = model.evaluate(test_ds)"
      ],
      "execution_count": 0,
      "outputs": [
        {
          "output_type": "stream",
          "text": [
            "6/6 [==============================] - 1s 99ms/step - loss: 0.1635 - mse: 0.1635\n"
          ],
          "name": "stdout"
        }
      ]
    },
    {
      "cell_type": "code",
      "metadata": {
        "id": "hCV5x74mBYPH",
        "colab_type": "code",
        "outputId": "d8768a04-83a6-48b8-de3b-1cffdccf5949",
        "colab": {
          "base_uri": "https://localhost:8080/",
          "height": 51
        }
      },
      "source": [
        "print('Test loss: {:.4f}'.format(loss))\n",
        "print('Test mse: {:.4f}'.format(mse))"
      ],
      "execution_count": 0,
      "outputs": [
        {
          "output_type": "stream",
          "text": [
            "Test loss: 0.1635\n",
            "Test mse: 0.1635\n"
          ],
          "name": "stdout"
        }
      ]
    },
    {
      "cell_type": "code",
      "metadata": {
        "id": "VPY1HASXBYTD",
        "colab_type": "code",
        "colab": {}
      },
      "source": [
        "# predict\n",
        "y_pred = model.predict(test_X)"
      ],
      "execution_count": 0,
      "outputs": []
    },
    {
      "cell_type": "code",
      "metadata": {
        "id": "NipWqrsgBdXZ",
        "colab_type": "code",
        "outputId": "ddcada21-a705-4505-cb25-b520a91a528a",
        "colab": {
          "base_uri": "https://localhost:8080/",
          "height": 295
        }
      },
      "source": [
        "# plot\n",
        "plt.figure(1)\n",
        "plt.title(\"Keras - GRU RNN Model Testing for '{}' stock\".format(stock), fontsize=12)\n",
        "plt.plot(test_y, \"g--\", markersize=10, label=\"targets\")\n",
        "plt.plot(y_pred, \"r--\", markersize=10, label=\"model prediction\")\n",
        "plt.legend()\n",
        "plt.xlabel(\"Time\")\n",
        "plt.show()\n",
        "# plt.savefig('gru-bac-model.png', dpi=800)"
      ],
      "execution_count": 0,
      "outputs": [
        {
          "output_type": "display_data",
          "data": {
            "image/png": "[encoded data removed]",
            "text/plain": [
              "<Figure size 432x288 with 1 Axes>"
            ]
          },
          "metadata": {
            "tags": []
          }
        }
      ]
    }
  ]
}