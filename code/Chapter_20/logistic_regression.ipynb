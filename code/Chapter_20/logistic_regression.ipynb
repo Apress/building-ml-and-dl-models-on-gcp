{
  "nbformat": 4,
  "nbformat_minor": 0,
  "metadata": {
    "colab": {
      "name": "logistic_regression.ipynb",
      "version": "0.3.2",
      "provenance": [],
      "collapsed_sections": [
        "uluS9VSIa2jW"
      ]
    },
    "kernelspec": {
      "name": "python3",
      "display_name": "Python 3"
    }
  },
  "cells": [
    {
      "cell_type": "markdown",
      "metadata": {
        "id": "JkBcDvAgQ6Z0",
        "colab_type": "text"
      },
      "source": [
        "# Chapter 20 - Logistic Regression\n",
        "## Building Machine Learning and Deep Learning Models on Google Cloud Platform\n",
        "### Ekaba Bisong"
      ]
    },
    {
      "cell_type": "markdown",
      "metadata": {
        "id": "uluS9VSIa2jW",
        "colab_type": "text"
      },
      "source": [
        "## Logistic Regression (scikit-learn)"
      ]
    },
    {
      "cell_type": "code",
      "metadata": {
        "id": "VUKsLf9Ia14S",
        "colab_type": "code",
        "colab": {}
      },
      "source": [
        "# import packages\n",
        "from sklearn.linear_model import LogisticRegression\n",
        "from sklearn import datasets\n",
        "from sklearn.model_selection import train_test_split\n",
        "from sklearn.metrics import accuracy_score\n",
        "from sklearn.metrics import multilabel_confusion_matrix"
      ],
      "execution_count": 0,
      "outputs": []
    },
    {
      "cell_type": "code",
      "metadata": {
        "id": "vSUKPMGHVPW1",
        "colab_type": "code",
        "colab": {}
      },
      "source": [
        "# load dataset\n",
        "data = datasets.load_iris()\n",
        "\n",
        "# separate features and target\n",
        "X = data.data\n",
        "y = data.target"
      ],
      "execution_count": 0,
      "outputs": []
    },
    {
      "cell_type": "code",
      "metadata": {
        "id": "UhgMlem0VQ8e",
        "colab_type": "code",
        "colab": {}
      },
      "source": [
        "# split in train and test sets\n",
        "X_train, X_test, y_train, y_test = train_test_split(X, y, shuffle=True)"
      ],
      "execution_count": 0,
      "outputs": []
    },
    {
      "cell_type": "code",
      "metadata": {
        "id": "mHFaaXsJVSQk",
        "colab_type": "code",
        "colab": {}
      },
      "source": [
        "# create the logistic regressoion model using the one-versus-rest classifier\n",
        "logistic_reg = LogisticRegression(solver='lbfgs', multi_class='ovr')"
      ],
      "execution_count": 0,
      "outputs": []
    },
    {
      "cell_type": "code",
      "metadata": {
        "id": "rf8WZIOAVTUD",
        "colab_type": "code",
        "outputId": "4a7939c1-152d-4517-ee75-64119055ce22",
        "colab": {
          "base_uri": "https://localhost:8080/",
          "height": 102
        }
      },
      "source": [
        "# fit the model on the training set\n",
        "logistic_reg.fit(X_train, y_train)"
      ],
      "execution_count": 0,
      "outputs": [
        {
          "output_type": "execute_result",
          "data": {
            "text/plain": [
              "LogisticRegression(C=1.0, class_weight=None, dual=False, fit_intercept=True,\n",
              "                   intercept_scaling=1, l1_ratio=None, max_iter=100,\n",
              "                   multi_class='ovr', n_jobs=None, penalty='l2',\n",
              "                   random_state=None, solver='lbfgs', tol=0.0001, verbose=0,\n",
              "                   warm_start=False)"
            ]
          },
          "metadata": {
            "tags": []
          },
          "execution_count": 5
        }
      ]
    },
    {
      "cell_type": "code",
      "metadata": {
        "id": "OVtDsnbJVUnE",
        "colab_type": "code",
        "colab": {}
      },
      "source": [
        "# make predictions on the test set\n",
        "predictions = logistic_reg.predict(X_test)"
      ],
      "execution_count": 0,
      "outputs": []
    },
    {
      "cell_type": "code",
      "metadata": {
        "id": "wH6FIstVWbLh",
        "colab_type": "code",
        "outputId": "6748b04b-4e68-4c73-bf2c-2b548c8c9512",
        "colab": {
          "base_uri": "https://localhost:8080/",
          "height": 34
        }
      },
      "source": [
        "# evaluate the model performance using accuracy metric\n",
        "print(\"Accuracy: %.2f\" % accuracy_score(y_test, predictions))"
      ],
      "execution_count": 0,
      "outputs": [
        {
          "output_type": "stream",
          "text": [
            "Accuracy: 0.97\n"
          ],
          "name": "stdout"
        }
      ]
    },
    {
      "cell_type": "code",
      "metadata": {
        "id": "NXUEjJfecMV1",
        "colab_type": "code",
        "outputId": "10c9bff5-3d75-49d3-9a21-56822b8bee33",
        "colab": {
          "base_uri": "https://localhost:8080/",
          "height": 153
        }
      },
      "source": [
        "# print the confusion matrix\n",
        "multilabel_confusion_matrix(y_test, predictions)"
      ],
      "execution_count": 0,
      "outputs": [
        {
          "output_type": "execute_result",
          "data": {
            "text/plain": [
              "array([[[26,  0],\n",
              "        [ 0, 12]],\n",
              "\n",
              "       [[25,  0],\n",
              "        [ 1, 12]],\n",
              "\n",
              "       [[24,  1],\n",
              "        [ 0, 13]]])"
            ]
          },
          "metadata": {
            "tags": []
          },
          "execution_count": 14
        }
      ]
    }
  ]
}