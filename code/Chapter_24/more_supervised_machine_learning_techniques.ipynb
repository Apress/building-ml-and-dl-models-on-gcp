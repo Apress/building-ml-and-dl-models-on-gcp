{
  "nbformat": 4,
  "nbformat_minor": 0,
  "metadata": {
    "colab": {
      "name": "more_supervised_machine_learning_techniques.ipynb",
      "version": "0.3.2",
      "provenance": [],
      "collapsed_sections": [
        "cQijYmY4Fa15",
        "DxPLZBS0GF2b",
        "65l6P14GGSkm",
        "7jtGgk7eGrfC",
        "wes57SXeGvEA",
        "9y78xFs7HBnR",
        "TxSsWX7KHQz0",
        "yxUWKVbhHTsv",
        "misBCbIiHxt4",
        "FM-58bD1IRLB",
        "NFVtlrUVLPi2",
        "UUxf7OzWMfFn",
        "KshIODcPNEbn",
        "xStEp3jhOODT",
        "n--7183HOw4j",
        "9Xn6391AOxwN",
        "l5bC5IFAWPOH"
      ]
    },
    "kernelspec": {
      "name": "python3",
      "display_name": "Python 3"
    }
  },
  "cells": [
    {
      "cell_type": "markdown",
      "metadata": {
        "id": "ihczBTrY60KE",
        "colab_type": "text"
      },
      "source": [
        "# Chapter 24 - More Supervised Machine Learning Techniques with Scikit-learn\n",
        "## Building Machine Learning and Deep Learning Models on Google Cloud Platform\n",
        "### Ekaba Bisong"
      ]
    },
    {
      "cell_type": "markdown",
      "metadata": {
        "id": "cQijYmY4Fa15",
        "colab_type": "text"
      },
      "source": [
        "## Statistical tests to select the best  features using the SelectKBest module"
      ]
    },
    {
      "cell_type": "code",
      "metadata": {
        "id": "hVPemUph6L4n",
        "colab_type": "code",
        "colab": {}
      },
      "source": [
        "# import packages\n",
        "from sklearn import datasets\n",
        "from sklearn.feature_selection import SelectKBest\n",
        "from sklearn.feature_selection import chi2"
      ],
      "execution_count": 0,
      "outputs": []
    },
    {
      "cell_type": "code",
      "metadata": {
        "id": "KtX0yaDqFfU3",
        "colab_type": "code",
        "colab": {}
      },
      "source": [
        "# load dataset\n",
        "data = datasets.load_iris()"
      ],
      "execution_count": 0,
      "outputs": []
    },
    {
      "cell_type": "code",
      "metadata": {
        "id": "6LjMKTWrFgjv",
        "colab_type": "code",
        "colab": {}
      },
      "source": [
        "# separate features and target\n",
        "X = data.data\n",
        "y = data.target"
      ],
      "execution_count": 0,
      "outputs": []
    },
    {
      "cell_type": "code",
      "metadata": {
        "id": "xJM5SxbUFzQb",
        "colab_type": "code",
        "outputId": "9d174d6d-845a-4fe1-d80e-3095c74e33a3",
        "colab": {
          "base_uri": "https://localhost:8080/",
          "height": 102
        }
      },
      "source": [
        "# display first 5 rows\n",
        "X[0:5,:]"
      ],
      "execution_count": 0,
      "outputs": [
        {
          "output_type": "execute_result",
          "data": {
            "text/plain": [
              "array([[5.1, 3.5, 1.4, 0.2],\n",
              "       [4.9, 3. , 1.4, 0.2],\n",
              "       [4.7, 3.2, 1.3, 0.2],\n",
              "       [4.6, 3.1, 1.5, 0.2],\n",
              "       [5. , 3.6, 1.4, 0.2]])"
            ]
          },
          "metadata": {
            "tags": []
          },
          "execution_count": 10
        }
      ]
    },
    {
      "cell_type": "code",
      "metadata": {
        "id": "8eazIr2PFiQt",
        "colab_type": "code",
        "colab": {}
      },
      "source": [
        "# feature engineering. Let's see the best 3 features by setting k = 3\n",
        "kBest_chi = SelectKBest(score_func=chi2, k=3)\n",
        "fit_test = kBest_chi.fit(X, y)"
      ],
      "execution_count": 0,
      "outputs": []
    },
    {
      "cell_type": "code",
      "metadata": {
        "id": "UQLrXj36Fkgp",
        "colab_type": "code",
        "outputId": "f3dc34a5-dd28-4dd0-90c6-35f594ad8693",
        "colab": {
          "base_uri": "https://localhost:8080/",
          "height": 34
        }
      },
      "source": [
        "# print test scores\n",
        "fit_test.scores_"
      ],
      "execution_count": 0,
      "outputs": [
        {
          "output_type": "execute_result",
          "data": {
            "text/plain": [
              "array([ 10.81782088,   3.7107283 , 116.31261309,  67.0483602 ])"
            ]
          },
          "metadata": {
            "tags": []
          },
          "execution_count": 5
        }
      ]
    },
    {
      "cell_type": "code",
      "metadata": {
        "id": "I-uXHgMWFsvb",
        "colab_type": "code",
        "outputId": "cfb6d68e-c8a4-4e15-cdf5-1579ae2357e9",
        "colab": {
          "base_uri": "https://localhost:8080/",
          "height": 102
        }
      },
      "source": [
        "# we can transform the dataset to subset only the important features.\n",
        "adjusted_features = fit_test.transform(X)\n",
        "adjusted_features[0:5,:]"
      ],
      "execution_count": 0,
      "outputs": [
        {
          "output_type": "execute_result",
          "data": {
            "text/plain": [
              "array([[5.1, 1.4, 0.2],\n",
              "       [4.9, 1.4, 0.2],\n",
              "       [4.7, 1.3, 0.2],\n",
              "       [4.6, 1.5, 0.2],\n",
              "       [5. , 1.4, 0.2]])"
            ]
          },
          "metadata": {
            "tags": []
          },
          "execution_count": 6
        }
      ]
    },
    {
      "cell_type": "markdown",
      "metadata": {
        "id": "DxPLZBS0GF2b",
        "colab_type": "text"
      },
      "source": [
        "## Recursive Feature Elimination (RFE)"
      ]
    },
    {
      "cell_type": "code",
      "metadata": {
        "id": "qVHvG-yBGFMa",
        "colab_type": "code",
        "colab": {}
      },
      "source": [
        "# import packages\n",
        "from sklearn.feature_selection import RFE\n",
        "from sklearn.linear_model import LinearRegression\n",
        "from sklearn import datasets"
      ],
      "execution_count": 0,
      "outputs": []
    },
    {
      "cell_type": "code",
      "metadata": {
        "id": "2zFupTQUGKOJ",
        "colab_type": "code",
        "colab": {}
      },
      "source": [
        "# load dataset\n",
        "data = datasets.load_boston()"
      ],
      "execution_count": 0,
      "outputs": []
    },
    {
      "cell_type": "code",
      "metadata": {
        "id": "20YfGRFPGLnB",
        "colab_type": "code",
        "colab": {}
      },
      "source": [
        "# separate features and target\n",
        "X = data.data\n",
        "y = data.target"
      ],
      "execution_count": 0,
      "outputs": []
    },
    {
      "cell_type": "code",
      "metadata": {
        "id": "Dvbt6uohGNRp",
        "colab_type": "code",
        "colab": {}
      },
      "source": [
        "# feature engineering\n",
        "linear_reg = LinearRegression()\n",
        "rfe = RFE(estimator=linear_reg, n_features_to_select=6)\n",
        "rfe_fit = rfe.fit(X, y)"
      ],
      "execution_count": 0,
      "outputs": []
    },
    {
      "cell_type": "code",
      "metadata": {
        "id": "bI8nm0U7GPFi",
        "colab_type": "code",
        "outputId": "7933a8c9-ff53-46c9-b9db-14c19c9e5f45",
        "colab": {
          "base_uri": "https://localhost:8080/",
          "height": 34
        }
      },
      "source": [
        "# print the feature ranking\n",
        "rfe_fit.ranking_"
      ],
      "execution_count": 0,
      "outputs": [
        {
          "output_type": "execute_result",
          "data": {
            "text/plain": [
              "array([3, 5, 4, 1, 1, 1, 8, 1, 2, 6, 1, 7, 1])"
            ]
          },
          "metadata": {
            "tags": []
          },
          "execution_count": 15
        }
      ]
    },
    {
      "cell_type": "markdown",
      "metadata": {
        "id": "65l6P14GGSkm",
        "colab_type": "text"
      },
      "source": [
        "## Feature Importances"
      ]
    },
    {
      "cell_type": "code",
      "metadata": {
        "id": "TM0ZrMtfGQYy",
        "colab_type": "code",
        "colab": {}
      },
      "source": [
        "# import packages\n",
        "from sklearn.ensemble import AdaBoostClassifier\n",
        "from sklearn.feature_selection import SelectFromModel\n",
        "from sklearn import datasets"
      ],
      "execution_count": 0,
      "outputs": []
    },
    {
      "cell_type": "code",
      "metadata": {
        "id": "ESziGOWtGXK8",
        "colab_type": "code",
        "colab": {}
      },
      "source": [
        "# load dataset\n",
        "data = datasets.load_iris()"
      ],
      "execution_count": 0,
      "outputs": []
    },
    {
      "cell_type": "code",
      "metadata": {
        "id": "rcAPkkbuGYKU",
        "colab_type": "code",
        "colab": {}
      },
      "source": [
        "# separate features and target\n",
        "X = data.data\n",
        "y = data.target"
      ],
      "execution_count": 0,
      "outputs": []
    },
    {
      "cell_type": "code",
      "metadata": {
        "id": "0H9ywEgMGmIb",
        "colab_type": "code",
        "outputId": "c3b911bb-fe84-4594-da67-3ad54e66a513",
        "colab": {
          "base_uri": "https://localhost:8080/",
          "height": 34
        }
      },
      "source": [
        "# original data shape\n",
        "X.shape"
      ],
      "execution_count": 0,
      "outputs": [
        {
          "output_type": "execute_result",
          "data": {
            "text/plain": [
              "(150, 4)"
            ]
          },
          "metadata": {
            "tags": []
          },
          "execution_count": 25
        }
      ]
    },
    {
      "cell_type": "code",
      "metadata": {
        "id": "LDQdobCeGZht",
        "colab_type": "code",
        "outputId": "994b5925-a1d6-40f1-e828-819d0d1b19bd",
        "colab": {
          "base_uri": "https://localhost:8080/",
          "height": 51
        }
      },
      "source": [
        "# feature engineering\n",
        "ada_boost_classifier = AdaBoostClassifier()\n",
        "ada_boost_classifier.fit(X, y)"
      ],
      "execution_count": 0,
      "outputs": [
        {
          "output_type": "execute_result",
          "data": {
            "text/plain": [
              "AdaBoostClassifier(algorithm='SAMME.R', base_estimator=None, learning_rate=1.0,\n",
              "                   n_estimators=50, random_state=None)"
            ]
          },
          "metadata": {
            "tags": []
          },
          "execution_count": 19
        }
      ]
    },
    {
      "cell_type": "code",
      "metadata": {
        "id": "ntbJGU2cGbH9",
        "colab_type": "code",
        "outputId": "3f0fe8a5-0b85-4625-e2ae-5bf5e19bf07e",
        "colab": {
          "base_uri": "https://localhost:8080/",
          "height": 34
        }
      },
      "source": [
        "# print the feature importances\n",
        "ada_boost_classifier.feature_importances_"
      ],
      "execution_count": 0,
      "outputs": [
        {
          "output_type": "execute_result",
          "data": {
            "text/plain": [
              "array([0. , 0. , 0.5, 0.5])"
            ]
          },
          "metadata": {
            "tags": []
          },
          "execution_count": 20
        }
      ]
    },
    {
      "cell_type": "code",
      "metadata": {
        "id": "hzC6xpvsGfve",
        "colab_type": "code",
        "colab": {}
      },
      "source": [
        "# create a subset of data based on the relevant features\n",
        "model = SelectFromModel(ada_boost_classifier, prefit=True)\n",
        "new_data = model.transform(X)"
      ],
      "execution_count": 0,
      "outputs": []
    },
    {
      "cell_type": "code",
      "metadata": {
        "id": "rdI6Z0UIGg_e",
        "colab_type": "code",
        "outputId": "07c23b9a-7bc3-4e80-fc86-dd154915faac",
        "colab": {
          "base_uri": "https://localhost:8080/",
          "height": 34
        }
      },
      "source": [
        "# the irrelevant features have been removed\n",
        "new_data.shape"
      ],
      "execution_count": 0,
      "outputs": [
        {
          "output_type": "execute_result",
          "data": {
            "text/plain": [
              "(150, 2)"
            ]
          },
          "metadata": {
            "tags": []
          },
          "execution_count": 23
        }
      ]
    },
    {
      "cell_type": "markdown",
      "metadata": {
        "id": "7jtGgk7eGrfC",
        "colab_type": "text"
      },
      "source": [
        "## Resampling Methods"
      ]
    },
    {
      "cell_type": "markdown",
      "metadata": {
        "id": "wes57SXeGvEA",
        "colab_type": "text"
      },
      "source": [
        "### k-Fold cross validation"
      ]
    },
    {
      "cell_type": "code",
      "metadata": {
        "id": "AbDGDG8DGh1V",
        "colab_type": "code",
        "colab": {}
      },
      "source": [
        "from sklearn.model_selection import KFold\n",
        "from sklearn.model_selection import cross_val_score\n",
        "from sklearn.neighbors import KNeighborsClassifier"
      ],
      "execution_count": 0,
      "outputs": []
    },
    {
      "cell_type": "code",
      "metadata": {
        "id": "9cN0sDsiG4xV",
        "colab_type": "code",
        "colab": {}
      },
      "source": [
        "# load dataset\n",
        "data = datasets.load_iris()"
      ],
      "execution_count": 0,
      "outputs": []
    },
    {
      "cell_type": "code",
      "metadata": {
        "id": "ekok66t-G56N",
        "colab_type": "code",
        "colab": {}
      },
      "source": [
        "# separate features and target\n",
        "X = data.data\n",
        "y = data.target"
      ],
      "execution_count": 0,
      "outputs": []
    },
    {
      "cell_type": "code",
      "metadata": {
        "id": "MhsBDO2AG7Fu",
        "colab_type": "code",
        "colab": {}
      },
      "source": [
        "# initialize KFold - with shuffle = True, shuffle the data before splitting\n",
        "kfold = KFold(n_splits=3, shuffle=True)"
      ],
      "execution_count": 0,
      "outputs": []
    },
    {
      "cell_type": "code",
      "metadata": {
        "id": "8M82xuhkG8CV",
        "colab_type": "code",
        "colab": {}
      },
      "source": [
        "# create the model\n",
        "knn_clf = KNeighborsClassifier(n_neighbors=3)"
      ],
      "execution_count": 0,
      "outputs": []
    },
    {
      "cell_type": "code",
      "metadata": {
        "id": "49itHLxVG9Wu",
        "colab_type": "code",
        "colab": {}
      },
      "source": [
        "# fit the model using cross validation\n",
        "cv_result = cross_val_score(knn_clf, X, y, cv=kfold)"
      ],
      "execution_count": 0,
      "outputs": []
    },
    {
      "cell_type": "code",
      "metadata": {
        "id": "L_KVkZPDG-Y_",
        "colab_type": "code",
        "outputId": "0cbffa4c-84ba-4a61-9937-3c63288651ad",
        "colab": {
          "base_uri": "https://localhost:8080/",
          "height": 34
        }
      },
      "source": [
        "# evaluate the model performance using accuracy metric\n",
        "print(\"Accuracy: %.3f%% (%.3f%%)\" % (cv_result.mean()*100.0, cv_result.std()*100.0))"
      ],
      "execution_count": 0,
      "outputs": [
        {
          "output_type": "stream",
          "text": [
            "Accuracy: 95.333% (0.943%)\n"
          ],
          "name": "stdout"
        }
      ]
    },
    {
      "cell_type": "markdown",
      "metadata": {
        "id": "9y78xFs7HBnR",
        "colab_type": "text"
      },
      "source": [
        "### Leave-One-Out cross validation (LOOCV)"
      ]
    },
    {
      "cell_type": "code",
      "metadata": {
        "id": "gIHniqy3HAaw",
        "colab_type": "code",
        "colab": {}
      },
      "source": [
        "from sklearn.model_selection import LeaveOneOut\n",
        "from sklearn.model_selection import cross_val_score\n",
        "from sklearn.neighbors import KNeighborsClassifier"
      ],
      "execution_count": 0,
      "outputs": []
    },
    {
      "cell_type": "code",
      "metadata": {
        "id": "UXmhRk26HHe4",
        "colab_type": "code",
        "colab": {}
      },
      "source": [
        "# load dataset\n",
        "data = datasets.load_iris()"
      ],
      "execution_count": 0,
      "outputs": []
    },
    {
      "cell_type": "code",
      "metadata": {
        "id": "bsKJO5w_HIsY",
        "colab_type": "code",
        "colab": {}
      },
      "source": [
        "# separate features and target\n",
        "X = data.data\n",
        "y = data.target"
      ],
      "execution_count": 0,
      "outputs": []
    },
    {
      "cell_type": "code",
      "metadata": {
        "id": "k8hjJXahHKbB",
        "colab_type": "code",
        "colab": {}
      },
      "source": [
        "# initialize LOOCV\n",
        "loocv = LeaveOneOut()"
      ],
      "execution_count": 0,
      "outputs": []
    },
    {
      "cell_type": "code",
      "metadata": {
        "id": "oAn8xGpNHLcS",
        "colab_type": "code",
        "colab": {}
      },
      "source": [
        "# create the model\n",
        "knn_clf = KNeighborsClassifier(n_neighbors=3)"
      ],
      "execution_count": 0,
      "outputs": []
    },
    {
      "cell_type": "code",
      "metadata": {
        "id": "1ECkwSnYHMuR",
        "colab_type": "code",
        "colab": {}
      },
      "source": [
        "# fit the model using cross validation\n",
        "cv_result = cross_val_score(knn_clf, X, y, cv=loocv)"
      ],
      "execution_count": 0,
      "outputs": []
    },
    {
      "cell_type": "code",
      "metadata": {
        "id": "fKyXKL_ZHOFh",
        "colab_type": "code",
        "outputId": "c46b0eae-7817-4bc5-8785-9a3e187c03bd",
        "colab": {
          "base_uri": "https://localhost:8080/",
          "height": 34
        }
      },
      "source": [
        "# evaluate the model performance using accuracy metric\n",
        "print(\"Accuracy: %.3f%% (%.3f%%)\" % (cv_result.mean()*100.0, cv_result.std()*100.0))"
      ],
      "execution_count": 0,
      "outputs": [
        {
          "output_type": "stream",
          "text": [
            "Accuracy: 96.000% (19.596%)\n"
          ],
          "name": "stdout"
        }
      ]
    },
    {
      "cell_type": "markdown",
      "metadata": {
        "id": "TxSsWX7KHQz0",
        "colab_type": "text"
      },
      "source": [
        "## Model evaluation"
      ]
    },
    {
      "cell_type": "markdown",
      "metadata": {
        "id": "yxUWKVbhHTsv",
        "colab_type": "text"
      },
      "source": [
        "### Regression evaluation metrics"
      ]
    },
    {
      "cell_type": "code",
      "metadata": {
        "id": "Yf-vhn8vHPjT",
        "colab_type": "code",
        "colab": {}
      },
      "source": [
        "# import packages\n",
        "from sklearn.linear_model import LinearRegression\n",
        "from sklearn import datasets\n",
        "from sklearn.model_selection import train_test_split\n",
        "from sklearn.metrics import mean_squared_error\n",
        "from sklearn.metrics import mean_absolute_error\n",
        "from sklearn.metrics import r2_score"
      ],
      "execution_count": 0,
      "outputs": []
    },
    {
      "cell_type": "code",
      "metadata": {
        "id": "rvjGXP8cHj3G",
        "colab_type": "code",
        "colab": {}
      },
      "source": [
        "# load dataset\n",
        "data = datasets.load_boston()"
      ],
      "execution_count": 0,
      "outputs": []
    },
    {
      "cell_type": "code",
      "metadata": {
        "id": "36qh1mp0Hk2m",
        "colab_type": "code",
        "colab": {}
      },
      "source": [
        "# separate features and target\n",
        "X = data.data\n",
        "y = data.target"
      ],
      "execution_count": 0,
      "outputs": []
    },
    {
      "cell_type": "code",
      "metadata": {
        "id": "sRIwBezZHmrf",
        "colab_type": "code",
        "colab": {}
      },
      "source": [
        "# split in train and test sets\n",
        "X_train, X_test, y_train, y_test = train_test_split(X, y, shuffle=True)"
      ],
      "execution_count": 0,
      "outputs": []
    },
    {
      "cell_type": "code",
      "metadata": {
        "id": "zzDcUpfEHnwI",
        "colab_type": "code",
        "colab": {}
      },
      "source": [
        "# create the model\n",
        "# setting normalize to true normalizes the dataset before fitting the model\n",
        "linear_reg = LinearRegression(normalize = True)"
      ],
      "execution_count": 0,
      "outputs": []
    },
    {
      "cell_type": "code",
      "metadata": {
        "id": "R_EA6O3iHo_X",
        "colab_type": "code",
        "outputId": "b292e2e9-4be9-4a83-b05b-fbe50177abd2",
        "colab": {
          "base_uri": "https://localhost:8080/",
          "height": 34
        }
      },
      "source": [
        "# fit the model on the training set\n",
        "linear_reg.fit(X_train, y_train)"
      ],
      "execution_count": 0,
      "outputs": [
        {
          "output_type": "execute_result",
          "data": {
            "text/plain": [
              "LinearRegression(copy_X=True, fit_intercept=True, n_jobs=None, normalize=True)"
            ]
          },
          "metadata": {
            "tags": []
          },
          "execution_count": 45
        }
      ]
    },
    {
      "cell_type": "code",
      "metadata": {
        "id": "3cRNSJDNHqPa",
        "colab_type": "code",
        "colab": {}
      },
      "source": [
        "# make predictions on the test set\n",
        "predictions = linear_reg.predict(X_test)"
      ],
      "execution_count": 0,
      "outputs": []
    },
    {
      "cell_type": "code",
      "metadata": {
        "id": "lYwRltdRHrGo",
        "colab_type": "code",
        "outputId": "52ed0204-05d0-4abb-8f1d-2d468c4cbc44",
        "colab": {
          "base_uri": "https://localhost:8080/",
          "height": 34
        }
      },
      "source": [
        "# evaluate the model performance using mean square error metric\n",
        "print(\"Mean squared error: %.2f\" % mean_squared_error(y_test, predictions))"
      ],
      "execution_count": 0,
      "outputs": [
        {
          "output_type": "stream",
          "text": [
            "Mean squared error: 28.52\n"
          ],
          "name": "stdout"
        }
      ]
    },
    {
      "cell_type": "code",
      "metadata": {
        "id": "Qk2d1jSpHtMx",
        "colab_type": "code",
        "outputId": "b0c580fc-a722-4830-d81d-b359b5b4be3c",
        "colab": {
          "base_uri": "https://localhost:8080/",
          "height": 34
        }
      },
      "source": [
        "# evaluate the model performance using mean absolute error metric\n",
        "print(\"Mean absolute error: %.2f\" % mean_absolute_error(y_test, predictions))"
      ],
      "execution_count": 0,
      "outputs": [
        {
          "output_type": "stream",
          "text": [
            "Mean absolute error: 3.61\n"
          ],
          "name": "stdout"
        }
      ]
    },
    {
      "cell_type": "code",
      "metadata": {
        "id": "XDoAFE9EHu88",
        "colab_type": "code",
        "outputId": "dfd07d03-986f-41c0-9d4a-de5c196d84ef",
        "colab": {
          "base_uri": "https://localhost:8080/",
          "height": 34
        }
      },
      "source": [
        "# evaluate the model performance using r-squared error metric\n",
        "print(\"R-squared score: %.2f\" % r2_score(y_test, predictions))"
      ],
      "execution_count": 0,
      "outputs": [
        {
          "output_type": "stream",
          "text": [
            "R-squared score: 0.62\n"
          ],
          "name": "stdout"
        }
      ]
    },
    {
      "cell_type": "markdown",
      "metadata": {
        "id": "misBCbIiHxt4",
        "colab_type": "text"
      },
      "source": [
        "### Regression evaluation metrics implemented with cross validation"
      ]
    },
    {
      "cell_type": "code",
      "metadata": {
        "id": "okqH3-w8HwR6",
        "colab_type": "code",
        "colab": {}
      },
      "source": [
        "from sklearn.linear_model import LinearRegression\n",
        "from sklearn.model_selection import KFold\n",
        "from sklearn.model_selection import cross_val_score"
      ],
      "execution_count": 0,
      "outputs": []
    },
    {
      "cell_type": "code",
      "metadata": {
        "id": "ujcdS1FaIEnJ",
        "colab_type": "code",
        "colab": {}
      },
      "source": [
        "# load dataset\n",
        "data = datasets.load_boston()"
      ],
      "execution_count": 0,
      "outputs": []
    },
    {
      "cell_type": "code",
      "metadata": {
        "id": "t5IXDZ6UIFgb",
        "colab_type": "code",
        "colab": {}
      },
      "source": [
        "# separate features and target\n",
        "X = data.data\n",
        "y = data.target"
      ],
      "execution_count": 0,
      "outputs": []
    },
    {
      "cell_type": "code",
      "metadata": {
        "id": "wP9fHfe_IGrK",
        "colab_type": "code",
        "colab": {}
      },
      "source": [
        "# initialize KFold - with shuffle = True, shuffle the data before splitting\n",
        "kfold = KFold(n_splits=3, shuffle=True)"
      ],
      "execution_count": 0,
      "outputs": []
    },
    {
      "cell_type": "code",
      "metadata": {
        "id": "8Z6VzlXHIIGj",
        "colab_type": "code",
        "colab": {}
      },
      "source": [
        "# create the model\n",
        "linear_reg = LinearRegression(normalize = True)"
      ],
      "execution_count": 0,
      "outputs": []
    },
    {
      "cell_type": "code",
      "metadata": {
        "id": "avfoaVz8IJC7",
        "colab_type": "code",
        "colab": {}
      },
      "source": [
        "# fit the model using cross validation - score with Mean square error (MSE)\n",
        "mse_cv_result = cross_val_score(linear_reg, X, y, cv=kfold, scoring=\"neg_mean_squared_error\")"
      ],
      "execution_count": 0,
      "outputs": []
    },
    {
      "cell_type": "code",
      "metadata": {
        "id": "DhOHMldnIKPr",
        "colab_type": "code",
        "outputId": "a765936e-7ce6-4a1d-89e0-1665057e7445",
        "colab": {
          "base_uri": "https://localhost:8080/",
          "height": 34
        }
      },
      "source": [
        "# print mse cross validation output\n",
        "print(\"Negtive Mean squared error: %.3f%% (%.3f%%)\" % (mse_cv_result.mean(), mse_cv_result.std()))"
      ],
      "execution_count": 0,
      "outputs": [
        {
          "output_type": "stream",
          "text": [
            "Negtive Mean squared error: -22.875% (2.686%)\n"
          ],
          "name": "stdout"
        }
      ]
    },
    {
      "cell_type": "code",
      "metadata": {
        "id": "MgdDe3U-ILP8",
        "colab_type": "code",
        "colab": {}
      },
      "source": [
        "# fit the model using cross validation - score with Mean absolute error (MAE)\n",
        "mae_cv_result = cross_val_score(linear_reg, X, y, cv=kfold, scoring=\"neg_mean_absolute_error\")"
      ],
      "execution_count": 0,
      "outputs": []
    },
    {
      "cell_type": "code",
      "metadata": {
        "id": "YLpKJTb7INDL",
        "colab_type": "code",
        "outputId": "91d2d57b-c9d3-4c06-9a7f-9958f4406bf8",
        "colab": {
          "base_uri": "https://localhost:8080/",
          "height": 34
        }
      },
      "source": [
        "# print mse cross validation output\n",
        "print(\"Negtive Mean absolute error: %.3f%% (%.3f%%)\" % (mae_cv_result.mean(), mse_cv_result.std()))"
      ],
      "execution_count": 0,
      "outputs": [
        {
          "output_type": "stream",
          "text": [
            "Negtive Mean absolute error: -3.451% (2.686%)\n"
          ],
          "name": "stdout"
        }
      ]
    },
    {
      "cell_type": "code",
      "metadata": {
        "id": "vEthi9F1IOCj",
        "colab_type": "code",
        "colab": {}
      },
      "source": [
        "# fit the model using cross validation - score with R-squared\n",
        "r2_cv_result = cross_val_score(linear_reg, X, y, cv=kfold, scoring=\"r2\")"
      ],
      "execution_count": 0,
      "outputs": []
    },
    {
      "cell_type": "code",
      "metadata": {
        "id": "5kPfY9VRIPVe",
        "colab_type": "code",
        "outputId": "aea37341-94c6-4da6-8892-4dcd8d47923a",
        "colab": {
          "base_uri": "https://localhost:8080/",
          "height": 34
        }
      },
      "source": [
        "# print mse cross validation output\n",
        "print(\"R-squared score: %.3f%% (%.3f%%)\" % (r2_cv_result.mean(), r2_cv_result.std()))"
      ],
      "execution_count": 0,
      "outputs": [
        {
          "output_type": "stream",
          "text": [
            "R-squared score: 0.722% (0.028%)\n"
          ],
          "name": "stdout"
        }
      ]
    },
    {
      "cell_type": "markdown",
      "metadata": {
        "id": "FM-58bD1IRLB",
        "colab_type": "text"
      },
      "source": [
        "### Classification evaluation metrics"
      ]
    },
    {
      "cell_type": "code",
      "metadata": {
        "id": "B9xlrSoAIQUP",
        "colab_type": "code",
        "colab": {}
      },
      "source": [
        "# import packages\n",
        "from sklearn.linear_model import LogisticRegression\n",
        "from sklearn import datasets\n",
        "from sklearn.model_selection import train_test_split\n",
        "from sklearn.metrics import accuracy_score\n",
        "from sklearn.metrics import log_loss\n",
        "from sklearn.metrics import classification_report"
      ],
      "execution_count": 0,
      "outputs": []
    },
    {
      "cell_type": "code",
      "metadata": {
        "id": "b0QTMt-zLAcY",
        "colab_type": "code",
        "colab": {}
      },
      "source": [
        "# load dataset\n",
        "data = datasets.load_iris()"
      ],
      "execution_count": 0,
      "outputs": []
    },
    {
      "cell_type": "code",
      "metadata": {
        "id": "vJbM2eZCLB34",
        "colab_type": "code",
        "colab": {}
      },
      "source": [
        "# separate features and target\n",
        "X = data.data\n",
        "y = data.target"
      ],
      "execution_count": 0,
      "outputs": []
    },
    {
      "cell_type": "code",
      "metadata": {
        "id": "U2o9ul0VLDH1",
        "colab_type": "code",
        "colab": {}
      },
      "source": [
        "# split in train and test sets\n",
        "X_train, X_test, y_train, y_test = train_test_split(X, y, shuffle=True)"
      ],
      "execution_count": 0,
      "outputs": []
    },
    {
      "cell_type": "code",
      "metadata": {
        "id": "aehxuWgMLEh8",
        "colab_type": "code",
        "colab": {}
      },
      "source": [
        "# create the model\n",
        "logistic_reg = LogisticRegression()"
      ],
      "execution_count": 0,
      "outputs": []
    },
    {
      "cell_type": "code",
      "metadata": {
        "id": "ct5fM-weLFl7",
        "colab_type": "code",
        "outputId": "4646ee59-6b56-4b83-8a55-7e6c822abf83",
        "colab": {
          "base_uri": "https://localhost:8080/",
          "height": 190
        }
      },
      "source": [
        "# fit the model on the training set\n",
        "logistic_reg.fit(X_train, y_train)"
      ],
      "execution_count": 0,
      "outputs": [
        {
          "output_type": "stream",
          "text": [
            "/usr/local/lib/python3.6/dist-packages/sklearn/linear_model/logistic.py:432: FutureWarning: Default solver will be changed to 'lbfgs' in 0.22. Specify a solver to silence this warning.\n",
            "  FutureWarning)\n",
            "/usr/local/lib/python3.6/dist-packages/sklearn/linear_model/logistic.py:469: FutureWarning: Default multi_class will be changed to 'auto' in 0.22. Specify the multi_class option to silence this warning.\n",
            "  \"this warning.\", FutureWarning)\n"
          ],
          "name": "stderr"
        },
        {
          "output_type": "execute_result",
          "data": {
            "text/plain": [
              "LogisticRegression(C=1.0, class_weight=None, dual=False, fit_intercept=True,\n",
              "                   intercept_scaling=1, l1_ratio=None, max_iter=100,\n",
              "                   multi_class='warn', n_jobs=None, penalty='l2',\n",
              "                   random_state=None, solver='warn', tol=0.0001, verbose=0,\n",
              "                   warm_start=False)"
            ]
          },
          "metadata": {
            "tags": []
          },
          "execution_count": 67
        }
      ]
    },
    {
      "cell_type": "code",
      "metadata": {
        "id": "sFV87FXZLG1d",
        "colab_type": "code",
        "colab": {}
      },
      "source": [
        "# make predictions on the test set\n",
        "predictions = logistic_reg.predict(X_test)"
      ],
      "execution_count": 0,
      "outputs": []
    },
    {
      "cell_type": "code",
      "metadata": {
        "id": "_OWD_o7XLIWk",
        "colab_type": "code",
        "outputId": "58bf284f-6947-4114-9ad5-279b15869be5",
        "colab": {
          "base_uri": "https://localhost:8080/",
          "height": 34
        }
      },
      "source": [
        "# evaluate the model performance using accuracy\n",
        "print(\"Accuracy score: %.2f\" % accuracy_score(y_test, predictions))"
      ],
      "execution_count": 0,
      "outputs": [
        {
          "output_type": "stream",
          "text": [
            "Accuracy score: 0.97\n"
          ],
          "name": "stdout"
        }
      ]
    },
    {
      "cell_type": "code",
      "metadata": {
        "id": "HEAnOMGxLJcV",
        "colab_type": "code",
        "colab": {}
      },
      "source": [
        "# evaluate the model performance using log loss\n",
        "\n",
        "### output the probabilities of assigning an observation to a class\n",
        "predictions_probabilities = logistic_reg.predict_proba(X_test)"
      ],
      "execution_count": 0,
      "outputs": []
    },
    {
      "cell_type": "code",
      "metadata": {
        "id": "QaMGKcHLLMdG",
        "colab_type": "code",
        "outputId": "2c3a18e4-5a33-4f6d-e4af-77d4cacec7c9",
        "colab": {
          "base_uri": "https://localhost:8080/",
          "height": 34
        }
      },
      "source": [
        "print(\"Log-Loss likelihood: %.2f\" % log_loss(y_test, predictions_probabilities))"
      ],
      "execution_count": 0,
      "outputs": [
        {
          "output_type": "stream",
          "text": [
            "Log-Loss likelihood: 0.32\n"
          ],
          "name": "stdout"
        }
      ]
    },
    {
      "cell_type": "code",
      "metadata": {
        "id": "xQxu_g78LNuW",
        "colab_type": "code",
        "outputId": "78cc61ef-b8ab-4fbb-db37-a986dc602f84",
        "colab": {
          "base_uri": "https://localhost:8080/",
          "height": 204
        }
      },
      "source": [
        "# evaluate the model performance using classification report\n",
        "print(\"Classification report: \\n\", classification_report(y_test, predictions, target_names=data.target_names))"
      ],
      "execution_count": 0,
      "outputs": [
        {
          "output_type": "stream",
          "text": [
            "Classification report: \n",
            "               precision    recall  f1-score   support\n",
            "\n",
            "      setosa       1.00      1.00      1.00        15\n",
            "  versicolor       1.00      0.92      0.96        12\n",
            "   virginica       0.92      1.00      0.96        11\n",
            "\n",
            "    accuracy                           0.97        38\n",
            "   macro avg       0.97      0.97      0.97        38\n",
            "weighted avg       0.98      0.97      0.97        38\n",
            "\n"
          ],
          "name": "stdout"
        }
      ]
    },
    {
      "cell_type": "markdown",
      "metadata": {
        "id": "NFVtlrUVLPi2",
        "colab_type": "text"
      },
      "source": [
        "### Classification evaluation metrics implemented with cross validation"
      ]
    },
    {
      "cell_type": "code",
      "metadata": {
        "id": "cwTmx3hjLOt_",
        "colab_type": "code",
        "colab": {}
      },
      "source": [
        "from sklearn.linear_model import LogisticRegression\n",
        "from sklearn.model_selection import KFold\n",
        "from sklearn.model_selection import cross_val_score"
      ],
      "execution_count": 0,
      "outputs": []
    },
    {
      "cell_type": "code",
      "metadata": {
        "id": "5CkU6vJsLc2Z",
        "colab_type": "code",
        "colab": {}
      },
      "source": [
        "# load dataset\n",
        "data = datasets.load_iris()"
      ],
      "execution_count": 0,
      "outputs": []
    },
    {
      "cell_type": "code",
      "metadata": {
        "id": "h6P3bfc_LhBr",
        "colab_type": "code",
        "colab": {}
      },
      "source": [
        "# separate features and target\n",
        "X = data.data\n",
        "y = data.target"
      ],
      "execution_count": 0,
      "outputs": []
    },
    {
      "cell_type": "code",
      "metadata": {
        "id": "sl7vSBm5LiR0",
        "colab_type": "code",
        "colab": {}
      },
      "source": [
        "# initialize KFold - with shuffle = True, shuffle the data before splitting\n",
        "kfold = KFold(n_splits=3, shuffle=True)"
      ],
      "execution_count": 0,
      "outputs": []
    },
    {
      "cell_type": "code",
      "metadata": {
        "id": "ptflGvB_LjNr",
        "colab_type": "code",
        "colab": {}
      },
      "source": [
        "# create the model\n",
        "logistic_reg = LogisticRegression()"
      ],
      "execution_count": 0,
      "outputs": []
    },
    {
      "cell_type": "code",
      "metadata": {
        "id": "wSJ2kmn6LkID",
        "colab_type": "code",
        "outputId": "10f75a32-f16c-4ca9-b5d0-fe7912bf4dd7",
        "colab": {
          "base_uri": "https://localhost:8080/",
          "height": 241
        }
      },
      "source": [
        "# fit the model using cross validation - score with accuracy\n",
        "accuracy_cv_result = cross_val_score(logistic_reg, X, y, cv=kfold, scoring=\"accuracy\")"
      ],
      "execution_count": 0,
      "outputs": [
        {
          "output_type": "stream",
          "text": [
            "/usr/local/lib/python3.6/dist-packages/sklearn/linear_model/logistic.py:432: FutureWarning: Default solver will be changed to 'lbfgs' in 0.22. Specify a solver to silence this warning.\n",
            "  FutureWarning)\n",
            "/usr/local/lib/python3.6/dist-packages/sklearn/linear_model/logistic.py:469: FutureWarning: Default multi_class will be changed to 'auto' in 0.22. Specify the multi_class option to silence this warning.\n",
            "  \"this warning.\", FutureWarning)\n",
            "/usr/local/lib/python3.6/dist-packages/sklearn/linear_model/logistic.py:432: FutureWarning: Default solver will be changed to 'lbfgs' in 0.22. Specify a solver to silence this warning.\n",
            "  FutureWarning)\n",
            "/usr/local/lib/python3.6/dist-packages/sklearn/linear_model/logistic.py:469: FutureWarning: Default multi_class will be changed to 'auto' in 0.22. Specify the multi_class option to silence this warning.\n",
            "  \"this warning.\", FutureWarning)\n",
            "/usr/local/lib/python3.6/dist-packages/sklearn/linear_model/logistic.py:432: FutureWarning: Default solver will be changed to 'lbfgs' in 0.22. Specify a solver to silence this warning.\n",
            "  FutureWarning)\n",
            "/usr/local/lib/python3.6/dist-packages/sklearn/linear_model/logistic.py:469: FutureWarning: Default multi_class will be changed to 'auto' in 0.22. Specify the multi_class option to silence this warning.\n",
            "  \"this warning.\", FutureWarning)\n"
          ],
          "name": "stderr"
        }
      ]
    },
    {
      "cell_type": "code",
      "metadata": {
        "id": "r6hso7xELlSk",
        "colab_type": "code",
        "outputId": "d29cb6e5-a978-4645-82dd-d22f6a14c4a7",
        "colab": {
          "base_uri": "https://localhost:8080/",
          "height": 34
        }
      },
      "source": [
        "# print accuracy cross validation output\n",
        "print(\"Accuracy: %.3f%% (%.3f%%)\" % (accuracy_cv_result.mean(), accuracy_cv_result.std()))"
      ],
      "execution_count": 0,
      "outputs": [
        {
          "output_type": "stream",
          "text": [
            "Accuracy: 0.953% (0.019%)\n"
          ],
          "name": "stdout"
        }
      ]
    },
    {
      "cell_type": "code",
      "metadata": {
        "id": "Z2QJbKdoLnt-",
        "colab_type": "code",
        "outputId": "04ac0193-a66b-4f79-ddec-60e2e52db141",
        "colab": {
          "base_uri": "https://localhost:8080/",
          "height": 241
        }
      },
      "source": [
        "# fit the model using cross validation - score with Log-Loss\n",
        "logloss_cv_result = cross_val_score(logistic_reg, X, y, cv=kfold, scoring=\"neg_log_loss\")"
      ],
      "execution_count": 0,
      "outputs": [
        {
          "output_type": "stream",
          "text": [
            "/usr/local/lib/python3.6/dist-packages/sklearn/linear_model/logistic.py:432: FutureWarning: Default solver will be changed to 'lbfgs' in 0.22. Specify a solver to silence this warning.\n",
            "  FutureWarning)\n",
            "/usr/local/lib/python3.6/dist-packages/sklearn/linear_model/logistic.py:469: FutureWarning: Default multi_class will be changed to 'auto' in 0.22. Specify the multi_class option to silence this warning.\n",
            "  \"this warning.\", FutureWarning)\n",
            "/usr/local/lib/python3.6/dist-packages/sklearn/linear_model/logistic.py:432: FutureWarning: Default solver will be changed to 'lbfgs' in 0.22. Specify a solver to silence this warning.\n",
            "  FutureWarning)\n",
            "/usr/local/lib/python3.6/dist-packages/sklearn/linear_model/logistic.py:469: FutureWarning: Default multi_class will be changed to 'auto' in 0.22. Specify the multi_class option to silence this warning.\n",
            "  \"this warning.\", FutureWarning)\n",
            "/usr/local/lib/python3.6/dist-packages/sklearn/linear_model/logistic.py:432: FutureWarning: Default solver will be changed to 'lbfgs' in 0.22. Specify a solver to silence this warning.\n",
            "  FutureWarning)\n",
            "/usr/local/lib/python3.6/dist-packages/sklearn/linear_model/logistic.py:469: FutureWarning: Default multi_class will be changed to 'auto' in 0.22. Specify the multi_class option to silence this warning.\n",
            "  \"this warning.\", FutureWarning)\n"
          ],
          "name": "stderr"
        }
      ]
    },
    {
      "cell_type": "code",
      "metadata": {
        "id": "a6qX9WmnLpxw",
        "colab_type": "code",
        "outputId": "91c9143c-c405-44f1-8b3f-17828fe72880",
        "colab": {
          "base_uri": "https://localhost:8080/",
          "height": 34
        }
      },
      "source": [
        "# print mse cross validation output\n",
        "print(\"Log-Loss likelihood: %.3f%% (%.3f%%)\" % (logloss_cv_result.mean(), logloss_cv_result.std()))"
      ],
      "execution_count": 0,
      "outputs": [
        {
          "output_type": "stream",
          "text": [
            "Log-Loss likelihood: -0.346% (0.019%)\n"
          ],
          "name": "stdout"
        }
      ]
    },
    {
      "cell_type": "markdown",
      "metadata": {
        "id": "UUxf7OzWMfFn",
        "colab_type": "text"
      },
      "source": [
        "## Pipelines: Streamlining Machine Learning Workflows"
      ]
    },
    {
      "cell_type": "code",
      "metadata": {
        "id": "xTpU78JYLqXH",
        "colab_type": "code",
        "colab": {}
      },
      "source": [
        "# import packages\n",
        "from sklearn.svm import SVC\n",
        "from sklearn import datasets\n",
        "from sklearn.model_selection import KFold\n",
        "from sklearn.model_selection import cross_val_score\n",
        "from sklearn.preprocessing import StandardScaler\n",
        "from sklearn.svm import SVC\n",
        "from sklearn.pipeline import Pipeline"
      ],
      "execution_count": 0,
      "outputs": []
    },
    {
      "cell_type": "code",
      "metadata": {
        "id": "EiCsf9WdMnHM",
        "colab_type": "code",
        "colab": {}
      },
      "source": [
        "# load dataset\n",
        "data = datasets.load_iris()"
      ],
      "execution_count": 0,
      "outputs": []
    },
    {
      "cell_type": "code",
      "metadata": {
        "id": "Yj27aSC9Mp1K",
        "colab_type": "code",
        "colab": {}
      },
      "source": [
        "# separate features and target\n",
        "X = data.data\n",
        "y = data.target"
      ],
      "execution_count": 0,
      "outputs": []
    },
    {
      "cell_type": "code",
      "metadata": {
        "id": "bca1OeSnMq-B",
        "colab_type": "code",
        "colab": {}
      },
      "source": [
        "# create the pipeline\n",
        "estimators = [\n",
        "    ('standardize' , StandardScaler()),\n",
        "    ('svc', SVC())\n",
        "]"
      ],
      "execution_count": 0,
      "outputs": []
    },
    {
      "cell_type": "code",
      "metadata": {
        "id": "QlAHwMzXMsOy",
        "colab_type": "code",
        "colab": {}
      },
      "source": [
        "# build the pipeline model\n",
        "pipe = Pipeline(estimators)"
      ],
      "execution_count": 0,
      "outputs": []
    },
    {
      "cell_type": "code",
      "metadata": {
        "id": "pTl_dDxWM-zw",
        "colab_type": "code",
        "colab": {}
      },
      "source": [
        "# run the pipeline\n",
        "kfold = KFold(n_splits=3, shuffle=True)\n",
        "cv_result = cross_val_score(pipe, X, y, cv=kfold)"
      ],
      "execution_count": 0,
      "outputs": []
    },
    {
      "cell_type": "code",
      "metadata": {
        "id": "b1pT4q6pNAAw",
        "colab_type": "code",
        "outputId": "fe341394-a0bc-45a3-fe54-03f66ac4c2f0",
        "colab": {
          "base_uri": "https://localhost:8080/",
          "height": 34
        }
      },
      "source": [
        "# evaluate the model performance\n",
        "print(\"Accuracy: %.3f%% (%.3f%%)\" % (cv_result.mean()*100.0, cv_result.std()*100.0))"
      ],
      "execution_count": 0,
      "outputs": [
        {
          "output_type": "stream",
          "text": [
            "Accuracy: 94.667% (0.943%)\n"
          ],
          "name": "stdout"
        }
      ]
    },
    {
      "cell_type": "markdown",
      "metadata": {
        "id": "KshIODcPNEbn",
        "colab_type": "text"
      },
      "source": [
        "### Pipelines using make_pipeline"
      ]
    },
    {
      "cell_type": "code",
      "metadata": {
        "id": "SX0_PRNjNAqY",
        "colab_type": "code",
        "colab": {}
      },
      "source": [
        "from sklearn.pipeline import make_pipeline\n",
        "from sklearn.svm import SVR\n",
        "from sklearn import datasets\n",
        "from sklearn.model_selection import KFold\n",
        "from sklearn.model_selection import cross_val_score\n",
        "from sklearn.decomposition import PCA\n",
        "from sklearn.pipeline import Pipeline\n",
        "from sklearn.ensemble import RandomForestRegressor"
      ],
      "execution_count": 0,
      "outputs": []
    },
    {
      "cell_type": "code",
      "metadata": {
        "id": "h-v0WuVjOF45",
        "colab_type": "code",
        "colab": {}
      },
      "source": [
        "# load dataset\n",
        "data = datasets.load_boston()"
      ],
      "execution_count": 0,
      "outputs": []
    },
    {
      "cell_type": "code",
      "metadata": {
        "id": "_r5KHfrrOHf5",
        "colab_type": "code",
        "colab": {}
      },
      "source": [
        "# separate features and target\n",
        "X = data.data\n",
        "y = data.target"
      ],
      "execution_count": 0,
      "outputs": []
    },
    {
      "cell_type": "code",
      "metadata": {
        "id": "hE9JsSbkOIu6",
        "colab_type": "code",
        "colab": {}
      },
      "source": [
        "# build the pipeline model\n",
        "pipe = make_pipeline(\n",
        "    PCA(n_components=9),\n",
        "    RandomForestRegressor()\n",
        ")"
      ],
      "execution_count": 0,
      "outputs": []
    },
    {
      "cell_type": "code",
      "metadata": {
        "id": "a2cOV5L9OJ76",
        "colab_type": "code",
        "outputId": "7658e321-a22c-4f84-aa3c-ca86e6d13306",
        "colab": {
          "base_uri": "https://localhost:8080/",
          "height": 173
        }
      },
      "source": [
        "# run the pipeline\n",
        "kfold = KFold(n_splits=4, shuffle=True)\n",
        "cv_result = cross_val_score(pipe, X, y, cv=kfold)"
      ],
      "execution_count": 0,
      "outputs": [
        {
          "output_type": "stream",
          "text": [
            "/usr/local/lib/python3.6/dist-packages/sklearn/ensemble/forest.py:245: FutureWarning: The default value of n_estimators will change from 10 in version 0.20 to 100 in 0.22.\n",
            "  \"10 in version 0.20 to 100 in 0.22.\", FutureWarning)\n",
            "/usr/local/lib/python3.6/dist-packages/sklearn/ensemble/forest.py:245: FutureWarning: The default value of n_estimators will change from 10 in version 0.20 to 100 in 0.22.\n",
            "  \"10 in version 0.20 to 100 in 0.22.\", FutureWarning)\n",
            "/usr/local/lib/python3.6/dist-packages/sklearn/ensemble/forest.py:245: FutureWarning: The default value of n_estimators will change from 10 in version 0.20 to 100 in 0.22.\n",
            "  \"10 in version 0.20 to 100 in 0.22.\", FutureWarning)\n",
            "/usr/local/lib/python3.6/dist-packages/sklearn/ensemble/forest.py:245: FutureWarning: The default value of n_estimators will change from 10 in version 0.20 to 100 in 0.22.\n",
            "  \"10 in version 0.20 to 100 in 0.22.\", FutureWarning)\n"
          ],
          "name": "stderr"
        }
      ]
    },
    {
      "cell_type": "code",
      "metadata": {
        "id": "Xe52maI5OLI6",
        "colab_type": "code",
        "outputId": "d6ceb756-ca00-4b7f-9c10-ae6637dca2be",
        "colab": {
          "base_uri": "https://localhost:8080/",
          "height": 34
        }
      },
      "source": [
        "# evaluate the model performance\n",
        "print(\"Accuracy: %.3f%% (%.3f%%)\" % (cv_result.mean()*100.0, cv_result.std()*100.0))"
      ],
      "execution_count": 0,
      "outputs": [
        {
          "output_type": "stream",
          "text": [
            "Accuracy: 71.706% (2.767%)\n"
          ],
          "name": "stdout"
        }
      ]
    },
    {
      "cell_type": "markdown",
      "metadata": {
        "id": "xStEp3jhOODT",
        "colab_type": "text"
      },
      "source": [
        "### Pipelines using FeatureUnion"
      ]
    },
    {
      "cell_type": "code",
      "metadata": {
        "id": "1c71K6lDOL0j",
        "colab_type": "code",
        "colab": {}
      },
      "source": [
        "from sklearn.ensemble import GradientBoostingRegressor\n",
        "from sklearn.ensemble import RandomForestRegressor\n",
        "from sklearn import datasets\n",
        "from sklearn.model_selection import KFold\n",
        "from sklearn.model_selection import cross_val_score\n",
        "from sklearn.feature_selection import RFE\n",
        "from sklearn.decomposition import PCA\n",
        "from sklearn.pipeline import Pipeline\n",
        "from sklearn.pipeline import make_pipeline\n",
        "from sklearn.pipeline import make_union"
      ],
      "execution_count": 0,
      "outputs": []
    },
    {
      "cell_type": "code",
      "metadata": {
        "id": "V7Q9AVBFOTB1",
        "colab_type": "code",
        "colab": {}
      },
      "source": [
        "# load dataset\n",
        "data = datasets.load_boston()"
      ],
      "execution_count": 0,
      "outputs": []
    },
    {
      "cell_type": "code",
      "metadata": {
        "id": "zwv-sclkOUDG",
        "colab_type": "code",
        "colab": {}
      },
      "source": [
        "# separate features and target\n",
        "X = data.data\n",
        "y = data.target"
      ],
      "execution_count": 0,
      "outputs": []
    },
    {
      "cell_type": "code",
      "metadata": {
        "id": "eUD_DaQLOVJt",
        "colab_type": "code",
        "colab": {}
      },
      "source": [
        "# construct pipeline for feature engineering - make_union similar to make_pipeline\n",
        "feature_engr = make_union(\n",
        "    RFE(estimator=RandomForestRegressor(n_estimators=100), n_features_to_select=6),\n",
        "    PCA(n_components=9)\n",
        ")"
      ],
      "execution_count": 0,
      "outputs": []
    },
    {
      "cell_type": "code",
      "metadata": {
        "id": "LscsAaLVOWON",
        "colab_type": "code",
        "colab": {}
      },
      "source": [
        "# build the pipeline model\n",
        "pipe = make_pipeline(\n",
        "    feature_engr,\n",
        "    GradientBoostingRegressor(n_estimators=100)\n",
        ")"
      ],
      "execution_count": 0,
      "outputs": []
    },
    {
      "cell_type": "code",
      "metadata": {
        "id": "j7RcwAQrOXfG",
        "colab_type": "code",
        "colab": {}
      },
      "source": [
        "# run the pipeline\n",
        "kfold = KFold(n_splits=4, shuffle=True)\n",
        "cv_result = cross_val_score(pipe, X, y, cv=kfold)"
      ],
      "execution_count": 0,
      "outputs": []
    },
    {
      "cell_type": "code",
      "metadata": {
        "id": "vs3D5iFMOY0W",
        "colab_type": "code",
        "outputId": "6ca51a49-fe4a-4b61-f156-89c029403002",
        "colab": {
          "base_uri": "https://localhost:8080/",
          "height": 34
        }
      },
      "source": [
        "# evaluate the model performance\n",
        "print(\"Accuracy: %.3f%% (%.3f%%)\" % (cv_result.mean()*100.0, cv_result.std()*100.0))"
      ],
      "execution_count": 0,
      "outputs": [
        {
          "output_type": "stream",
          "text": [
            "Accuracy: 88.088% (3.096%)\n"
          ],
          "name": "stdout"
        }
      ]
    },
    {
      "cell_type": "markdown",
      "metadata": {
        "id": "n--7183HOw4j",
        "colab_type": "text"
      },
      "source": [
        "## Model tuning"
      ]
    },
    {
      "cell_type": "markdown",
      "metadata": {
        "id": "9Xn6391AOxwN",
        "colab_type": "text"
      },
      "source": [
        "### Grid Search"
      ]
    },
    {
      "cell_type": "code",
      "metadata": {
        "id": "1TFo08_HOaDG",
        "colab_type": "code",
        "colab": {}
      },
      "source": [
        "from sklearn.model_selection import GridSearchCV\n",
        "from sklearn.ensemble import RandomForestRegressor\n",
        "from sklearn import datasets"
      ],
      "execution_count": 0,
      "outputs": []
    },
    {
      "cell_type": "code",
      "metadata": {
        "id": "tEzt6et9V99j",
        "colab_type": "code",
        "colab": {}
      },
      "source": [
        "# load dataset\n",
        "data = datasets.load_boston()"
      ],
      "execution_count": 0,
      "outputs": []
    },
    {
      "cell_type": "code",
      "metadata": {
        "id": "Ft4t7_KNV_ub",
        "colab_type": "code",
        "colab": {}
      },
      "source": [
        "# separate features and target\n",
        "X = data.data\n",
        "y = data.target"
      ],
      "execution_count": 0,
      "outputs": []
    },
    {
      "cell_type": "code",
      "metadata": {
        "id": "jFw73OYWWB87",
        "colab_type": "code",
        "colab": {}
      },
      "source": [
        "# construct grid search parameters in a dictionary\n",
        "parameters = {\n",
        "    'n_estimators': [2, 4, 6, 8, 10, 12, 14, 16],\n",
        "    'max_depth': [2, 4, 6, 8],\n",
        "    'min_samples_leaf': [1,2,3,4,5]\n",
        "    }"
      ],
      "execution_count": 0,
      "outputs": []
    },
    {
      "cell_type": "code",
      "metadata": {
        "id": "9fIPE9IRWDR0",
        "colab_type": "code",
        "colab": {}
      },
      "source": [
        "# create the model\n",
        "rf_model = RandomForestRegressor()"
      ],
      "execution_count": 0,
      "outputs": []
    },
    {
      "cell_type": "code",
      "metadata": {
        "id": "ICJuyFcXWEqX",
        "colab_type": "code",
        "colab": {}
      },
      "source": [
        "# run the grid search\n",
        "grid_search = GridSearchCV(estimator=rf_model, param_grid=parameters)"
      ],
      "execution_count": 0,
      "outputs": []
    },
    {
      "cell_type": "code",
      "metadata": {
        "id": "Rs5oB8fCWF2d",
        "colab_type": "code",
        "outputId": "42b990a2-813e-4725-8b50-f98b740020a7",
        "colab": {
          "base_uri": "https://localhost:8080/",
          "height": 428
        }
      },
      "source": [
        "# fit the model\n",
        "grid_search.fit(X,y)"
      ],
      "execution_count": 0,
      "outputs": [
        {
          "output_type": "stream",
          "text": [
            "/usr/local/lib/python3.6/dist-packages/sklearn/model_selection/_split.py:1978: FutureWarning: The default value of cv will change from 3 to 5 in version 0.22. Specify it explicitly to silence this warning.\n",
            "  warnings.warn(CV_WARNING, FutureWarning)\n",
            "/usr/local/lib/python3.6/dist-packages/sklearn/model_selection/_search.py:813: DeprecationWarning: The default of the `iid` parameter will change from True to False in version 0.22 and will be removed in 0.24. This will change numeric results when test-set sizes are unequal.\n",
            "  DeprecationWarning)\n"
          ],
          "name": "stderr"
        },
        {
          "output_type": "execute_result",
          "data": {
            "text/plain": [
              "GridSearchCV(cv='warn', error_score='raise-deprecating',\n",
              "             estimator=RandomForestRegressor(bootstrap=True, criterion='mse',\n",
              "                                             max_depth=None,\n",
              "                                             max_features='auto',\n",
              "                                             max_leaf_nodes=None,\n",
              "                                             min_impurity_decrease=0.0,\n",
              "                                             min_impurity_split=None,\n",
              "                                             min_samples_leaf=1,\n",
              "                                             min_samples_split=2,\n",
              "                                             min_weight_fraction_leaf=0.0,\n",
              "                                             n_estimators='warn', n_jobs=None,\n",
              "                                             oob_score=False, random_state=None,\n",
              "                                             verbose=0, warm_start=False),\n",
              "             iid='warn', n_jobs=None,\n",
              "             param_grid={'max_depth': [2, 4, 6, 8],\n",
              "                         'min_samples_leaf': [1, 2, 3, 4, 5],\n",
              "                         'n_estimators': [2, 4, 6, 8, 10, 12, 14, 16]},\n",
              "             pre_dispatch='2*n_jobs', refit=True, return_train_score=False,\n",
              "             scoring=None, verbose=0)"
            ]
          },
          "metadata": {
            "tags": []
          },
          "execution_count": 116
        }
      ]
    },
    {
      "cell_type": "code",
      "metadata": {
        "id": "wCbe6sUWWHLd",
        "colab_type": "code",
        "outputId": "8e76328a-4c35-4b9d-a928-8e3f12b9838a",
        "colab": {
          "base_uri": "https://localhost:8080/",
          "height": 34
        }
      },
      "source": [
        "# evaluate the model performance\n",
        "print(\"Best Accuracy: %.3f%%\" %  (grid_search.best_score_*100.0))"
      ],
      "execution_count": 0,
      "outputs": [
        {
          "output_type": "stream",
          "text": [
            "Best Accuracy: 58.510%\n"
          ],
          "name": "stdout"
        }
      ]
    },
    {
      "cell_type": "code",
      "metadata": {
        "id": "Yz2T9T-GWJve",
        "colab_type": "code",
        "outputId": "6530ff10-be6e-418b-e3dc-5144a4b927e5",
        "colab": {
          "base_uri": "https://localhost:8080/",
          "height": 68
        }
      },
      "source": [
        "# best set of hyper-parameter values\n",
        "print(\"Best n_estimators: %d \\nBest max_depth: %d \\nBest min_samples_leaf: %d \" %  \\\n",
        "            (grid_search.best_estimator_.n_estimators, \\\n",
        "            grid_search.best_estimator_.max_depth, \\\n",
        "            grid_search.best_estimator_.min_samples_leaf))"
      ],
      "execution_count": 0,
      "outputs": [
        {
          "output_type": "stream",
          "text": [
            "Best n_estimators: 2 \n",
            "Best max_depth: 8 \n",
            "Best min_samples_leaf: 2 \n"
          ],
          "name": "stdout"
        }
      ]
    },
    {
      "cell_type": "markdown",
      "metadata": {
        "id": "l5bC5IFAWPOH",
        "colab_type": "text"
      },
      "source": [
        "### Randomized Search"
      ]
    },
    {
      "cell_type": "code",
      "metadata": {
        "id": "tupfwU0-WLqf",
        "colab_type": "code",
        "colab": {}
      },
      "source": [
        "from sklearn.model_selection import RandomizedSearchCV\n",
        "from sklearn.ensemble import RandomForestRegressor\n",
        "from sklearn import datasets"
      ],
      "execution_count": 0,
      "outputs": []
    },
    {
      "cell_type": "code",
      "metadata": {
        "id": "ItZxVqmhXKFu",
        "colab_type": "code",
        "colab": {}
      },
      "source": [
        "# load dataset\n",
        "data = datasets.load_boston()"
      ],
      "execution_count": 0,
      "outputs": []
    },
    {
      "cell_type": "code",
      "metadata": {
        "id": "TPOqxkfOXLQj",
        "colab_type": "code",
        "colab": {}
      },
      "source": [
        "# separate features and target\n",
        "X = data.data\n",
        "y = data.target"
      ],
      "execution_count": 0,
      "outputs": []
    },
    {
      "cell_type": "code",
      "metadata": {
        "id": "n7hVlmTVXM8M",
        "colab_type": "code",
        "colab": {}
      },
      "source": [
        "# construct grid search parameters in a dictionary\n",
        "parameters = {\n",
        "    'n_estimators': [2, 4, 6, 8, 10, 12, 14, 16],\n",
        "    'max_depth': [2, 4, 6, 8],\n",
        "    'min_samples_leaf': [1,2,3,4,5]\n",
        "    }"
      ],
      "execution_count": 0,
      "outputs": []
    },
    {
      "cell_type": "code",
      "metadata": {
        "id": "oy_7IUu4XOMb",
        "colab_type": "code",
        "colab": {}
      },
      "source": [
        "# create the model\n",
        "rf_model = RandomForestRegressor()"
      ],
      "execution_count": 0,
      "outputs": []
    },
    {
      "cell_type": "code",
      "metadata": {
        "id": "JXtFLUesXPNk",
        "colab_type": "code",
        "colab": {}
      },
      "source": [
        "# run the grid search\n",
        "randomized_search = RandomizedSearchCV(estimator=rf_model, param_distributions=parameters, n_iter=10)"
      ],
      "execution_count": 0,
      "outputs": []
    },
    {
      "cell_type": "code",
      "metadata": {
        "id": "dkCLGQw0XQLt",
        "colab_type": "code",
        "outputId": "7aa9fe19-1a6d-4c26-ffa0-1ce86c7422fa",
        "colab": {
          "base_uri": "https://localhost:8080/",
          "height": 479
        }
      },
      "source": [
        "# fit the model\n",
        "randomized_search.fit(X,y)"
      ],
      "execution_count": 0,
      "outputs": [
        {
          "output_type": "stream",
          "text": [
            "/usr/local/lib/python3.6/dist-packages/sklearn/model_selection/_split.py:1978: FutureWarning: The default value of cv will change from 3 to 5 in version 0.22. Specify it explicitly to silence this warning.\n",
            "  warnings.warn(CV_WARNING, FutureWarning)\n",
            "/usr/local/lib/python3.6/dist-packages/sklearn/model_selection/_search.py:813: DeprecationWarning: The default of the `iid` parameter will change from True to False in version 0.22 and will be removed in 0.24. This will change numeric results when test-set sizes are unequal.\n",
            "  DeprecationWarning)\n"
          ],
          "name": "stderr"
        },
        {
          "output_type": "execute_result",
          "data": {
            "text/plain": [
              "RandomizedSearchCV(cv='warn', error_score='raise-deprecating',\n",
              "                   estimator=RandomForestRegressor(bootstrap=True,\n",
              "                                                   criterion='mse',\n",
              "                                                   max_depth=None,\n",
              "                                                   max_features='auto',\n",
              "                                                   max_leaf_nodes=None,\n",
              "                                                   min_impurity_decrease=0.0,\n",
              "                                                   min_impurity_split=None,\n",
              "                                                   min_samples_leaf=1,\n",
              "                                                   min_samples_split=2,\n",
              "                                                   min_weight_fraction_leaf=0.0,\n",
              "                                                   n_estimators='warn',\n",
              "                                                   n_jobs=None, oob_score=False,\n",
              "                                                   random_state=None, verbose=0,\n",
              "                                                   warm_start=False),\n",
              "                   iid='warn', n_iter=10, n_jobs=None,\n",
              "                   param_distributions={'max_depth': [2, 4, 6, 8],\n",
              "                                        'min_samples_leaf': [1, 2, 3, 4, 5],\n",
              "                                        'n_estimators': [2, 4, 6, 8, 10, 12, 14,\n",
              "                                                         16]},\n",
              "                   pre_dispatch='2*n_jobs', random_state=None, refit=True,\n",
              "                   return_train_score=False, scoring=None, verbose=0)"
            ]
          },
          "metadata": {
            "tags": []
          },
          "execution_count": 125
        }
      ]
    },
    {
      "cell_type": "code",
      "metadata": {
        "id": "BYnVi7umXRcm",
        "colab_type": "code",
        "outputId": "8346c3b3-9ac4-4a06-f256-fada490c1be5",
        "colab": {
          "base_uri": "https://localhost:8080/",
          "height": 34
        }
      },
      "source": [
        "# evaluate the model performance\n",
        "print(\"Best Accuracy: %.3f%%\" %  (randomized_search.best_score_*100.0))"
      ],
      "execution_count": 0,
      "outputs": [
        {
          "output_type": "stream",
          "text": [
            "Best Accuracy: 57.770%\n"
          ],
          "name": "stdout"
        }
      ]
    },
    {
      "cell_type": "code",
      "metadata": {
        "id": "uEI07_W7XTZm",
        "colab_type": "code",
        "outputId": "f2b0232f-213f-4b13-a6e8-e186eb5252bf",
        "colab": {
          "base_uri": "https://localhost:8080/",
          "height": 68
        }
      },
      "source": [
        "# best set of hyper-parameter values\n",
        "print(\"Best n_estimators: %d \\nBest max_depth: %d \\nBest min_samples_leaf: %d \" %  \\\n",
        "            (randomized_search.best_estimator_.n_estimators, \\\n",
        "            randomized_search.best_estimator_.max_depth, \\\n",
        "            randomized_search.best_estimator_.min_samples_leaf))"
      ],
      "execution_count": 0,
      "outputs": [
        {
          "output_type": "stream",
          "text": [
            "Best n_estimators: 14 \n",
            "Best max_depth: 6 \n",
            "Best min_samples_leaf: 3 \n"
          ],
          "name": "stdout"
        }
      ]
    }
  ]
}