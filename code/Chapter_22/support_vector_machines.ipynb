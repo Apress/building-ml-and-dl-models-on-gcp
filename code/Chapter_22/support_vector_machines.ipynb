{
  "nbformat": 4,
  "nbformat_minor": 0,
  "metadata": {
    "colab": {
      "name": "support_vector_machines.ipynb",
      "version": "0.3.2",
      "provenance": [],
      "collapsed_sections": [
        "aydsPfgl8Zeb",
        "-4g3V1eH873I"
      ]
    },
    "kernelspec": {
      "name": "python3",
      "display_name": "Python 3"
    }
  },
  "cells": [
    {
      "cell_type": "markdown",
      "metadata": {
        "id": "DTLvDdBX7-OJ",
        "colab_type": "text"
      },
      "source": [
        "# Chapter 22 - Support Vector Machines\n",
        "## Building Machine Learning and Deep Learning Models on Google Cloud Platform\n",
        "### Ekaba Bisong"
      ]
    },
    {
      "cell_type": "markdown",
      "metadata": {
        "id": "aydsPfgl8Zeb",
        "colab_type": "text"
      },
      "source": [
        "## SVM for Classification"
      ]
    },
    {
      "cell_type": "code",
      "metadata": {
        "id": "QSBUTNG18Y-G",
        "colab_type": "code",
        "colab": {}
      },
      "source": [
        "# import packages\n",
        "from sklearn.svm import SVC\n",
        "from sklearn import datasets\n",
        "from sklearn.model_selection import train_test_split\n",
        "from sklearn.metrics import accuracy_score\n",
        "from math import sqrt"
      ],
      "execution_count": 0,
      "outputs": []
    },
    {
      "cell_type": "code",
      "metadata": {
        "id": "u64peLYH77Zm",
        "colab_type": "code",
        "colab": {}
      },
      "source": [
        "# load dataset\n",
        "data = datasets.load_iris()\n",
        "\n",
        "# separate features and target\n",
        "X = data.data\n",
        "y = data.target"
      ],
      "execution_count": 0,
      "outputs": []
    },
    {
      "cell_type": "code",
      "metadata": {
        "id": "Gb6quBQS79jl",
        "colab_type": "code",
        "colab": {}
      },
      "source": [
        "# split in train and test sets\n",
        "X_train, X_test, y_train, y_test = train_test_split(X, y, shuffle=True)"
      ],
      "execution_count": 0,
      "outputs": []
    },
    {
      "cell_type": "code",
      "metadata": {
        "id": "PHeLWtt18qmA",
        "colab_type": "code",
        "colab": {}
      },
      "source": [
        "# create the model\n",
        "svc_model = SVC(gamma='scale')"
      ],
      "execution_count": 0,
      "outputs": []
    },
    {
      "cell_type": "code",
      "metadata": {
        "id": "Y-B-3Ihi8spg",
        "colab_type": "code",
        "outputId": "9d54a052-2e7a-4616-c4a9-c2f0e6e08bae",
        "colab": {
          "base_uri": "https://localhost:8080/",
          "height": 85
        }
      },
      "source": [
        "# fit the model on the training set\n",
        "svc_model.fit(X_train, y_train)"
      ],
      "execution_count": 0,
      "outputs": [
        {
          "output_type": "execute_result",
          "data": {
            "text/plain": [
              "SVC(C=1.0, cache_size=200, class_weight=None, coef0=0.0,\n",
              "    decision_function_shape='ovr', degree=3, gamma='scale', kernel='rbf',\n",
              "    max_iter=-1, probability=False, random_state=None, shrinking=True,\n",
              "    tol=0.001, verbose=False)"
            ]
          },
          "metadata": {
            "tags": []
          },
          "execution_count": 7
        }
      ]
    },
    {
      "cell_type": "code",
      "metadata": {
        "id": "mYF2QMm28uR5",
        "colab_type": "code",
        "colab": {}
      },
      "source": [
        "# make predictions on the test set\n",
        "predictions = svc_model.predict(X_test)"
      ],
      "execution_count": 0,
      "outputs": []
    },
    {
      "cell_type": "code",
      "metadata": {
        "id": "ptqmOlwN83Pj",
        "colab_type": "code",
        "outputId": "59fd61de-b316-42e5-de50-0035be611167",
        "colab": {
          "base_uri": "https://localhost:8080/",
          "height": 34
        }
      },
      "source": [
        "# evaluate the model performance using accuracy metric\n",
        "print(\"Accuracy: %.2f\" % accuracy_score(y_test, predictions))"
      ],
      "execution_count": 0,
      "outputs": [
        {
          "output_type": "stream",
          "text": [
            "Accuracy: 0.95\n"
          ],
          "name": "stdout"
        }
      ]
    },
    {
      "cell_type": "markdown",
      "metadata": {
        "id": "-4g3V1eH873I",
        "colab_type": "text"
      },
      "source": [
        "## SVM for Regression"
      ]
    },
    {
      "cell_type": "code",
      "metadata": {
        "id": "QWD5pi5h84os",
        "colab_type": "code",
        "colab": {}
      },
      "source": [
        "# import packages\n",
        "from sklearn.svm import SVR\n",
        "from sklearn import datasets\n",
        "from sklearn.model_selection import train_test_split\n",
        "from sklearn.metrics import mean_squared_error"
      ],
      "execution_count": 0,
      "outputs": []
    },
    {
      "cell_type": "code",
      "metadata": {
        "id": "PNX3Gnb_860U",
        "colab_type": "code",
        "colab": {}
      },
      "source": [
        "# load dataset\n",
        "data = datasets.load_boston()\n",
        "\n",
        "# separate features and target\n",
        "X = data.data\n",
        "y = data.target"
      ],
      "execution_count": 0,
      "outputs": []
    },
    {
      "cell_type": "code",
      "metadata": {
        "id": "R6LaZZ788_jM",
        "colab_type": "code",
        "colab": {}
      },
      "source": [
        "# split in train and test sets\n",
        "X_train, X_test, y_train, y_test = train_test_split(X, y, shuffle=True)"
      ],
      "execution_count": 0,
      "outputs": []
    },
    {
      "cell_type": "code",
      "metadata": {
        "id": "nY4rI3HZ9A4l",
        "colab_type": "code",
        "colab": {}
      },
      "source": [
        "# create the model, using the linear kernel\n",
        "svr_model = SVR(gamma='scale')"
      ],
      "execution_count": 0,
      "outputs": []
    },
    {
      "cell_type": "code",
      "metadata": {
        "id": "IipSoEEm9CY9",
        "colab_type": "code",
        "outputId": "22e0a872-2dea-4f47-e1b1-ecc642267e35",
        "colab": {
          "base_uri": "https://localhost:8080/",
          "height": 51
        }
      },
      "source": [
        "# fit the model on the training set\n",
        "svr_model.fit(X_train, y_train)"
      ],
      "execution_count": 0,
      "outputs": [
        {
          "output_type": "execute_result",
          "data": {
            "text/plain": [
              "SVR(C=1.0, cache_size=200, coef0=0.0, degree=3, epsilon=0.1, gamma='scale',\n",
              "    kernel='rbf', max_iter=-1, shrinking=True, tol=0.001, verbose=False)"
            ]
          },
          "metadata": {
            "tags": []
          },
          "execution_count": 17
        }
      ]
    },
    {
      "cell_type": "code",
      "metadata": {
        "id": "zqF5-MgU9F6f",
        "colab_type": "code",
        "colab": {}
      },
      "source": [
        "# make predictions on the test set\n",
        "predictions = svr_model.predict(X_test)"
      ],
      "execution_count": 0,
      "outputs": []
    },
    {
      "cell_type": "code",
      "metadata": {
        "id": "EX7I1Bst9K6Q",
        "colab_type": "code",
        "outputId": "6bfbfb50-da34-4aac-8e03-8a0f19ef35f9",
        "colab": {
          "base_uri": "https://localhost:8080/",
          "height": 34
        }
      },
      "source": [
        "# evaluate the model performance using the root mean squared error metric\n",
        "print(\"Root Mean squared error: %.2f\" % sqrt(mean_squared_error(y_test, predictions)))"
      ],
      "execution_count": 0,
      "outputs": [
        {
          "output_type": "stream",
          "text": [
            "Root Mean squared error: 7.58\n"
          ],
          "name": "stdout"
        }
      ]
    },
    {
      "cell_type": "code",
      "metadata": {
        "id": "0_0m9DucRq4L",
        "colab_type": "code",
        "colab": {}
      },
      "source": [
        ""
      ],
      "execution_count": 0,
      "outputs": []
    }
  ]
}