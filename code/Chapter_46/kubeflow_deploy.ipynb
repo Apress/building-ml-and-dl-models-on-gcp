{
  "nbformat": 4,
  "nbformat_minor": 0,
  "metadata": {
    "colab": {
      "name": "kubeflow_deploy.ipynb",
      "version": "0.3.2",
      "provenance": [],
      "collapsed_sections": []
    },
    "kernelspec": {
      "name": "python3",
      "display_name": "Python 3"
    }
  },
  "cells": [
    {
      "cell_type": "markdown",
      "metadata": {
        "id": "QqhmF0OP5QP8",
        "colab_type": "text"
      },
      "source": [
        "# Chapter 46 - Kubeflow and Kubeflow Pipelines\n",
        "## Building Machine Learning and Deep Learning Models on Google Cloud Platform\n",
        "### Ekaba Bisong"
      ]
    },
    {
      "cell_type": "markdown",
      "metadata": {
        "id": "w0t5Mb2T5flo",
        "colab_type": "text"
      },
      "source": [
        "## Download kfctl.sh"
      ]
    },
    {
      "cell_type": "code",
      "metadata": {
        "id": "vO0v9Otl5OO9",
        "colab_type": "code",
        "colab": {}
      },
      "source": [
        "%%bash\n",
        "# create a folder on the local machine\n",
        "mkdir kubeflow\n",
        "\n",
        "# move to created folder\n",
        "cd kubeflow\n",
        "\n",
        "# save folder path as a variable\n",
        "export KUBEFLOW_SRC=$(pwd)\n",
        "\n",
        "# download kubeflow `kfctl.sh`\n",
        "export KUBEFLOW_TAG=v0.5.0\n",
        "\n",
        "curl https://raw.githubusercontent.com/kubeflow/kubeflow/${KUBEFLOW_TAG}/scripts/download.sh | bash\n",
        "\n",
        "# list directory elements\n",
        "ls -la"
      ],
      "execution_count": 0,
      "outputs": []
    },
    {
      "cell_type": "markdown",
      "metadata": {
        "id": "sFAe6XE05gr8",
        "colab_type": "text"
      },
      "source": [
        "## Deploy Kubeflow"
      ]
    },
    {
      "cell_type": "code",
      "metadata": {
        "id": "HdHhbOjq5UKu",
        "colab_type": "code",
        "colab": {}
      },
      "source": [
        "# assign the name for the Kubeflow deployment\n",
        "# The ksonnet app is created in the directory ${KFAPP}/ks_app\n",
        "export KFAPP=ekaba-kubeflow-app\n",
        "\n",
        "# run setup script\n",
        "${KUBEFLOW_SRC}/scripts/kfctl.sh init ${KFAPP} --platform gcp --project ${PROJECT}\n",
        "\n",
        "# navigate to the deployment directory\n",
        "cd ${KFAPP}\n",
        "\n",
        "# creates config files defining the various resources for gcp\n",
        "${KUBEFLOW_SRC}/scripts/kfctl.sh generate platform\n",
        "\n",
        "# creates or updates gcp resources\n",
        "${KUBEFLOW_SRC}/scripts/kfctl.sh apply platform\n",
        "\n",
        "# creates config files defining the various resources for gke\n",
        "${KUBEFLOW_SRC}/scripts/kfctl.sh generate k8s\n",
        "\n",
        "# creates or updates gke resources\n",
        "${KUBEFLOW_SRC}/scripts/kfctl.sh apply k8s\n",
        "\n",
        "# view resources deployed in namespace kubeflow\n",
        "kubectl -n kubeflow get  all"
      ],
      "execution_count": 0,
      "outputs": []
    }
  ]
}