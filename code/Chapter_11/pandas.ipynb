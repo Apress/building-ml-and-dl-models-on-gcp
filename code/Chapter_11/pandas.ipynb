{
  "nbformat": 4,
  "nbformat_minor": 0,
  "metadata": {
    "colab": {
      "name": "pandas.ipynb",
      "version": "0.3.2",
      "provenance": [],
      "collapsed_sections": [
        "juWuKZWPK4v5",
        "MbAd63f5K4wV",
        "-mR-L8tHK4xH",
        "Hlm756IRK4xM",
        "bS6Sbc0VK4xT",
        "cjN0YQYXrfG6",
        "GqNyz5M1K4xp",
        "4opAKLdbK4x7",
        "bakBW_DUK4yS",
        "MgZ8aYaTK4yp",
        "nZhzPiTIK4y2",
        "CQ9CNEC5K4y-",
        "D12jgRD3K4y_",
        "oyt_NwCnK4zK",
        "aPouzbc1K4zp",
        "2875Su5BK4zt",
        "8eGvBoQ0K4z5",
        "wMX7iHWnK4z_",
        "MxHcdByrK40C",
        "p-ro2RtuuCyj",
        "jUB0rvVJxjnO",
        "v8Uy-HP_x_V8",
        "x-1_Bfi3yY3K",
        "iGsMWn8TytE1",
        "j65dzlh2y-tT",
        "QiId0W32zNTO",
        "p5BTQhfPzk_B",
        "LeJTIv5Nz_Go"
      ]
    },
    "language_info": {
      "codemirror_mode": {
        "name": "ipython",
        "version": 3
      },
      "file_extension": ".py",
      "mimetype": "text/x-python",
      "name": "python",
      "nbconvert_exporter": "python",
      "pygments_lexer": "ipython3",
      "version": "3.6.4"
    },
    "kernelspec": {
      "display_name": "Python 3",
      "language": "python",
      "name": "python3"
    }
  },
  "cells": [
    {
      "cell_type": "markdown",
      "metadata": {
        "id": "d_53a8sgK4vy",
        "colab_type": "text"
      },
      "source": [
        "# Chapter 11 - Pandas\n",
        "## Building Machine Learning and Deep Learning Models on Google Cloud Platform\n",
        "### Ekaba Bisong"
      ]
    },
    {
      "cell_type": "markdown",
      "metadata": {
        "id": "__PefibCK4v0",
        "colab_type": "text"
      },
      "source": [
        "To begin with Pandas, we’ll start by importing the Pandas module"
      ]
    },
    {
      "cell_type": "code",
      "metadata": {
        "id": "GI5t3GWhK4v1",
        "colab_type": "code",
        "colab": {}
      },
      "source": [
        "import pandas as pd"
      ],
      "execution_count": 0,
      "outputs": []
    },
    {
      "cell_type": "markdown",
      "metadata": {
        "id": "juWuKZWPK4v5",
        "colab_type": "text"
      },
      "source": [
        "## Series"
      ]
    },
    {
      "cell_type": "markdown",
      "metadata": {
        "id": "3ZUr_M7kK4v5",
        "colab_type": "text"
      },
      "source": [
        "Let us consider an example of creating a Series data structure"
      ]
    },
    {
      "cell_type": "code",
      "metadata": {
        "id": "yBR-ZZW5K4v6",
        "colab_type": "code",
        "colab": {},
        "outputId": "92dc16fd-5fa1-4610-e8cf-f85497f31751"
      },
      "source": [
        "# create a Series object\n",
        "my_series = pd.Series([2,4,6,8], index=['e1','e2','e3','e4'])\n",
        "# print out data in Series data structure\n",
        "my_series"
      ],
      "execution_count": 0,
      "outputs": [
        {
          "output_type": "execute_result",
          "data": {
            "text/plain": [
              "e1    2\n",
              "e2    4\n",
              "e3    6\n",
              "e4    8\n",
              "dtype: int64"
            ]
          },
          "metadata": {
            "tags": []
          },
          "execution_count": 2
        }
      ]
    },
    {
      "cell_type": "code",
      "metadata": {
        "id": "XSdAwNDUK4v_",
        "colab_type": "code",
        "colab": {},
        "outputId": "ebacc4d7-5653-4a26-ebc1-31dc09a7972e"
      },
      "source": [
        "# check the data type of the variable\n",
        "type(my_series)"
      ],
      "execution_count": 0,
      "outputs": [
        {
          "output_type": "execute_result",
          "data": {
            "text/plain": [
              "pandas.core.series.Series"
            ]
          },
          "metadata": {
            "tags": []
          },
          "execution_count": 3
        }
      ]
    },
    {
      "cell_type": "code",
      "metadata": {
        "id": "ReBkRDZfK4wD",
        "colab_type": "code",
        "colab": {},
        "outputId": "c8ef36a2-3a99-43c5-c6ef-7c7a452c1eca"
      },
      "source": [
        "# return the elements of the Series data structure\n",
        "my_series.values"
      ],
      "execution_count": 0,
      "outputs": [
        {
          "output_type": "execute_result",
          "data": {
            "text/plain": [
              "array([2, 4, 6, 8])"
            ]
          },
          "metadata": {
            "tags": []
          },
          "execution_count": 4
        }
      ]
    },
    {
      "cell_type": "code",
      "metadata": {
        "id": "bF-3NRIiK4wH",
        "colab_type": "code",
        "colab": {},
        "outputId": "db89480b-8ced-4c12-f599-16ff3aac3a76"
      },
      "source": [
        "# retrieve elements from Series data structure based on their assigned indices\n",
        "my_series['e1']"
      ],
      "execution_count": 0,
      "outputs": [
        {
          "output_type": "execute_result",
          "data": {
            "text/plain": [
              "2"
            ]
          },
          "metadata": {
            "tags": []
          },
          "execution_count": 5
        }
      ]
    },
    {
      "cell_type": "code",
      "metadata": {
        "id": "rNB1b1N6K4wK",
        "colab_type": "code",
        "colab": {},
        "outputId": "a2fd2fbb-5bee-40aa-c6d0-a287da18abef"
      },
      "source": [
        "# return all indices of the Series data structure\n",
        "my_series.index"
      ],
      "execution_count": 0,
      "outputs": [
        {
          "output_type": "execute_result",
          "data": {
            "text/plain": [
              "Index(['e1', 'e2', 'e3', 'e4'], dtype='object')"
            ]
          },
          "metadata": {
            "tags": []
          },
          "execution_count": 6
        }
      ]
    },
    {
      "cell_type": "markdown",
      "metadata": {
        "id": "4eZmOdvrK4wN",
        "colab_type": "text"
      },
      "source": [
        "Elements in a Series data structure can be assigned the same indices."
      ]
    },
    {
      "cell_type": "code",
      "metadata": {
        "id": "pSNZEkTtK4wO",
        "colab_type": "code",
        "colab": {},
        "outputId": "c81a4a0b-f17c-427f-d4a0-d8d7093f1a23"
      },
      "source": [
        "# create a Series object with elements sharing indices\n",
        "my_series = pd.Series([2,4,6,8], index=['e1','e2','e1','e2'])\n",
        "# note the same index assigned to various elements\n",
        "my_series"
      ],
      "execution_count": 0,
      "outputs": [
        {
          "output_type": "execute_result",
          "data": {
            "text/plain": [
              "e1    2\n",
              "e2    4\n",
              "e1    6\n",
              "e2    8\n",
              "dtype: int64"
            ]
          },
          "metadata": {
            "tags": []
          },
          "execution_count": 7
        }
      ]
    },
    {
      "cell_type": "code",
      "metadata": {
        "id": "o04xzU3RK4wS",
        "colab_type": "code",
        "colab": {},
        "outputId": "3afce0a1-2c4e-4cea-9fef-e80492c31d36"
      },
      "source": [
        "# get elements using their index\n",
        "my_series['e1']"
      ],
      "execution_count": 0,
      "outputs": [
        {
          "output_type": "execute_result",
          "data": {
            "text/plain": [
              "e1    2\n",
              "e1    6\n",
              "dtype: int64"
            ]
          },
          "metadata": {
            "tags": []
          },
          "execution_count": 8
        }
      ]
    },
    {
      "cell_type": "markdown",
      "metadata": {
        "id": "MbAd63f5K4wV",
        "colab_type": "text"
      },
      "source": [
        "## DataFrames"
      ]
    },
    {
      "cell_type": "markdown",
      "metadata": {
        "id": "NbfuWSLnK4wW",
        "colab_type": "text"
      },
      "source": [
        "Let’s see examples of working with DataFrames."
      ]
    },
    {
      "cell_type": "code",
      "metadata": {
        "id": "qYEOjvXKK4wX",
        "colab_type": "code",
        "colab": {},
        "outputId": "5bd40f55-21f3-4d1c-9016-fc3dfce1d41a"
      },
      "source": [
        "# create a data frame\n",
        "my_DF = pd.DataFrame({'age': [15,17,21,29,25], \\\n",
        "            'state_of_origin':['Lagos', 'Cross River', 'Kano', 'Abia', 'Benue']})\n",
        "my_DF"
      ],
      "execution_count": 0,
      "outputs": [
        {
          "output_type": "execute_result",
          "data": {
            "text/html": [
              "<div>\n",
              "<style scoped>\n",
              "    .dataframe tbody tr th:only-of-type {\n",
              "        vertical-align: middle;\n",
              "    }\n",
              "\n",
              "    .dataframe tbody tr th {\n",
              "        vertical-align: top;\n",
              "    }\n",
              "\n",
              "    .dataframe thead th {\n",
              "        text-align: right;\n",
              "    }\n",
              "</style>\n",
              "<table border=\"1\" class=\"dataframe\">\n",
              "  <thead>\n",
              "    <tr style=\"text-align: right;\">\n",
              "      <th></th>\n",
              "      <th>age</th>\n",
              "      <th>state_of_origin</th>\n",
              "    </tr>\n",
              "  </thead>\n",
              "  <tbody>\n",
              "    <tr>\n",
              "      <th>0</th>\n",
              "      <td>15</td>\n",
              "      <td>Lagos</td>\n",
              "    </tr>\n",
              "    <tr>\n",
              "      <th>1</th>\n",
              "      <td>17</td>\n",
              "      <td>Cross River</td>\n",
              "    </tr>\n",
              "    <tr>\n",
              "      <th>2</th>\n",
              "      <td>21</td>\n",
              "      <td>Kano</td>\n",
              "    </tr>\n",
              "    <tr>\n",
              "      <th>3</th>\n",
              "      <td>29</td>\n",
              "      <td>Abia</td>\n",
              "    </tr>\n",
              "    <tr>\n",
              "      <th>4</th>\n",
              "      <td>25</td>\n",
              "      <td>Benue</td>\n",
              "    </tr>\n",
              "  </tbody>\n",
              "</table>\n",
              "</div>"
            ],
            "text/plain": [
              "   age state_of_origin\n",
              "0   15           Lagos\n",
              "1   17     Cross River\n",
              "2   21            Kano\n",
              "3   29            Abia\n",
              "4   25           Benue"
            ]
          },
          "metadata": {
            "tags": []
          },
          "execution_count": 9
        }
      ]
    },
    {
      "cell_type": "markdown",
      "metadata": {
        "id": "ppBAL1oaK4wb",
        "colab_type": "text"
      },
      "source": [
        "NumPy is frequently used together with Pandas. Let’s import the NumPy library and use some of its functions to demonstrate other ways of creating a quick DataFrame."
      ]
    },
    {
      "cell_type": "code",
      "metadata": {
        "id": "lRnRXzb7K4wb",
        "colab_type": "code",
        "colab": {},
        "outputId": "a6a4ad37-c6d3-4654-bcc2-809e766220cc"
      },
      "source": [
        "import numpy as np\n",
        "\n",
        "# create a 3x3 dataframe of numbers from the normal distribution\n",
        "my_DF = pd.DataFrame(np.random.randn(3,3),\\\n",
        "            columns=['First','Second','Third'])\n",
        "my_DF"
      ],
      "execution_count": 0,
      "outputs": [
        {
          "output_type": "execute_result",
          "data": {
            "text/html": [
              "<div>\n",
              "<style scoped>\n",
              "    .dataframe tbody tr th:only-of-type {\n",
              "        vertical-align: middle;\n",
              "    }\n",
              "\n",
              "    .dataframe tbody tr th {\n",
              "        vertical-align: top;\n",
              "    }\n",
              "\n",
              "    .dataframe thead th {\n",
              "        text-align: right;\n",
              "    }\n",
              "</style>\n",
              "<table border=\"1\" class=\"dataframe\">\n",
              "  <thead>\n",
              "    <tr style=\"text-align: right;\">\n",
              "      <th></th>\n",
              "      <th>First</th>\n",
              "      <th>Second</th>\n",
              "      <th>Third</th>\n",
              "    </tr>\n",
              "  </thead>\n",
              "  <tbody>\n",
              "    <tr>\n",
              "      <th>0</th>\n",
              "      <td>0.157797</td>\n",
              "      <td>-1.000635</td>\n",
              "      <td>-0.651680</td>\n",
              "    </tr>\n",
              "    <tr>\n",
              "      <th>1</th>\n",
              "      <td>2.088238</td>\n",
              "      <td>-0.664819</td>\n",
              "      <td>-0.288997</td>\n",
              "    </tr>\n",
              "    <tr>\n",
              "      <th>2</th>\n",
              "      <td>-2.069744</td>\n",
              "      <td>-0.526351</td>\n",
              "      <td>-0.771032</td>\n",
              "    </tr>\n",
              "  </tbody>\n",
              "</table>\n",
              "</div>"
            ],
            "text/plain": [
              "      First    Second     Third\n",
              "0  0.157797 -1.000635 -0.651680\n",
              "1  2.088238 -0.664819 -0.288997\n",
              "2 -2.069744 -0.526351 -0.771032"
            ]
          },
          "metadata": {
            "tags": []
          },
          "execution_count": 10
        }
      ]
    },
    {
      "cell_type": "code",
      "metadata": {
        "id": "0FBQpZruK4we",
        "colab_type": "code",
        "colab": {},
        "outputId": "bb55dde6-4518-469f-a867-1cbb8a8d3c84"
      },
      "source": [
        "# check the dimensions\n",
        "my_DF.shape"
      ],
      "execution_count": 0,
      "outputs": [
        {
          "output_type": "execute_result",
          "data": {
            "text/plain": [
              "(3, 3)"
            ]
          },
          "metadata": {
            "tags": []
          },
          "execution_count": 11
        }
      ]
    },
    {
      "cell_type": "markdown",
      "metadata": {
        "id": "DP4bnS2FK4wi",
        "colab_type": "text"
      },
      "source": [
        "Let’s examine some other operations with DataFrames."
      ]
    },
    {
      "cell_type": "code",
      "metadata": {
        "id": "fcqhuBkyK4wj",
        "colab_type": "code",
        "colab": {},
        "outputId": "89d6eeb5-f49e-4c98-cb13-797794b69a59"
      },
      "source": [
        "# create a python dictionary\n",
        "my_dict = {'State':['Adamawa', 'Akwa-Ibom', 'Yobe', 'Rivers', 'Taraba'], \\\n",
        "            'Capital':['Yola','Uyo','Damaturu','Port-Harcourt','Jalingo'], \\\n",
        "            'Population':[3178950, 5450758, 2321339, 5198716, 2294800]}\n",
        "my_dict"
      ],
      "execution_count": 0,
      "outputs": [
        {
          "output_type": "execute_result",
          "data": {
            "text/plain": [
              "{'Capital': ['Yola', 'Uyo', 'Damaturu', 'Port-Harcourt', 'Jalingo'],\n",
              " 'Population': [3178950, 5450758, 2321339, 5198716, 2294800],\n",
              " 'State': ['Adamawa', 'Akwa-Ibom', 'Yobe', 'Rivers', 'Taraba']}"
            ]
          },
          "metadata": {
            "tags": []
          },
          "execution_count": 12
        }
      ]
    },
    {
      "cell_type": "code",
      "metadata": {
        "id": "02mSS3cQK4wo",
        "colab_type": "code",
        "colab": {},
        "outputId": "6aed2bd9-0ba7-4224-a84f-0c865b8da215"
      },
      "source": [
        "# confirm dictionary type\n",
        "type(my_dict)"
      ],
      "execution_count": 0,
      "outputs": [
        {
          "output_type": "execute_result",
          "data": {
            "text/plain": [
              "dict"
            ]
          },
          "metadata": {
            "tags": []
          },
          "execution_count": 13
        }
      ]
    },
    {
      "cell_type": "code",
      "metadata": {
        "id": "rW6SB8XCK4ws",
        "colab_type": "code",
        "colab": {},
        "outputId": "1c89b92b-90d4-49d3-a6b6-d5a8288255ad"
      },
      "source": [
        "# create DataFrame from dictionary\n",
        "my_DF = pd.DataFrame(my_dict)\n",
        "my_DF"
      ],
      "execution_count": 0,
      "outputs": [
        {
          "output_type": "execute_result",
          "data": {
            "text/html": [
              "<div>\n",
              "<style scoped>\n",
              "    .dataframe tbody tr th:only-of-type {\n",
              "        vertical-align: middle;\n",
              "    }\n",
              "\n",
              "    .dataframe tbody tr th {\n",
              "        vertical-align: top;\n",
              "    }\n",
              "\n",
              "    .dataframe thead th {\n",
              "        text-align: right;\n",
              "    }\n",
              "</style>\n",
              "<table border=\"1\" class=\"dataframe\">\n",
              "  <thead>\n",
              "    <tr style=\"text-align: right;\">\n",
              "      <th></th>\n",
              "      <th>Capital</th>\n",
              "      <th>Population</th>\n",
              "      <th>State</th>\n",
              "    </tr>\n",
              "  </thead>\n",
              "  <tbody>\n",
              "    <tr>\n",
              "      <th>0</th>\n",
              "      <td>Yola</td>\n",
              "      <td>3178950</td>\n",
              "      <td>Adamawa</td>\n",
              "    </tr>\n",
              "    <tr>\n",
              "      <th>1</th>\n",
              "      <td>Uyo</td>\n",
              "      <td>5450758</td>\n",
              "      <td>Akwa-Ibom</td>\n",
              "    </tr>\n",
              "    <tr>\n",
              "      <th>2</th>\n",
              "      <td>Damaturu</td>\n",
              "      <td>2321339</td>\n",
              "      <td>Yobe</td>\n",
              "    </tr>\n",
              "    <tr>\n",
              "      <th>3</th>\n",
              "      <td>Port-Harcourt</td>\n",
              "      <td>5198716</td>\n",
              "      <td>Rivers</td>\n",
              "    </tr>\n",
              "    <tr>\n",
              "      <th>4</th>\n",
              "      <td>Jalingo</td>\n",
              "      <td>2294800</td>\n",
              "      <td>Taraba</td>\n",
              "    </tr>\n",
              "  </tbody>\n",
              "</table>\n",
              "</div>"
            ],
            "text/plain": [
              "         Capital  Population      State\n",
              "0           Yola     3178950    Adamawa\n",
              "1            Uyo     5450758  Akwa-Ibom\n",
              "2       Damaturu     2321339       Yobe\n",
              "3  Port-Harcourt     5198716     Rivers\n",
              "4        Jalingo     2294800     Taraba"
            ]
          },
          "metadata": {
            "tags": []
          },
          "execution_count": 14
        }
      ]
    },
    {
      "cell_type": "code",
      "metadata": {
        "id": "4xKAIemwK4wv",
        "colab_type": "code",
        "colab": {},
        "outputId": "4b9234d4-c3a5-422e-e8ec-33cd1843ea48"
      },
      "source": [
        "# check DataFrame type\n",
        "type(my_DF)"
      ],
      "execution_count": 0,
      "outputs": [
        {
          "output_type": "execute_result",
          "data": {
            "text/plain": [
              "pandas.core.frame.DataFrame"
            ]
          },
          "metadata": {
            "tags": []
          },
          "execution_count": 15
        }
      ]
    },
    {
      "cell_type": "code",
      "metadata": {
        "id": "I_83czkpK4wz",
        "colab_type": "code",
        "colab": {},
        "outputId": "99fe7e37-ff7c-4fb1-fe83-98a937f54850"
      },
      "source": [
        "# retrieve column names of the DataFrame\n",
        "my_DF.columns"
      ],
      "execution_count": 0,
      "outputs": [
        {
          "output_type": "execute_result",
          "data": {
            "text/plain": [
              "Index(['Capital', 'Population', 'State'], dtype='object')"
            ]
          },
          "metadata": {
            "tags": []
          },
          "execution_count": 16
        }
      ]
    },
    {
      "cell_type": "code",
      "metadata": {
        "id": "2afIeTHrK4w4",
        "colab_type": "code",
        "colab": {},
        "outputId": "6f433146-5a33-42c9-8a74-74cccf1d8a3a"
      },
      "source": [
        "# the data type of `DF.columns` method is an Index\n",
        "type(my_DF.columns)"
      ],
      "execution_count": 0,
      "outputs": [
        {
          "output_type": "execute_result",
          "data": {
            "text/plain": [
              "pandas.core.indexes.base.Index"
            ]
          },
          "metadata": {
            "tags": []
          },
          "execution_count": 17
        }
      ]
    },
    {
      "cell_type": "code",
      "metadata": {
        "id": "nWDE8wtLK4w7",
        "colab_type": "code",
        "colab": {},
        "outputId": "502b9027-53ec-4a38-c9a1-3b6893b91b09"
      },
      "source": [
        "# retrieve the DataFrame values as a NumPy ndarray\n",
        "my_DF.values"
      ],
      "execution_count": 0,
      "outputs": [
        {
          "output_type": "execute_result",
          "data": {
            "text/plain": [
              "array([['Yola', 3178950, 'Adamawa'],\n",
              "       ['Uyo', 5450758, 'Akwa-Ibom'],\n",
              "       ['Damaturu', 2321339, 'Yobe'],\n",
              "       ['Port-Harcourt', 5198716, 'Rivers'],\n",
              "       ['Jalingo', 2294800, 'Taraba']], dtype=object)"
            ]
          },
          "metadata": {
            "tags": []
          },
          "execution_count": 18
        }
      ]
    },
    {
      "cell_type": "code",
      "metadata": {
        "id": "S7s2U9HmK4w_",
        "colab_type": "code",
        "colab": {},
        "outputId": "6e631082-517a-4a0e-b86d-9be20e002aee"
      },
      "source": [
        "# the data type of  `DF.values` method is an numpy ndarray\n",
        "type(my_DF.values)"
      ],
      "execution_count": 0,
      "outputs": [
        {
          "output_type": "execute_result",
          "data": {
            "text/plain": [
              "numpy.ndarray"
            ]
          },
          "metadata": {
            "tags": []
          },
          "execution_count": 19
        }
      ]
    },
    {
      "cell_type": "markdown",
      "metadata": {
        "id": "1JNxgKVWK4xD",
        "colab_type": "text"
      },
      "source": [
        "Let’s check the data type of each column in the DataFrame."
      ]
    },
    {
      "cell_type": "code",
      "metadata": {
        "id": "S7ZuxI5UK4xE",
        "colab_type": "code",
        "colab": {},
        "outputId": "f9f0655a-29aa-41c9-bd98-3f5f2b17537e"
      },
      "source": [
        "# Let’s check the data type of each column in the DataFrame\n",
        "my_DF.dtypes"
      ],
      "execution_count": 0,
      "outputs": [
        {
          "output_type": "execute_result",
          "data": {
            "text/plain": [
              "Capital       object\n",
              "Population     int64\n",
              "State         object\n",
              "dtype: object"
            ]
          },
          "metadata": {
            "tags": []
          },
          "execution_count": 20
        }
      ]
    },
    {
      "cell_type": "markdown",
      "metadata": {
        "id": "aYZPbwmOK4xG",
        "colab_type": "text"
      },
      "source": [
        "An object data type in Pandas represents Strings."
      ]
    },
    {
      "cell_type": "markdown",
      "metadata": {
        "id": "-mR-L8tHK4xH",
        "colab_type": "text"
      },
      "source": [
        "## Data Indexing (Selection/ Subsets)"
      ]
    },
    {
      "cell_type": "markdown",
      "metadata": {
        "id": "L1H9ErD-K4xI",
        "colab_type": "text"
      },
      "source": [
        "First let’s create a dataframe. Observe the default integer indices assigned."
      ]
    },
    {
      "cell_type": "code",
      "metadata": {
        "id": "dGq08_tPK4xJ",
        "colab_type": "code",
        "colab": {
          "base_uri": "https://localhost:8080/",
          "height": 204
        },
        "outputId": "1c9d612e-54b2-4322-b452-7542384aae7a"
      },
      "source": [
        "# create the dataframe\n",
        "my_DF = pd.DataFrame({'age': [15,17,21,29,25], \\\n",
        "            'state_of_origin':['Lagos', 'Cross River', 'Kano', 'Abia', 'Benue']})\n",
        "my_DF"
      ],
      "execution_count": 3,
      "outputs": [
        {
          "output_type": "execute_result",
          "data": {
            "text/html": [
              "<div>\n",
              "<style scoped>\n",
              "    .dataframe tbody tr th:only-of-type {\n",
              "        vertical-align: middle;\n",
              "    }\n",
              "\n",
              "    .dataframe tbody tr th {\n",
              "        vertical-align: top;\n",
              "    }\n",
              "\n",
              "    .dataframe thead th {\n",
              "        text-align: right;\n",
              "    }\n",
              "</style>\n",
              "<table border=\"1\" class=\"dataframe\">\n",
              "  <thead>\n",
              "    <tr style=\"text-align: right;\">\n",
              "      <th></th>\n",
              "      <th>age</th>\n",
              "      <th>state_of_origin</th>\n",
              "    </tr>\n",
              "  </thead>\n",
              "  <tbody>\n",
              "    <tr>\n",
              "      <th>0</th>\n",
              "      <td>15</td>\n",
              "      <td>Lagos</td>\n",
              "    </tr>\n",
              "    <tr>\n",
              "      <th>1</th>\n",
              "      <td>17</td>\n",
              "      <td>Cross River</td>\n",
              "    </tr>\n",
              "    <tr>\n",
              "      <th>2</th>\n",
              "      <td>21</td>\n",
              "      <td>Kano</td>\n",
              "    </tr>\n",
              "    <tr>\n",
              "      <th>3</th>\n",
              "      <td>29</td>\n",
              "      <td>Abia</td>\n",
              "    </tr>\n",
              "    <tr>\n",
              "      <th>4</th>\n",
              "      <td>25</td>\n",
              "      <td>Benue</td>\n",
              "    </tr>\n",
              "  </tbody>\n",
              "</table>\n",
              "</div>"
            ],
            "text/plain": [
              "   age state_of_origin\n",
              "0   15           Lagos\n",
              "1   17     Cross River\n",
              "2   21            Kano\n",
              "3   29            Abia\n",
              "4   25           Benue"
            ]
          },
          "metadata": {
            "tags": []
          },
          "execution_count": 3
        }
      ]
    },
    {
      "cell_type": "markdown",
      "metadata": {
        "id": "Hlm756IRK4xM",
        "colab_type": "text"
      },
      "source": [
        "## Selecting a column from a DataFrame"
      ]
    },
    {
      "cell_type": "markdown",
      "metadata": {
        "id": "CDCYmkSJK4xN",
        "colab_type": "text"
      },
      "source": [
        "Remember that the data type of a DataFrame column is a Series because it is a vector or 1-Dimensional array."
      ]
    },
    {
      "cell_type": "code",
      "metadata": {
        "id": "ormKC-toK4xO",
        "colab_type": "code",
        "colab": {
          "base_uri": "https://localhost:8080/",
          "height": 119
        },
        "outputId": "2547d710-a2e9-4991-c60f-6995694f52dd"
      },
      "source": [
        "my_DF['age']"
      ],
      "execution_count": 4,
      "outputs": [
        {
          "output_type": "execute_result",
          "data": {
            "text/plain": [
              "0    15\n",
              "1    17\n",
              "2    21\n",
              "3    29\n",
              "4    25\n",
              "Name: age, dtype: int64"
            ]
          },
          "metadata": {
            "tags": []
          },
          "execution_count": 4
        }
      ]
    },
    {
      "cell_type": "code",
      "metadata": {
        "id": "NbSXut_rK4xR",
        "colab_type": "code",
        "colab": {
          "base_uri": "https://localhost:8080/",
          "height": 34
        },
        "outputId": "6f71656e-679a-41ee-f888-2bc0bec61986"
      },
      "source": [
        "# check data type\n",
        "type(my_DF['age'])"
      ],
      "execution_count": 5,
      "outputs": [
        {
          "output_type": "execute_result",
          "data": {
            "text/plain": [
              "pandas.core.series.Series"
            ]
          },
          "metadata": {
            "tags": []
          },
          "execution_count": 5
        }
      ]
    },
    {
      "cell_type": "markdown",
      "metadata": {
        "id": "zhfd2i_TPr0m",
        "colab_type": "text"
      },
      "source": [
        "To select multiple columns, enclose the column names as strings with the double square-brackets [[ ]]. As an example:"
      ]
    },
    {
      "cell_type": "code",
      "metadata": {
        "id": "NaYktTUrPuhp",
        "colab_type": "code",
        "colab": {
          "base_uri": "https://localhost:8080/",
          "height": 204
        },
        "outputId": "d07fc48b-80f9-4319-dbd3-2c24a79b5661"
      },
      "source": [
        "my_DF[['age','state_of_origin']]"
      ],
      "execution_count": 6,
      "outputs": [
        {
          "output_type": "execute_result",
          "data": {
            "text/html": [
              "<div>\n",
              "<style scoped>\n",
              "    .dataframe tbody tr th:only-of-type {\n",
              "        vertical-align: middle;\n",
              "    }\n",
              "\n",
              "    .dataframe tbody tr th {\n",
              "        vertical-align: top;\n",
              "    }\n",
              "\n",
              "    .dataframe thead th {\n",
              "        text-align: right;\n",
              "    }\n",
              "</style>\n",
              "<table border=\"1\" class=\"dataframe\">\n",
              "  <thead>\n",
              "    <tr style=\"text-align: right;\">\n",
              "      <th></th>\n",
              "      <th>age</th>\n",
              "      <th>state_of_origin</th>\n",
              "    </tr>\n",
              "  </thead>\n",
              "  <tbody>\n",
              "    <tr>\n",
              "      <th>0</th>\n",
              "      <td>15</td>\n",
              "      <td>Lagos</td>\n",
              "    </tr>\n",
              "    <tr>\n",
              "      <th>1</th>\n",
              "      <td>17</td>\n",
              "      <td>Cross River</td>\n",
              "    </tr>\n",
              "    <tr>\n",
              "      <th>2</th>\n",
              "      <td>21</td>\n",
              "      <td>Kano</td>\n",
              "    </tr>\n",
              "    <tr>\n",
              "      <th>3</th>\n",
              "      <td>29</td>\n",
              "      <td>Abia</td>\n",
              "    </tr>\n",
              "    <tr>\n",
              "      <th>4</th>\n",
              "      <td>25</td>\n",
              "      <td>Benue</td>\n",
              "    </tr>\n",
              "  </tbody>\n",
              "</table>\n",
              "</div>"
            ],
            "text/plain": [
              "   age state_of_origin\n",
              "0   15           Lagos\n",
              "1   17     Cross River\n",
              "2   21            Kano\n",
              "3   29            Abia\n",
              "4   25           Benue"
            ]
          },
          "metadata": {
            "tags": []
          },
          "execution_count": 6
        }
      ]
    },
    {
      "cell_type": "markdown",
      "metadata": {
        "id": "bS6Sbc0VK4xT",
        "colab_type": "text"
      },
      "source": [
        "## Selecting a row from a DataFrame"
      ]
    },
    {
      "cell_type": "markdown",
      "metadata": {
        "id": "oAvoNx2HK4xU",
        "colab_type": "text"
      },
      "source": [
        "Let’s select the first row from the DataFrame."
      ]
    },
    {
      "cell_type": "code",
      "metadata": {
        "id": "XjQNEQbNK4xV",
        "colab_type": "code",
        "colab": {},
        "outputId": "2f0c6f77-0add-4daa-c019-9a6c7fd8dcc8"
      },
      "source": [
        "# using explicit indexing\n",
        "my_DF.loc[0]"
      ],
      "execution_count": 0,
      "outputs": [
        {
          "output_type": "execute_result",
          "data": {
            "text/plain": [
              "age                   15\n",
              "state_of_origin    Lagos\n",
              "Name: 0, dtype: object"
            ]
          },
          "metadata": {
            "tags": []
          },
          "execution_count": 24
        }
      ]
    },
    {
      "cell_type": "code",
      "metadata": {
        "id": "qpwG67lkK4xZ",
        "colab_type": "code",
        "colab": {},
        "outputId": "e4b1c139-fc51-474d-bbd1-724886694cd7"
      },
      "source": [
        "# using implicit indexing\n",
        "my_DF.iloc[0]"
      ],
      "execution_count": 0,
      "outputs": [
        {
          "output_type": "execute_result",
          "data": {
            "text/plain": [
              "age                   15\n",
              "state_of_origin    Lagos\n",
              "Name: 0, dtype: object"
            ]
          },
          "metadata": {
            "tags": []
          },
          "execution_count": 25
        }
      ]
    },
    {
      "cell_type": "code",
      "metadata": {
        "id": "Pq02lZRjK4xc",
        "colab_type": "code",
        "colab": {},
        "outputId": "3d24f35a-a01b-4b0b-aff8-e093ce443a3f"
      },
      "source": [
        "# let's see the data type\n",
        "type(my_DF.loc[0])"
      ],
      "execution_count": 0,
      "outputs": [
        {
          "output_type": "execute_result",
          "data": {
            "text/plain": [
              "pandas.core.series.Series"
            ]
          },
          "metadata": {
            "tags": []
          },
          "execution_count": 26
        }
      ]
    },
    {
      "cell_type": "markdown",
      "metadata": {
        "id": "iSJWCtAEK4xf",
        "colab_type": "text"
      },
      "source": [
        "Now let’s create a DataFrame with explicit indexing and test out the iloc and loc methods. Pandas will return an error if `iloc` is used for explicit indexing or if `loc` is used for implicit Python indexing."
      ]
    },
    {
      "cell_type": "code",
      "metadata": {
        "id": "uAkwQvPLK4xg",
        "colab_type": "code",
        "colab": {},
        "outputId": "9b76b8fd-e7d7-488b-85ce-1191dbf43fa1"
      },
      "source": [
        "my_DF = pd.DataFrame({'age': [15,17,21,29,25], \\\n",
        "            'state_of_origin':['Lagos', 'Cross River', 'Kano', 'Abia', 'Benue']},\\\n",
        "            index=['a','a','b','b','c'])\n",
        "# observe the string indices\n",
        "my_DF"
      ],
      "execution_count": 0,
      "outputs": [
        {
          "output_type": "execute_result",
          "data": {
            "text/html": [
              "<div>\n",
              "<style scoped>\n",
              "    .dataframe tbody tr th:only-of-type {\n",
              "        vertical-align: middle;\n",
              "    }\n",
              "\n",
              "    .dataframe tbody tr th {\n",
              "        vertical-align: top;\n",
              "    }\n",
              "\n",
              "    .dataframe thead th {\n",
              "        text-align: right;\n",
              "    }\n",
              "</style>\n",
              "<table border=\"1\" class=\"dataframe\">\n",
              "  <thead>\n",
              "    <tr style=\"text-align: right;\">\n",
              "      <th></th>\n",
              "      <th>age</th>\n",
              "      <th>state_of_origin</th>\n",
              "    </tr>\n",
              "  </thead>\n",
              "  <tbody>\n",
              "    <tr>\n",
              "      <th>a</th>\n",
              "      <td>15</td>\n",
              "      <td>Lagos</td>\n",
              "    </tr>\n",
              "    <tr>\n",
              "      <th>a</th>\n",
              "      <td>17</td>\n",
              "      <td>Cross River</td>\n",
              "    </tr>\n",
              "    <tr>\n",
              "      <th>b</th>\n",
              "      <td>21</td>\n",
              "      <td>Kano</td>\n",
              "    </tr>\n",
              "    <tr>\n",
              "      <th>b</th>\n",
              "      <td>29</td>\n",
              "      <td>Abia</td>\n",
              "    </tr>\n",
              "    <tr>\n",
              "      <th>c</th>\n",
              "      <td>25</td>\n",
              "      <td>Benue</td>\n",
              "    </tr>\n",
              "  </tbody>\n",
              "</table>\n",
              "</div>"
            ],
            "text/plain": [
              "   age state_of_origin\n",
              "a   15           Lagos\n",
              "a   17     Cross River\n",
              "b   21            Kano\n",
              "b   29            Abia\n",
              "c   25           Benue"
            ]
          },
          "metadata": {
            "tags": []
          },
          "execution_count": 27
        }
      ]
    },
    {
      "cell_type": "code",
      "metadata": {
        "id": "KCxdweSJK4xj",
        "colab_type": "code",
        "colab": {},
        "outputId": "69894380-b76b-4cb9-ac37-0257e1384cc6"
      },
      "source": [
        "# select using explicit indexing\n",
        "my_DF.loc['a']"
      ],
      "execution_count": 0,
      "outputs": [
        {
          "output_type": "execute_result",
          "data": {
            "text/html": [
              "<div>\n",
              "<style scoped>\n",
              "    .dataframe tbody tr th:only-of-type {\n",
              "        vertical-align: middle;\n",
              "    }\n",
              "\n",
              "    .dataframe tbody tr th {\n",
              "        vertical-align: top;\n",
              "    }\n",
              "\n",
              "    .dataframe thead th {\n",
              "        text-align: right;\n",
              "    }\n",
              "</style>\n",
              "<table border=\"1\" class=\"dataframe\">\n",
              "  <thead>\n",
              "    <tr style=\"text-align: right;\">\n",
              "      <th></th>\n",
              "      <th>age</th>\n",
              "      <th>state_of_origin</th>\n",
              "    </tr>\n",
              "  </thead>\n",
              "  <tbody>\n",
              "    <tr>\n",
              "      <th>a</th>\n",
              "      <td>15</td>\n",
              "      <td>Lagos</td>\n",
              "    </tr>\n",
              "    <tr>\n",
              "      <th>a</th>\n",
              "      <td>17</td>\n",
              "      <td>Cross River</td>\n",
              "    </tr>\n",
              "  </tbody>\n",
              "</table>\n",
              "</div>"
            ],
            "text/plain": [
              "   age state_of_origin\n",
              "a   15           Lagos\n",
              "a   17     Cross River"
            ]
          },
          "metadata": {
            "tags": []
          },
          "execution_count": 28
        }
      ]
    },
    {
      "cell_type": "code",
      "metadata": {
        "id": "yntIgTZiK4xm",
        "colab_type": "code",
        "colab": {},
        "outputId": "97490077-aa77-41c9-a550-84ffd6c8e66d"
      },
      "source": [
        "# lets try to use loc for implicit indexing\n",
        "my_DF.loc[0]"
      ],
      "execution_count": 0,
      "outputs": [
        {
          "output_type": "error",
          "ename": "TypeError",
          "evalue": "cannot do label indexing on <class 'pandas.core.indexes.base.Index'> with these indexers [0] of <class 'int'>",
          "traceback": [
            "\u001b[0;31m---------------------------------------------------------------------------\u001b[0m",
            "\u001b[0;31mTypeError\u001b[0m                                 Traceback (most recent call last)",
            "\u001b[0;32m<ipython-input-29-45fc78cb4fb1>\u001b[0m in \u001b[0;36m<module>\u001b[0;34m()\u001b[0m\n\u001b[1;32m      1\u001b[0m \u001b[0;31m# lets try to use loc for implicit indexing\u001b[0m\u001b[0;34m\u001b[0m\u001b[0;34m\u001b[0m\u001b[0m\n\u001b[0;32m----> 2\u001b[0;31m \u001b[0mmy_DF\u001b[0m\u001b[0;34m.\u001b[0m\u001b[0mloc\u001b[0m\u001b[0;34m[\u001b[0m\u001b[0;36m0\u001b[0m\u001b[0;34m]\u001b[0m\u001b[0;34m\u001b[0m\u001b[0m\n\u001b[0m",
            "\u001b[0;32m~/anaconda3/lib/python3.6/site-packages/pandas/core/indexing.py\u001b[0m in \u001b[0;36m__getitem__\u001b[0;34m(self, key)\u001b[0m\n\u001b[1;32m   1371\u001b[0m \u001b[0;34m\u001b[0m\u001b[0m\n\u001b[1;32m   1372\u001b[0m             \u001b[0mmaybe_callable\u001b[0m \u001b[0;34m=\u001b[0m \u001b[0mcom\u001b[0m\u001b[0;34m.\u001b[0m\u001b[0m_apply_if_callable\u001b[0m\u001b[0;34m(\u001b[0m\u001b[0mkey\u001b[0m\u001b[0;34m,\u001b[0m \u001b[0mself\u001b[0m\u001b[0;34m.\u001b[0m\u001b[0mobj\u001b[0m\u001b[0;34m)\u001b[0m\u001b[0;34m\u001b[0m\u001b[0m\n\u001b[0;32m-> 1373\u001b[0;31m             \u001b[0;32mreturn\u001b[0m \u001b[0mself\u001b[0m\u001b[0;34m.\u001b[0m\u001b[0m_getitem_axis\u001b[0m\u001b[0;34m(\u001b[0m\u001b[0mmaybe_callable\u001b[0m\u001b[0;34m,\u001b[0m \u001b[0maxis\u001b[0m\u001b[0;34m=\u001b[0m\u001b[0maxis\u001b[0m\u001b[0;34m)\u001b[0m\u001b[0;34m\u001b[0m\u001b[0m\n\u001b[0m\u001b[1;32m   1374\u001b[0m \u001b[0;34m\u001b[0m\u001b[0m\n\u001b[1;32m   1375\u001b[0m     \u001b[0;32mdef\u001b[0m \u001b[0m_is_scalar_access\u001b[0m\u001b[0;34m(\u001b[0m\u001b[0mself\u001b[0m\u001b[0;34m,\u001b[0m \u001b[0mkey\u001b[0m\u001b[0;34m)\u001b[0m\u001b[0;34m:\u001b[0m\u001b[0;34m\u001b[0m\u001b[0m\n",
            "\u001b[0;32m~/anaconda3/lib/python3.6/site-packages/pandas/core/indexing.py\u001b[0m in \u001b[0;36m_getitem_axis\u001b[0;34m(self, key, axis)\u001b[0m\n\u001b[1;32m   1624\u001b[0m \u001b[0;34m\u001b[0m\u001b[0m\n\u001b[1;32m   1625\u001b[0m         \u001b[0;31m# fall thru to straight lookup\u001b[0m\u001b[0;34m\u001b[0m\u001b[0;34m\u001b[0m\u001b[0m\n\u001b[0;32m-> 1626\u001b[0;31m         \u001b[0mself\u001b[0m\u001b[0;34m.\u001b[0m\u001b[0m_has_valid_type\u001b[0m\u001b[0;34m(\u001b[0m\u001b[0mkey\u001b[0m\u001b[0;34m,\u001b[0m \u001b[0maxis\u001b[0m\u001b[0;34m)\u001b[0m\u001b[0;34m\u001b[0m\u001b[0m\n\u001b[0m\u001b[1;32m   1627\u001b[0m         \u001b[0;32mreturn\u001b[0m \u001b[0mself\u001b[0m\u001b[0;34m.\u001b[0m\u001b[0m_get_label\u001b[0m\u001b[0;34m(\u001b[0m\u001b[0mkey\u001b[0m\u001b[0;34m,\u001b[0m \u001b[0maxis\u001b[0m\u001b[0;34m=\u001b[0m\u001b[0maxis\u001b[0m\u001b[0;34m)\u001b[0m\u001b[0;34m\u001b[0m\u001b[0m\n\u001b[1;32m   1628\u001b[0m \u001b[0;34m\u001b[0m\u001b[0m\n",
            "\u001b[0;32m~/anaconda3/lib/python3.6/site-packages/pandas/core/indexing.py\u001b[0m in \u001b[0;36m_has_valid_type\u001b[0;34m(self, key, axis)\u001b[0m\n\u001b[1;32m   1502\u001b[0m \u001b[0;34m\u001b[0m\u001b[0m\n\u001b[1;32m   1503\u001b[0m             \u001b[0;32mtry\u001b[0m\u001b[0;34m:\u001b[0m\u001b[0;34m\u001b[0m\u001b[0m\n\u001b[0;32m-> 1504\u001b[0;31m                 \u001b[0mkey\u001b[0m \u001b[0;34m=\u001b[0m \u001b[0mself\u001b[0m\u001b[0;34m.\u001b[0m\u001b[0m_convert_scalar_indexer\u001b[0m\u001b[0;34m(\u001b[0m\u001b[0mkey\u001b[0m\u001b[0;34m,\u001b[0m \u001b[0maxis\u001b[0m\u001b[0;34m)\u001b[0m\u001b[0;34m\u001b[0m\u001b[0m\n\u001b[0m\u001b[1;32m   1505\u001b[0m                 \u001b[0;32mif\u001b[0m \u001b[0;32mnot\u001b[0m \u001b[0max\u001b[0m\u001b[0;34m.\u001b[0m\u001b[0mcontains\u001b[0m\u001b[0;34m(\u001b[0m\u001b[0mkey\u001b[0m\u001b[0;34m)\u001b[0m\u001b[0;34m:\u001b[0m\u001b[0;34m\u001b[0m\u001b[0m\n\u001b[1;32m   1506\u001b[0m                     \u001b[0merror\u001b[0m\u001b[0;34m(\u001b[0m\u001b[0;34m)\u001b[0m\u001b[0;34m\u001b[0m\u001b[0m\n",
            "\u001b[0;32m~/anaconda3/lib/python3.6/site-packages/pandas/core/indexing.py\u001b[0m in \u001b[0;36m_convert_scalar_indexer\u001b[0;34m(self, key, axis)\u001b[0m\n\u001b[1;32m    254\u001b[0m         \u001b[0max\u001b[0m \u001b[0;34m=\u001b[0m \u001b[0mself\u001b[0m\u001b[0;34m.\u001b[0m\u001b[0mobj\u001b[0m\u001b[0;34m.\u001b[0m\u001b[0m_get_axis\u001b[0m\u001b[0;34m(\u001b[0m\u001b[0mmin\u001b[0m\u001b[0;34m(\u001b[0m\u001b[0maxis\u001b[0m\u001b[0;34m,\u001b[0m \u001b[0mself\u001b[0m\u001b[0;34m.\u001b[0m\u001b[0mndim\u001b[0m \u001b[0;34m-\u001b[0m \u001b[0;36m1\u001b[0m\u001b[0;34m)\u001b[0m\u001b[0;34m)\u001b[0m\u001b[0;34m\u001b[0m\u001b[0m\n\u001b[1;32m    255\u001b[0m         \u001b[0;31m# a scalar\u001b[0m\u001b[0;34m\u001b[0m\u001b[0;34m\u001b[0m\u001b[0m\n\u001b[0;32m--> 256\u001b[0;31m         \u001b[0;32mreturn\u001b[0m \u001b[0max\u001b[0m\u001b[0;34m.\u001b[0m\u001b[0m_convert_scalar_indexer\u001b[0m\u001b[0;34m(\u001b[0m\u001b[0mkey\u001b[0m\u001b[0;34m,\u001b[0m \u001b[0mkind\u001b[0m\u001b[0;34m=\u001b[0m\u001b[0mself\u001b[0m\u001b[0;34m.\u001b[0m\u001b[0mname\u001b[0m\u001b[0;34m)\u001b[0m\u001b[0;34m\u001b[0m\u001b[0m\n\u001b[0m\u001b[1;32m    257\u001b[0m \u001b[0;34m\u001b[0m\u001b[0m\n\u001b[1;32m    258\u001b[0m     \u001b[0;32mdef\u001b[0m \u001b[0m_convert_slice_indexer\u001b[0m\u001b[0;34m(\u001b[0m\u001b[0mself\u001b[0m\u001b[0;34m,\u001b[0m \u001b[0mkey\u001b[0m\u001b[0;34m,\u001b[0m \u001b[0maxis\u001b[0m\u001b[0;34m)\u001b[0m\u001b[0;34m:\u001b[0m\u001b[0;34m\u001b[0m\u001b[0m\n",
            "\u001b[0;32m~/anaconda3/lib/python3.6/site-packages/pandas/core/indexes/base.py\u001b[0m in \u001b[0;36m_convert_scalar_indexer\u001b[0;34m(self, key, kind)\u001b[0m\n\u001b[1;32m   1390\u001b[0m             \u001b[0;32melif\u001b[0m \u001b[0mkind\u001b[0m \u001b[0;32min\u001b[0m \u001b[0;34m[\u001b[0m\u001b[0;34m'loc'\u001b[0m\u001b[0;34m]\u001b[0m \u001b[0;32mand\u001b[0m \u001b[0mis_integer\u001b[0m\u001b[0;34m(\u001b[0m\u001b[0mkey\u001b[0m\u001b[0;34m)\u001b[0m\u001b[0;34m:\u001b[0m\u001b[0;34m\u001b[0m\u001b[0m\n\u001b[1;32m   1391\u001b[0m                 \u001b[0;32mif\u001b[0m \u001b[0;32mnot\u001b[0m \u001b[0mself\u001b[0m\u001b[0;34m.\u001b[0m\u001b[0mholds_integer\u001b[0m\u001b[0;34m(\u001b[0m\u001b[0;34m)\u001b[0m\u001b[0;34m:\u001b[0m\u001b[0;34m\u001b[0m\u001b[0m\n\u001b[0;32m-> 1392\u001b[0;31m                     \u001b[0;32mreturn\u001b[0m \u001b[0mself\u001b[0m\u001b[0;34m.\u001b[0m\u001b[0m_invalid_indexer\u001b[0m\u001b[0;34m(\u001b[0m\u001b[0;34m'label'\u001b[0m\u001b[0;34m,\u001b[0m \u001b[0mkey\u001b[0m\u001b[0;34m)\u001b[0m\u001b[0;34m\u001b[0m\u001b[0m\n\u001b[0m\u001b[1;32m   1393\u001b[0m \u001b[0;34m\u001b[0m\u001b[0m\n\u001b[1;32m   1394\u001b[0m         \u001b[0;32mreturn\u001b[0m \u001b[0mkey\u001b[0m\u001b[0;34m\u001b[0m\u001b[0m\n",
            "\u001b[0;32m~/anaconda3/lib/python3.6/site-packages/pandas/core/indexes/base.py\u001b[0m in \u001b[0;36m_invalid_indexer\u001b[0;34m(self, form, key)\u001b[0m\n\u001b[1;32m   1574\u001b[0m                         \"indexers [{key}] of {kind}\".format(\n\u001b[1;32m   1575\u001b[0m                             \u001b[0mform\u001b[0m\u001b[0;34m=\u001b[0m\u001b[0mform\u001b[0m\u001b[0;34m,\u001b[0m \u001b[0mklass\u001b[0m\u001b[0;34m=\u001b[0m\u001b[0mtype\u001b[0m\u001b[0;34m(\u001b[0m\u001b[0mself\u001b[0m\u001b[0;34m)\u001b[0m\u001b[0;34m,\u001b[0m \u001b[0mkey\u001b[0m\u001b[0;34m=\u001b[0m\u001b[0mkey\u001b[0m\u001b[0;34m,\u001b[0m\u001b[0;34m\u001b[0m\u001b[0m\n\u001b[0;32m-> 1576\u001b[0;31m                             kind=type(key)))\n\u001b[0m\u001b[1;32m   1577\u001b[0m \u001b[0;34m\u001b[0m\u001b[0m\n\u001b[1;32m   1578\u001b[0m     \u001b[0;32mdef\u001b[0m \u001b[0mget_duplicates\u001b[0m\u001b[0;34m(\u001b[0m\u001b[0mself\u001b[0m\u001b[0;34m)\u001b[0m\u001b[0;34m:\u001b[0m\u001b[0;34m\u001b[0m\u001b[0m\n",
            "\u001b[0;31mTypeError\u001b[0m: cannot do label indexing on <class 'pandas.core.indexes.base.Index'> with these indexers [0] of <class 'int'>"
          ]
        }
      ]
    },
    {
      "cell_type": "markdown",
      "metadata": {
        "id": "cjN0YQYXrfG6",
        "colab_type": "text"
      },
      "source": [
        "## Selecting multiple rows and columns from a DataFrame"
      ]
    },
    {
      "cell_type": "code",
      "metadata": {
        "id": "DLFjhRAxrie0",
        "colab_type": "code",
        "colab": {
          "base_uri": "https://localhost:8080/",
          "height": 142
        },
        "outputId": "dfa35018-2546-43ec-b486-1ba0180d244c"
      },
      "source": [
        "# select rows with age greater than 20\n",
        "my_DF.loc[my_DF.age > 20]"
      ],
      "execution_count": 7,
      "outputs": [
        {
          "output_type": "execute_result",
          "data": {
            "text/html": [
              "<div>\n",
              "<style scoped>\n",
              "    .dataframe tbody tr th:only-of-type {\n",
              "        vertical-align: middle;\n",
              "    }\n",
              "\n",
              "    .dataframe tbody tr th {\n",
              "        vertical-align: top;\n",
              "    }\n",
              "\n",
              "    .dataframe thead th {\n",
              "        text-align: right;\n",
              "    }\n",
              "</style>\n",
              "<table border=\"1\" class=\"dataframe\">\n",
              "  <thead>\n",
              "    <tr style=\"text-align: right;\">\n",
              "      <th></th>\n",
              "      <th>age</th>\n",
              "      <th>state_of_origin</th>\n",
              "    </tr>\n",
              "  </thead>\n",
              "  <tbody>\n",
              "    <tr>\n",
              "      <th>2</th>\n",
              "      <td>21</td>\n",
              "      <td>Kano</td>\n",
              "    </tr>\n",
              "    <tr>\n",
              "      <th>3</th>\n",
              "      <td>29</td>\n",
              "      <td>Abia</td>\n",
              "    </tr>\n",
              "    <tr>\n",
              "      <th>4</th>\n",
              "      <td>25</td>\n",
              "      <td>Benue</td>\n",
              "    </tr>\n",
              "  </tbody>\n",
              "</table>\n",
              "</div>"
            ],
            "text/plain": [
              "   age state_of_origin\n",
              "2   21            Kano\n",
              "3   29            Abia\n",
              "4   25           Benue"
            ]
          },
          "metadata": {
            "tags": []
          },
          "execution_count": 7
        }
      ]
    },
    {
      "cell_type": "code",
      "metadata": {
        "id": "fnAcSdOTrmn3",
        "colab_type": "code",
        "colab": {
          "base_uri": "https://localhost:8080/",
          "height": 68
        },
        "outputId": "86a4e987-14a6-40fc-a27e-71d043f3fd08"
      },
      "source": [
        "# find states of origin with age greater than or equal to 25\n",
        "my_DF.loc[my_DF.age >= 25, 'state_of_origin']"
      ],
      "execution_count": 8,
      "outputs": [
        {
          "output_type": "execute_result",
          "data": {
            "text/plain": [
              "3     Abia\n",
              "4    Benue\n",
              "Name: state_of_origin, dtype: object"
            ]
          },
          "metadata": {
            "tags": []
          },
          "execution_count": 8
        }
      ]
    },
    {
      "cell_type": "markdown",
      "metadata": {
        "id": "GqNyz5M1K4xp",
        "colab_type": "text"
      },
      "source": [
        "## Slice cells by row and column from a DataFrame"
      ]
    },
    {
      "cell_type": "markdown",
      "metadata": {
        "id": "8PWoslR9K4xq",
        "colab_type": "text"
      },
      "source": [
        "First let’s create a DataFrame. Remember, we use `iloc` when no explicit index or row labels are assigned."
      ]
    },
    {
      "cell_type": "code",
      "metadata": {
        "id": "UBmqxNqrK4xr",
        "colab_type": "code",
        "colab": {},
        "outputId": "08886e37-2f95-4698-b0d7-26d60f717e92"
      },
      "source": [
        "my_DF = pd.DataFrame({'age': [15,17,21,29,25], \\\n",
        "            'state_of_origin':['Lagos', 'Cross River', 'Kano', 'Abia', 'Benue']})\n",
        "my_DF"
      ],
      "execution_count": 0,
      "outputs": [
        {
          "output_type": "execute_result",
          "data": {
            "text/html": [
              "<div>\n",
              "<style scoped>\n",
              "    .dataframe tbody tr th:only-of-type {\n",
              "        vertical-align: middle;\n",
              "    }\n",
              "\n",
              "    .dataframe tbody tr th {\n",
              "        vertical-align: top;\n",
              "    }\n",
              "\n",
              "    .dataframe thead th {\n",
              "        text-align: right;\n",
              "    }\n",
              "</style>\n",
              "<table border=\"1\" class=\"dataframe\">\n",
              "  <thead>\n",
              "    <tr style=\"text-align: right;\">\n",
              "      <th></th>\n",
              "      <th>age</th>\n",
              "      <th>state_of_origin</th>\n",
              "    </tr>\n",
              "  </thead>\n",
              "  <tbody>\n",
              "    <tr>\n",
              "      <th>0</th>\n",
              "      <td>15</td>\n",
              "      <td>Lagos</td>\n",
              "    </tr>\n",
              "    <tr>\n",
              "      <th>1</th>\n",
              "      <td>17</td>\n",
              "      <td>Cross River</td>\n",
              "    </tr>\n",
              "    <tr>\n",
              "      <th>2</th>\n",
              "      <td>21</td>\n",
              "      <td>Kano</td>\n",
              "    </tr>\n",
              "    <tr>\n",
              "      <th>3</th>\n",
              "      <td>29</td>\n",
              "      <td>Abia</td>\n",
              "    </tr>\n",
              "    <tr>\n",
              "      <th>4</th>\n",
              "      <td>25</td>\n",
              "      <td>Benue</td>\n",
              "    </tr>\n",
              "  </tbody>\n",
              "</table>\n",
              "</div>"
            ],
            "text/plain": [
              "   age state_of_origin\n",
              "0   15           Lagos\n",
              "1   17     Cross River\n",
              "2   21            Kano\n",
              "3   29            Abia\n",
              "4   25           Benue"
            ]
          },
          "metadata": {
            "tags": []
          },
          "execution_count": 30
        }
      ]
    },
    {
      "cell_type": "code",
      "metadata": {
        "id": "3to8RLY2K4xt",
        "colab_type": "code",
        "colab": {},
        "outputId": "23cf2082-0aea-4bc5-fb71-72139ef133eb"
      },
      "source": [
        "# select the third row and second column\n",
        "my_DF.iloc[2,1]"
      ],
      "execution_count": 0,
      "outputs": [
        {
          "output_type": "execute_result",
          "data": {
            "text/plain": [
              "'Kano'"
            ]
          },
          "metadata": {
            "tags": []
          },
          "execution_count": 31
        }
      ]
    },
    {
      "cell_type": "code",
      "metadata": {
        "id": "8N8WPzAEK4xx",
        "colab_type": "code",
        "colab": {},
        "outputId": "e820b10a-3432-4943-ff7b-c1fd17b0991f"
      },
      "source": [
        "# slice the first 2 rows - indexed from zero, excluding the final index\n",
        "my_DF.iloc[:2,]"
      ],
      "execution_count": 0,
      "outputs": [
        {
          "output_type": "execute_result",
          "data": {
            "text/html": [
              "<div>\n",
              "<style scoped>\n",
              "    .dataframe tbody tr th:only-of-type {\n",
              "        vertical-align: middle;\n",
              "    }\n",
              "\n",
              "    .dataframe tbody tr th {\n",
              "        vertical-align: top;\n",
              "    }\n",
              "\n",
              "    .dataframe thead th {\n",
              "        text-align: right;\n",
              "    }\n",
              "</style>\n",
              "<table border=\"1\" class=\"dataframe\">\n",
              "  <thead>\n",
              "    <tr style=\"text-align: right;\">\n",
              "      <th></th>\n",
              "      <th>age</th>\n",
              "      <th>state_of_origin</th>\n",
              "    </tr>\n",
              "  </thead>\n",
              "  <tbody>\n",
              "    <tr>\n",
              "      <th>0</th>\n",
              "      <td>15</td>\n",
              "      <td>Lagos</td>\n",
              "    </tr>\n",
              "    <tr>\n",
              "      <th>1</th>\n",
              "      <td>17</td>\n",
              "      <td>Cross River</td>\n",
              "    </tr>\n",
              "  </tbody>\n",
              "</table>\n",
              "</div>"
            ],
            "text/plain": [
              "   age state_of_origin\n",
              "0   15           Lagos\n",
              "1   17     Cross River"
            ]
          },
          "metadata": {
            "tags": []
          },
          "execution_count": 32
        }
      ]
    },
    {
      "cell_type": "code",
      "metadata": {
        "id": "EPdFmKUhK4x1",
        "colab_type": "code",
        "colab": {},
        "outputId": "2105efbf-fa20-4c72-a715-7ea856ed1096"
      },
      "source": [
        "# slice the last three rows from the last column\n",
        "my_DF.iloc[-3:,-1]"
      ],
      "execution_count": 0,
      "outputs": [
        {
          "output_type": "execute_result",
          "data": {
            "text/plain": [
              "2     Kano\n",
              "3     Abia\n",
              "4    Benue\n",
              "Name: state_of_origin, dtype: object"
            ]
          },
          "metadata": {
            "tags": []
          },
          "execution_count": 33
        }
      ]
    },
    {
      "cell_type": "markdown",
      "metadata": {
        "id": "MuIBpG-iK4x6",
        "colab_type": "text"
      },
      "source": [
        "## DataFrame Manipulation"
      ]
    },
    {
      "cell_type": "markdown",
      "metadata": {
        "id": "4opAKLdbK4x7",
        "colab_type": "text"
      },
      "source": [
        "### Removing a Row/ Column"
      ]
    },
    {
      "cell_type": "markdown",
      "metadata": {
        "id": "35LdEmh0K4x8",
        "colab_type": "text"
      },
      "source": [
        "Note that when a column or row is dropped a new DataFrame or Series is returned without altering the original data structure. However when the attribute `inplace` is set to `True`, the original DataFrame or Series is modified. Let’s see some examples."
      ]
    },
    {
      "cell_type": "code",
      "metadata": {
        "id": "wLrqy0rQK4x9",
        "colab_type": "code",
        "colab": {
          "base_uri": "https://localhost:8080/",
          "height": 204
        },
        "outputId": "3158baaa-94c3-468f-e5ac-337aaee1debc"
      },
      "source": [
        "# our data frame\n",
        "my_DF = pd.DataFrame({'age': [15,17,21,29,25], \\\n",
        "            'state_of_origin':['Lagos', 'Cross River', 'Kano', 'Abia', 'Benue']})\n",
        "my_DF"
      ],
      "execution_count": 9,
      "outputs": [
        {
          "output_type": "execute_result",
          "data": {
            "text/html": [
              "<div>\n",
              "<style scoped>\n",
              "    .dataframe tbody tr th:only-of-type {\n",
              "        vertical-align: middle;\n",
              "    }\n",
              "\n",
              "    .dataframe tbody tr th {\n",
              "        vertical-align: top;\n",
              "    }\n",
              "\n",
              "    .dataframe thead th {\n",
              "        text-align: right;\n",
              "    }\n",
              "</style>\n",
              "<table border=\"1\" class=\"dataframe\">\n",
              "  <thead>\n",
              "    <tr style=\"text-align: right;\">\n",
              "      <th></th>\n",
              "      <th>age</th>\n",
              "      <th>state_of_origin</th>\n",
              "    </tr>\n",
              "  </thead>\n",
              "  <tbody>\n",
              "    <tr>\n",
              "      <th>0</th>\n",
              "      <td>15</td>\n",
              "      <td>Lagos</td>\n",
              "    </tr>\n",
              "    <tr>\n",
              "      <th>1</th>\n",
              "      <td>17</td>\n",
              "      <td>Cross River</td>\n",
              "    </tr>\n",
              "    <tr>\n",
              "      <th>2</th>\n",
              "      <td>21</td>\n",
              "      <td>Kano</td>\n",
              "    </tr>\n",
              "    <tr>\n",
              "      <th>3</th>\n",
              "      <td>29</td>\n",
              "      <td>Abia</td>\n",
              "    </tr>\n",
              "    <tr>\n",
              "      <th>4</th>\n",
              "      <td>25</td>\n",
              "      <td>Benue</td>\n",
              "    </tr>\n",
              "  </tbody>\n",
              "</table>\n",
              "</div>"
            ],
            "text/plain": [
              "   age state_of_origin\n",
              "0   15           Lagos\n",
              "1   17     Cross River\n",
              "2   21            Kano\n",
              "3   29            Abia\n",
              "4   25           Benue"
            ]
          },
          "metadata": {
            "tags": []
          },
          "execution_count": 9
        }
      ]
    },
    {
      "cell_type": "code",
      "metadata": {
        "id": "Pq571vTxK4yD",
        "colab_type": "code",
        "colab": {
          "base_uri": "https://localhost:8080/",
          "height": 142
        },
        "outputId": "3d93d596-552c-4234-aaaf-8e51d737041e"
      },
      "source": [
        "# drop the 3rd and 4th column\n",
        "my_DF.drop([2,4])"
      ],
      "execution_count": 10,
      "outputs": [
        {
          "output_type": "execute_result",
          "data": {
            "text/html": [
              "<div>\n",
              "<style scoped>\n",
              "    .dataframe tbody tr th:only-of-type {\n",
              "        vertical-align: middle;\n",
              "    }\n",
              "\n",
              "    .dataframe tbody tr th {\n",
              "        vertical-align: top;\n",
              "    }\n",
              "\n",
              "    .dataframe thead th {\n",
              "        text-align: right;\n",
              "    }\n",
              "</style>\n",
              "<table border=\"1\" class=\"dataframe\">\n",
              "  <thead>\n",
              "    <tr style=\"text-align: right;\">\n",
              "      <th></th>\n",
              "      <th>age</th>\n",
              "      <th>state_of_origin</th>\n",
              "    </tr>\n",
              "  </thead>\n",
              "  <tbody>\n",
              "    <tr>\n",
              "      <th>0</th>\n",
              "      <td>15</td>\n",
              "      <td>Lagos</td>\n",
              "    </tr>\n",
              "    <tr>\n",
              "      <th>1</th>\n",
              "      <td>17</td>\n",
              "      <td>Cross River</td>\n",
              "    </tr>\n",
              "    <tr>\n",
              "      <th>3</th>\n",
              "      <td>29</td>\n",
              "      <td>Abia</td>\n",
              "    </tr>\n",
              "  </tbody>\n",
              "</table>\n",
              "</div>"
            ],
            "text/plain": [
              "   age state_of_origin\n",
              "0   15           Lagos\n",
              "1   17     Cross River\n",
              "3   29            Abia"
            ]
          },
          "metadata": {
            "tags": []
          },
          "execution_count": 10
        }
      ]
    },
    {
      "cell_type": "code",
      "metadata": {
        "id": "nxz5QWUkK4yG",
        "colab_type": "code",
        "colab": {
          "base_uri": "https://localhost:8080/",
          "height": 204
        },
        "outputId": "7a479520-851c-4a55-f2c6-5e09c5e66411"
      },
      "source": [
        "# drop the `age` column\n",
        "my_DF.drop('age', axis=1)"
      ],
      "execution_count": 11,
      "outputs": [
        {
          "output_type": "execute_result",
          "data": {
            "text/html": [
              "<div>\n",
              "<style scoped>\n",
              "    .dataframe tbody tr th:only-of-type {\n",
              "        vertical-align: middle;\n",
              "    }\n",
              "\n",
              "    .dataframe tbody tr th {\n",
              "        vertical-align: top;\n",
              "    }\n",
              "\n",
              "    .dataframe thead th {\n",
              "        text-align: right;\n",
              "    }\n",
              "</style>\n",
              "<table border=\"1\" class=\"dataframe\">\n",
              "  <thead>\n",
              "    <tr style=\"text-align: right;\">\n",
              "      <th></th>\n",
              "      <th>state_of_origin</th>\n",
              "    </tr>\n",
              "  </thead>\n",
              "  <tbody>\n",
              "    <tr>\n",
              "      <th>0</th>\n",
              "      <td>Lagos</td>\n",
              "    </tr>\n",
              "    <tr>\n",
              "      <th>1</th>\n",
              "      <td>Cross River</td>\n",
              "    </tr>\n",
              "    <tr>\n",
              "      <th>2</th>\n",
              "      <td>Kano</td>\n",
              "    </tr>\n",
              "    <tr>\n",
              "      <th>3</th>\n",
              "      <td>Abia</td>\n",
              "    </tr>\n",
              "    <tr>\n",
              "      <th>4</th>\n",
              "      <td>Benue</td>\n",
              "    </tr>\n",
              "  </tbody>\n",
              "</table>\n",
              "</div>"
            ],
            "text/plain": [
              "  state_of_origin\n",
              "0           Lagos\n",
              "1     Cross River\n",
              "2            Kano\n",
              "3            Abia\n",
              "4           Benue"
            ]
          },
          "metadata": {
            "tags": []
          },
          "execution_count": 11
        }
      ]
    },
    {
      "cell_type": "code",
      "metadata": {
        "id": "KMhL-SvGK4yI",
        "colab_type": "code",
        "colab": {
          "base_uri": "https://localhost:8080/",
          "height": 204
        },
        "outputId": "9f697593-eb23-4d80-af90-a0369030af4e"
      },
      "source": [
        "# original DataFrame is unchanged\n",
        "my_DF"
      ],
      "execution_count": 12,
      "outputs": [
        {
          "output_type": "execute_result",
          "data": {
            "text/html": [
              "<div>\n",
              "<style scoped>\n",
              "    .dataframe tbody tr th:only-of-type {\n",
              "        vertical-align: middle;\n",
              "    }\n",
              "\n",
              "    .dataframe tbody tr th {\n",
              "        vertical-align: top;\n",
              "    }\n",
              "\n",
              "    .dataframe thead th {\n",
              "        text-align: right;\n",
              "    }\n",
              "</style>\n",
              "<table border=\"1\" class=\"dataframe\">\n",
              "  <thead>\n",
              "    <tr style=\"text-align: right;\">\n",
              "      <th></th>\n",
              "      <th>age</th>\n",
              "      <th>state_of_origin</th>\n",
              "    </tr>\n",
              "  </thead>\n",
              "  <tbody>\n",
              "    <tr>\n",
              "      <th>0</th>\n",
              "      <td>15</td>\n",
              "      <td>Lagos</td>\n",
              "    </tr>\n",
              "    <tr>\n",
              "      <th>1</th>\n",
              "      <td>17</td>\n",
              "      <td>Cross River</td>\n",
              "    </tr>\n",
              "    <tr>\n",
              "      <th>2</th>\n",
              "      <td>21</td>\n",
              "      <td>Kano</td>\n",
              "    </tr>\n",
              "    <tr>\n",
              "      <th>3</th>\n",
              "      <td>29</td>\n",
              "      <td>Abia</td>\n",
              "    </tr>\n",
              "    <tr>\n",
              "      <th>4</th>\n",
              "      <td>25</td>\n",
              "      <td>Benue</td>\n",
              "    </tr>\n",
              "  </tbody>\n",
              "</table>\n",
              "</div>"
            ],
            "text/plain": [
              "   age state_of_origin\n",
              "0   15           Lagos\n",
              "1   17     Cross River\n",
              "2   21            Kano\n",
              "3   29            Abia\n",
              "4   25           Benue"
            ]
          },
          "metadata": {
            "tags": []
          },
          "execution_count": 12
        }
      ]
    },
    {
      "cell_type": "code",
      "metadata": {
        "id": "zH6gYSjmK4yN",
        "colab_type": "code",
        "colab": {}
      },
      "source": [
        "# drop using inPlace - to modidy the original DataFrame\n",
        "my_DF.drop('age', axis=1, inplace=True)"
      ],
      "execution_count": 0,
      "outputs": []
    },
    {
      "cell_type": "code",
      "metadata": {
        "id": "ny0I25VHK4yP",
        "colab_type": "code",
        "colab": {
          "base_uri": "https://localhost:8080/",
          "height": 204
        },
        "outputId": "53c507cb-e398-4e5d-b7d0-453e2347189d"
      },
      "source": [
        "# original DataFrame altered\n",
        "my_DF"
      ],
      "execution_count": 14,
      "outputs": [
        {
          "output_type": "execute_result",
          "data": {
            "text/html": [
              "<div>\n",
              "<style scoped>\n",
              "    .dataframe tbody tr th:only-of-type {\n",
              "        vertical-align: middle;\n",
              "    }\n",
              "\n",
              "    .dataframe tbody tr th {\n",
              "        vertical-align: top;\n",
              "    }\n",
              "\n",
              "    .dataframe thead th {\n",
              "        text-align: right;\n",
              "    }\n",
              "</style>\n",
              "<table border=\"1\" class=\"dataframe\">\n",
              "  <thead>\n",
              "    <tr style=\"text-align: right;\">\n",
              "      <th></th>\n",
              "      <th>state_of_origin</th>\n",
              "    </tr>\n",
              "  </thead>\n",
              "  <tbody>\n",
              "    <tr>\n",
              "      <th>0</th>\n",
              "      <td>Lagos</td>\n",
              "    </tr>\n",
              "    <tr>\n",
              "      <th>1</th>\n",
              "      <td>Cross River</td>\n",
              "    </tr>\n",
              "    <tr>\n",
              "      <th>2</th>\n",
              "      <td>Kano</td>\n",
              "    </tr>\n",
              "    <tr>\n",
              "      <th>3</th>\n",
              "      <td>Abia</td>\n",
              "    </tr>\n",
              "    <tr>\n",
              "      <th>4</th>\n",
              "      <td>Benue</td>\n",
              "    </tr>\n",
              "  </tbody>\n",
              "</table>\n",
              "</div>"
            ],
            "text/plain": [
              "  state_of_origin\n",
              "0           Lagos\n",
              "1     Cross River\n",
              "2            Kano\n",
              "3            Abia\n",
              "4           Benue"
            ]
          },
          "metadata": {
            "tags": []
          },
          "execution_count": 14
        }
      ]
    },
    {
      "cell_type": "markdown",
      "metadata": {
        "id": "BDEO5gO5sB5V",
        "colab_type": "text"
      },
      "source": [
        "Let’s see examples of removing a row given a condition."
      ]
    },
    {
      "cell_type": "code",
      "metadata": {
        "id": "ILRw4c_ssD1X",
        "colab_type": "code",
        "colab": {
          "base_uri": "https://localhost:8080/",
          "height": 204
        },
        "outputId": "cad608d9-6b50-4f0c-e966-fb7067212d7a"
      },
      "source": [
        "my_DF = pd.DataFrame({'age': [15,17,21,29,25], \\\n",
        "            'state_of_origin':['Lagos', 'Cross River', 'Kano', 'Abia', 'Benue']})\n",
        "my_DF"
      ],
      "execution_count": 15,
      "outputs": [
        {
          "output_type": "execute_result",
          "data": {
            "text/html": [
              "<div>\n",
              "<style scoped>\n",
              "    .dataframe tbody tr th:only-of-type {\n",
              "        vertical-align: middle;\n",
              "    }\n",
              "\n",
              "    .dataframe tbody tr th {\n",
              "        vertical-align: top;\n",
              "    }\n",
              "\n",
              "    .dataframe thead th {\n",
              "        text-align: right;\n",
              "    }\n",
              "</style>\n",
              "<table border=\"1\" class=\"dataframe\">\n",
              "  <thead>\n",
              "    <tr style=\"text-align: right;\">\n",
              "      <th></th>\n",
              "      <th>age</th>\n",
              "      <th>state_of_origin</th>\n",
              "    </tr>\n",
              "  </thead>\n",
              "  <tbody>\n",
              "    <tr>\n",
              "      <th>0</th>\n",
              "      <td>15</td>\n",
              "      <td>Lagos</td>\n",
              "    </tr>\n",
              "    <tr>\n",
              "      <th>1</th>\n",
              "      <td>17</td>\n",
              "      <td>Cross River</td>\n",
              "    </tr>\n",
              "    <tr>\n",
              "      <th>2</th>\n",
              "      <td>21</td>\n",
              "      <td>Kano</td>\n",
              "    </tr>\n",
              "    <tr>\n",
              "      <th>3</th>\n",
              "      <td>29</td>\n",
              "      <td>Abia</td>\n",
              "    </tr>\n",
              "    <tr>\n",
              "      <th>4</th>\n",
              "      <td>25</td>\n",
              "      <td>Benue</td>\n",
              "    </tr>\n",
              "  </tbody>\n",
              "</table>\n",
              "</div>"
            ],
            "text/plain": [
              "   age state_of_origin\n",
              "0   15           Lagos\n",
              "1   17     Cross River\n",
              "2   21            Kano\n",
              "3   29            Abia\n",
              "4   25           Benue"
            ]
          },
          "metadata": {
            "tags": []
          },
          "execution_count": 15
        }
      ]
    },
    {
      "cell_type": "code",
      "metadata": {
        "id": "qZ1o3rTHsGR3",
        "colab_type": "code",
        "colab": {
          "base_uri": "https://localhost:8080/",
          "height": 142
        },
        "outputId": "c5c76f29-efe6-4418-d4d9-200434865fdf"
      },
      "source": [
        "# drop all rows less than 20\n",
        "my_DF.drop(my_DF[my_DF['age'] < 20].index, inplace=True)\n",
        "my_DF"
      ],
      "execution_count": 16,
      "outputs": [
        {
          "output_type": "execute_result",
          "data": {
            "text/html": [
              "<div>\n",
              "<style scoped>\n",
              "    .dataframe tbody tr th:only-of-type {\n",
              "        vertical-align: middle;\n",
              "    }\n",
              "\n",
              "    .dataframe tbody tr th {\n",
              "        vertical-align: top;\n",
              "    }\n",
              "\n",
              "    .dataframe thead th {\n",
              "        text-align: right;\n",
              "    }\n",
              "</style>\n",
              "<table border=\"1\" class=\"dataframe\">\n",
              "  <thead>\n",
              "    <tr style=\"text-align: right;\">\n",
              "      <th></th>\n",
              "      <th>age</th>\n",
              "      <th>state_of_origin</th>\n",
              "    </tr>\n",
              "  </thead>\n",
              "  <tbody>\n",
              "    <tr>\n",
              "      <th>2</th>\n",
              "      <td>21</td>\n",
              "      <td>Kano</td>\n",
              "    </tr>\n",
              "    <tr>\n",
              "      <th>3</th>\n",
              "      <td>29</td>\n",
              "      <td>Abia</td>\n",
              "    </tr>\n",
              "    <tr>\n",
              "      <th>4</th>\n",
              "      <td>25</td>\n",
              "      <td>Benue</td>\n",
              "    </tr>\n",
              "  </tbody>\n",
              "</table>\n",
              "</div>"
            ],
            "text/plain": [
              "   age state_of_origin\n",
              "2   21            Kano\n",
              "3   29            Abia\n",
              "4   25           Benue"
            ]
          },
          "metadata": {
            "tags": []
          },
          "execution_count": 16
        }
      ]
    },
    {
      "cell_type": "markdown",
      "metadata": {
        "id": "bakBW_DUK4yS",
        "colab_type": "text"
      },
      "source": [
        "### Adding a Row/ Column"
      ]
    },
    {
      "cell_type": "markdown",
      "metadata": {
        "id": "9ZMfZth_K4yS",
        "colab_type": "text"
      },
      "source": [
        "We can add a new column to a Pandas DataFrame by using the `assign` method."
      ]
    },
    {
      "cell_type": "code",
      "metadata": {
        "id": "OSHBv9s6K4yT",
        "colab_type": "code",
        "colab": {},
        "outputId": "57aaa671-9f15-4ac2-9036-269a3deca794"
      },
      "source": [
        "# show dataframe\n",
        "my_DF = pd.DataFrame({'age': [15,17,21,29,25], \\\n",
        "            'state_of_origin':['Lagos', 'Cross River', 'Kano', 'Abia', 'Benue']})\n",
        "my_DF"
      ],
      "execution_count": 0,
      "outputs": [
        {
          "output_type": "execute_result",
          "data": {
            "text/html": [
              "<div>\n",
              "<style scoped>\n",
              "    .dataframe tbody tr th:only-of-type {\n",
              "        vertical-align: middle;\n",
              "    }\n",
              "\n",
              "    .dataframe tbody tr th {\n",
              "        vertical-align: top;\n",
              "    }\n",
              "\n",
              "    .dataframe thead th {\n",
              "        text-align: right;\n",
              "    }\n",
              "</style>\n",
              "<table border=\"1\" class=\"dataframe\">\n",
              "  <thead>\n",
              "    <tr style=\"text-align: right;\">\n",
              "      <th></th>\n",
              "      <th>age</th>\n",
              "      <th>state_of_origin</th>\n",
              "    </tr>\n",
              "  </thead>\n",
              "  <tbody>\n",
              "    <tr>\n",
              "      <th>0</th>\n",
              "      <td>15</td>\n",
              "      <td>Lagos</td>\n",
              "    </tr>\n",
              "    <tr>\n",
              "      <th>1</th>\n",
              "      <td>17</td>\n",
              "      <td>Cross River</td>\n",
              "    </tr>\n",
              "    <tr>\n",
              "      <th>2</th>\n",
              "      <td>21</td>\n",
              "      <td>Kano</td>\n",
              "    </tr>\n",
              "    <tr>\n",
              "      <th>3</th>\n",
              "      <td>29</td>\n",
              "      <td>Abia</td>\n",
              "    </tr>\n",
              "    <tr>\n",
              "      <th>4</th>\n",
              "      <td>25</td>\n",
              "      <td>Benue</td>\n",
              "    </tr>\n",
              "  </tbody>\n",
              "</table>\n",
              "</div>"
            ],
            "text/plain": [
              "   age state_of_origin\n",
              "0   15           Lagos\n",
              "1   17     Cross River\n",
              "2   21            Kano\n",
              "3   29            Abia\n",
              "4   25           Benue"
            ]
          },
          "metadata": {
            "tags": []
          },
          "execution_count": 40
        }
      ]
    },
    {
      "cell_type": "code",
      "metadata": {
        "id": "LaQ9WHyUK4yZ",
        "colab_type": "code",
        "colab": {},
        "outputId": "095cfa67-2518-473d-b28f-02a8ae0571e5"
      },
      "source": [
        "# add column to data frame\n",
        "my_DF = my_DF.assign(capital_city = pd.Series(['Ikeja', 'Calabar', \\\n",
        "                                                'Kano', 'Umuahia', 'Makurdi']))\n",
        "my_DF"
      ],
      "execution_count": 0,
      "outputs": [
        {
          "output_type": "execute_result",
          "data": {
            "text/html": [
              "<div>\n",
              "<style scoped>\n",
              "    .dataframe tbody tr th:only-of-type {\n",
              "        vertical-align: middle;\n",
              "    }\n",
              "\n",
              "    .dataframe tbody tr th {\n",
              "        vertical-align: top;\n",
              "    }\n",
              "\n",
              "    .dataframe thead th {\n",
              "        text-align: right;\n",
              "    }\n",
              "</style>\n",
              "<table border=\"1\" class=\"dataframe\">\n",
              "  <thead>\n",
              "    <tr style=\"text-align: right;\">\n",
              "      <th></th>\n",
              "      <th>age</th>\n",
              "      <th>state_of_origin</th>\n",
              "      <th>capital_city</th>\n",
              "    </tr>\n",
              "  </thead>\n",
              "  <tbody>\n",
              "    <tr>\n",
              "      <th>0</th>\n",
              "      <td>15</td>\n",
              "      <td>Lagos</td>\n",
              "      <td>Ikeja</td>\n",
              "    </tr>\n",
              "    <tr>\n",
              "      <th>1</th>\n",
              "      <td>17</td>\n",
              "      <td>Cross River</td>\n",
              "      <td>Calabar</td>\n",
              "    </tr>\n",
              "    <tr>\n",
              "      <th>2</th>\n",
              "      <td>21</td>\n",
              "      <td>Kano</td>\n",
              "      <td>Kano</td>\n",
              "    </tr>\n",
              "    <tr>\n",
              "      <th>3</th>\n",
              "      <td>29</td>\n",
              "      <td>Abia</td>\n",
              "      <td>Umuahia</td>\n",
              "    </tr>\n",
              "    <tr>\n",
              "      <th>4</th>\n",
              "      <td>25</td>\n",
              "      <td>Benue</td>\n",
              "      <td>Makurdi</td>\n",
              "    </tr>\n",
              "  </tbody>\n",
              "</table>\n",
              "</div>"
            ],
            "text/plain": [
              "   age state_of_origin capital_city\n",
              "0   15           Lagos        Ikeja\n",
              "1   17     Cross River      Calabar\n",
              "2   21            Kano         Kano\n",
              "3   29            Abia      Umuahia\n",
              "4   25           Benue      Makurdi"
            ]
          },
          "metadata": {
            "tags": []
          },
          "execution_count": 41
        }
      ]
    },
    {
      "cell_type": "markdown",
      "metadata": {
        "id": "Xjl8B18MK4yd",
        "colab_type": "text"
      },
      "source": [
        "We can also add a new DataFrame column by computing some function on another column. Let’s take an example by adding a column computing the absolute difference of the ages from their mean."
      ]
    },
    {
      "cell_type": "code",
      "metadata": {
        "id": "Ni9bQ4GlK4yd",
        "colab_type": "code",
        "colab": {},
        "outputId": "cefd92d3-17b4-42c0-f760-f6d85a7ee0a5"
      },
      "source": [
        "mean_of_age = my_DF['age'].mean()\n",
        "my_DF['diff_age'] = my_DF['age'].map(lambda x: abs(x-mean_of_age))\n",
        "my_DF"
      ],
      "execution_count": 0,
      "outputs": [
        {
          "output_type": "execute_result",
          "data": {
            "text/html": [
              "<div>\n",
              "<style scoped>\n",
              "    .dataframe tbody tr th:only-of-type {\n",
              "        vertical-align: middle;\n",
              "    }\n",
              "\n",
              "    .dataframe tbody tr th {\n",
              "        vertical-align: top;\n",
              "    }\n",
              "\n",
              "    .dataframe thead th {\n",
              "        text-align: right;\n",
              "    }\n",
              "</style>\n",
              "<table border=\"1\" class=\"dataframe\">\n",
              "  <thead>\n",
              "    <tr style=\"text-align: right;\">\n",
              "      <th></th>\n",
              "      <th>age</th>\n",
              "      <th>state_of_origin</th>\n",
              "      <th>capital_city</th>\n",
              "      <th>diff_age</th>\n",
              "    </tr>\n",
              "  </thead>\n",
              "  <tbody>\n",
              "    <tr>\n",
              "      <th>0</th>\n",
              "      <td>15</td>\n",
              "      <td>Lagos</td>\n",
              "      <td>Ikeja</td>\n",
              "      <td>6.4</td>\n",
              "    </tr>\n",
              "    <tr>\n",
              "      <th>1</th>\n",
              "      <td>17</td>\n",
              "      <td>Cross River</td>\n",
              "      <td>Calabar</td>\n",
              "      <td>4.4</td>\n",
              "    </tr>\n",
              "    <tr>\n",
              "      <th>2</th>\n",
              "      <td>21</td>\n",
              "      <td>Kano</td>\n",
              "      <td>Kano</td>\n",
              "      <td>0.4</td>\n",
              "    </tr>\n",
              "    <tr>\n",
              "      <th>3</th>\n",
              "      <td>29</td>\n",
              "      <td>Abia</td>\n",
              "      <td>Umuahia</td>\n",
              "      <td>7.6</td>\n",
              "    </tr>\n",
              "    <tr>\n",
              "      <th>4</th>\n",
              "      <td>25</td>\n",
              "      <td>Benue</td>\n",
              "      <td>Makurdi</td>\n",
              "      <td>3.6</td>\n",
              "    </tr>\n",
              "  </tbody>\n",
              "</table>\n",
              "</div>"
            ],
            "text/plain": [
              "   age state_of_origin capital_city  diff_age\n",
              "0   15           Lagos        Ikeja       6.4\n",
              "1   17     Cross River      Calabar       4.4\n",
              "2   21            Kano         Kano       0.4\n",
              "3   29            Abia      Umuahia       7.6\n",
              "4   25           Benue      Makurdi       3.6"
            ]
          },
          "metadata": {
            "tags": []
          },
          "execution_count": 42
        }
      ]
    },
    {
      "cell_type": "markdown",
      "metadata": {
        "id": "wG_XX-BAK4yh",
        "colab_type": "text"
      },
      "source": [
        "Typically in practice, a fully formed dataset is converted into Pandas for cleaning and data analysis, which does not ideally involve adding a new observation to the dataset. But in the event that this is desired, we can use the `append()` method to achieve this. However, it may not be a computationally efficient action. Let’s see an example."
      ]
    },
    {
      "cell_type": "code",
      "metadata": {
        "id": "fs4POf_CK4yi",
        "colab_type": "code",
        "colab": {},
        "outputId": "c27365b0-c23b-44fb-aa69-3055d81db7ea"
      },
      "source": [
        "# show dataframe\n",
        "my_DF = pd.DataFrame({'age': [15,17,21,29,25], \\\n",
        "            'state_of_origin':['Lagos', 'Cross River', 'Kano', 'Abia', 'Benue']})\n",
        "my_DF"
      ],
      "execution_count": 0,
      "outputs": [
        {
          "output_type": "execute_result",
          "data": {
            "text/html": [
              "<div>\n",
              "<style scoped>\n",
              "    .dataframe tbody tr th:only-of-type {\n",
              "        vertical-align: middle;\n",
              "    }\n",
              "\n",
              "    .dataframe tbody tr th {\n",
              "        vertical-align: top;\n",
              "    }\n",
              "\n",
              "    .dataframe thead th {\n",
              "        text-align: right;\n",
              "    }\n",
              "</style>\n",
              "<table border=\"1\" class=\"dataframe\">\n",
              "  <thead>\n",
              "    <tr style=\"text-align: right;\">\n",
              "      <th></th>\n",
              "      <th>age</th>\n",
              "      <th>state_of_origin</th>\n",
              "    </tr>\n",
              "  </thead>\n",
              "  <tbody>\n",
              "    <tr>\n",
              "      <th>0</th>\n",
              "      <td>15</td>\n",
              "      <td>Lagos</td>\n",
              "    </tr>\n",
              "    <tr>\n",
              "      <th>1</th>\n",
              "      <td>17</td>\n",
              "      <td>Cross River</td>\n",
              "    </tr>\n",
              "    <tr>\n",
              "      <th>2</th>\n",
              "      <td>21</td>\n",
              "      <td>Kano</td>\n",
              "    </tr>\n",
              "    <tr>\n",
              "      <th>3</th>\n",
              "      <td>29</td>\n",
              "      <td>Abia</td>\n",
              "    </tr>\n",
              "    <tr>\n",
              "      <th>4</th>\n",
              "      <td>25</td>\n",
              "      <td>Benue</td>\n",
              "    </tr>\n",
              "  </tbody>\n",
              "</table>\n",
              "</div>"
            ],
            "text/plain": [
              "   age state_of_origin\n",
              "0   15           Lagos\n",
              "1   17     Cross River\n",
              "2   21            Kano\n",
              "3   29            Abia\n",
              "4   25           Benue"
            ]
          },
          "metadata": {
            "tags": []
          },
          "execution_count": 43
        }
      ]
    },
    {
      "cell_type": "code",
      "metadata": {
        "id": "fodAIBOGK4yk",
        "colab_type": "code",
        "colab": {},
        "outputId": "6b224457-b53d-46a9-941f-73cf7c50fa24"
      },
      "source": [
        "# add a row to data frame\n",
        "my_DF = my_DF.append(pd.Series([30 , 'Osun'], index=my_DF.columns), \\\n",
        "                                                        ignore_index=True)\n",
        "my_DF"
      ],
      "execution_count": 0,
      "outputs": [
        {
          "output_type": "execute_result",
          "data": {
            "text/html": [
              "<div>\n",
              "<style scoped>\n",
              "    .dataframe tbody tr th:only-of-type {\n",
              "        vertical-align: middle;\n",
              "    }\n",
              "\n",
              "    .dataframe tbody tr th {\n",
              "        vertical-align: top;\n",
              "    }\n",
              "\n",
              "    .dataframe thead th {\n",
              "        text-align: right;\n",
              "    }\n",
              "</style>\n",
              "<table border=\"1\" class=\"dataframe\">\n",
              "  <thead>\n",
              "    <tr style=\"text-align: right;\">\n",
              "      <th></th>\n",
              "      <th>age</th>\n",
              "      <th>state_of_origin</th>\n",
              "    </tr>\n",
              "  </thead>\n",
              "  <tbody>\n",
              "    <tr>\n",
              "      <th>0</th>\n",
              "      <td>15</td>\n",
              "      <td>Lagos</td>\n",
              "    </tr>\n",
              "    <tr>\n",
              "      <th>1</th>\n",
              "      <td>17</td>\n",
              "      <td>Cross River</td>\n",
              "    </tr>\n",
              "    <tr>\n",
              "      <th>2</th>\n",
              "      <td>21</td>\n",
              "      <td>Kano</td>\n",
              "    </tr>\n",
              "    <tr>\n",
              "      <th>3</th>\n",
              "      <td>29</td>\n",
              "      <td>Abia</td>\n",
              "    </tr>\n",
              "    <tr>\n",
              "      <th>4</th>\n",
              "      <td>25</td>\n",
              "      <td>Benue</td>\n",
              "    </tr>\n",
              "    <tr>\n",
              "      <th>5</th>\n",
              "      <td>30</td>\n",
              "      <td>Osun</td>\n",
              "    </tr>\n",
              "  </tbody>\n",
              "</table>\n",
              "</div>"
            ],
            "text/plain": [
              "   age state_of_origin\n",
              "0   15           Lagos\n",
              "1   17     Cross River\n",
              "2   21            Kano\n",
              "3   29            Abia\n",
              "4   25           Benue\n",
              "5   30            Osun"
            ]
          },
          "metadata": {
            "tags": []
          },
          "execution_count": 44
        }
      ]
    },
    {
      "cell_type": "markdown",
      "metadata": {
        "id": "5WgtUWkwK4yn",
        "colab_type": "text"
      },
      "source": [
        "We observe that adding a new row involves passing to the `append` method, a `Series` object with the `index` attribute set to the columns of the main DataFrame. Since typically, in given datasets, the index is nothing more than the assigned defaults, we set the attribute `ignore_index` to create a new set of default index values with the new row(s)."
      ]
    },
    {
      "cell_type": "markdown",
      "metadata": {
        "id": "MgZ8aYaTK4yp",
        "colab_type": "text"
      },
      "source": [
        "### Data Alignment"
      ]
    },
    {
      "cell_type": "markdown",
      "metadata": {
        "id": "Dac_yBHmK4yq",
        "colab_type": "text"
      },
      "source": [
        "Pandas utilizes data alignment to align indices when performing some binary arithmetic operation on DataFrames. If two or more DataFrames in an arithmetic operation do not share a common index, a `NaN` is introduced denoting missing data. Let’s see examples of this."
      ]
    },
    {
      "cell_type": "code",
      "metadata": {
        "id": "mkvnfLB9K4yq",
        "colab_type": "code",
        "colab": {},
        "outputId": "e9dd5bd4-3c50-46d6-eec4-fe209034dcf9"
      },
      "source": [
        "# create a 3x3 dataframe - remember randint(low, high, size)\n",
        "df_A = pd.DataFrame(np.random.randint(1,10,[3,3]),\\\n",
        "            columns=['First','Second','Third'])\n",
        "df_A"
      ],
      "execution_count": 0,
      "outputs": [
        {
          "output_type": "execute_result",
          "data": {
            "text/html": [
              "<div>\n",
              "<style scoped>\n",
              "    .dataframe tbody tr th:only-of-type {\n",
              "        vertical-align: middle;\n",
              "    }\n",
              "\n",
              "    .dataframe tbody tr th {\n",
              "        vertical-align: top;\n",
              "    }\n",
              "\n",
              "    .dataframe thead th {\n",
              "        text-align: right;\n",
              "    }\n",
              "</style>\n",
              "<table border=\"1\" class=\"dataframe\">\n",
              "  <thead>\n",
              "    <tr style=\"text-align: right;\">\n",
              "      <th></th>\n",
              "      <th>First</th>\n",
              "      <th>Second</th>\n",
              "      <th>Third</th>\n",
              "    </tr>\n",
              "  </thead>\n",
              "  <tbody>\n",
              "    <tr>\n",
              "      <th>0</th>\n",
              "      <td>5</td>\n",
              "      <td>1</td>\n",
              "      <td>4</td>\n",
              "    </tr>\n",
              "    <tr>\n",
              "      <th>1</th>\n",
              "      <td>8</td>\n",
              "      <td>3</td>\n",
              "      <td>3</td>\n",
              "    </tr>\n",
              "    <tr>\n",
              "      <th>2</th>\n",
              "      <td>2</td>\n",
              "      <td>7</td>\n",
              "      <td>7</td>\n",
              "    </tr>\n",
              "  </tbody>\n",
              "</table>\n",
              "</div>"
            ],
            "text/plain": [
              "   First  Second  Third\n",
              "0      5       1      4\n",
              "1      8       3      3\n",
              "2      2       7      7"
            ]
          },
          "metadata": {
            "tags": []
          },
          "execution_count": 45
        }
      ]
    },
    {
      "cell_type": "code",
      "metadata": {
        "id": "3QZMK4oaK4yt",
        "colab_type": "code",
        "colab": {},
        "outputId": "658670a9-126d-45b2-d5a6-ffe20889d127"
      },
      "source": [
        "# create a 4x3 dataframe\n",
        "df_B = pd.DataFrame(np.random.randint(1,10,[4,3]),\\\n",
        "            columns=['First','Second','Third'])\n",
        "df_B"
      ],
      "execution_count": 0,
      "outputs": [
        {
          "output_type": "execute_result",
          "data": {
            "text/html": [
              "<div>\n",
              "<style scoped>\n",
              "    .dataframe tbody tr th:only-of-type {\n",
              "        vertical-align: middle;\n",
              "    }\n",
              "\n",
              "    .dataframe tbody tr th {\n",
              "        vertical-align: top;\n",
              "    }\n",
              "\n",
              "    .dataframe thead th {\n",
              "        text-align: right;\n",
              "    }\n",
              "</style>\n",
              "<table border=\"1\" class=\"dataframe\">\n",
              "  <thead>\n",
              "    <tr style=\"text-align: right;\">\n",
              "      <th></th>\n",
              "      <th>First</th>\n",
              "      <th>Second</th>\n",
              "      <th>Third</th>\n",
              "    </tr>\n",
              "  </thead>\n",
              "  <tbody>\n",
              "    <tr>\n",
              "      <th>0</th>\n",
              "      <td>8</td>\n",
              "      <td>2</td>\n",
              "      <td>3</td>\n",
              "    </tr>\n",
              "    <tr>\n",
              "      <th>1</th>\n",
              "      <td>9</td>\n",
              "      <td>8</td>\n",
              "      <td>8</td>\n",
              "    </tr>\n",
              "    <tr>\n",
              "      <th>2</th>\n",
              "      <td>4</td>\n",
              "      <td>8</td>\n",
              "      <td>1</td>\n",
              "    </tr>\n",
              "    <tr>\n",
              "      <th>3</th>\n",
              "      <td>8</td>\n",
              "      <td>6</td>\n",
              "      <td>9</td>\n",
              "    </tr>\n",
              "  </tbody>\n",
              "</table>\n",
              "</div>"
            ],
            "text/plain": [
              "   First  Second  Third\n",
              "0      8       2      3\n",
              "1      9       8      8\n",
              "2      4       8      1\n",
              "3      8       6      9"
            ]
          },
          "metadata": {
            "tags": []
          },
          "execution_count": 46
        }
      ]
    },
    {
      "cell_type": "code",
      "metadata": {
        "id": "wayQbPwKK4yv",
        "colab_type": "code",
        "colab": {},
        "outputId": "8edd2d3f-b620-4dc3-feff-9f0c47f55665"
      },
      "source": [
        "# add df_A and df_B together\n",
        "df_A + df_B"
      ],
      "execution_count": 0,
      "outputs": [
        {
          "output_type": "execute_result",
          "data": {
            "text/html": [
              "<div>\n",
              "<style scoped>\n",
              "    .dataframe tbody tr th:only-of-type {\n",
              "        vertical-align: middle;\n",
              "    }\n",
              "\n",
              "    .dataframe tbody tr th {\n",
              "        vertical-align: top;\n",
              "    }\n",
              "\n",
              "    .dataframe thead th {\n",
              "        text-align: right;\n",
              "    }\n",
              "</style>\n",
              "<table border=\"1\" class=\"dataframe\">\n",
              "  <thead>\n",
              "    <tr style=\"text-align: right;\">\n",
              "      <th></th>\n",
              "      <th>First</th>\n",
              "      <th>Second</th>\n",
              "      <th>Third</th>\n",
              "    </tr>\n",
              "  </thead>\n",
              "  <tbody>\n",
              "    <tr>\n",
              "      <th>0</th>\n",
              "      <td>13.0</td>\n",
              "      <td>3.0</td>\n",
              "      <td>7.0</td>\n",
              "    </tr>\n",
              "    <tr>\n",
              "      <th>1</th>\n",
              "      <td>17.0</td>\n",
              "      <td>11.0</td>\n",
              "      <td>11.0</td>\n",
              "    </tr>\n",
              "    <tr>\n",
              "      <th>2</th>\n",
              "      <td>6.0</td>\n",
              "      <td>15.0</td>\n",
              "      <td>8.0</td>\n",
              "    </tr>\n",
              "    <tr>\n",
              "      <th>3</th>\n",
              "      <td>NaN</td>\n",
              "      <td>NaN</td>\n",
              "      <td>NaN</td>\n",
              "    </tr>\n",
              "  </tbody>\n",
              "</table>\n",
              "</div>"
            ],
            "text/plain": [
              "   First  Second  Third\n",
              "0   13.0     3.0    7.0\n",
              "1   17.0    11.0   11.0\n",
              "2    6.0    15.0    8.0\n",
              "3    NaN     NaN    NaN"
            ]
          },
          "metadata": {
            "tags": []
          },
          "execution_count": 47
        }
      ]
    },
    {
      "cell_type": "code",
      "metadata": {
        "id": "jwg3mFa_K4yx",
        "colab_type": "code",
        "colab": {},
        "outputId": "026f91f5-b99c-4121-ba42-b7229e22b73b"
      },
      "source": [
        "# divide both dataframes\n",
        "df_A / df_B"
      ],
      "execution_count": 0,
      "outputs": [
        {
          "output_type": "execute_result",
          "data": {
            "text/html": [
              "<div>\n",
              "<style scoped>\n",
              "    .dataframe tbody tr th:only-of-type {\n",
              "        vertical-align: middle;\n",
              "    }\n",
              "\n",
              "    .dataframe tbody tr th {\n",
              "        vertical-align: top;\n",
              "    }\n",
              "\n",
              "    .dataframe thead th {\n",
              "        text-align: right;\n",
              "    }\n",
              "</style>\n",
              "<table border=\"1\" class=\"dataframe\">\n",
              "  <thead>\n",
              "    <tr style=\"text-align: right;\">\n",
              "      <th></th>\n",
              "      <th>First</th>\n",
              "      <th>Second</th>\n",
              "      <th>Third</th>\n",
              "    </tr>\n",
              "  </thead>\n",
              "  <tbody>\n",
              "    <tr>\n",
              "      <th>0</th>\n",
              "      <td>0.625000</td>\n",
              "      <td>0.500</td>\n",
              "      <td>1.333333</td>\n",
              "    </tr>\n",
              "    <tr>\n",
              "      <th>1</th>\n",
              "      <td>0.888889</td>\n",
              "      <td>0.375</td>\n",
              "      <td>0.375000</td>\n",
              "    </tr>\n",
              "    <tr>\n",
              "      <th>2</th>\n",
              "      <td>0.500000</td>\n",
              "      <td>0.875</td>\n",
              "      <td>7.000000</td>\n",
              "    </tr>\n",
              "    <tr>\n",
              "      <th>3</th>\n",
              "      <td>NaN</td>\n",
              "      <td>NaN</td>\n",
              "      <td>NaN</td>\n",
              "    </tr>\n",
              "  </tbody>\n",
              "</table>\n",
              "</div>"
            ],
            "text/plain": [
              "      First  Second     Third\n",
              "0  0.625000   0.500  1.333333\n",
              "1  0.888889   0.375  0.375000\n",
              "2  0.500000   0.875  7.000000\n",
              "3       NaN     NaN       NaN"
            ]
          },
          "metadata": {
            "tags": []
          },
          "execution_count": 48
        }
      ]
    },
    {
      "cell_type": "markdown",
      "metadata": {
        "id": "okm5BMvrK4yz",
        "colab_type": "text"
      },
      "source": [
        "If we do not want a `NaN` signifying missing values to be imputed, we can use the `fill_value` attribute to substitute with a default value. However, to take advantage of the `fill_value` attribute, we have to use the Pandas arithmetic methods: `add()`, `sub()`, `mul()`, `div()`, `floordiv()`, `mod()`, and `pow()` for addition, subtraction, multiplication, integer division, numeric division, reminder division and exponentiation.\n",
        "\n",
        "Let’s see examples."
      ]
    },
    {
      "cell_type": "code",
      "metadata": {
        "id": "w5mo3itXK4y0",
        "colab_type": "code",
        "colab": {},
        "outputId": "4c4d7063-2da5-41ed-c7b6-a1d01f216a11"
      },
      "source": [
        "df_A.add(df_B, fill_value=10)"
      ],
      "execution_count": 0,
      "outputs": [
        {
          "output_type": "execute_result",
          "data": {
            "text/html": [
              "<div>\n",
              "<style scoped>\n",
              "    .dataframe tbody tr th:only-of-type {\n",
              "        vertical-align: middle;\n",
              "    }\n",
              "\n",
              "    .dataframe tbody tr th {\n",
              "        vertical-align: top;\n",
              "    }\n",
              "\n",
              "    .dataframe thead th {\n",
              "        text-align: right;\n",
              "    }\n",
              "</style>\n",
              "<table border=\"1\" class=\"dataframe\">\n",
              "  <thead>\n",
              "    <tr style=\"text-align: right;\">\n",
              "      <th></th>\n",
              "      <th>First</th>\n",
              "      <th>Second</th>\n",
              "      <th>Third</th>\n",
              "    </tr>\n",
              "  </thead>\n",
              "  <tbody>\n",
              "    <tr>\n",
              "      <th>0</th>\n",
              "      <td>13.0</td>\n",
              "      <td>3.0</td>\n",
              "      <td>7.0</td>\n",
              "    </tr>\n",
              "    <tr>\n",
              "      <th>1</th>\n",
              "      <td>17.0</td>\n",
              "      <td>11.0</td>\n",
              "      <td>11.0</td>\n",
              "    </tr>\n",
              "    <tr>\n",
              "      <th>2</th>\n",
              "      <td>6.0</td>\n",
              "      <td>15.0</td>\n",
              "      <td>8.0</td>\n",
              "    </tr>\n",
              "    <tr>\n",
              "      <th>3</th>\n",
              "      <td>18.0</td>\n",
              "      <td>16.0</td>\n",
              "      <td>19.0</td>\n",
              "    </tr>\n",
              "  </tbody>\n",
              "</table>\n",
              "</div>"
            ],
            "text/plain": [
              "   First  Second  Third\n",
              "0   13.0     3.0    7.0\n",
              "1   17.0    11.0   11.0\n",
              "2    6.0    15.0    8.0\n",
              "3   18.0    16.0   19.0"
            ]
          },
          "metadata": {
            "tags": []
          },
          "execution_count": 49
        }
      ]
    },
    {
      "cell_type": "markdown",
      "metadata": {
        "id": "nZhzPiTIK4y2",
        "colab_type": "text"
      },
      "source": [
        "### Combining Datasets"
      ]
    },
    {
      "cell_type": "markdown",
      "metadata": {
        "id": "1AWdub9rK4y2",
        "colab_type": "text"
      },
      "source": [
        "We may need to combine two or more data sets together, Pandas provides methods for such operations. We would consider the simple case of combining data frames with shared column names using the concat method."
      ]
    },
    {
      "cell_type": "code",
      "metadata": {
        "id": "HoLkR6t2K4y3",
        "colab_type": "code",
        "colab": {},
        "outputId": "fbd9e94b-5c50-4fc1-f54a-0b47ca4a3a58"
      },
      "source": [
        "# combine two dataframes column-wise\n",
        "pd.concat([df_A, df_B])"
      ],
      "execution_count": 0,
      "outputs": [
        {
          "output_type": "execute_result",
          "data": {
            "text/html": [
              "<div>\n",
              "<style scoped>\n",
              "    .dataframe tbody tr th:only-of-type {\n",
              "        vertical-align: middle;\n",
              "    }\n",
              "\n",
              "    .dataframe tbody tr th {\n",
              "        vertical-align: top;\n",
              "    }\n",
              "\n",
              "    .dataframe thead th {\n",
              "        text-align: right;\n",
              "    }\n",
              "</style>\n",
              "<table border=\"1\" class=\"dataframe\">\n",
              "  <thead>\n",
              "    <tr style=\"text-align: right;\">\n",
              "      <th></th>\n",
              "      <th>First</th>\n",
              "      <th>Second</th>\n",
              "      <th>Third</th>\n",
              "    </tr>\n",
              "  </thead>\n",
              "  <tbody>\n",
              "    <tr>\n",
              "      <th>0</th>\n",
              "      <td>5</td>\n",
              "      <td>1</td>\n",
              "      <td>4</td>\n",
              "    </tr>\n",
              "    <tr>\n",
              "      <th>1</th>\n",
              "      <td>8</td>\n",
              "      <td>3</td>\n",
              "      <td>3</td>\n",
              "    </tr>\n",
              "    <tr>\n",
              "      <th>2</th>\n",
              "      <td>2</td>\n",
              "      <td>7</td>\n",
              "      <td>7</td>\n",
              "    </tr>\n",
              "    <tr>\n",
              "      <th>0</th>\n",
              "      <td>8</td>\n",
              "      <td>2</td>\n",
              "      <td>3</td>\n",
              "    </tr>\n",
              "    <tr>\n",
              "      <th>1</th>\n",
              "      <td>9</td>\n",
              "      <td>8</td>\n",
              "      <td>8</td>\n",
              "    </tr>\n",
              "    <tr>\n",
              "      <th>2</th>\n",
              "      <td>4</td>\n",
              "      <td>8</td>\n",
              "      <td>1</td>\n",
              "    </tr>\n",
              "    <tr>\n",
              "      <th>3</th>\n",
              "      <td>8</td>\n",
              "      <td>6</td>\n",
              "      <td>9</td>\n",
              "    </tr>\n",
              "  </tbody>\n",
              "</table>\n",
              "</div>"
            ],
            "text/plain": [
              "   First  Second  Third\n",
              "0      5       1      4\n",
              "1      8       3      3\n",
              "2      2       7      7\n",
              "0      8       2      3\n",
              "1      9       8      8\n",
              "2      4       8      1\n",
              "3      8       6      9"
            ]
          },
          "metadata": {
            "tags": []
          },
          "execution_count": 50
        }
      ]
    },
    {
      "cell_type": "markdown",
      "metadata": {
        "id": "Bsn9Z642K4y7",
        "colab_type": "text"
      },
      "source": [
        "Observe that the concat method preserves indices by default. We can also concatenate or combine two dataframes by rows (or horizontally). This is done by setting the axis parameter to 1."
      ]
    },
    {
      "cell_type": "code",
      "metadata": {
        "id": "Op32Gc-cK4y7",
        "colab_type": "code",
        "colab": {},
        "outputId": "2b7d1023-2a7c-417d-d55b-9679e0a4e8c2"
      },
      "source": [
        "# combine two dataframes horizontally\n",
        "pd.concat([df_A, df_B], axis=1)"
      ],
      "execution_count": 0,
      "outputs": [
        {
          "output_type": "execute_result",
          "data": {
            "text/html": [
              "<div>\n",
              "<style scoped>\n",
              "    .dataframe tbody tr th:only-of-type {\n",
              "        vertical-align: middle;\n",
              "    }\n",
              "\n",
              "    .dataframe tbody tr th {\n",
              "        vertical-align: top;\n",
              "    }\n",
              "\n",
              "    .dataframe thead th {\n",
              "        text-align: right;\n",
              "    }\n",
              "</style>\n",
              "<table border=\"1\" class=\"dataframe\">\n",
              "  <thead>\n",
              "    <tr style=\"text-align: right;\">\n",
              "      <th></th>\n",
              "      <th>First</th>\n",
              "      <th>Second</th>\n",
              "      <th>Third</th>\n",
              "      <th>First</th>\n",
              "      <th>Second</th>\n",
              "      <th>Third</th>\n",
              "    </tr>\n",
              "  </thead>\n",
              "  <tbody>\n",
              "    <tr>\n",
              "      <th>0</th>\n",
              "      <td>5.0</td>\n",
              "      <td>1.0</td>\n",
              "      <td>4.0</td>\n",
              "      <td>8</td>\n",
              "      <td>2</td>\n",
              "      <td>3</td>\n",
              "    </tr>\n",
              "    <tr>\n",
              "      <th>1</th>\n",
              "      <td>8.0</td>\n",
              "      <td>3.0</td>\n",
              "      <td>3.0</td>\n",
              "      <td>9</td>\n",
              "      <td>8</td>\n",
              "      <td>8</td>\n",
              "    </tr>\n",
              "    <tr>\n",
              "      <th>2</th>\n",
              "      <td>2.0</td>\n",
              "      <td>7.0</td>\n",
              "      <td>7.0</td>\n",
              "      <td>4</td>\n",
              "      <td>8</td>\n",
              "      <td>1</td>\n",
              "    </tr>\n",
              "    <tr>\n",
              "      <th>3</th>\n",
              "      <td>NaN</td>\n",
              "      <td>NaN</td>\n",
              "      <td>NaN</td>\n",
              "      <td>8</td>\n",
              "      <td>6</td>\n",
              "      <td>9</td>\n",
              "    </tr>\n",
              "  </tbody>\n",
              "</table>\n",
              "</div>"
            ],
            "text/plain": [
              "   First  Second  Third  First  Second  Third\n",
              "0    5.0     1.0    4.0      8       2      3\n",
              "1    8.0     3.0    3.0      9       8      8\n",
              "2    2.0     7.0    7.0      4       8      1\n",
              "3    NaN     NaN    NaN      8       6      9"
            ]
          },
          "metadata": {
            "tags": []
          },
          "execution_count": 51
        }
      ]
    },
    {
      "cell_type": "markdown",
      "metadata": {
        "id": "CQ9CNEC5K4y-",
        "colab_type": "text"
      },
      "source": [
        "## Handling Missing Data"
      ]
    },
    {
      "cell_type": "markdown",
      "metadata": {
        "id": "q_VJQxCMK4y_",
        "colab_type": "text"
      },
      "source": [
        "Dealing with missing data is an integral part of the Data cleaning/ data analysis process. Moreover, some machine learning algorithms will not work in the presence of missing data.\n",
        "\n",
        "Let’s see some simple Pandas methods for identifying and removing missing data, as well as imputing values into missing data."
      ]
    },
    {
      "cell_type": "markdown",
      "metadata": {
        "id": "D12jgRD3K4y_",
        "colab_type": "text"
      },
      "source": [
        "### Identifying missing data"
      ]
    },
    {
      "cell_type": "code",
      "metadata": {
        "id": "wcAjS4UVK4zA",
        "colab_type": "code",
        "colab": {},
        "outputId": "992a59e3-f41c-470c-8898-72059e8ad784"
      },
      "source": [
        "# lets create a data frame with missing data\n",
        "my_DF = pd.DataFrame({'age': [15,17,np.nan,29,25], \\\n",
        "            'state_of_origin':['Lagos', 'Cross River', 'Kano', 'Abia', np.nan]})\n",
        "my_DF"
      ],
      "execution_count": 0,
      "outputs": [
        {
          "output_type": "execute_result",
          "data": {
            "text/html": [
              "<div>\n",
              "<style scoped>\n",
              "    .dataframe tbody tr th:only-of-type {\n",
              "        vertical-align: middle;\n",
              "    }\n",
              "\n",
              "    .dataframe tbody tr th {\n",
              "        vertical-align: top;\n",
              "    }\n",
              "\n",
              "    .dataframe thead th {\n",
              "        text-align: right;\n",
              "    }\n",
              "</style>\n",
              "<table border=\"1\" class=\"dataframe\">\n",
              "  <thead>\n",
              "    <tr style=\"text-align: right;\">\n",
              "      <th></th>\n",
              "      <th>age</th>\n",
              "      <th>state_of_origin</th>\n",
              "    </tr>\n",
              "  </thead>\n",
              "  <tbody>\n",
              "    <tr>\n",
              "      <th>0</th>\n",
              "      <td>15.0</td>\n",
              "      <td>Lagos</td>\n",
              "    </tr>\n",
              "    <tr>\n",
              "      <th>1</th>\n",
              "      <td>17.0</td>\n",
              "      <td>Cross River</td>\n",
              "    </tr>\n",
              "    <tr>\n",
              "      <th>2</th>\n",
              "      <td>NaN</td>\n",
              "      <td>Kano</td>\n",
              "    </tr>\n",
              "    <tr>\n",
              "      <th>3</th>\n",
              "      <td>29.0</td>\n",
              "      <td>Abia</td>\n",
              "    </tr>\n",
              "    <tr>\n",
              "      <th>4</th>\n",
              "      <td>25.0</td>\n",
              "      <td>NaN</td>\n",
              "    </tr>\n",
              "  </tbody>\n",
              "</table>\n",
              "</div>"
            ],
            "text/plain": [
              "    age state_of_origin\n",
              "0  15.0           Lagos\n",
              "1  17.0     Cross River\n",
              "2   NaN            Kano\n",
              "3  29.0            Abia\n",
              "4  25.0             NaN"
            ]
          },
          "metadata": {
            "tags": []
          },
          "execution_count": 52
        }
      ]
    },
    {
      "cell_type": "markdown",
      "metadata": {
        "id": "qKkbAsyXK4zD",
        "colab_type": "text"
      },
      "source": [
        "Let’s check for missing data in this data frame. The `isnull()` method will return `True` where there is a missing data, whereas the `notnull()` function returns `False`."
      ]
    },
    {
      "cell_type": "code",
      "metadata": {
        "id": "1aVDFXvHK4zE",
        "colab_type": "code",
        "colab": {},
        "outputId": "b72fe4a7-ddbe-430f-becd-4a3a42f7abd5"
      },
      "source": [
        "my_DF.isnull()"
      ],
      "execution_count": 0,
      "outputs": [
        {
          "output_type": "execute_result",
          "data": {
            "text/html": [
              "<div>\n",
              "<style scoped>\n",
              "    .dataframe tbody tr th:only-of-type {\n",
              "        vertical-align: middle;\n",
              "    }\n",
              "\n",
              "    .dataframe tbody tr th {\n",
              "        vertical-align: top;\n",
              "    }\n",
              "\n",
              "    .dataframe thead th {\n",
              "        text-align: right;\n",
              "    }\n",
              "</style>\n",
              "<table border=\"1\" class=\"dataframe\">\n",
              "  <thead>\n",
              "    <tr style=\"text-align: right;\">\n",
              "      <th></th>\n",
              "      <th>age</th>\n",
              "      <th>state_of_origin</th>\n",
              "    </tr>\n",
              "  </thead>\n",
              "  <tbody>\n",
              "    <tr>\n",
              "      <th>0</th>\n",
              "      <td>False</td>\n",
              "      <td>False</td>\n",
              "    </tr>\n",
              "    <tr>\n",
              "      <th>1</th>\n",
              "      <td>False</td>\n",
              "      <td>False</td>\n",
              "    </tr>\n",
              "    <tr>\n",
              "      <th>2</th>\n",
              "      <td>True</td>\n",
              "      <td>False</td>\n",
              "    </tr>\n",
              "    <tr>\n",
              "      <th>3</th>\n",
              "      <td>False</td>\n",
              "      <td>False</td>\n",
              "    </tr>\n",
              "    <tr>\n",
              "      <th>4</th>\n",
              "      <td>False</td>\n",
              "      <td>True</td>\n",
              "    </tr>\n",
              "  </tbody>\n",
              "</table>\n",
              "</div>"
            ],
            "text/plain": [
              "     age  state_of_origin\n",
              "0  False            False\n",
              "1  False            False\n",
              "2   True            False\n",
              "3  False            False\n",
              "4  False             True"
            ]
          },
          "metadata": {
            "tags": []
          },
          "execution_count": 53
        }
      ]
    },
    {
      "cell_type": "markdown",
      "metadata": {
        "id": "RT3tKNesK4zH",
        "colab_type": "text"
      },
      "source": [
        "However, if we want a single answer (i.e., either `True` or `False`) to report if there is a missing data in the data frame, we will first convert the DataFrame to a NumPy array and use the function `any()`.\n",
        "\n",
        "The `any` function returns `True` when at least one of the elements in the dataset is `True`. In this case, `isnull()` returns a DataFrame of booleans where `True` designates a cell with a missing value.\n",
        "\n",
        "Let’s see how that works."
      ]
    },
    {
      "cell_type": "code",
      "metadata": {
        "id": "wZuwdMqQK4zI",
        "colab_type": "code",
        "colab": {},
        "outputId": "372cba34-6399-4218-f239-a97074a2b54e"
      },
      "source": [
        "my_DF.isnull().values.any()"
      ],
      "execution_count": 0,
      "outputs": [
        {
          "output_type": "execute_result",
          "data": {
            "text/plain": [
              "True"
            ]
          },
          "metadata": {
            "tags": []
          },
          "execution_count": 54
        }
      ]
    },
    {
      "cell_type": "markdown",
      "metadata": {
        "id": "oyt_NwCnK4zK",
        "colab_type": "text"
      },
      "source": [
        "### Removing missing data"
      ]
    },
    {
      "cell_type": "markdown",
      "metadata": {
        "id": "tUfO-c9JK4zL",
        "colab_type": "text"
      },
      "source": [
        "Pandas has a function `dropna()` which is used to filter or remove missing data from a DataFrame. `dropna()` returns a new DataFrame without missing data. Let’s see examples of how this works."
      ]
    },
    {
      "cell_type": "code",
      "metadata": {
        "id": "an4-2GCUK4zM",
        "colab_type": "code",
        "colab": {},
        "outputId": "6ebbc220-05c7-454c-98da-abcccdbb8f12"
      },
      "source": [
        "# let's see our dataframe with missing data\n",
        "my_DF = pd.DataFrame({'age': [15,17,np.nan,29,25], \\\n",
        "            'state_of_origin':['Lagos', 'Cross River', 'Kano', 'Abia', np.nan]})\n",
        "my_DF"
      ],
      "execution_count": 0,
      "outputs": [
        {
          "output_type": "execute_result",
          "data": {
            "text/html": [
              "<div>\n",
              "<style scoped>\n",
              "    .dataframe tbody tr th:only-of-type {\n",
              "        vertical-align: middle;\n",
              "    }\n",
              "\n",
              "    .dataframe tbody tr th {\n",
              "        vertical-align: top;\n",
              "    }\n",
              "\n",
              "    .dataframe thead th {\n",
              "        text-align: right;\n",
              "    }\n",
              "</style>\n",
              "<table border=\"1\" class=\"dataframe\">\n",
              "  <thead>\n",
              "    <tr style=\"text-align: right;\">\n",
              "      <th></th>\n",
              "      <th>age</th>\n",
              "      <th>state_of_origin</th>\n",
              "    </tr>\n",
              "  </thead>\n",
              "  <tbody>\n",
              "    <tr>\n",
              "      <th>0</th>\n",
              "      <td>15.0</td>\n",
              "      <td>Lagos</td>\n",
              "    </tr>\n",
              "    <tr>\n",
              "      <th>1</th>\n",
              "      <td>17.0</td>\n",
              "      <td>Cross River</td>\n",
              "    </tr>\n",
              "    <tr>\n",
              "      <th>2</th>\n",
              "      <td>NaN</td>\n",
              "      <td>Kano</td>\n",
              "    </tr>\n",
              "    <tr>\n",
              "      <th>3</th>\n",
              "      <td>29.0</td>\n",
              "      <td>Abia</td>\n",
              "    </tr>\n",
              "    <tr>\n",
              "      <th>4</th>\n",
              "      <td>25.0</td>\n",
              "      <td>NaN</td>\n",
              "    </tr>\n",
              "  </tbody>\n",
              "</table>\n",
              "</div>"
            ],
            "text/plain": [
              "    age state_of_origin\n",
              "0  15.0           Lagos\n",
              "1  17.0     Cross River\n",
              "2   NaN            Kano\n",
              "3  29.0            Abia\n",
              "4  25.0             NaN"
            ]
          },
          "metadata": {
            "tags": []
          },
          "execution_count": 55
        }
      ]
    },
    {
      "cell_type": "code",
      "metadata": {
        "id": "uRVixeX7K4zQ",
        "colab_type": "code",
        "colab": {},
        "outputId": "c1949398-6dad-41b6-e20c-27f36a7dfc72"
      },
      "source": [
        "# let's run dropna() to remove all rows with missing values\n",
        "my_DF.dropna()"
      ],
      "execution_count": 0,
      "outputs": [
        {
          "output_type": "execute_result",
          "data": {
            "text/html": [
              "<div>\n",
              "<style scoped>\n",
              "    .dataframe tbody tr th:only-of-type {\n",
              "        vertical-align: middle;\n",
              "    }\n",
              "\n",
              "    .dataframe tbody tr th {\n",
              "        vertical-align: top;\n",
              "    }\n",
              "\n",
              "    .dataframe thead th {\n",
              "        text-align: right;\n",
              "    }\n",
              "</style>\n",
              "<table border=\"1\" class=\"dataframe\">\n",
              "  <thead>\n",
              "    <tr style=\"text-align: right;\">\n",
              "      <th></th>\n",
              "      <th>age</th>\n",
              "      <th>state_of_origin</th>\n",
              "    </tr>\n",
              "  </thead>\n",
              "  <tbody>\n",
              "    <tr>\n",
              "      <th>0</th>\n",
              "      <td>15.0</td>\n",
              "      <td>Lagos</td>\n",
              "    </tr>\n",
              "    <tr>\n",
              "      <th>1</th>\n",
              "      <td>17.0</td>\n",
              "      <td>Cross River</td>\n",
              "    </tr>\n",
              "    <tr>\n",
              "      <th>3</th>\n",
              "      <td>29.0</td>\n",
              "      <td>Abia</td>\n",
              "    </tr>\n",
              "  </tbody>\n",
              "</table>\n",
              "</div>"
            ],
            "text/plain": [
              "    age state_of_origin\n",
              "0  15.0           Lagos\n",
              "1  17.0     Cross River\n",
              "3  29.0            Abia"
            ]
          },
          "metadata": {
            "tags": []
          },
          "execution_count": 56
        }
      ]
    },
    {
      "cell_type": "markdown",
      "metadata": {
        "id": "MPi_4Jo3K4zS",
        "colab_type": "text"
      },
      "source": [
        "As we will observe from the above code-block, `dropna()` drops all rows that contain a missing value. But we may not want that. We may rather, for example, want to drop columns with missing data, or drop rows where all the observations are missing or better still remove consequent on the number of observations present in a particular row.\n",
        "\n",
        "Let’s see examples of this options. First let’s expand our example dataset."
      ]
    },
    {
      "cell_type": "code",
      "metadata": {
        "id": "5SHVYWb0K4zT",
        "colab_type": "code",
        "colab": {},
        "outputId": "1ab726ba-df37-4213-8e6f-6543468b4962"
      },
      "source": [
        "my_DF = pd.DataFrame({'Capital': ['Yola', np.nan, np.nan, 'Port-Harcourt', 'Jalingo'],\n",
        " 'Population': [3178950, np.nan, 2321339, np.nan, 2294800],\n",
        " 'State': ['Adamawa', np.nan, 'Yobe', np.nan, 'Taraba'],\n",
        " 'LGAs': [22, np.nan, 17, 23, 16]})\n",
        "my_DF"
      ],
      "execution_count": 0,
      "outputs": [
        {
          "output_type": "execute_result",
          "data": {
            "text/html": [
              "<div>\n",
              "<style scoped>\n",
              "    .dataframe tbody tr th:only-of-type {\n",
              "        vertical-align: middle;\n",
              "    }\n",
              "\n",
              "    .dataframe tbody tr th {\n",
              "        vertical-align: top;\n",
              "    }\n",
              "\n",
              "    .dataframe thead th {\n",
              "        text-align: right;\n",
              "    }\n",
              "</style>\n",
              "<table border=\"1\" class=\"dataframe\">\n",
              "  <thead>\n",
              "    <tr style=\"text-align: right;\">\n",
              "      <th></th>\n",
              "      <th>Capital</th>\n",
              "      <th>LGAs</th>\n",
              "      <th>Population</th>\n",
              "      <th>State</th>\n",
              "    </tr>\n",
              "  </thead>\n",
              "  <tbody>\n",
              "    <tr>\n",
              "      <th>0</th>\n",
              "      <td>Yola</td>\n",
              "      <td>22.0</td>\n",
              "      <td>3178950.0</td>\n",
              "      <td>Adamawa</td>\n",
              "    </tr>\n",
              "    <tr>\n",
              "      <th>1</th>\n",
              "      <td>NaN</td>\n",
              "      <td>NaN</td>\n",
              "      <td>NaN</td>\n",
              "      <td>NaN</td>\n",
              "    </tr>\n",
              "    <tr>\n",
              "      <th>2</th>\n",
              "      <td>NaN</td>\n",
              "      <td>17.0</td>\n",
              "      <td>2321339.0</td>\n",
              "      <td>Yobe</td>\n",
              "    </tr>\n",
              "    <tr>\n",
              "      <th>3</th>\n",
              "      <td>Port-Harcourt</td>\n",
              "      <td>23.0</td>\n",
              "      <td>NaN</td>\n",
              "      <td>NaN</td>\n",
              "    </tr>\n",
              "    <tr>\n",
              "      <th>4</th>\n",
              "      <td>Jalingo</td>\n",
              "      <td>16.0</td>\n",
              "      <td>2294800.0</td>\n",
              "      <td>Taraba</td>\n",
              "    </tr>\n",
              "  </tbody>\n",
              "</table>\n",
              "</div>"
            ],
            "text/plain": [
              "         Capital  LGAs  Population    State\n",
              "0           Yola  22.0   3178950.0  Adamawa\n",
              "1            NaN   NaN         NaN      NaN\n",
              "2            NaN  17.0   2321339.0     Yobe\n",
              "3  Port-Harcourt  23.0         NaN      NaN\n",
              "4        Jalingo  16.0   2294800.0   Taraba"
            ]
          },
          "metadata": {
            "tags": []
          },
          "execution_count": 57
        }
      ]
    },
    {
      "cell_type": "markdown",
      "metadata": {
        "id": "xlwXWHicK4zV",
        "colab_type": "text"
      },
      "source": [
        "Drop columns with `NaN`. This option is not often used in practice."
      ]
    },
    {
      "cell_type": "code",
      "metadata": {
        "id": "zTSgnid7K4zW",
        "colab_type": "code",
        "colab": {},
        "outputId": "2f2b2734-f8e6-469c-b040-0888741a956d"
      },
      "source": [
        "my_DF.dropna(axis=1)"
      ],
      "execution_count": 0,
      "outputs": [
        {
          "output_type": "execute_result",
          "data": {
            "text/html": [
              "<div>\n",
              "<style scoped>\n",
              "    .dataframe tbody tr th:only-of-type {\n",
              "        vertical-align: middle;\n",
              "    }\n",
              "\n",
              "    .dataframe tbody tr th {\n",
              "        vertical-align: top;\n",
              "    }\n",
              "\n",
              "    .dataframe thead th {\n",
              "        text-align: right;\n",
              "    }\n",
              "</style>\n",
              "<table border=\"1\" class=\"dataframe\">\n",
              "  <thead>\n",
              "    <tr style=\"text-align: right;\">\n",
              "      <th></th>\n",
              "    </tr>\n",
              "  </thead>\n",
              "  <tbody>\n",
              "    <tr>\n",
              "      <th>0</th>\n",
              "    </tr>\n",
              "    <tr>\n",
              "      <th>1</th>\n",
              "    </tr>\n",
              "    <tr>\n",
              "      <th>2</th>\n",
              "    </tr>\n",
              "    <tr>\n",
              "      <th>3</th>\n",
              "    </tr>\n",
              "    <tr>\n",
              "      <th>4</th>\n",
              "    </tr>\n",
              "  </tbody>\n",
              "</table>\n",
              "</div>"
            ],
            "text/plain": [
              "Empty DataFrame\n",
              "Columns: []\n",
              "Index: [0, 1, 2, 3, 4]"
            ]
          },
          "metadata": {
            "tags": []
          },
          "execution_count": 58
        }
      ]
    },
    {
      "cell_type": "markdown",
      "metadata": {
        "id": "8oF5HtdZK4zc",
        "colab_type": "text"
      },
      "source": [
        "Drop rows where all the observations are missing."
      ]
    },
    {
      "cell_type": "code",
      "metadata": {
        "id": "Os4hNIm-K4zc",
        "colab_type": "code",
        "colab": {},
        "outputId": "9748ee86-a007-4923-e8bf-a4da2488f271"
      },
      "source": [
        "my_DF.dropna(how='all')"
      ],
      "execution_count": 0,
      "outputs": [
        {
          "output_type": "execute_result",
          "data": {
            "text/html": [
              "<div>\n",
              "<style scoped>\n",
              "    .dataframe tbody tr th:only-of-type {\n",
              "        vertical-align: middle;\n",
              "    }\n",
              "\n",
              "    .dataframe tbody tr th {\n",
              "        vertical-align: top;\n",
              "    }\n",
              "\n",
              "    .dataframe thead th {\n",
              "        text-align: right;\n",
              "    }\n",
              "</style>\n",
              "<table border=\"1\" class=\"dataframe\">\n",
              "  <thead>\n",
              "    <tr style=\"text-align: right;\">\n",
              "      <th></th>\n",
              "      <th>Capital</th>\n",
              "      <th>LGAs</th>\n",
              "      <th>Population</th>\n",
              "      <th>State</th>\n",
              "    </tr>\n",
              "  </thead>\n",
              "  <tbody>\n",
              "    <tr>\n",
              "      <th>0</th>\n",
              "      <td>Yola</td>\n",
              "      <td>22.0</td>\n",
              "      <td>3178950.0</td>\n",
              "      <td>Adamawa</td>\n",
              "    </tr>\n",
              "    <tr>\n",
              "      <th>2</th>\n",
              "      <td>NaN</td>\n",
              "      <td>17.0</td>\n",
              "      <td>2321339.0</td>\n",
              "      <td>Yobe</td>\n",
              "    </tr>\n",
              "    <tr>\n",
              "      <th>3</th>\n",
              "      <td>Port-Harcourt</td>\n",
              "      <td>23.0</td>\n",
              "      <td>NaN</td>\n",
              "      <td>NaN</td>\n",
              "    </tr>\n",
              "    <tr>\n",
              "      <th>4</th>\n",
              "      <td>Jalingo</td>\n",
              "      <td>16.0</td>\n",
              "      <td>2294800.0</td>\n",
              "      <td>Taraba</td>\n",
              "    </tr>\n",
              "  </tbody>\n",
              "</table>\n",
              "</div>"
            ],
            "text/plain": [
              "         Capital  LGAs  Population    State\n",
              "0           Yola  22.0   3178950.0  Adamawa\n",
              "2            NaN  17.0   2321339.0     Yobe\n",
              "3  Port-Harcourt  23.0         NaN      NaN\n",
              "4        Jalingo  16.0   2294800.0   Taraba"
            ]
          },
          "metadata": {
            "tags": []
          },
          "execution_count": 59
        }
      ]
    },
    {
      "cell_type": "markdown",
      "metadata": {
        "id": "KT4sq9mHK4zm",
        "colab_type": "text"
      },
      "source": [
        "Drop rows based on an observation threshold. By adjusting the `thresh` attribute, we can drop rows where the number of observations in the row is less than the `thresh` value."
      ]
    },
    {
      "cell_type": "code",
      "metadata": {
        "id": "Tco_X2yTK4zn",
        "colab_type": "code",
        "colab": {},
        "outputId": "c29f84f1-2e5f-46bf-f30e-fd5d0b2f2c30"
      },
      "source": [
        "# drop rows where number of NaN are less than 3\n",
        "my_DF.dropna(thresh=3)"
      ],
      "execution_count": 0,
      "outputs": [
        {
          "output_type": "execute_result",
          "data": {
            "text/html": [
              "<div>\n",
              "<style scoped>\n",
              "    .dataframe tbody tr th:only-of-type {\n",
              "        vertical-align: middle;\n",
              "    }\n",
              "\n",
              "    .dataframe tbody tr th {\n",
              "        vertical-align: top;\n",
              "    }\n",
              "\n",
              "    .dataframe thead th {\n",
              "        text-align: right;\n",
              "    }\n",
              "</style>\n",
              "<table border=\"1\" class=\"dataframe\">\n",
              "  <thead>\n",
              "    <tr style=\"text-align: right;\">\n",
              "      <th></th>\n",
              "      <th>Capital</th>\n",
              "      <th>LGAs</th>\n",
              "      <th>Population</th>\n",
              "      <th>State</th>\n",
              "    </tr>\n",
              "  </thead>\n",
              "  <tbody>\n",
              "    <tr>\n",
              "      <th>0</th>\n",
              "      <td>Yola</td>\n",
              "      <td>22.0</td>\n",
              "      <td>3178950.0</td>\n",
              "      <td>Adamawa</td>\n",
              "    </tr>\n",
              "    <tr>\n",
              "      <th>2</th>\n",
              "      <td>NaN</td>\n",
              "      <td>17.0</td>\n",
              "      <td>2321339.0</td>\n",
              "      <td>Yobe</td>\n",
              "    </tr>\n",
              "    <tr>\n",
              "      <th>4</th>\n",
              "      <td>Jalingo</td>\n",
              "      <td>16.0</td>\n",
              "      <td>2294800.0</td>\n",
              "      <td>Taraba</td>\n",
              "    </tr>\n",
              "  </tbody>\n",
              "</table>\n",
              "</div>"
            ],
            "text/plain": [
              "   Capital  LGAs  Population    State\n",
              "0     Yola  22.0   3178950.0  Adamawa\n",
              "2      NaN  17.0   2321339.0     Yobe\n",
              "4  Jalingo  16.0   2294800.0   Taraba"
            ]
          },
          "metadata": {
            "tags": []
          },
          "execution_count": 60
        }
      ]
    },
    {
      "cell_type": "markdown",
      "metadata": {
        "id": "aPouzbc1K4zp",
        "colab_type": "text"
      },
      "source": [
        "### Imputing values into missing data"
      ]
    },
    {
      "cell_type": "markdown",
      "metadata": {
        "id": "6u9Z6jeFK4zp",
        "colab_type": "text"
      },
      "source": [
        "Imputing values as substitutes for missing data is a standard practice in preparing data for Machine Learning. Pandas has a `fillna()` function for this purpose. A simple approach is to fill `NaNs` with zeros."
      ]
    },
    {
      "cell_type": "code",
      "metadata": {
        "id": "dz-f-fljK4zq",
        "colab_type": "code",
        "colab": {},
        "outputId": "ca77a98d-27e7-4abf-ae2b-d365a977b271"
      },
      "source": [
        "my_DF.fillna(0) # we can also run my_DF.replace(np.nan, 0)"
      ],
      "execution_count": 0,
      "outputs": [
        {
          "output_type": "execute_result",
          "data": {
            "text/html": [
              "<div>\n",
              "<style scoped>\n",
              "    .dataframe tbody tr th:only-of-type {\n",
              "        vertical-align: middle;\n",
              "    }\n",
              "\n",
              "    .dataframe tbody tr th {\n",
              "        vertical-align: top;\n",
              "    }\n",
              "\n",
              "    .dataframe thead th {\n",
              "        text-align: right;\n",
              "    }\n",
              "</style>\n",
              "<table border=\"1\" class=\"dataframe\">\n",
              "  <thead>\n",
              "    <tr style=\"text-align: right;\">\n",
              "      <th></th>\n",
              "      <th>Capital</th>\n",
              "      <th>LGAs</th>\n",
              "      <th>Population</th>\n",
              "      <th>State</th>\n",
              "    </tr>\n",
              "  </thead>\n",
              "  <tbody>\n",
              "    <tr>\n",
              "      <th>0</th>\n",
              "      <td>Yola</td>\n",
              "      <td>22.0</td>\n",
              "      <td>3178950.0</td>\n",
              "      <td>Adamawa</td>\n",
              "    </tr>\n",
              "    <tr>\n",
              "      <th>1</th>\n",
              "      <td>0</td>\n",
              "      <td>0.0</td>\n",
              "      <td>0.0</td>\n",
              "      <td>0</td>\n",
              "    </tr>\n",
              "    <tr>\n",
              "      <th>2</th>\n",
              "      <td>0</td>\n",
              "      <td>17.0</td>\n",
              "      <td>2321339.0</td>\n",
              "      <td>Yobe</td>\n",
              "    </tr>\n",
              "    <tr>\n",
              "      <th>3</th>\n",
              "      <td>Port-Harcourt</td>\n",
              "      <td>23.0</td>\n",
              "      <td>0.0</td>\n",
              "      <td>0</td>\n",
              "    </tr>\n",
              "    <tr>\n",
              "      <th>4</th>\n",
              "      <td>Jalingo</td>\n",
              "      <td>16.0</td>\n",
              "      <td>2294800.0</td>\n",
              "      <td>Taraba</td>\n",
              "    </tr>\n",
              "  </tbody>\n",
              "</table>\n",
              "</div>"
            ],
            "text/plain": [
              "         Capital  LGAs  Population    State\n",
              "0           Yola  22.0   3178950.0  Adamawa\n",
              "1              0   0.0         0.0        0\n",
              "2              0  17.0   2321339.0     Yobe\n",
              "3  Port-Harcourt  23.0         0.0        0\n",
              "4        Jalingo  16.0   2294800.0   Taraba"
            ]
          },
          "metadata": {
            "tags": []
          },
          "execution_count": 61
        }
      ]
    },
    {
      "cell_type": "markdown",
      "metadata": {
        "id": "sA3Q6f7sK4zr",
        "colab_type": "text"
      },
      "source": [
        "Another tactic is to fill missing values with the mean of the column value."
      ]
    },
    {
      "cell_type": "code",
      "metadata": {
        "id": "m98mU4lKK4zs",
        "colab_type": "code",
        "colab": {},
        "outputId": "ddf0f2ed-fb98-4139-b619-ebb9d6d1a392"
      },
      "source": [
        "my_DF.fillna(my_DF.mean())"
      ],
      "execution_count": 0,
      "outputs": [
        {
          "output_type": "execute_result",
          "data": {
            "text/html": [
              "<div>\n",
              "<style scoped>\n",
              "    .dataframe tbody tr th:only-of-type {\n",
              "        vertical-align: middle;\n",
              "    }\n",
              "\n",
              "    .dataframe tbody tr th {\n",
              "        vertical-align: top;\n",
              "    }\n",
              "\n",
              "    .dataframe thead th {\n",
              "        text-align: right;\n",
              "    }\n",
              "</style>\n",
              "<table border=\"1\" class=\"dataframe\">\n",
              "  <thead>\n",
              "    <tr style=\"text-align: right;\">\n",
              "      <th></th>\n",
              "      <th>Capital</th>\n",
              "      <th>LGAs</th>\n",
              "      <th>Population</th>\n",
              "      <th>State</th>\n",
              "    </tr>\n",
              "  </thead>\n",
              "  <tbody>\n",
              "    <tr>\n",
              "      <th>0</th>\n",
              "      <td>Yola</td>\n",
              "      <td>22.0</td>\n",
              "      <td>3178950.0</td>\n",
              "      <td>Adamawa</td>\n",
              "    </tr>\n",
              "    <tr>\n",
              "      <th>1</th>\n",
              "      <td>NaN</td>\n",
              "      <td>19.5</td>\n",
              "      <td>2598363.0</td>\n",
              "      <td>NaN</td>\n",
              "    </tr>\n",
              "    <tr>\n",
              "      <th>2</th>\n",
              "      <td>NaN</td>\n",
              "      <td>17.0</td>\n",
              "      <td>2321339.0</td>\n",
              "      <td>Yobe</td>\n",
              "    </tr>\n",
              "    <tr>\n",
              "      <th>3</th>\n",
              "      <td>Port-Harcourt</td>\n",
              "      <td>23.0</td>\n",
              "      <td>2598363.0</td>\n",
              "      <td>NaN</td>\n",
              "    </tr>\n",
              "    <tr>\n",
              "      <th>4</th>\n",
              "      <td>Jalingo</td>\n",
              "      <td>16.0</td>\n",
              "      <td>2294800.0</td>\n",
              "      <td>Taraba</td>\n",
              "    </tr>\n",
              "  </tbody>\n",
              "</table>\n",
              "</div>"
            ],
            "text/plain": [
              "         Capital  LGAs  Population    State\n",
              "0           Yola  22.0   3178950.0  Adamawa\n",
              "1            NaN  19.5   2598363.0      NaN\n",
              "2            NaN  17.0   2321339.0     Yobe\n",
              "3  Port-Harcourt  23.0   2598363.0      NaN\n",
              "4        Jalingo  16.0   2294800.0   Taraba"
            ]
          },
          "metadata": {
            "tags": []
          },
          "execution_count": 62
        }
      ]
    },
    {
      "cell_type": "markdown",
      "metadata": {
        "id": "2875Su5BK4zt",
        "colab_type": "text"
      },
      "source": [
        "## Data Aggregation (Grouping)"
      ]
    },
    {
      "cell_type": "markdown",
      "metadata": {
        "id": "-ixY1C_EK4zu",
        "colab_type": "text"
      },
      "source": [
        "We will touch briefly on a common practice in Data Science, and that is grouping a set of data attributes, either for retrieving some group statistics or applying a particular set of functions to the group. Grouping is commonly used for data exploration and plotting graphs to understand more about the data set. Missing data are automatically excluded in a grouping operation.\n",
        "\n",
        "Let’s see examples of how this works."
      ]
    },
    {
      "cell_type": "code",
      "metadata": {
        "id": "MHN4SW9sK4zu",
        "colab_type": "code",
        "colab": {},
        "outputId": "3e70194c-cc1c-413c-aa77-db3675a61e4f"
      },
      "source": [
        "# create a data frame\n",
        "my_DF = pd.DataFrame({'Sex': ['M', 'F', 'M', 'F','M', 'F','M', 'F'],\n",
        " 'Age': np.random.randint(15,60,8),\n",
        " 'Salary': np.random.rand(8)*10000})\n",
        "my_DF"
      ],
      "execution_count": 0,
      "outputs": [
        {
          "output_type": "execute_result",
          "data": {
            "text/html": [
              "<div>\n",
              "<style scoped>\n",
              "    .dataframe tbody tr th:only-of-type {\n",
              "        vertical-align: middle;\n",
              "    }\n",
              "\n",
              "    .dataframe tbody tr th {\n",
              "        vertical-align: top;\n",
              "    }\n",
              "\n",
              "    .dataframe thead th {\n",
              "        text-align: right;\n",
              "    }\n",
              "</style>\n",
              "<table border=\"1\" class=\"dataframe\">\n",
              "  <thead>\n",
              "    <tr style=\"text-align: right;\">\n",
              "      <th></th>\n",
              "      <th>Age</th>\n",
              "      <th>Salary</th>\n",
              "      <th>Sex</th>\n",
              "    </tr>\n",
              "  </thead>\n",
              "  <tbody>\n",
              "    <tr>\n",
              "      <th>0</th>\n",
              "      <td>18</td>\n",
              "      <td>7458.640611</td>\n",
              "      <td>M</td>\n",
              "    </tr>\n",
              "    <tr>\n",
              "      <th>1</th>\n",
              "      <td>15</td>\n",
              "      <td>1108.176649</td>\n",
              "      <td>F</td>\n",
              "    </tr>\n",
              "    <tr>\n",
              "      <th>2</th>\n",
              "      <td>45</td>\n",
              "      <td>5133.347055</td>\n",
              "      <td>M</td>\n",
              "    </tr>\n",
              "    <tr>\n",
              "      <th>3</th>\n",
              "      <td>34</td>\n",
              "      <td>4234.754901</td>\n",
              "      <td>F</td>\n",
              "    </tr>\n",
              "    <tr>\n",
              "      <th>4</th>\n",
              "      <td>51</td>\n",
              "      <td>692.077509</td>\n",
              "      <td>M</td>\n",
              "    </tr>\n",
              "    <tr>\n",
              "      <th>5</th>\n",
              "      <td>24</td>\n",
              "      <td>9555.607296</td>\n",
              "      <td>F</td>\n",
              "    </tr>\n",
              "    <tr>\n",
              "      <th>6</th>\n",
              "      <td>27</td>\n",
              "      <td>8981.903288</td>\n",
              "      <td>M</td>\n",
              "    </tr>\n",
              "    <tr>\n",
              "      <th>7</th>\n",
              "      <td>58</td>\n",
              "      <td>3398.114009</td>\n",
              "      <td>F</td>\n",
              "    </tr>\n",
              "  </tbody>\n",
              "</table>\n",
              "</div>"
            ],
            "text/plain": [
              "   Age       Salary Sex\n",
              "0   18  7458.640611   M\n",
              "1   15  1108.176649   F\n",
              "2   45  5133.347055   M\n",
              "3   34  4234.754901   F\n",
              "4   51   692.077509   M\n",
              "5   24  9555.607296   F\n",
              "6   27  8981.903288   M\n",
              "7   58  3398.114009   F"
            ]
          },
          "metadata": {
            "tags": []
          },
          "execution_count": 63
        }
      ]
    },
    {
      "cell_type": "markdown",
      "metadata": {
        "id": "HmYB149fK4zx",
        "colab_type": "text"
      },
      "source": [
        "Let’s find the mean age and salary for observations in our dataset grouped by `Sex`."
      ]
    },
    {
      "cell_type": "code",
      "metadata": {
        "id": "zbR_EG-4K4zx",
        "colab_type": "code",
        "colab": {},
        "outputId": "f33bc967-e7f5-4c05-a744-de3ca5cd9e6f"
      },
      "source": [
        "my_DF.groupby('Sex').mean()"
      ],
      "execution_count": 0,
      "outputs": [
        {
          "output_type": "execute_result",
          "data": {
            "text/html": [
              "<div>\n",
              "<style scoped>\n",
              "    .dataframe tbody tr th:only-of-type {\n",
              "        vertical-align: middle;\n",
              "    }\n",
              "\n",
              "    .dataframe tbody tr th {\n",
              "        vertical-align: top;\n",
              "    }\n",
              "\n",
              "    .dataframe thead th {\n",
              "        text-align: right;\n",
              "    }\n",
              "</style>\n",
              "<table border=\"1\" class=\"dataframe\">\n",
              "  <thead>\n",
              "    <tr style=\"text-align: right;\">\n",
              "      <th></th>\n",
              "      <th>Age</th>\n",
              "      <th>Salary</th>\n",
              "    </tr>\n",
              "    <tr>\n",
              "      <th>Sex</th>\n",
              "      <th></th>\n",
              "      <th></th>\n",
              "    </tr>\n",
              "  </thead>\n",
              "  <tbody>\n",
              "    <tr>\n",
              "      <th>F</th>\n",
              "      <td>32.75</td>\n",
              "      <td>4574.163214</td>\n",
              "    </tr>\n",
              "    <tr>\n",
              "      <th>M</th>\n",
              "      <td>35.25</td>\n",
              "      <td>5566.492116</td>\n",
              "    </tr>\n",
              "  </tbody>\n",
              "</table>\n",
              "</div>"
            ],
            "text/plain": [
              "       Age       Salary\n",
              "Sex                    \n",
              "F    32.75  4574.163214\n",
              "M    35.25  5566.492116"
            ]
          },
          "metadata": {
            "tags": []
          },
          "execution_count": 64
        }
      ]
    },
    {
      "cell_type": "markdown",
      "metadata": {
        "id": "u_0FKUrGK4z0",
        "colab_type": "text"
      },
      "source": [
        "We can group by more than one variable. In this case for each Sex group, also group the age and find the mean of the other numeric variables."
      ]
    },
    {
      "cell_type": "code",
      "metadata": {
        "id": "Zsjjm0CBK4z0",
        "colab_type": "code",
        "colab": {},
        "outputId": "e62aa7d4-6e05-4259-91ed-297f203e8576"
      },
      "source": [
        "my_DF.groupby([my_DF['Sex'], my_DF['Age']]).mean()"
      ],
      "execution_count": 0,
      "outputs": [
        {
          "output_type": "execute_result",
          "data": {
            "text/html": [
              "<div>\n",
              "<style scoped>\n",
              "    .dataframe tbody tr th:only-of-type {\n",
              "        vertical-align: middle;\n",
              "    }\n",
              "\n",
              "    .dataframe tbody tr th {\n",
              "        vertical-align: top;\n",
              "    }\n",
              "\n",
              "    .dataframe thead th {\n",
              "        text-align: right;\n",
              "    }\n",
              "</style>\n",
              "<table border=\"1\" class=\"dataframe\">\n",
              "  <thead>\n",
              "    <tr style=\"text-align: right;\">\n",
              "      <th></th>\n",
              "      <th></th>\n",
              "      <th>Salary</th>\n",
              "    </tr>\n",
              "    <tr>\n",
              "      <th>Sex</th>\n",
              "      <th>Age</th>\n",
              "      <th></th>\n",
              "    </tr>\n",
              "  </thead>\n",
              "  <tbody>\n",
              "    <tr>\n",
              "      <th rowspan=\"4\" valign=\"top\">F</th>\n",
              "      <th>15</th>\n",
              "      <td>1108.176649</td>\n",
              "    </tr>\n",
              "    <tr>\n",
              "      <th>24</th>\n",
              "      <td>9555.607296</td>\n",
              "    </tr>\n",
              "    <tr>\n",
              "      <th>34</th>\n",
              "      <td>4234.754901</td>\n",
              "    </tr>\n",
              "    <tr>\n",
              "      <th>58</th>\n",
              "      <td>3398.114009</td>\n",
              "    </tr>\n",
              "    <tr>\n",
              "      <th rowspan=\"4\" valign=\"top\">M</th>\n",
              "      <th>18</th>\n",
              "      <td>7458.640611</td>\n",
              "    </tr>\n",
              "    <tr>\n",
              "      <th>27</th>\n",
              "      <td>8981.903288</td>\n",
              "    </tr>\n",
              "    <tr>\n",
              "      <th>45</th>\n",
              "      <td>5133.347055</td>\n",
              "    </tr>\n",
              "    <tr>\n",
              "      <th>51</th>\n",
              "      <td>692.077509</td>\n",
              "    </tr>\n",
              "  </tbody>\n",
              "</table>\n",
              "</div>"
            ],
            "text/plain": [
              "              Salary\n",
              "Sex Age             \n",
              "F   15   1108.176649\n",
              "    24   9555.607296\n",
              "    34   4234.754901\n",
              "    58   3398.114009\n",
              "M   18   7458.640611\n",
              "    27   8981.903288\n",
              "    45   5133.347055\n",
              "    51    692.077509"
            ]
          },
          "metadata": {
            "tags": []
          },
          "execution_count": 65
        }
      ]
    },
    {
      "cell_type": "markdown",
      "metadata": {
        "id": "J-eUeRNUK4z2",
        "colab_type": "text"
      },
      "source": [
        "Also, we can use a variable as a group key to run a group function on another variable or sets of variables."
      ]
    },
    {
      "cell_type": "code",
      "metadata": {
        "id": "wxK8DmF5K4z3",
        "colab_type": "code",
        "colab": {},
        "outputId": "736ba291-ef11-48a5-eb4a-868e232dea93"
      },
      "source": [
        "my_DF['Age'].groupby(my_DF['Salary']).mean()"
      ],
      "execution_count": 0,
      "outputs": [
        {
          "output_type": "execute_result",
          "data": {
            "text/plain": [
              "Salary\n",
              "692.077509     51\n",
              "1108.176649    15\n",
              "3398.114009    58\n",
              "4234.754901    34\n",
              "5133.347055    45\n",
              "7458.640611    18\n",
              "8981.903288    27\n",
              "9555.607296    24\n",
              "Name: Age, dtype: int64"
            ]
          },
          "metadata": {
            "tags": []
          },
          "execution_count": 66
        }
      ]
    },
    {
      "cell_type": "markdown",
      "metadata": {
        "id": "8eGvBoQ0K4z5",
        "colab_type": "text"
      },
      "source": [
        "## Statistical Summaries"
      ]
    },
    {
      "cell_type": "markdown",
      "metadata": {
        "id": "KdbFmbBZK4z5",
        "colab_type": "text"
      },
      "source": [
        "Descriptive statistics is an essential component of the Data Science pipeline. By investigating the properties of the dataset, we can gain a better understanding of the data and the relationship between the variables. This information is useful in making decisions about the type of data transformations to carry out or the types of learning algorithms to spot-check. Let’s see some examples of simple statistical functions in Pandas.\n",
        "\n",
        "First, we’ll create a Pandas dataframe."
      ]
    },
    {
      "cell_type": "code",
      "metadata": {
        "id": "ZOmpnP4lK4z5",
        "colab_type": "code",
        "colab": {},
        "outputId": "653d9b08-bcfb-4a55-802a-ab476d8dbd90"
      },
      "source": [
        "my_DF = pd.DataFrame(np.random.randint(10,80,[7,4]),\\\n",
        "            columns=['First','Second','Third', 'Fourth'])\n",
        "my_DF"
      ],
      "execution_count": 0,
      "outputs": [
        {
          "output_type": "execute_result",
          "data": {
            "text/html": [
              "<div>\n",
              "<style scoped>\n",
              "    .dataframe tbody tr th:only-of-type {\n",
              "        vertical-align: middle;\n",
              "    }\n",
              "\n",
              "    .dataframe tbody tr th {\n",
              "        vertical-align: top;\n",
              "    }\n",
              "\n",
              "    .dataframe thead th {\n",
              "        text-align: right;\n",
              "    }\n",
              "</style>\n",
              "<table border=\"1\" class=\"dataframe\">\n",
              "  <thead>\n",
              "    <tr style=\"text-align: right;\">\n",
              "      <th></th>\n",
              "      <th>First</th>\n",
              "      <th>Second</th>\n",
              "      <th>Third</th>\n",
              "      <th>Fourth</th>\n",
              "    </tr>\n",
              "  </thead>\n",
              "  <tbody>\n",
              "    <tr>\n",
              "      <th>0</th>\n",
              "      <td>18</td>\n",
              "      <td>25</td>\n",
              "      <td>14</td>\n",
              "      <td>50</td>\n",
              "    </tr>\n",
              "    <tr>\n",
              "      <th>1</th>\n",
              "      <td>71</td>\n",
              "      <td>36</td>\n",
              "      <td>77</td>\n",
              "      <td>29</td>\n",
              "    </tr>\n",
              "    <tr>\n",
              "      <th>2</th>\n",
              "      <td>72</td>\n",
              "      <td>53</td>\n",
              "      <td>14</td>\n",
              "      <td>28</td>\n",
              "    </tr>\n",
              "    <tr>\n",
              "      <th>3</th>\n",
              "      <td>65</td>\n",
              "      <td>46</td>\n",
              "      <td>44</td>\n",
              "      <td>18</td>\n",
              "    </tr>\n",
              "    <tr>\n",
              "      <th>4</th>\n",
              "      <td>35</td>\n",
              "      <td>73</td>\n",
              "      <td>22</td>\n",
              "      <td>52</td>\n",
              "    </tr>\n",
              "    <tr>\n",
              "      <th>5</th>\n",
              "      <td>46</td>\n",
              "      <td>41</td>\n",
              "      <td>69</td>\n",
              "      <td>11</td>\n",
              "    </tr>\n",
              "    <tr>\n",
              "      <th>6</th>\n",
              "      <td>32</td>\n",
              "      <td>45</td>\n",
              "      <td>16</td>\n",
              "      <td>17</td>\n",
              "    </tr>\n",
              "  </tbody>\n",
              "</table>\n",
              "</div>"
            ],
            "text/plain": [
              "   First  Second  Third  Fourth\n",
              "0     18      25     14      50\n",
              "1     71      36     77      29\n",
              "2     72      53     14      28\n",
              "3     65      46     44      18\n",
              "4     35      73     22      52\n",
              "5     46      41     69      11\n",
              "6     32      45     16      17"
            ]
          },
          "metadata": {
            "tags": []
          },
          "execution_count": 67
        }
      ]
    },
    {
      "cell_type": "markdown",
      "metadata": {
        "id": "Q_ZXJxh8K4z9",
        "colab_type": "text"
      },
      "source": [
        "Use the `describe` function to obtain summary statistics of a dataset. Eight statistical measures are displayed. They are: count, mean, standard deviation, minimum value, 25th percentile, 50th percentile or median, 75th percentile and the maximum value."
      ]
    },
    {
      "cell_type": "code",
      "metadata": {
        "id": "cIhyc65_K4z9",
        "colab_type": "code",
        "colab": {},
        "outputId": "943564b1-2c5e-4af7-8dd2-2097fdd6c8dc"
      },
      "source": [
        "my_DF.describe()"
      ],
      "execution_count": 0,
      "outputs": [
        {
          "output_type": "execute_result",
          "data": {
            "text/html": [
              "<div>\n",
              "<style scoped>\n",
              "    .dataframe tbody tr th:only-of-type {\n",
              "        vertical-align: middle;\n",
              "    }\n",
              "\n",
              "    .dataframe tbody tr th {\n",
              "        vertical-align: top;\n",
              "    }\n",
              "\n",
              "    .dataframe thead th {\n",
              "        text-align: right;\n",
              "    }\n",
              "</style>\n",
              "<table border=\"1\" class=\"dataframe\">\n",
              "  <thead>\n",
              "    <tr style=\"text-align: right;\">\n",
              "      <th></th>\n",
              "      <th>First</th>\n",
              "      <th>Second</th>\n",
              "      <th>Third</th>\n",
              "      <th>Fourth</th>\n",
              "    </tr>\n",
              "  </thead>\n",
              "  <tbody>\n",
              "    <tr>\n",
              "      <th>count</th>\n",
              "      <td>7.000000</td>\n",
              "      <td>7.000000</td>\n",
              "      <td>7.000000</td>\n",
              "      <td>7.000000</td>\n",
              "    </tr>\n",
              "    <tr>\n",
              "      <th>mean</th>\n",
              "      <td>48.428571</td>\n",
              "      <td>45.571429</td>\n",
              "      <td>36.571429</td>\n",
              "      <td>29.285714</td>\n",
              "    </tr>\n",
              "    <tr>\n",
              "      <th>std</th>\n",
              "      <td>21.298334</td>\n",
              "      <td>14.965039</td>\n",
              "      <td>27.066936</td>\n",
              "      <td>16.121562</td>\n",
              "    </tr>\n",
              "    <tr>\n",
              "      <th>min</th>\n",
              "      <td>18.000000</td>\n",
              "      <td>25.000000</td>\n",
              "      <td>14.000000</td>\n",
              "      <td>11.000000</td>\n",
              "    </tr>\n",
              "    <tr>\n",
              "      <th>25%</th>\n",
              "      <td>33.500000</td>\n",
              "      <td>38.500000</td>\n",
              "      <td>15.000000</td>\n",
              "      <td>17.500000</td>\n",
              "    </tr>\n",
              "    <tr>\n",
              "      <th>50%</th>\n",
              "      <td>46.000000</td>\n",
              "      <td>45.000000</td>\n",
              "      <td>22.000000</td>\n",
              "      <td>28.000000</td>\n",
              "    </tr>\n",
              "    <tr>\n",
              "      <th>75%</th>\n",
              "      <td>68.000000</td>\n",
              "      <td>49.500000</td>\n",
              "      <td>56.500000</td>\n",
              "      <td>39.500000</td>\n",
              "    </tr>\n",
              "    <tr>\n",
              "      <th>max</th>\n",
              "      <td>72.000000</td>\n",
              "      <td>73.000000</td>\n",
              "      <td>77.000000</td>\n",
              "      <td>52.000000</td>\n",
              "    </tr>\n",
              "  </tbody>\n",
              "</table>\n",
              "</div>"
            ],
            "text/plain": [
              "           First     Second      Third     Fourth\n",
              "count   7.000000   7.000000   7.000000   7.000000\n",
              "mean   48.428571  45.571429  36.571429  29.285714\n",
              "std    21.298334  14.965039  27.066936  16.121562\n",
              "min    18.000000  25.000000  14.000000  11.000000\n",
              "25%    33.500000  38.500000  15.000000  17.500000\n",
              "50%    46.000000  45.000000  22.000000  28.000000\n",
              "75%    68.000000  49.500000  56.500000  39.500000\n",
              "max    72.000000  73.000000  77.000000  52.000000"
            ]
          },
          "metadata": {
            "tags": []
          },
          "execution_count": 68
        }
      ]
    },
    {
      "cell_type": "markdown",
      "metadata": {
        "id": "wMX7iHWnK4z_",
        "colab_type": "text"
      },
      "source": [
        "### Correlation"
      ]
    },
    {
      "cell_type": "markdown",
      "metadata": {
        "id": "zwg4W_x6K40A",
        "colab_type": "text"
      },
      "source": [
        "Correlation shows how much relationship exists between two variables. Parametric machine learning methods such as logistic and linear regression can take a performance hit when variables are highly correlated. The correlation values range from -1 to 1, with 0 indicating no correlation at all. -1 signifies that the variables are strongly negatively correlated while 1 shows that the variables are strongly positively correlated. In practice, it is safe to eliminate variables that have a correlation value greater than -0.7 or 0.7. A common correlation estimate in use is the Pearson’s Correlation Coefficient."
      ]
    },
    {
      "cell_type": "code",
      "metadata": {
        "id": "I_MF0PRYK40A",
        "colab_type": "code",
        "colab": {},
        "outputId": "cd21c8b4-3842-4b8b-edac-72fa7a8f35a4"
      },
      "source": [
        "my_DF.corr(method='pearson')"
      ],
      "execution_count": 0,
      "outputs": [
        {
          "output_type": "execute_result",
          "data": {
            "text/html": [
              "<div>\n",
              "<style scoped>\n",
              "    .dataframe tbody tr th:only-of-type {\n",
              "        vertical-align: middle;\n",
              "    }\n",
              "\n",
              "    .dataframe tbody tr th {\n",
              "        vertical-align: top;\n",
              "    }\n",
              "\n",
              "    .dataframe thead th {\n",
              "        text-align: right;\n",
              "    }\n",
              "</style>\n",
              "<table border=\"1\" class=\"dataframe\">\n",
              "  <thead>\n",
              "    <tr style=\"text-align: right;\">\n",
              "      <th></th>\n",
              "      <th>First</th>\n",
              "      <th>Second</th>\n",
              "      <th>Third</th>\n",
              "      <th>Fourth</th>\n",
              "    </tr>\n",
              "  </thead>\n",
              "  <tbody>\n",
              "    <tr>\n",
              "      <th>First</th>\n",
              "      <td>1.000000</td>\n",
              "      <td>0.127739</td>\n",
              "      <td>0.47567</td>\n",
              "      <td>-0.443097</td>\n",
              "    </tr>\n",
              "    <tr>\n",
              "      <th>Second</th>\n",
              "      <td>0.127739</td>\n",
              "      <td>1.000000</td>\n",
              "      <td>-0.25646</td>\n",
              "      <td>0.190567</td>\n",
              "    </tr>\n",
              "    <tr>\n",
              "      <th>Third</th>\n",
              "      <td>0.475670</td>\n",
              "      <td>-0.256460</td>\n",
              "      <td>1.00000</td>\n",
              "      <td>-0.460300</td>\n",
              "    </tr>\n",
              "    <tr>\n",
              "      <th>Fourth</th>\n",
              "      <td>-0.443097</td>\n",
              "      <td>0.190567</td>\n",
              "      <td>-0.46030</td>\n",
              "      <td>1.000000</td>\n",
              "    </tr>\n",
              "  </tbody>\n",
              "</table>\n",
              "</div>"
            ],
            "text/plain": [
              "           First    Second    Third    Fourth\n",
              "First   1.000000  0.127739  0.47567 -0.443097\n",
              "Second  0.127739  1.000000 -0.25646  0.190567\n",
              "Third   0.475670 -0.256460  1.00000 -0.460300\n",
              "Fourth -0.443097  0.190567 -0.46030  1.000000"
            ]
          },
          "metadata": {
            "tags": []
          },
          "execution_count": 69
        }
      ]
    },
    {
      "cell_type": "markdown",
      "metadata": {
        "id": "MxHcdByrK40C",
        "colab_type": "text"
      },
      "source": [
        "### Skewness"
      ]
    },
    {
      "cell_type": "markdown",
      "metadata": {
        "id": "kWSOVId6K40C",
        "colab_type": "text"
      },
      "source": [
        "Another important statistical metric is the skewness of the dataset. Skewness is when a bell-shaped or Normal distribution is shifted towards the right or the left. Pandas offer a convenient function called skew() to check the skewness of each variable. Values close to 0 are more normally distributed with less skew."
      ]
    },
    {
      "cell_type": "code",
      "metadata": {
        "id": "12nw6WYRK40D",
        "colab_type": "code",
        "colab": {},
        "outputId": "6d4d1cb2-a4b4-4054-e18c-a86370432e00"
      },
      "source": [
        "my_DF.skew()"
      ],
      "execution_count": 0,
      "outputs": [
        {
          "output_type": "execute_result",
          "data": {
            "text/plain": [
              "First    -0.142418\n",
              "Second    0.791400\n",
              "Third     0.774177\n",
              "Fourth    0.623651\n",
              "dtype: float64"
            ]
          },
          "metadata": {
            "tags": []
          },
          "execution_count": 70
        }
      ]
    },
    {
      "cell_type": "markdown",
      "metadata": {
        "id": "ZyNnKqihK40E",
        "colab_type": "text"
      },
      "source": [
        "## Importing Data"
      ]
    },
    {
      "cell_type": "markdown",
      "metadata": {
        "id": "u94TY7IUK40F",
        "colab_type": "text"
      },
      "source": [
        "Again, getting data into the programming environment for analysis is a fundamental and first step for any data analytics or machine learning task. In practice, data usually comes in a comma separated value, `csv` format."
      ]
    },
    {
      "cell_type": "code",
      "metadata": {
        "id": "diJzA0arK40F",
        "colab_type": "code",
        "colab": {}
      },
      "source": [
        "my_DF = pd.read_csv('states.csv', sep=',', header = 0)"
      ],
      "execution_count": 0,
      "outputs": []
    },
    {
      "cell_type": "code",
      "metadata": {
        "id": "TX-vYdTpK40H",
        "colab_type": "code",
        "colab": {
          "base_uri": "https://localhost:8080/",
          "height": 204
        },
        "outputId": "140e3d79-b0d1-4e7c-95d1-9c97de2d309d"
      },
      "source": [
        "# read the top 5 rows\n",
        "my_DF.head()"
      ],
      "execution_count": 19,
      "outputs": [
        {
          "output_type": "execute_result",
          "data": {
            "text/html": [
              "<div>\n",
              "<style scoped>\n",
              "    .dataframe tbody tr th:only-of-type {\n",
              "        vertical-align: middle;\n",
              "    }\n",
              "\n",
              "    .dataframe tbody tr th {\n",
              "        vertical-align: top;\n",
              "    }\n",
              "\n",
              "    .dataframe thead th {\n",
              "        text-align: right;\n",
              "    }\n",
              "</style>\n",
              "<table border=\"1\" class=\"dataframe\">\n",
              "  <thead>\n",
              "    <tr style=\"text-align: right;\">\n",
              "      <th></th>\n",
              "      <th>state</th>\n",
              "      <th>capital</th>\n",
              "    </tr>\n",
              "  </thead>\n",
              "  <tbody>\n",
              "    <tr>\n",
              "      <th>0</th>\n",
              "      <td>Abia</td>\n",
              "      <td>Umuahia</td>\n",
              "    </tr>\n",
              "    <tr>\n",
              "      <th>1</th>\n",
              "      <td>Adamawa</td>\n",
              "      <td>Yola</td>\n",
              "    </tr>\n",
              "    <tr>\n",
              "      <th>2</th>\n",
              "      <td>Akwa Ibom</td>\n",
              "      <td>Uyo</td>\n",
              "    </tr>\n",
              "    <tr>\n",
              "      <th>3</th>\n",
              "      <td>Anambra</td>\n",
              "      <td>Awka</td>\n",
              "    </tr>\n",
              "    <tr>\n",
              "      <th>4</th>\n",
              "      <td>Bauchi</td>\n",
              "      <td>Bauchi</td>\n",
              "    </tr>\n",
              "  </tbody>\n",
              "</table>\n",
              "</div>"
            ],
            "text/plain": [
              "       state  capital\n",
              "0       Abia  Umuahia\n",
              "1    Adamawa     Yola\n",
              "2  Akwa Ibom      Uyo\n",
              "3    Anambra     Awka\n",
              "4     Bauchi   Bauchi"
            ]
          },
          "metadata": {
            "tags": []
          },
          "execution_count": 19
        }
      ]
    },
    {
      "cell_type": "markdown",
      "metadata": {
        "id": "tuPJpFE7K40J",
        "colab_type": "text"
      },
      "source": [
        "To export a DataFrame back to csv."
      ]
    },
    {
      "cell_type": "code",
      "metadata": {
        "id": "QiBC_VA1K40K",
        "colab_type": "code",
        "colab": {}
      },
      "source": [
        "# save DataFrame to csv\n",
        "my_DF.to_csv('save_states.csv')"
      ],
      "execution_count": 0,
      "outputs": []
    },
    {
      "cell_type": "markdown",
      "metadata": {
        "id": "b-nYWUfot7D_",
        "colab_type": "text"
      },
      "source": [
        "## Timeseries with Pandas"
      ]
    },
    {
      "cell_type": "markdown",
      "metadata": {
        "id": "MrdHxmSLt_Mo",
        "colab_type": "text"
      },
      "source": [
        "One of the core strength of Pandas is its powerful set of functions for manipulating Timeseries datasets."
      ]
    },
    {
      "cell_type": "markdown",
      "metadata": {
        "id": "p-ro2RtuuCyj",
        "colab_type": "text"
      },
      "source": [
        "### Importing a Dataset with a DateTime column"
      ]
    },
    {
      "cell_type": "code",
      "metadata": {
        "id": "47pkfBE4uCQP",
        "colab_type": "code",
        "colab": {}
      },
      "source": [
        "# load the data\n",
        "data = pd.read_csv('crypto-markets.csv', parse_dates=['date'], index_col='date')"
      ],
      "execution_count": 0,
      "outputs": []
    },
    {
      "cell_type": "code",
      "metadata": {
        "id": "V4m9uARDt9Ix",
        "colab_type": "code",
        "colab": {
          "base_uri": "https://localhost:8080/",
          "height": 340
        },
        "outputId": "aa72cf75-e7d9-496f-c1bb-a5238848abe2"
      },
      "source": [
        "data.head()"
      ],
      "execution_count": 22,
      "outputs": [
        {
          "output_type": "execute_result",
          "data": {
            "text/html": [
              "<div>\n",
              "<style scoped>\n",
              "    .dataframe tbody tr th:only-of-type {\n",
              "        vertical-align: middle;\n",
              "    }\n",
              "\n",
              "    .dataframe tbody tr th {\n",
              "        vertical-align: top;\n",
              "    }\n",
              "\n",
              "    .dataframe thead th {\n",
              "        text-align: right;\n",
              "    }\n",
              "</style>\n",
              "<table border=\"1\" class=\"dataframe\">\n",
              "  <thead>\n",
              "    <tr style=\"text-align: right;\">\n",
              "      <th></th>\n",
              "      <th>slug</th>\n",
              "      <th>symbol</th>\n",
              "      <th>name</th>\n",
              "      <th>ranknow</th>\n",
              "      <th>open</th>\n",
              "      <th>high</th>\n",
              "      <th>low</th>\n",
              "      <th>close</th>\n",
              "      <th>volume</th>\n",
              "      <th>market</th>\n",
              "      <th>close_ratio</th>\n",
              "      <th>spread</th>\n",
              "    </tr>\n",
              "    <tr>\n",
              "      <th>date</th>\n",
              "      <th></th>\n",
              "      <th></th>\n",
              "      <th></th>\n",
              "      <th></th>\n",
              "      <th></th>\n",
              "      <th></th>\n",
              "      <th></th>\n",
              "      <th></th>\n",
              "      <th></th>\n",
              "      <th></th>\n",
              "      <th></th>\n",
              "      <th></th>\n",
              "    </tr>\n",
              "  </thead>\n",
              "  <tbody>\n",
              "    <tr>\n",
              "      <th>2013-04-28</th>\n",
              "      <td>bitcoin</td>\n",
              "      <td>BTC</td>\n",
              "      <td>Bitcoin</td>\n",
              "      <td>1</td>\n",
              "      <td>135.30</td>\n",
              "      <td>135.98</td>\n",
              "      <td>132.10</td>\n",
              "      <td>134.21</td>\n",
              "      <td>0</td>\n",
              "      <td>1500520000</td>\n",
              "      <td>0.5438</td>\n",
              "      <td>3.88</td>\n",
              "    </tr>\n",
              "    <tr>\n",
              "      <th>2013-04-29</th>\n",
              "      <td>bitcoin</td>\n",
              "      <td>BTC</td>\n",
              "      <td>Bitcoin</td>\n",
              "      <td>1</td>\n",
              "      <td>134.44</td>\n",
              "      <td>147.49</td>\n",
              "      <td>134.00</td>\n",
              "      <td>144.54</td>\n",
              "      <td>0</td>\n",
              "      <td>1491160000</td>\n",
              "      <td>0.7813</td>\n",
              "      <td>13.49</td>\n",
              "    </tr>\n",
              "    <tr>\n",
              "      <th>2013-04-30</th>\n",
              "      <td>bitcoin</td>\n",
              "      <td>BTC</td>\n",
              "      <td>Bitcoin</td>\n",
              "      <td>1</td>\n",
              "      <td>144.00</td>\n",
              "      <td>146.93</td>\n",
              "      <td>134.05</td>\n",
              "      <td>139.00</td>\n",
              "      <td>0</td>\n",
              "      <td>1597780000</td>\n",
              "      <td>0.3843</td>\n",
              "      <td>12.88</td>\n",
              "    </tr>\n",
              "    <tr>\n",
              "      <th>2013-05-01</th>\n",
              "      <td>bitcoin</td>\n",
              "      <td>BTC</td>\n",
              "      <td>Bitcoin</td>\n",
              "      <td>1</td>\n",
              "      <td>139.00</td>\n",
              "      <td>139.89</td>\n",
              "      <td>107.72</td>\n",
              "      <td>116.99</td>\n",
              "      <td>0</td>\n",
              "      <td>1542820000</td>\n",
              "      <td>0.2882</td>\n",
              "      <td>32.17</td>\n",
              "    </tr>\n",
              "    <tr>\n",
              "      <th>2013-05-02</th>\n",
              "      <td>bitcoin</td>\n",
              "      <td>BTC</td>\n",
              "      <td>Bitcoin</td>\n",
              "      <td>1</td>\n",
              "      <td>116.38</td>\n",
              "      <td>125.60</td>\n",
              "      <td>92.28</td>\n",
              "      <td>105.21</td>\n",
              "      <td>0</td>\n",
              "      <td>1292190000</td>\n",
              "      <td>0.3881</td>\n",
              "      <td>33.32</td>\n",
              "    </tr>\n",
              "  </tbody>\n",
              "</table>\n",
              "</div>"
            ],
            "text/plain": [
              "               slug symbol     name  ...      market  close_ratio  spread\n",
              "date                                 ...                                 \n",
              "2013-04-28  bitcoin    BTC  Bitcoin  ...  1500520000       0.5438    3.88\n",
              "2013-04-29  bitcoin    BTC  Bitcoin  ...  1491160000       0.7813   13.49\n",
              "2013-04-30  bitcoin    BTC  Bitcoin  ...  1597780000       0.3843   12.88\n",
              "2013-05-01  bitcoin    BTC  Bitcoin  ...  1542820000       0.2882   32.17\n",
              "2013-05-02  bitcoin    BTC  Bitcoin  ...  1292190000       0.3881   33.32\n",
              "\n",
              "[5 rows x 12 columns]"
            ]
          },
          "metadata": {
            "tags": []
          },
          "execution_count": 22
        }
      ]
    },
    {
      "cell_type": "markdown",
      "metadata": {
        "id": "2HFHcE6TxFQ5",
        "colab_type": "text"
      },
      "source": [
        "Let’s examine the index of the imported data. Notice that they are the datetime entries."
      ]
    },
    {
      "cell_type": "code",
      "metadata": {
        "id": "OAJ0lw4nw8cT",
        "colab_type": "code",
        "colab": {
          "base_uri": "https://localhost:8080/",
          "height": 173
        },
        "outputId": "c893edee-1a0b-4c12-83e1-230e9e13d1ab"
      },
      "source": [
        "# get the row indices\n",
        "data.index"
      ],
      "execution_count": 23,
      "outputs": [
        {
          "output_type": "execute_result",
          "data": {
            "text/plain": [
              "DatetimeIndex(['2013-04-28', '2013-04-29', '2013-04-30', '2013-05-01',\n",
              "               '2013-05-02', '2013-05-03', '2013-05-04', '2013-05-05',\n",
              "               '2013-05-06', '2013-05-07',\n",
              "               ...\n",
              "               '2018-01-02', '2018-01-03', '2018-01-04', '2018-01-05',\n",
              "               '2018-01-06', '2018-01-07', '2018-01-08', '2018-01-09',\n",
              "               '2018-01-10', '2014-10-01'],\n",
              "              dtype='datetime64[ns]', name='date', length=498380, freq=None)"
            ]
          },
          "metadata": {
            "tags": []
          },
          "execution_count": 23
        }
      ]
    },
    {
      "cell_type": "markdown",
      "metadata": {
        "id": "jUB0rvVJxjnO",
        "colab_type": "text"
      },
      "source": [
        "### Selection Using DatetimeIndex"
      ]
    },
    {
      "cell_type": "markdown",
      "metadata": {
        "id": "UzdUcpRJxoob",
        "colab_type": "text"
      },
      "source": [
        "The DatetimeIndex can be used to select the observations of the dataset in various interesting ways."
      ]
    },
    {
      "cell_type": "markdown",
      "metadata": {
        "id": "v8Uy-HP_x_V8",
        "colab_type": "text"
      },
      "source": [
        "#### Select a particular date"
      ]
    },
    {
      "cell_type": "code",
      "metadata": {
        "id": "rcY2uVSnxd_V",
        "colab_type": "code",
        "colab": {
          "base_uri": "https://localhost:8080/",
          "height": 340
        },
        "outputId": "bc93a059-50cc-44b6-fdf6-a5b69ee06d1c"
      },
      "source": [
        "# select a particular date\n",
        "data['2018-01-05'].head()"
      ],
      "execution_count": 24,
      "outputs": [
        {
          "output_type": "execute_result",
          "data": {
            "text/html": [
              "<div>\n",
              "<style scoped>\n",
              "    .dataframe tbody tr th:only-of-type {\n",
              "        vertical-align: middle;\n",
              "    }\n",
              "\n",
              "    .dataframe tbody tr th {\n",
              "        vertical-align: top;\n",
              "    }\n",
              "\n",
              "    .dataframe thead th {\n",
              "        text-align: right;\n",
              "    }\n",
              "</style>\n",
              "<table border=\"1\" class=\"dataframe\">\n",
              "  <thead>\n",
              "    <tr style=\"text-align: right;\">\n",
              "      <th></th>\n",
              "      <th>slug</th>\n",
              "      <th>symbol</th>\n",
              "      <th>name</th>\n",
              "      <th>ranknow</th>\n",
              "      <th>open</th>\n",
              "      <th>high</th>\n",
              "      <th>low</th>\n",
              "      <th>close</th>\n",
              "      <th>volume</th>\n",
              "      <th>market</th>\n",
              "      <th>close_ratio</th>\n",
              "      <th>spread</th>\n",
              "    </tr>\n",
              "    <tr>\n",
              "      <th>date</th>\n",
              "      <th></th>\n",
              "      <th></th>\n",
              "      <th></th>\n",
              "      <th></th>\n",
              "      <th></th>\n",
              "      <th></th>\n",
              "      <th></th>\n",
              "      <th></th>\n",
              "      <th></th>\n",
              "      <th></th>\n",
              "      <th></th>\n",
              "      <th></th>\n",
              "    </tr>\n",
              "  </thead>\n",
              "  <tbody>\n",
              "    <tr>\n",
              "      <th>2018-01-05</th>\n",
              "      <td>bitcoin</td>\n",
              "      <td>BTC</td>\n",
              "      <td>Bitcoin</td>\n",
              "      <td>1</td>\n",
              "      <td>15477.20</td>\n",
              "      <td>17705.20</td>\n",
              "      <td>15202.800000</td>\n",
              "      <td>17429.500000</td>\n",
              "      <td>23840900000</td>\n",
              "      <td>259748000000</td>\n",
              "      <td>0.8898</td>\n",
              "      <td>2502.40</td>\n",
              "    </tr>\n",
              "    <tr>\n",
              "      <th>2018-01-05</th>\n",
              "      <td>ethereum</td>\n",
              "      <td>ETH</td>\n",
              "      <td>Ethereum</td>\n",
              "      <td>2</td>\n",
              "      <td>975.75</td>\n",
              "      <td>1075.39</td>\n",
              "      <td>956.330000</td>\n",
              "      <td>997.720000</td>\n",
              "      <td>6683150000</td>\n",
              "      <td>94423900000</td>\n",
              "      <td>0.3476</td>\n",
              "      <td>119.06</td>\n",
              "    </tr>\n",
              "    <tr>\n",
              "      <th>2018-01-05</th>\n",
              "      <td>ripple</td>\n",
              "      <td>XRP</td>\n",
              "      <td>Ripple</td>\n",
              "      <td>3</td>\n",
              "      <td>3.30</td>\n",
              "      <td>3.56</td>\n",
              "      <td>2.830000</td>\n",
              "      <td>3.050000</td>\n",
              "      <td>6288500000</td>\n",
              "      <td>127870000000</td>\n",
              "      <td>0.3014</td>\n",
              "      <td>0.73</td>\n",
              "    </tr>\n",
              "    <tr>\n",
              "      <th>2018-01-05</th>\n",
              "      <td>bitcoin-cash</td>\n",
              "      <td>BCH</td>\n",
              "      <td>Bitcoin Cash</td>\n",
              "      <td>4</td>\n",
              "      <td>2400.74</td>\n",
              "      <td>2648.32</td>\n",
              "      <td>2370.590000</td>\n",
              "      <td>2584.480000</td>\n",
              "      <td>2115710000</td>\n",
              "      <td>40557600000</td>\n",
              "      <td>0.7701</td>\n",
              "      <td>277.73</td>\n",
              "    </tr>\n",
              "    <tr>\n",
              "      <th>2018-01-05</th>\n",
              "      <td>cardano</td>\n",
              "      <td>ADA</td>\n",
              "      <td>Cardano</td>\n",
              "      <td>5</td>\n",
              "      <td>1.17</td>\n",
              "      <td>1.25</td>\n",
              "      <td>0.903503</td>\n",
              "      <td>0.999559</td>\n",
              "      <td>508100000</td>\n",
              "      <td>30364400000</td>\n",
              "      <td>0.2772</td>\n",
              "      <td>0.35</td>\n",
              "    </tr>\n",
              "  </tbody>\n",
              "</table>\n",
              "</div>"
            ],
            "text/plain": [
              "                    slug symbol  ... close_ratio   spread\n",
              "date                             ...                     \n",
              "2018-01-05       bitcoin    BTC  ...      0.8898  2502.40\n",
              "2018-01-05      ethereum    ETH  ...      0.3476   119.06\n",
              "2018-01-05        ripple    XRP  ...      0.3014     0.73\n",
              "2018-01-05  bitcoin-cash    BCH  ...      0.7701   277.73\n",
              "2018-01-05       cardano    ADA  ...      0.2772     0.35\n",
              "\n",
              "[5 rows x 12 columns]"
            ]
          },
          "metadata": {
            "tags": []
          },
          "execution_count": 24
        }
      ]
    },
    {
      "cell_type": "code",
      "metadata": {
        "id": "QMZb8oN8xqrk",
        "colab_type": "code",
        "colab": {
          "base_uri": "https://localhost:8080/",
          "height": 340
        },
        "outputId": "62b3567f-8d9f-4304-eeed-3fa962040f07"
      },
      "source": [
        "# select a range of dates\n",
        "data['2018-01-05':'2018-01-06'].head()"
      ],
      "execution_count": 25,
      "outputs": [
        {
          "output_type": "execute_result",
          "data": {
            "text/html": [
              "<div>\n",
              "<style scoped>\n",
              "    .dataframe tbody tr th:only-of-type {\n",
              "        vertical-align: middle;\n",
              "    }\n",
              "\n",
              "    .dataframe tbody tr th {\n",
              "        vertical-align: top;\n",
              "    }\n",
              "\n",
              "    .dataframe thead th {\n",
              "        text-align: right;\n",
              "    }\n",
              "</style>\n",
              "<table border=\"1\" class=\"dataframe\">\n",
              "  <thead>\n",
              "    <tr style=\"text-align: right;\">\n",
              "      <th></th>\n",
              "      <th>slug</th>\n",
              "      <th>symbol</th>\n",
              "      <th>name</th>\n",
              "      <th>ranknow</th>\n",
              "      <th>open</th>\n",
              "      <th>high</th>\n",
              "      <th>low</th>\n",
              "      <th>close</th>\n",
              "      <th>volume</th>\n",
              "      <th>market</th>\n",
              "      <th>close_ratio</th>\n",
              "      <th>spread</th>\n",
              "    </tr>\n",
              "    <tr>\n",
              "      <th>date</th>\n",
              "      <th></th>\n",
              "      <th></th>\n",
              "      <th></th>\n",
              "      <th></th>\n",
              "      <th></th>\n",
              "      <th></th>\n",
              "      <th></th>\n",
              "      <th></th>\n",
              "      <th></th>\n",
              "      <th></th>\n",
              "      <th></th>\n",
              "      <th></th>\n",
              "    </tr>\n",
              "  </thead>\n",
              "  <tbody>\n",
              "    <tr>\n",
              "      <th>2018-01-05</th>\n",
              "      <td>bitcoin</td>\n",
              "      <td>BTC</td>\n",
              "      <td>Bitcoin</td>\n",
              "      <td>1</td>\n",
              "      <td>15477.20</td>\n",
              "      <td>17705.20</td>\n",
              "      <td>15202.80</td>\n",
              "      <td>17429.50</td>\n",
              "      <td>23840900000</td>\n",
              "      <td>259748000000</td>\n",
              "      <td>0.8898</td>\n",
              "      <td>2502.40</td>\n",
              "    </tr>\n",
              "    <tr>\n",
              "      <th>2018-01-06</th>\n",
              "      <td>bitcoin</td>\n",
              "      <td>BTC</td>\n",
              "      <td>Bitcoin</td>\n",
              "      <td>1</td>\n",
              "      <td>17462.10</td>\n",
              "      <td>17712.40</td>\n",
              "      <td>16764.60</td>\n",
              "      <td>17527.00</td>\n",
              "      <td>18314600000</td>\n",
              "      <td>293091000000</td>\n",
              "      <td>0.8044</td>\n",
              "      <td>947.80</td>\n",
              "    </tr>\n",
              "    <tr>\n",
              "      <th>2018-01-05</th>\n",
              "      <td>ethereum</td>\n",
              "      <td>ETH</td>\n",
              "      <td>Ethereum</td>\n",
              "      <td>2</td>\n",
              "      <td>975.75</td>\n",
              "      <td>1075.39</td>\n",
              "      <td>956.33</td>\n",
              "      <td>997.72</td>\n",
              "      <td>6683150000</td>\n",
              "      <td>94423900000</td>\n",
              "      <td>0.3476</td>\n",
              "      <td>119.06</td>\n",
              "    </tr>\n",
              "    <tr>\n",
              "      <th>2018-01-06</th>\n",
              "      <td>ethereum</td>\n",
              "      <td>ETH</td>\n",
              "      <td>Ethereum</td>\n",
              "      <td>2</td>\n",
              "      <td>995.15</td>\n",
              "      <td>1060.71</td>\n",
              "      <td>994.62</td>\n",
              "      <td>1041.68</td>\n",
              "      <td>4662220000</td>\n",
              "      <td>96326500000</td>\n",
              "      <td>0.7121</td>\n",
              "      <td>66.09</td>\n",
              "    </tr>\n",
              "    <tr>\n",
              "      <th>2018-01-05</th>\n",
              "      <td>ripple</td>\n",
              "      <td>XRP</td>\n",
              "      <td>Ripple</td>\n",
              "      <td>3</td>\n",
              "      <td>3.30</td>\n",
              "      <td>3.56</td>\n",
              "      <td>2.83</td>\n",
              "      <td>3.05</td>\n",
              "      <td>6288500000</td>\n",
              "      <td>127870000000</td>\n",
              "      <td>0.3014</td>\n",
              "      <td>0.73</td>\n",
              "    </tr>\n",
              "  </tbody>\n",
              "</table>\n",
              "</div>"
            ],
            "text/plain": [
              "                slug symbol      name  ...        market  close_ratio   spread\n",
              "date                                   ...                                    \n",
              "2018-01-05   bitcoin    BTC   Bitcoin  ...  259748000000       0.8898  2502.40\n",
              "2018-01-06   bitcoin    BTC   Bitcoin  ...  293091000000       0.8044   947.80\n",
              "2018-01-05  ethereum    ETH  Ethereum  ...   94423900000       0.3476   119.06\n",
              "2018-01-06  ethereum    ETH  Ethereum  ...   96326500000       0.7121    66.09\n",
              "2018-01-05    ripple    XRP    Ripple  ...  127870000000       0.3014     0.73\n",
              "\n",
              "[5 rows x 12 columns]"
            ]
          },
          "metadata": {
            "tags": []
          },
          "execution_count": 25
        }
      ]
    },
    {
      "cell_type": "markdown",
      "metadata": {
        "id": "x-1_Bfi3yY3K",
        "colab_type": "text"
      },
      "source": [
        "#### Select a month"
      ]
    },
    {
      "cell_type": "code",
      "metadata": {
        "id": "HAybLeWEyRW6",
        "colab_type": "code",
        "colab": {
          "base_uri": "https://localhost:8080/",
          "height": 340
        },
        "outputId": "ad384e1e-c3e8-445b-e3e8-9ad196105c8f"
      },
      "source": [
        "# select a particular month\n",
        "data['2018-01'].head()"
      ],
      "execution_count": 26,
      "outputs": [
        {
          "output_type": "execute_result",
          "data": {
            "text/html": [
              "<div>\n",
              "<style scoped>\n",
              "    .dataframe tbody tr th:only-of-type {\n",
              "        vertical-align: middle;\n",
              "    }\n",
              "\n",
              "    .dataframe tbody tr th {\n",
              "        vertical-align: top;\n",
              "    }\n",
              "\n",
              "    .dataframe thead th {\n",
              "        text-align: right;\n",
              "    }\n",
              "</style>\n",
              "<table border=\"1\" class=\"dataframe\">\n",
              "  <thead>\n",
              "    <tr style=\"text-align: right;\">\n",
              "      <th></th>\n",
              "      <th>slug</th>\n",
              "      <th>symbol</th>\n",
              "      <th>name</th>\n",
              "      <th>ranknow</th>\n",
              "      <th>open</th>\n",
              "      <th>high</th>\n",
              "      <th>low</th>\n",
              "      <th>close</th>\n",
              "      <th>volume</th>\n",
              "      <th>market</th>\n",
              "      <th>close_ratio</th>\n",
              "      <th>spread</th>\n",
              "    </tr>\n",
              "    <tr>\n",
              "      <th>date</th>\n",
              "      <th></th>\n",
              "      <th></th>\n",
              "      <th></th>\n",
              "      <th></th>\n",
              "      <th></th>\n",
              "      <th></th>\n",
              "      <th></th>\n",
              "      <th></th>\n",
              "      <th></th>\n",
              "      <th></th>\n",
              "      <th></th>\n",
              "      <th></th>\n",
              "    </tr>\n",
              "  </thead>\n",
              "  <tbody>\n",
              "    <tr>\n",
              "      <th>2018-01-01</th>\n",
              "      <td>bitcoin</td>\n",
              "      <td>BTC</td>\n",
              "      <td>Bitcoin</td>\n",
              "      <td>1</td>\n",
              "      <td>14112.2</td>\n",
              "      <td>14112.2</td>\n",
              "      <td>13154.7</td>\n",
              "      <td>13657.2</td>\n",
              "      <td>10291200000</td>\n",
              "      <td>236725000000</td>\n",
              "      <td>0.5248</td>\n",
              "      <td>957.5</td>\n",
              "    </tr>\n",
              "    <tr>\n",
              "      <th>2018-01-02</th>\n",
              "      <td>bitcoin</td>\n",
              "      <td>BTC</td>\n",
              "      <td>Bitcoin</td>\n",
              "      <td>1</td>\n",
              "      <td>13625.0</td>\n",
              "      <td>15444.6</td>\n",
              "      <td>13163.6</td>\n",
              "      <td>14982.1</td>\n",
              "      <td>16846600000</td>\n",
              "      <td>228579000000</td>\n",
              "      <td>0.7972</td>\n",
              "      <td>2281.0</td>\n",
              "    </tr>\n",
              "    <tr>\n",
              "      <th>2018-01-03</th>\n",
              "      <td>bitcoin</td>\n",
              "      <td>BTC</td>\n",
              "      <td>Bitcoin</td>\n",
              "      <td>1</td>\n",
              "      <td>14978.2</td>\n",
              "      <td>15572.8</td>\n",
              "      <td>14844.5</td>\n",
              "      <td>15201.0</td>\n",
              "      <td>16871900000</td>\n",
              "      <td>251312000000</td>\n",
              "      <td>0.4895</td>\n",
              "      <td>728.3</td>\n",
              "    </tr>\n",
              "    <tr>\n",
              "      <th>2018-01-04</th>\n",
              "      <td>bitcoin</td>\n",
              "      <td>BTC</td>\n",
              "      <td>Bitcoin</td>\n",
              "      <td>1</td>\n",
              "      <td>15270.7</td>\n",
              "      <td>15739.7</td>\n",
              "      <td>14522.2</td>\n",
              "      <td>15599.2</td>\n",
              "      <td>21783200000</td>\n",
              "      <td>256250000000</td>\n",
              "      <td>0.8846</td>\n",
              "      <td>1217.5</td>\n",
              "    </tr>\n",
              "    <tr>\n",
              "      <th>2018-01-05</th>\n",
              "      <td>bitcoin</td>\n",
              "      <td>BTC</td>\n",
              "      <td>Bitcoin</td>\n",
              "      <td>1</td>\n",
              "      <td>15477.2</td>\n",
              "      <td>17705.2</td>\n",
              "      <td>15202.8</td>\n",
              "      <td>17429.5</td>\n",
              "      <td>23840900000</td>\n",
              "      <td>259748000000</td>\n",
              "      <td>0.8898</td>\n",
              "      <td>2502.4</td>\n",
              "    </tr>\n",
              "  </tbody>\n",
              "</table>\n",
              "</div>"
            ],
            "text/plain": [
              "               slug symbol     name  ...        market  close_ratio  spread\n",
              "date                                 ...                                   \n",
              "2018-01-01  bitcoin    BTC  Bitcoin  ...  236725000000       0.5248   957.5\n",
              "2018-01-02  bitcoin    BTC  Bitcoin  ...  228579000000       0.7972  2281.0\n",
              "2018-01-03  bitcoin    BTC  Bitcoin  ...  251312000000       0.4895   728.3\n",
              "2018-01-04  bitcoin    BTC  Bitcoin  ...  256250000000       0.8846  1217.5\n",
              "2018-01-05  bitcoin    BTC  Bitcoin  ...  259748000000       0.8898  2502.4\n",
              "\n",
              "[5 rows x 12 columns]"
            ]
          },
          "metadata": {
            "tags": []
          },
          "execution_count": 26
        }
      ]
    },
    {
      "cell_type": "code",
      "metadata": {
        "id": "mfvujmp3yekx",
        "colab_type": "code",
        "colab": {
          "base_uri": "https://localhost:8080/",
          "height": 340
        },
        "outputId": "51e6211b-1f65-4a05-bab0-6bfb0eb8ac11"
      },
      "source": [
        "# select a particular year\n",
        "data['2018'].head()"
      ],
      "execution_count": 27,
      "outputs": [
        {
          "output_type": "execute_result",
          "data": {
            "text/html": [
              "<div>\n",
              "<style scoped>\n",
              "    .dataframe tbody tr th:only-of-type {\n",
              "        vertical-align: middle;\n",
              "    }\n",
              "\n",
              "    .dataframe tbody tr th {\n",
              "        vertical-align: top;\n",
              "    }\n",
              "\n",
              "    .dataframe thead th {\n",
              "        text-align: right;\n",
              "    }\n",
              "</style>\n",
              "<table border=\"1\" class=\"dataframe\">\n",
              "  <thead>\n",
              "    <tr style=\"text-align: right;\">\n",
              "      <th></th>\n",
              "      <th>slug</th>\n",
              "      <th>symbol</th>\n",
              "      <th>name</th>\n",
              "      <th>ranknow</th>\n",
              "      <th>open</th>\n",
              "      <th>high</th>\n",
              "      <th>low</th>\n",
              "      <th>close</th>\n",
              "      <th>volume</th>\n",
              "      <th>market</th>\n",
              "      <th>close_ratio</th>\n",
              "      <th>spread</th>\n",
              "    </tr>\n",
              "    <tr>\n",
              "      <th>date</th>\n",
              "      <th></th>\n",
              "      <th></th>\n",
              "      <th></th>\n",
              "      <th></th>\n",
              "      <th></th>\n",
              "      <th></th>\n",
              "      <th></th>\n",
              "      <th></th>\n",
              "      <th></th>\n",
              "      <th></th>\n",
              "      <th></th>\n",
              "      <th></th>\n",
              "    </tr>\n",
              "  </thead>\n",
              "  <tbody>\n",
              "    <tr>\n",
              "      <th>2018-01-01</th>\n",
              "      <td>bitcoin</td>\n",
              "      <td>BTC</td>\n",
              "      <td>Bitcoin</td>\n",
              "      <td>1</td>\n",
              "      <td>14112.2</td>\n",
              "      <td>14112.2</td>\n",
              "      <td>13154.7</td>\n",
              "      <td>13657.2</td>\n",
              "      <td>10291200000</td>\n",
              "      <td>236725000000</td>\n",
              "      <td>0.5248</td>\n",
              "      <td>957.5</td>\n",
              "    </tr>\n",
              "    <tr>\n",
              "      <th>2018-01-02</th>\n",
              "      <td>bitcoin</td>\n",
              "      <td>BTC</td>\n",
              "      <td>Bitcoin</td>\n",
              "      <td>1</td>\n",
              "      <td>13625.0</td>\n",
              "      <td>15444.6</td>\n",
              "      <td>13163.6</td>\n",
              "      <td>14982.1</td>\n",
              "      <td>16846600000</td>\n",
              "      <td>228579000000</td>\n",
              "      <td>0.7972</td>\n",
              "      <td>2281.0</td>\n",
              "    </tr>\n",
              "    <tr>\n",
              "      <th>2018-01-03</th>\n",
              "      <td>bitcoin</td>\n",
              "      <td>BTC</td>\n",
              "      <td>Bitcoin</td>\n",
              "      <td>1</td>\n",
              "      <td>14978.2</td>\n",
              "      <td>15572.8</td>\n",
              "      <td>14844.5</td>\n",
              "      <td>15201.0</td>\n",
              "      <td>16871900000</td>\n",
              "      <td>251312000000</td>\n",
              "      <td>0.4895</td>\n",
              "      <td>728.3</td>\n",
              "    </tr>\n",
              "    <tr>\n",
              "      <th>2018-01-04</th>\n",
              "      <td>bitcoin</td>\n",
              "      <td>BTC</td>\n",
              "      <td>Bitcoin</td>\n",
              "      <td>1</td>\n",
              "      <td>15270.7</td>\n",
              "      <td>15739.7</td>\n",
              "      <td>14522.2</td>\n",
              "      <td>15599.2</td>\n",
              "      <td>21783200000</td>\n",
              "      <td>256250000000</td>\n",
              "      <td>0.8846</td>\n",
              "      <td>1217.5</td>\n",
              "    </tr>\n",
              "    <tr>\n",
              "      <th>2018-01-05</th>\n",
              "      <td>bitcoin</td>\n",
              "      <td>BTC</td>\n",
              "      <td>Bitcoin</td>\n",
              "      <td>1</td>\n",
              "      <td>15477.2</td>\n",
              "      <td>17705.2</td>\n",
              "      <td>15202.8</td>\n",
              "      <td>17429.5</td>\n",
              "      <td>23840900000</td>\n",
              "      <td>259748000000</td>\n",
              "      <td>0.8898</td>\n",
              "      <td>2502.4</td>\n",
              "    </tr>\n",
              "  </tbody>\n",
              "</table>\n",
              "</div>"
            ],
            "text/plain": [
              "               slug symbol     name  ...        market  close_ratio  spread\n",
              "date                                 ...                                   \n",
              "2018-01-01  bitcoin    BTC  Bitcoin  ...  236725000000       0.5248   957.5\n",
              "2018-01-02  bitcoin    BTC  Bitcoin  ...  228579000000       0.7972  2281.0\n",
              "2018-01-03  bitcoin    BTC  Bitcoin  ...  251312000000       0.4895   728.3\n",
              "2018-01-04  bitcoin    BTC  Bitcoin  ...  256250000000       0.8846  1217.5\n",
              "2018-01-05  bitcoin    BTC  Bitcoin  ...  259748000000       0.8898  2502.4\n",
              "\n",
              "[5 rows x 12 columns]"
            ]
          },
          "metadata": {
            "tags": []
          },
          "execution_count": 27
        }
      ]
    },
    {
      "cell_type": "markdown",
      "metadata": {
        "id": "iGsMWn8TytE1",
        "colab_type": "text"
      },
      "source": [
        "### Subset Data Columns and Find Summaries"
      ]
    },
    {
      "cell_type": "code",
      "metadata": {
        "id": "m753Of7syini",
        "colab_type": "code",
        "colab": {
          "base_uri": "https://localhost:8080/",
          "height": 221
        },
        "outputId": "c15384f4-db15-4689-ce8a-fc50c71234ee"
      },
      "source": [
        "# Get the closing prices of Bitcoin stocks for the Month of January.\n",
        "data.loc[data.slug == 'bitcoin', 'close']['2018-01']"
      ],
      "execution_count": 28,
      "outputs": [
        {
          "output_type": "execute_result",
          "data": {
            "text/plain": [
              "date\n",
              "2018-01-01    13657.2\n",
              "2018-01-02    14982.1\n",
              "2018-01-03    15201.0\n",
              "2018-01-04    15599.2\n",
              "2018-01-05    17429.5\n",
              "2018-01-06    17527.0\n",
              "2018-01-07    16477.6\n",
              "2018-01-08    15170.1\n",
              "2018-01-09    14595.4\n",
              "2018-01-10    14973.3\n",
              "Name: close, dtype: float64"
            ]
          },
          "metadata": {
            "tags": []
          },
          "execution_count": 28
        }
      ]
    },
    {
      "cell_type": "code",
      "metadata": {
        "id": "1R-jSu3dy6pB",
        "colab_type": "code",
        "colab": {
          "base_uri": "https://localhost:8080/",
          "height": 34
        },
        "outputId": "b9ac6eb0-38a9-41ff-a8e3-26aecdc35de1"
      },
      "source": [
        "# Find the mean market value of Ethereum for the Month of January.\n",
        "data.loc[data.slug == 'ethereum', 'market']['2018-01'].mean()"
      ],
      "execution_count": 29,
      "outputs": [
        {
          "output_type": "execute_result",
          "data": {
            "text/plain": [
              "96739480000.0"
            ]
          },
          "metadata": {
            "tags": []
          },
          "execution_count": 29
        }
      ]
    },
    {
      "cell_type": "markdown",
      "metadata": {
        "id": "j65dzlh2y-tT",
        "colab_type": "text"
      },
      "source": [
        "### Resampling datetime objects"
      ]
    },
    {
      "cell_type": "markdown",
      "metadata": {
        "id": "syUOwCGozBeA",
        "colab_type": "text"
      },
      "source": [
        "A Pandas DataFrame with an index of DatetimeIndex, PeriodIndex, or TimedeltaIndex can be resampled to any of the date time frequencies from seconds, to minutes, to months."
      ]
    },
    {
      "cell_type": "code",
      "metadata": {
        "id": "va2SXeo0y9Qq",
        "colab_type": "code",
        "colab": {
          "base_uri": "https://localhost:8080/",
          "height": 136
        },
        "outputId": "792aba7a-017f-4a21-a093-6a727f172e6c"
      },
      "source": [
        "# get the average monthly closing values for Litecoin.\n",
        "data.loc[data.slug == 'bitcoin', 'close'].resample('M').mean().head()"
      ],
      "execution_count": 30,
      "outputs": [
        {
          "output_type": "execute_result",
          "data": {
            "text/plain": [
              "date\n",
              "2013-04-30    139.250000\n",
              "2013-05-31    119.993226\n",
              "2013-06-30    107.761333\n",
              "2013-07-31     90.512258\n",
              "2013-08-31    113.905161\n",
              "Freq: M, Name: close, dtype: float64"
            ]
          },
          "metadata": {
            "tags": []
          },
          "execution_count": 30
        }
      ]
    },
    {
      "cell_type": "code",
      "metadata": {
        "id": "yIXObKZvzGfr",
        "colab_type": "code",
        "colab": {
          "base_uri": "https://localhost:8080/",
          "height": 136
        },
        "outputId": "5aed4f1f-ed75-41db-f381-6d6dd88cd0f2"
      },
      "source": [
        "# get the average weekly market value of Bitcoin Cash.\n",
        "data.loc[data.symbol == 'BCH', 'market'].resample('W').mean().head()"
      ],
      "execution_count": 31,
      "outputs": [
        {
          "output_type": "execute_result",
          "data": {
            "text/plain": [
              "date\n",
              "2017-07-23    0.000000e+00\n",
              "2017-07-30    0.000000e+00\n",
              "2017-08-06    3.852961e+09\n",
              "2017-08-13    4.982661e+09\n",
              "2017-08-20    7.355117e+09\n",
              "Freq: W-SUN, Name: market, dtype: float64"
            ]
          },
          "metadata": {
            "tags": []
          },
          "execution_count": 31
        }
      ]
    },
    {
      "cell_type": "markdown",
      "metadata": {
        "id": "QiId0W32zNTO",
        "colab_type": "text"
      },
      "source": [
        "### Convert to datetime datatype using ‘to_datetime"
      ]
    },
    {
      "cell_type": "code",
      "metadata": {
        "id": "CldlcpBjzJok",
        "colab_type": "code",
        "colab": {
          "base_uri": "https://localhost:8080/",
          "height": 88
        },
        "outputId": "c5d3565d-4f5a-491d-a056-da12f33c5ac1"
      },
      "source": [
        "# create list of dates\n",
        "my_dates = ['Friday, May 11, 2018', '11/5/2018', '11-5-2018', '5/11/2018', '2018.5.11']\n",
        "pd.to_datetime(my_dates)"
      ],
      "execution_count": 32,
      "outputs": [
        {
          "output_type": "execute_result",
          "data": {
            "text/plain": [
              "DatetimeIndex(['2018-05-11', '2018-11-05', '2018-11-05', '2018-05-11',\n",
              "               '2018-05-11'],\n",
              "              dtype='datetime64[ns]', freq=None)"
            ]
          },
          "metadata": {
            "tags": []
          },
          "execution_count": 32
        }
      ]
    },
    {
      "cell_type": "code",
      "metadata": {
        "id": "ntrdV5fjzfB6",
        "colab_type": "code",
        "colab": {
          "base_uri": "https://localhost:8080/",
          "height": 34
        },
        "outputId": "ee26c6e7-a908-47c8-dfa8-a9275bd39b1c"
      },
      "source": [
        "# set dayfirst to True\n",
        "pd.to_datetime('5-11-2018', dayfirst = True)"
      ],
      "execution_count": 33,
      "outputs": [
        {
          "output_type": "execute_result",
          "data": {
            "text/plain": [
              "Timestamp('2018-11-05 00:00:00')"
            ]
          },
          "metadata": {
            "tags": []
          },
          "execution_count": 33
        }
      ]
    },
    {
      "cell_type": "markdown",
      "metadata": {
        "id": "p5BTQhfPzk_B",
        "colab_type": "text"
      },
      "source": [
        "### The shift() method"
      ]
    },
    {
      "cell_type": "code",
      "metadata": {
        "id": "qrCrFe2iziSU",
        "colab_type": "code",
        "colab": {
          "base_uri": "https://localhost:8080/",
          "height": 235
        },
        "outputId": "274805c5-d1b8-4313-d67e-1d80f3d8d7dc"
      },
      "source": [
        "# subset a few columns\n",
        "data_subset_BCH = data.loc[data.symbol == 'BCH', ['open','high','low','close']]\n",
        "data_subset_BCH.head()"
      ],
      "execution_count": 34,
      "outputs": [
        {
          "output_type": "execute_result",
          "data": {
            "text/html": [
              "<div>\n",
              "<style scoped>\n",
              "    .dataframe tbody tr th:only-of-type {\n",
              "        vertical-align: middle;\n",
              "    }\n",
              "\n",
              "    .dataframe tbody tr th {\n",
              "        vertical-align: top;\n",
              "    }\n",
              "\n",
              "    .dataframe thead th {\n",
              "        text-align: right;\n",
              "    }\n",
              "</style>\n",
              "<table border=\"1\" class=\"dataframe\">\n",
              "  <thead>\n",
              "    <tr style=\"text-align: right;\">\n",
              "      <th></th>\n",
              "      <th>open</th>\n",
              "      <th>high</th>\n",
              "      <th>low</th>\n",
              "      <th>close</th>\n",
              "    </tr>\n",
              "    <tr>\n",
              "      <th>date</th>\n",
              "      <th></th>\n",
              "      <th></th>\n",
              "      <th></th>\n",
              "      <th></th>\n",
              "    </tr>\n",
              "  </thead>\n",
              "  <tbody>\n",
              "    <tr>\n",
              "      <th>2017-07-23</th>\n",
              "      <td>555.89</td>\n",
              "      <td>578.97</td>\n",
              "      <td>411.78</td>\n",
              "      <td>413.06</td>\n",
              "    </tr>\n",
              "    <tr>\n",
              "      <th>2017-07-24</th>\n",
              "      <td>412.58</td>\n",
              "      <td>578.89</td>\n",
              "      <td>409.21</td>\n",
              "      <td>440.70</td>\n",
              "    </tr>\n",
              "    <tr>\n",
              "      <th>2017-07-25</th>\n",
              "      <td>441.35</td>\n",
              "      <td>541.66</td>\n",
              "      <td>338.09</td>\n",
              "      <td>406.90</td>\n",
              "    </tr>\n",
              "    <tr>\n",
              "      <th>2017-07-26</th>\n",
              "      <td>407.08</td>\n",
              "      <td>486.16</td>\n",
              "      <td>321.79</td>\n",
              "      <td>365.82</td>\n",
              "    </tr>\n",
              "    <tr>\n",
              "      <th>2017-07-27</th>\n",
              "      <td>417.10</td>\n",
              "      <td>460.97</td>\n",
              "      <td>367.78</td>\n",
              "      <td>385.48</td>\n",
              "    </tr>\n",
              "  </tbody>\n",
              "</table>\n",
              "</div>"
            ],
            "text/plain": [
              "              open    high     low   close\n",
              "date                                      \n",
              "2017-07-23  555.89  578.97  411.78  413.06\n",
              "2017-07-24  412.58  578.89  409.21  440.70\n",
              "2017-07-25  441.35  541.66  338.09  406.90\n",
              "2017-07-26  407.08  486.16  321.79  365.82\n",
              "2017-07-27  417.10  460.97  367.78  385.48"
            ]
          },
          "metadata": {
            "tags": []
          },
          "execution_count": 34
        }
      ]
    },
    {
      "cell_type": "code",
      "metadata": {
        "id": "DSBX6uVgzwOE",
        "colab_type": "code",
        "colab": {
          "base_uri": "https://localhost:8080/",
          "height": 235
        },
        "outputId": "5fe37688-1ff2-44f9-ec95-9af034ba9cf1"
      },
      "source": [
        "# create a target variable that contains the closing rates 3 days into the future.\n",
        "data_subset_BCH['close_4_ahead'] = data_subset_BCH['close'].shift(-4)\n",
        "data_subset_BCH.head()"
      ],
      "execution_count": 35,
      "outputs": [
        {
          "output_type": "execute_result",
          "data": {
            "text/html": [
              "<div>\n",
              "<style scoped>\n",
              "    .dataframe tbody tr th:only-of-type {\n",
              "        vertical-align: middle;\n",
              "    }\n",
              "\n",
              "    .dataframe tbody tr th {\n",
              "        vertical-align: top;\n",
              "    }\n",
              "\n",
              "    .dataframe thead th {\n",
              "        text-align: right;\n",
              "    }\n",
              "</style>\n",
              "<table border=\"1\" class=\"dataframe\">\n",
              "  <thead>\n",
              "    <tr style=\"text-align: right;\">\n",
              "      <th></th>\n",
              "      <th>open</th>\n",
              "      <th>high</th>\n",
              "      <th>low</th>\n",
              "      <th>close</th>\n",
              "      <th>close_4_ahead</th>\n",
              "    </tr>\n",
              "    <tr>\n",
              "      <th>date</th>\n",
              "      <th></th>\n",
              "      <th></th>\n",
              "      <th></th>\n",
              "      <th></th>\n",
              "      <th></th>\n",
              "    </tr>\n",
              "  </thead>\n",
              "  <tbody>\n",
              "    <tr>\n",
              "      <th>2017-07-23</th>\n",
              "      <td>555.89</td>\n",
              "      <td>578.97</td>\n",
              "      <td>411.78</td>\n",
              "      <td>413.06</td>\n",
              "      <td>385.48</td>\n",
              "    </tr>\n",
              "    <tr>\n",
              "      <th>2017-07-24</th>\n",
              "      <td>412.58</td>\n",
              "      <td>578.89</td>\n",
              "      <td>409.21</td>\n",
              "      <td>440.70</td>\n",
              "      <td>406.05</td>\n",
              "    </tr>\n",
              "    <tr>\n",
              "      <th>2017-07-25</th>\n",
              "      <td>441.35</td>\n",
              "      <td>541.66</td>\n",
              "      <td>338.09</td>\n",
              "      <td>406.90</td>\n",
              "      <td>384.77</td>\n",
              "    </tr>\n",
              "    <tr>\n",
              "      <th>2017-07-26</th>\n",
              "      <td>407.08</td>\n",
              "      <td>486.16</td>\n",
              "      <td>321.79</td>\n",
              "      <td>365.82</td>\n",
              "      <td>345.66</td>\n",
              "    </tr>\n",
              "    <tr>\n",
              "      <th>2017-07-27</th>\n",
              "      <td>417.10</td>\n",
              "      <td>460.97</td>\n",
              "      <td>367.78</td>\n",
              "      <td>385.48</td>\n",
              "      <td>294.46</td>\n",
              "    </tr>\n",
              "  </tbody>\n",
              "</table>\n",
              "</div>"
            ],
            "text/plain": [
              "              open    high     low   close  close_4_ahead\n",
              "date                                                     \n",
              "2017-07-23  555.89  578.97  411.78  413.06         385.48\n",
              "2017-07-24  412.58  578.89  409.21  440.70         406.05\n",
              "2017-07-25  441.35  541.66  338.09  406.90         384.77\n",
              "2017-07-26  407.08  486.16  321.79  365.82         345.66\n",
              "2017-07-27  417.10  460.97  367.78  385.48         294.46"
            ]
          },
          "metadata": {
            "tags": []
          },
          "execution_count": 35
        }
      ]
    },
    {
      "cell_type": "code",
      "metadata": {
        "id": "ROfEgBULzziV",
        "colab_type": "code",
        "colab": {
          "base_uri": "https://localhost:8080/",
          "height": 235
        },
        "outputId": "4c4963cc-7df1-482c-cf28-4f67dc3e3837"
      },
      "source": [
        "# observe that the tail of the column close_4_head contains NaNs.\n",
        "data_subset_BCH.tail()"
      ],
      "execution_count": 36,
      "outputs": [
        {
          "output_type": "execute_result",
          "data": {
            "text/html": [
              "<div>\n",
              "<style scoped>\n",
              "    .dataframe tbody tr th:only-of-type {\n",
              "        vertical-align: middle;\n",
              "    }\n",
              "\n",
              "    .dataframe tbody tr th {\n",
              "        vertical-align: top;\n",
              "    }\n",
              "\n",
              "    .dataframe thead th {\n",
              "        text-align: right;\n",
              "    }\n",
              "</style>\n",
              "<table border=\"1\" class=\"dataframe\">\n",
              "  <thead>\n",
              "    <tr style=\"text-align: right;\">\n",
              "      <th></th>\n",
              "      <th>open</th>\n",
              "      <th>high</th>\n",
              "      <th>low</th>\n",
              "      <th>close</th>\n",
              "      <th>close_4_ahead</th>\n",
              "    </tr>\n",
              "    <tr>\n",
              "      <th>date</th>\n",
              "      <th></th>\n",
              "      <th></th>\n",
              "      <th></th>\n",
              "      <th></th>\n",
              "      <th></th>\n",
              "    </tr>\n",
              "  </thead>\n",
              "  <tbody>\n",
              "    <tr>\n",
              "      <th>2018-01-06</th>\n",
              "      <td>2583.71</td>\n",
              "      <td>2829.69</td>\n",
              "      <td>2481.36</td>\n",
              "      <td>2786.65</td>\n",
              "      <td>2895.38</td>\n",
              "    </tr>\n",
              "    <tr>\n",
              "      <th>2018-01-07</th>\n",
              "      <td>2784.68</td>\n",
              "      <td>3071.16</td>\n",
              "      <td>2730.31</td>\n",
              "      <td>2786.88</td>\n",
              "      <td>NaN</td>\n",
              "    </tr>\n",
              "    <tr>\n",
              "      <th>2018-01-08</th>\n",
              "      <td>2786.60</td>\n",
              "      <td>2810.32</td>\n",
              "      <td>2275.07</td>\n",
              "      <td>2421.47</td>\n",
              "      <td>NaN</td>\n",
              "    </tr>\n",
              "    <tr>\n",
              "      <th>2018-01-09</th>\n",
              "      <td>2412.36</td>\n",
              "      <td>2502.87</td>\n",
              "      <td>2346.68</td>\n",
              "      <td>2391.56</td>\n",
              "      <td>NaN</td>\n",
              "    </tr>\n",
              "    <tr>\n",
              "      <th>2018-01-10</th>\n",
              "      <td>2390.02</td>\n",
              "      <td>2961.20</td>\n",
              "      <td>2332.48</td>\n",
              "      <td>2895.38</td>\n",
              "      <td>NaN</td>\n",
              "    </tr>\n",
              "  </tbody>\n",
              "</table>\n",
              "</div>"
            ],
            "text/plain": [
              "               open     high      low    close  close_4_ahead\n",
              "date                                                         \n",
              "2018-01-06  2583.71  2829.69  2481.36  2786.65        2895.38\n",
              "2018-01-07  2784.68  3071.16  2730.31  2786.88            NaN\n",
              "2018-01-08  2786.60  2810.32  2275.07  2421.47            NaN\n",
              "2018-01-09  2412.36  2502.87  2346.68  2391.56            NaN\n",
              "2018-01-10  2390.02  2961.20  2332.48  2895.38            NaN"
            ]
          },
          "metadata": {
            "tags": []
          },
          "execution_count": 36
        }
      ]
    },
    {
      "cell_type": "markdown",
      "metadata": {
        "id": "LeJTIv5Nz_Go",
        "colab_type": "text"
      },
      "source": [
        "### Rolling Windows"
      ]
    },
    {
      "cell_type": "markdown",
      "metadata": {
        "id": "fKlCBXut0JRB",
        "colab_type": "text"
      },
      "source": [
        "Pandas provides a function called rolling() to find the rolling or moving statistics of values in a column over a specified window."
      ]
    },
    {
      "cell_type": "code",
      "metadata": {
        "id": "TuLHPLKDz58u",
        "colab_type": "code",
        "colab": {}
      },
      "source": [
        "# find the rolling means for Bitcoin cash\n",
        "rolling_means = data_subset_BCH['close'].rolling(window=30).mean()"
      ],
      "execution_count": 0,
      "outputs": []
    },
    {
      "cell_type": "code",
      "metadata": {
        "id": "tbuhsXud0D5h",
        "colab_type": "code",
        "colab": {
          "base_uri": "https://localhost:8080/",
          "height": 136
        },
        "outputId": "c1e391ac-ab99-45f9-df9d-522eeb2938e3"
      },
      "source": [
        "rolling_means.head()"
      ],
      "execution_count": 38,
      "outputs": [
        {
          "output_type": "execute_result",
          "data": {
            "text/plain": [
              "date\n",
              "2017-07-23   NaN\n",
              "2017-07-24   NaN\n",
              "2017-07-25   NaN\n",
              "2017-07-26   NaN\n",
              "2017-07-27   NaN\n",
              "Name: close, dtype: float64"
            ]
          },
          "metadata": {
            "tags": []
          },
          "execution_count": 38
        }
      ]
    },
    {
      "cell_type": "code",
      "metadata": {
        "id": "rC2XMRAD0GAZ",
        "colab_type": "code",
        "colab": {
          "base_uri": "https://localhost:8080/",
          "height": 136
        },
        "outputId": "03408e7f-bab6-4d36-a91f-9df1acc3fc79"
      },
      "source": [
        "# Now let’s observe the last 5 values using the tail method.\n",
        "rolling_means.tail()"
      ],
      "execution_count": 39,
      "outputs": [
        {
          "output_type": "execute_result",
          "data": {
            "text/plain": [
              "date\n",
              "2018-01-06    2403.932000\n",
              "2018-01-07    2448.023667\n",
              "2018-01-08    2481.737333\n",
              "2018-01-09    2517.353667\n",
              "2018-01-10    2566.420333\n",
              "Name: close, dtype: float64"
            ]
          },
          "metadata": {
            "tags": []
          },
          "execution_count": 39
        }
      ]
    },
    {
      "cell_type": "code",
      "metadata": {
        "id": "qnRvjdr_0N2D",
        "colab_type": "code",
        "colab": {
          "base_uri": "https://localhost:8080/",
          "height": 311
        },
        "outputId": "4fdcf4b5-e161-452a-f9f4-f7b479ca07ab"
      },
      "source": [
        "# plot the rolling means for Bitcoin cash\n",
        "data_subset_BCH['close'].rolling(window=30).mean().plot(label='Rolling Average over 30 days')"
      ],
      "execution_count": 40,
      "outputs": [
        {
          "output_type": "execute_result",
          "data": {
            "text/plain": [
              "<matplotlib.axes._subplots.AxesSubplot at 0x7efe74078d30>"
            ]
          },
          "metadata": {
            "tags": []
          },
          "execution_count": 40
        },
        {
          "output_type": "display_data",
          "data": {
            "image/png": "[encoded data removed]",
            "text/plain": [
              "<Figure size 432x288 with 1 Axes>"
            ]
          },
          "metadata": {
            "tags": []
          }
        }
      ]
    }
  ]
}