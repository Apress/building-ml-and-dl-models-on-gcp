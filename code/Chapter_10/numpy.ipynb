{
  "nbformat": 4,
  "nbformat_minor": 0,
  "metadata": {
    "colab": {
      "name": "numpy.ipynb",
      "version": "0.3.2",
      "provenance": [],
      "collapsed_sections": [
        "TGvN3PJDF1uW",
        "wFt13rUPF1uo",
        "FNg4jV0jF1u5",
        "CVh8Dy_VF1vQ",
        "QOWl88DjF1vk",
        "prH_5uuXF1vt",
        "TeNOxNEzF1v4",
        "mYl3zuYOF1wD",
        "J3CqkgJGF1wN",
        "H55Khh8HF1wf",
        "KU4A-SkzF1wg",
        "gIXmRJOmF1w-",
        "H3lYCtf5F1xT",
        "mXXhTV8SF1xd",
        "ANWI9O0ZF1xd",
        "PhaSzAPkF1xr",
        "Z2VeHsdtF1x1",
        "TxK2GfS7F1yI",
        "0OBU4kjhF1yL",
        "rz7V0PAeF1yU",
        "jApF_jvqF1yd",
        "wsxmIs6sF1yn",
        "OMxUMwpBF1yv",
        "rVMl4S3KF1y6"
      ]
    },
    "language_info": {
      "codemirror_mode": {
        "name": "ipython",
        "version": 3
      },
      "file_extension": ".py",
      "mimetype": "text/x-python",
      "name": "python",
      "nbconvert_exporter": "python",
      "pygments_lexer": "ipython3",
      "version": "3.6.4"
    },
    "kernelspec": {
      "display_name": "Python 3",
      "language": "python",
      "name": "python3"
    }
  },
  "cells": [
    {
      "cell_type": "markdown",
      "metadata": {
        "id": "L0QPLbxOF1uR",
        "colab_type": "text"
      },
      "source": [
        "# Chapter 10 - Numpy\n",
        "## Building Machine Learning and Deep Learning Models on Google Cloud Platform\n",
        "### Ekaba Bisong"
      ]
    },
    {
      "cell_type": "code",
      "metadata": {
        "id": "dC9FpBW2F1uS",
        "colab_type": "code",
        "colab": {}
      },
      "source": [
        "# load numpy package\n",
        "import numpy as np"
      ],
      "execution_count": 0,
      "outputs": []
    },
    {
      "cell_type": "markdown",
      "metadata": {
        "id": "TGvN3PJDF1uW",
        "colab_type": "text"
      },
      "source": [
        "## NumPy 1-D Array"
      ]
    },
    {
      "cell_type": "code",
      "metadata": {
        "id": "ReFwBNQQF1uW",
        "colab_type": "code",
        "colab": {},
        "outputId": "eaad30ba-925b-4443-eaba-97ff5cece727"
      },
      "source": [
        "# create a simple 1-D NumPy array\n",
        "my_array = np.array([2,4,6,8,10])\n",
        "my_array"
      ],
      "execution_count": 0,
      "outputs": [
        {
          "output_type": "execute_result",
          "data": {
            "text/plain": [
              "array([ 2,  4,  6,  8, 10])"
            ]
          },
          "metadata": {
            "tags": []
          },
          "execution_count": 2
        }
      ]
    },
    {
      "cell_type": "code",
      "metadata": {
        "id": "__LLfkxDF1ue",
        "colab_type": "code",
        "colab": {},
        "outputId": "a0009059-67b6-40fd-b982-bcaf9ea69c3b"
      },
      "source": [
        "# the data-type of a NumPy array is the ndarray\n",
        "type(my_array)"
      ],
      "execution_count": 0,
      "outputs": [
        {
          "output_type": "execute_result",
          "data": {
            "text/plain": [
              "numpy.ndarray"
            ]
          },
          "metadata": {
            "tags": []
          },
          "execution_count": 3
        }
      ]
    },
    {
      "cell_type": "code",
      "metadata": {
        "id": "QUviyGw9F1ui",
        "colab_type": "code",
        "colab": {},
        "outputId": "9b5bc3f2-ea59-4fa4-b2b6-a7582487c66d"
      },
      "source": [
        "# a NumPy 1-D array can also be seen a vector with 1 dimension\n",
        "my_array.ndim"
      ],
      "execution_count": 0,
      "outputs": [
        {
          "output_type": "execute_result",
          "data": {
            "text/plain": [
              "1"
            ]
          },
          "metadata": {
            "tags": []
          },
          "execution_count": 4
        }
      ]
    },
    {
      "cell_type": "code",
      "metadata": {
        "id": "fUopHJLdF1ul",
        "colab_type": "code",
        "colab": {},
        "outputId": "d8654f6e-53e5-4071-ef5d-08c237407500"
      },
      "source": [
        "# check the shape to get the number of rows and columns in the array \\\n",
        "# read as (rows, columns)\n",
        "my_array.shape"
      ],
      "execution_count": 0,
      "outputs": [
        {
          "output_type": "execute_result",
          "data": {
            "text/plain": [
              "(5,)"
            ]
          },
          "metadata": {
            "tags": []
          },
          "execution_count": 5
        }
      ]
    },
    {
      "cell_type": "markdown",
      "metadata": {
        "id": "wFt13rUPF1uo",
        "colab_type": "text"
      },
      "source": [
        "### Create an array from a Python list"
      ]
    },
    {
      "cell_type": "code",
      "metadata": {
        "id": "AK69di0SF1uq",
        "colab_type": "code",
        "colab": {}
      },
      "source": [
        "# create an array from a Python list\n",
        "my_list = [9, 5, 2, 7]"
      ],
      "execution_count": 0,
      "outputs": []
    },
    {
      "cell_type": "code",
      "metadata": {
        "id": "TEKAicHsF1us",
        "colab_type": "code",
        "colab": {},
        "outputId": "5c4333c5-3653-4080-e865-00c7c80b6ad0"
      },
      "source": [
        "type(my_list)"
      ],
      "execution_count": 0,
      "outputs": [
        {
          "output_type": "execute_result",
          "data": {
            "text/plain": [
              "list"
            ]
          },
          "metadata": {
            "tags": []
          },
          "execution_count": 7
        }
      ]
    },
    {
      "cell_type": "code",
      "metadata": {
        "id": "yG_U_NW1F1uw",
        "colab_type": "code",
        "colab": {}
      },
      "source": [
        "# convert a list to a numpy array\n",
        "list_to_array = np.array(my_list) # or np.asarray(my_list)"
      ],
      "execution_count": 0,
      "outputs": []
    },
    {
      "cell_type": "code",
      "metadata": {
        "id": "-jRXL6WDF1u0",
        "colab_type": "code",
        "colab": {},
        "outputId": "8c6531c8-fc53-44b2-d2da-99b5d61d0b21"
      },
      "source": [
        "type(list_to_array)"
      ],
      "execution_count": 0,
      "outputs": [
        {
          "output_type": "execute_result",
          "data": {
            "text/plain": [
              "numpy.ndarray"
            ]
          },
          "metadata": {
            "tags": []
          },
          "execution_count": 9
        }
      ]
    },
    {
      "cell_type": "markdown",
      "metadata": {
        "id": "FNg4jV0jF1u5",
        "colab_type": "text"
      },
      "source": [
        "### Other useful methods for creating arrays"
      ]
    },
    {
      "cell_type": "code",
      "metadata": {
        "id": "-naRLnx4F1u6",
        "colab_type": "code",
        "colab": {},
        "outputId": "861d8bbf-e16b-463b-eff6-28b0cb752edb"
      },
      "source": [
        "# create an array from a range of numbers\n",
        "np.arange(10)"
      ],
      "execution_count": 0,
      "outputs": [
        {
          "output_type": "execute_result",
          "data": {
            "text/plain": [
              "array([0, 1, 2, 3, 4, 5, 6, 7, 8, 9])"
            ]
          },
          "metadata": {
            "tags": []
          },
          "execution_count": 10
        }
      ]
    },
    {
      "cell_type": "code",
      "metadata": {
        "id": "zpSQW3g1F1u-",
        "colab_type": "code",
        "colab": {},
        "outputId": "8983b238-0818-49b3-c3bb-541cd1c02ace"
      },
      "source": [
        "# create an array from start to end (exclusive) via a step size - (start, stop, step)\n",
        "np.arange(2, 10, 2)"
      ],
      "execution_count": 0,
      "outputs": [
        {
          "output_type": "execute_result",
          "data": {
            "text/plain": [
              "array([2, 4, 6, 8])"
            ]
          },
          "metadata": {
            "tags": []
          },
          "execution_count": 11
        }
      ]
    },
    {
      "cell_type": "code",
      "metadata": {
        "id": "yOeD0D7jF1vC",
        "colab_type": "code",
        "colab": {},
        "outputId": "32fab8f9-0525-402e-837a-3a4ae1aa2adf"
      },
      "source": [
        "# create a range of points between two numbers\n",
        "np.linspace(2, 10, 5)"
      ],
      "execution_count": 0,
      "outputs": [
        {
          "output_type": "execute_result",
          "data": {
            "text/plain": [
              "array([ 2.,  4.,  6.,  8., 10.])"
            ]
          },
          "metadata": {
            "tags": []
          },
          "execution_count": 12
        }
      ]
    },
    {
      "cell_type": "code",
      "metadata": {
        "id": "5V9-E1QcF1vF",
        "colab_type": "code",
        "colab": {},
        "outputId": "13e7382b-2b75-442c-bd52-3f20d8669abc"
      },
      "source": [
        "# create an array of ones\n",
        "np.ones(5)"
      ],
      "execution_count": 0,
      "outputs": [
        {
          "output_type": "execute_result",
          "data": {
            "text/plain": [
              "array([1., 1., 1., 1., 1.])"
            ]
          },
          "metadata": {
            "tags": []
          },
          "execution_count": 13
        }
      ]
    },
    {
      "cell_type": "code",
      "metadata": {
        "id": "UjUl0uR5F1vJ",
        "colab_type": "code",
        "colab": {},
        "outputId": "01dc6819-767a-45c5-d3d9-dff4fb7a3f94"
      },
      "source": [
        "# create an array of zeros\n",
        "np.zeros(5)"
      ],
      "execution_count": 0,
      "outputs": [
        {
          "output_type": "execute_result",
          "data": {
            "text/plain": [
              "array([0., 0., 0., 0., 0.])"
            ]
          },
          "metadata": {
            "tags": []
          },
          "execution_count": 14
        }
      ]
    },
    {
      "cell_type": "markdown",
      "metadata": {
        "id": "CVh8Dy_VF1vQ",
        "colab_type": "text"
      },
      "source": [
        "## NumPy Datatypes\n",
        "Let’s explore a bit with NumPy datatypes:"
      ]
    },
    {
      "cell_type": "code",
      "metadata": {
        "id": "fKa07Nb7F1vR",
        "colab_type": "code",
        "colab": {},
        "outputId": "b75ba926-fe53-4bc4-8bd5-d27194e0931f"
      },
      "source": [
        "# ints\n",
        "my_ints = np.array([3, 7, 9, 11])\n",
        "my_ints.dtype"
      ],
      "execution_count": 0,
      "outputs": [
        {
          "output_type": "execute_result",
          "data": {
            "text/plain": [
              "dtype('int64')"
            ]
          },
          "metadata": {
            "tags": []
          },
          "execution_count": 15
        }
      ]
    },
    {
      "cell_type": "code",
      "metadata": {
        "id": "H1MIRggEF1vU",
        "colab_type": "code",
        "colab": {},
        "outputId": "90221561-d918-493b-9c6b-f48740a7bfc3"
      },
      "source": [
        "# floats\n",
        "my_floats = np.array([3., 7., 9., 11.])\n",
        "my_floats.dtype"
      ],
      "execution_count": 0,
      "outputs": [
        {
          "output_type": "execute_result",
          "data": {
            "text/plain": [
              "dtype('float64')"
            ]
          },
          "metadata": {
            "tags": []
          },
          "execution_count": 16
        }
      ]
    },
    {
      "cell_type": "code",
      "metadata": {
        "id": "U48wM05QF1vX",
        "colab_type": "code",
        "colab": {},
        "outputId": "e7103105-d630-4c0a-bc62-3c172d365742"
      },
      "source": [
        "# non-contiguous types - default: float\n",
        "my_array = np.array([3., 7., 9, 11])\n",
        "my_array.dtype"
      ],
      "execution_count": 0,
      "outputs": [
        {
          "output_type": "execute_result",
          "data": {
            "text/plain": [
              "dtype('float64')"
            ]
          },
          "metadata": {
            "tags": []
          },
          "execution_count": 17
        }
      ]
    },
    {
      "cell_type": "code",
      "metadata": {
        "id": "gp8rAfaiF1ve",
        "colab_type": "code",
        "colab": {},
        "outputId": "205d3ebc-d944-4a01-e010-fffb7de71fd6"
      },
      "source": [
        "# manually assigning datatypes\n",
        "my_array = np.array([3, 7, 9, 11], dtype=\"float64\")\n",
        "my_array.dtype"
      ],
      "execution_count": 0,
      "outputs": [
        {
          "output_type": "execute_result",
          "data": {
            "text/plain": [
              "dtype('float64')"
            ]
          },
          "metadata": {
            "tags": []
          },
          "execution_count": 18
        }
      ]
    },
    {
      "cell_type": "markdown",
      "metadata": {
        "id": "QOWl88DjF1vk",
        "colab_type": "text"
      },
      "source": [
        "## Indexing + Fancy Indexing (1-D)\n",
        "\n",
        "We can index a single element of a NumPy 1-D array similar to how we index a Python list."
      ]
    },
    {
      "cell_type": "code",
      "metadata": {
        "id": "DB0JqXT_F1vk",
        "colab_type": "code",
        "colab": {},
        "outputId": "2d436309-bdc0-4b0f-cd67-82ec87fdf22c"
      },
      "source": [
        "# create a random numpy 1-D array\n",
        "my_array = np.random.rand(10)\n",
        "my_array"
      ],
      "execution_count": 0,
      "outputs": [
        {
          "output_type": "execute_result",
          "data": {
            "text/plain": [
              "array([0.78883692, 0.7565035 , 0.35089127, 0.60050156, 0.13770897,\n",
              "       0.22563364, 0.50824592, 0.9852307 , 0.27490702, 0.52787594])"
            ]
          },
          "metadata": {
            "tags": []
          },
          "execution_count": 19
        }
      ]
    },
    {
      "cell_type": "code",
      "metadata": {
        "id": "nV9T-cBQF1vn",
        "colab_type": "code",
        "colab": {},
        "outputId": "3bdafd9c-7152-4c83-d41d-322e7cc4b9f7"
      },
      "source": [
        "# index the first element\n",
        "my_array[0]"
      ],
      "execution_count": 0,
      "outputs": [
        {
          "output_type": "execute_result",
          "data": {
            "text/plain": [
              "0.7888369208826349"
            ]
          },
          "metadata": {
            "tags": []
          },
          "execution_count": 20
        }
      ]
    },
    {
      "cell_type": "code",
      "metadata": {
        "id": "TFj8mbP9F1vr",
        "colab_type": "code",
        "colab": {},
        "outputId": "d97556a5-9fab-482e-b868-301de5803dad"
      },
      "source": [
        "# index the last element\n",
        "my_array[-1]"
      ],
      "execution_count": 0,
      "outputs": [
        {
          "output_type": "execute_result",
          "data": {
            "text/plain": [
              "0.5278759407455007"
            ]
          },
          "metadata": {
            "tags": []
          },
          "execution_count": 21
        }
      ]
    },
    {
      "cell_type": "markdown",
      "metadata": {
        "id": "prH_5uuXF1vt",
        "colab_type": "text"
      },
      "source": [
        "### Boolean Mask\n",
        "\n",
        "Let’s index all the even integers in the array using a boolean mask."
      ]
    },
    {
      "cell_type": "code",
      "metadata": {
        "id": "J5Sy0F9JF1vu",
        "colab_type": "code",
        "colab": {},
        "outputId": "06072bcb-acaf-4412-b340-dadc918c3762"
      },
      "source": [
        "# create 10 random integers between 1 and 20\n",
        "my_array = np.random.randint(1, 20, 10)\n",
        "my_array"
      ],
      "execution_count": 0,
      "outputs": [
        {
          "output_type": "execute_result",
          "data": {
            "text/plain": [
              "array([ 9, 11,  5, 18, 15,  5,  8, 18, 17, 19])"
            ]
          },
          "metadata": {
            "tags": []
          },
          "execution_count": 22
        }
      ]
    },
    {
      "cell_type": "code",
      "metadata": {
        "id": "rHZDDdHWF1vx",
        "colab_type": "code",
        "colab": {},
        "outputId": "2ca50ff1-bf4f-4662-a49f-a3668c1cc1eb"
      },
      "source": [
        "# index all even integers in the array using a boolean mask\n",
        "my_array[my_array % 2 == 0]"
      ],
      "execution_count": 0,
      "outputs": [
        {
          "output_type": "execute_result",
          "data": {
            "text/plain": [
              "array([18,  8, 18])"
            ]
          },
          "metadata": {
            "tags": []
          },
          "execution_count": 23
        }
      ]
    },
    {
      "cell_type": "markdown",
      "metadata": {
        "id": "A7bGRhGcF1v0",
        "colab_type": "text"
      },
      "source": [
        "Observe that the code `my_array % 2 == 0` output’s an array of booleans"
      ]
    },
    {
      "cell_type": "code",
      "metadata": {
        "id": "kSUY8mDvF1v1",
        "colab_type": "code",
        "colab": {},
        "outputId": "f7fbd812-3a7d-4302-b40e-598cdb33937d"
      },
      "source": [
        "my_array % 2 == 0"
      ],
      "execution_count": 0,
      "outputs": [
        {
          "output_type": "execute_result",
          "data": {
            "text/plain": [
              "array([False, False, False,  True, False, False,  True,  True, False,\n",
              "       False])"
            ]
          },
          "metadata": {
            "tags": []
          },
          "execution_count": 24
        }
      ]
    },
    {
      "cell_type": "markdown",
      "metadata": {
        "id": "TeNOxNEzF1v4",
        "colab_type": "text"
      },
      "source": [
        "### Integer Mask\n",
        "\n",
        "Let’s select all elements with even indices in the array."
      ]
    },
    {
      "cell_type": "code",
      "metadata": {
        "id": "gqiStCTuF1v5",
        "colab_type": "code",
        "colab": {},
        "outputId": "6888eb84-a3f3-4512-fd61-d45b8f38e359"
      },
      "source": [
        "# create 10 random integers between 1 and 20\n",
        "my_array = np.random.randint(1, 20, 10)\n",
        "my_array"
      ],
      "execution_count": 0,
      "outputs": [
        {
          "output_type": "execute_result",
          "data": {
            "text/plain": [
              "array([ 1, 18,  8, 12, 10,  2, 17,  4, 17, 17])"
            ]
          },
          "metadata": {
            "tags": []
          },
          "execution_count": 27
        }
      ]
    },
    {
      "cell_type": "code",
      "metadata": {
        "id": "tqnNjrf3F1v8",
        "colab_type": "code",
        "colab": {},
        "outputId": "299d6bbc-69f9-4ad4-e606-ca97a3b81c90"
      },
      "source": [
        "my_array[np.arange(1,10,2)]"
      ],
      "execution_count": 0,
      "outputs": [
        {
          "output_type": "execute_result",
          "data": {
            "text/plain": [
              "array([18, 12,  2,  4, 17])"
            ]
          },
          "metadata": {
            "tags": []
          },
          "execution_count": 28
        }
      ]
    },
    {
      "cell_type": "markdown",
      "metadata": {
        "id": "npU7UxT_F1wA",
        "colab_type": "text"
      },
      "source": [
        "Remember that array indices are indexed from 0. So the second element, 18 is in index 1."
      ]
    },
    {
      "cell_type": "code",
      "metadata": {
        "id": "uwnyQVk8F1wB",
        "colab_type": "code",
        "colab": {},
        "outputId": "42877ca3-2c3f-43b0-a831-4a88582e1ca5"
      },
      "source": [
        "np.arange(1,10,2)"
      ],
      "execution_count": 0,
      "outputs": [
        {
          "output_type": "execute_result",
          "data": {
            "text/plain": [
              "array([1, 3, 5, 7, 9])"
            ]
          },
          "metadata": {
            "tags": []
          },
          "execution_count": 29
        }
      ]
    },
    {
      "cell_type": "markdown",
      "metadata": {
        "id": "mYl3zuYOF1wD",
        "colab_type": "text"
      },
      "source": [
        "## Slicing a 1-D Array\n",
        "\n",
        "Slicing a NumPy array is also similar to slicing a Python list."
      ]
    },
    {
      "cell_type": "code",
      "metadata": {
        "id": "3zuYPoTqF1wE",
        "colab_type": "code",
        "colab": {},
        "outputId": "5ff5a180-4bab-48b4-d3d9-99bcea572543"
      },
      "source": [
        "my_array = np.array([14,  9,  3, 19, 16,  1, 16,  5, 13,  3])\n",
        "my_array"
      ],
      "execution_count": 0,
      "outputs": [
        {
          "output_type": "execute_result",
          "data": {
            "text/plain": [
              "array([14,  9,  3, 19, 16,  1, 16,  5, 13,  3])"
            ]
          },
          "metadata": {
            "tags": []
          },
          "execution_count": 30
        }
      ]
    },
    {
      "cell_type": "code",
      "metadata": {
        "id": "VxzfKegsF1wG",
        "colab_type": "code",
        "colab": {},
        "outputId": "75620f23-c60c-4c14-91e7-fb0e675561a0"
      },
      "source": [
        "# slice the first 2 elements\n",
        "my_array[:2]"
      ],
      "execution_count": 0,
      "outputs": [
        {
          "output_type": "execute_result",
          "data": {
            "text/plain": [
              "array([14,  9])"
            ]
          },
          "metadata": {
            "tags": []
          },
          "execution_count": 31
        }
      ]
    },
    {
      "cell_type": "code",
      "metadata": {
        "id": "nBnkr71AF1wK",
        "colab_type": "code",
        "colab": {},
        "outputId": "ef0a9387-f774-487f-fe5f-f554d43b377e"
      },
      "source": [
        "# slice the last 3 elements\n",
        "my_array[-3:]"
      ],
      "execution_count": 0,
      "outputs": [
        {
          "output_type": "execute_result",
          "data": {
            "text/plain": [
              "array([ 5, 13,  3])"
            ]
          },
          "metadata": {
            "tags": []
          },
          "execution_count": 32
        }
      ]
    },
    {
      "cell_type": "markdown",
      "metadata": {
        "id": "J3CqkgJGF1wN",
        "colab_type": "text"
      },
      "source": [
        "## Basic Math Operations on Arrays: Universal Functions\n",
        "We’ll explore a couple of basic arithmetic with NumPy 1-D arrays."
      ]
    },
    {
      "cell_type": "code",
      "metadata": {
        "id": "AXAYW4NrF1wP",
        "colab_type": "code",
        "colab": {},
        "outputId": "417e0116-21e8-41a8-a7f4-bccdec865e2d"
      },
      "source": [
        "# create an array of even numbers between 2 and 10\n",
        "my_array = np.arange(2,11,2)\n",
        "my_array"
      ],
      "execution_count": 0,
      "outputs": [
        {
          "output_type": "execute_result",
          "data": {
            "text/plain": [
              "array([ 2,  4,  6,  8, 10])"
            ]
          },
          "metadata": {
            "tags": []
          },
          "execution_count": 34
        }
      ]
    },
    {
      "cell_type": "code",
      "metadata": {
        "id": "4whjLXGHF1wS",
        "colab_type": "code",
        "colab": {},
        "outputId": "ef5178f1-7e16-4f66-9b4c-fac98c0ba530"
      },
      "source": [
        "# sum of array elements\n",
        "np.sum(my_array) # or my_array.sum()"
      ],
      "execution_count": 0,
      "outputs": [
        {
          "output_type": "execute_result",
          "data": {
            "text/plain": [
              "30"
            ]
          },
          "metadata": {
            "tags": []
          },
          "execution_count": 35
        }
      ]
    },
    {
      "cell_type": "code",
      "metadata": {
        "id": "FEwM8uRWF1wU",
        "colab_type": "code",
        "colab": {},
        "outputId": "8a8070c9-b3eb-4834-e979-4f46a2902e91"
      },
      "source": [
        "# square root\n",
        "np.sqrt(my_array)"
      ],
      "execution_count": 0,
      "outputs": [
        {
          "output_type": "execute_result",
          "data": {
            "text/plain": [
              "array([1.41421356, 2.        , 2.44948974, 2.82842712, 3.16227766])"
            ]
          },
          "metadata": {
            "tags": []
          },
          "execution_count": 36
        }
      ]
    },
    {
      "cell_type": "code",
      "metadata": {
        "id": "mC02-aO4F1wY",
        "colab_type": "code",
        "colab": {},
        "outputId": "b5952e5f-8029-4064-b4bc-f688697ad99c"
      },
      "source": [
        "# log\n",
        "np.log(my_array)"
      ],
      "execution_count": 0,
      "outputs": [
        {
          "output_type": "execute_result",
          "data": {
            "text/plain": [
              "array([0.69314718, 1.38629436, 1.79175947, 2.07944154, 2.30258509])"
            ]
          },
          "metadata": {
            "tags": []
          },
          "execution_count": 37
        }
      ]
    },
    {
      "cell_type": "code",
      "metadata": {
        "id": "jtQYrlPvF1wc",
        "colab_type": "code",
        "colab": {},
        "outputId": "091fd190-6f97-4ca4-c090-9451a001e8b7"
      },
      "source": [
        "# exponent\n",
        "np.exp(my_array)"
      ],
      "execution_count": 0,
      "outputs": [
        {
          "output_type": "execute_result",
          "data": {
            "text/plain": [
              "array([7.38905610e+00, 5.45981500e+01, 4.03428793e+02, 2.98095799e+03,\n",
              "       2.20264658e+04])"
            ]
          },
          "metadata": {
            "tags": []
          },
          "execution_count": 38
        }
      ]
    },
    {
      "cell_type": "markdown",
      "metadata": {
        "id": "H55Khh8HF1wf",
        "colab_type": "text"
      },
      "source": [
        "## Higher-Dimensional Arrays\n",
        "Previously, we covered the creation of 1-D arrays (or vectors) in NumPy to get a feel of how NumPy works.  \n",
        "This section will now consider working with 2-D and 3-D arrays. 2-D arrays are ideal for storing data for analysis.  \n",
        "Also, other data forms like images are adequately represented using 3-D arrays."
      ]
    },
    {
      "cell_type": "markdown",
      "metadata": {
        "id": "KU4A-SkzF1wg",
        "colab_type": "text"
      },
      "source": [
        "### Creating 2-D arrays (Matrices)\n",
        "\n",
        "Let us construct a simple 2-D array"
      ]
    },
    {
      "cell_type": "code",
      "metadata": {
        "id": "Ag29_vcwF1wg",
        "colab_type": "code",
        "colab": {},
        "outputId": "4fb03962-7c37-407a-843f-03b786dbe560"
      },
      "source": [
        "# construct a 2-D array\n",
        "my_2D = np.array([[2,4,6],\n",
        "                    [8,10,12]])\n",
        "my_2D"
      ],
      "execution_count": 0,
      "outputs": [
        {
          "output_type": "execute_result",
          "data": {
            "text/plain": [
              "array([[ 2,  4,  6],\n",
              "       [ 8, 10, 12]])"
            ]
          },
          "metadata": {
            "tags": []
          },
          "execution_count": 39
        }
      ]
    },
    {
      "cell_type": "code",
      "metadata": {
        "id": "KjsbMTdoF1wk",
        "colab_type": "code",
        "colab": {},
        "outputId": "82ad887f-da44-4521-efa1-b89ed0729161"
      },
      "source": [
        "# check the number of dimensions\n",
        "my_2D.ndim"
      ],
      "execution_count": 0,
      "outputs": [
        {
          "output_type": "execute_result",
          "data": {
            "text/plain": [
              "2"
            ]
          },
          "metadata": {
            "tags": []
          },
          "execution_count": 40
        }
      ]
    },
    {
      "cell_type": "code",
      "metadata": {
        "id": "nCD-dTTQF1wo",
        "colab_type": "code",
        "colab": {},
        "outputId": "3a363a73-16af-4c1e-928c-5b929bc78c92"
      },
      "source": [
        "# get the shape of the 2-D array - this example has 2 rows and 3 columns: (r, c)\n",
        "my_2D.shape"
      ],
      "execution_count": 0,
      "outputs": [
        {
          "output_type": "execute_result",
          "data": {
            "text/plain": [
              "(2, 3)"
            ]
          },
          "metadata": {
            "tags": []
          },
          "execution_count": 41
        }
      ]
    },
    {
      "cell_type": "markdown",
      "metadata": {
        "id": "atNjn3y9F1wr",
        "colab_type": "text"
      },
      "source": [
        "Let’s explore common methods in practice for creating 2-D NumPy arrays, which are also matrices."
      ]
    },
    {
      "cell_type": "code",
      "metadata": {
        "id": "NvPby6DyF1wt",
        "colab_type": "code",
        "colab": {},
        "outputId": "06dc3db5-5bf2-4aab-f964-c8d95c453946"
      },
      "source": [
        "# create a 3x3 array of ones\n",
        "np.ones([3,3])"
      ],
      "execution_count": 0,
      "outputs": [
        {
          "output_type": "execute_result",
          "data": {
            "text/plain": [
              "array([[1., 1., 1.],\n",
              "       [1., 1., 1.],\n",
              "       [1., 1., 1.]])"
            ]
          },
          "metadata": {
            "tags": []
          },
          "execution_count": 42
        }
      ]
    },
    {
      "cell_type": "code",
      "metadata": {
        "id": "qstvfD4uF1wy",
        "colab_type": "code",
        "colab": {},
        "outputId": "040f74eb-735b-4a92-f507-562909204fec"
      },
      "source": [
        "# create a 3x3 array of zeros\n",
        "np.zeros([3,3])"
      ],
      "execution_count": 0,
      "outputs": [
        {
          "output_type": "execute_result",
          "data": {
            "text/plain": [
              "array([[0., 0., 0.],\n",
              "       [0., 0., 0.],\n",
              "       [0., 0., 0.]])"
            ]
          },
          "metadata": {
            "tags": []
          },
          "execution_count": 43
        }
      ]
    },
    {
      "cell_type": "code",
      "metadata": {
        "id": "k9FiuqJpF1w1",
        "colab_type": "code",
        "colab": {},
        "outputId": "7c02d997-1452-4ed6-8846-29a621df7f18"
      },
      "source": [
        "# create a 3x3 array of a particular scalar - full(shape, fill_value)\n",
        "np.full([3,3], 2)"
      ],
      "execution_count": 0,
      "outputs": [
        {
          "output_type": "execute_result",
          "data": {
            "text/plain": [
              "array([[2, 2, 2],\n",
              "       [2, 2, 2],\n",
              "       [2, 2, 2]])"
            ]
          },
          "metadata": {
            "tags": []
          },
          "execution_count": 44
        }
      ]
    },
    {
      "cell_type": "code",
      "metadata": {
        "id": "-zID8JEDF1w4",
        "colab_type": "code",
        "colab": {},
        "outputId": "78bf5149-b820-4d53-a99a-498a59b417d5"
      },
      "source": [
        "# create a 3x3, empty uninitialized array\n",
        "np.empty([3,3])"
      ],
      "execution_count": 0,
      "outputs": [
        {
          "output_type": "execute_result",
          "data": {
            "text/plain": [
              "array([[1., 1., 1.],\n",
              "       [1., 1., 1.],\n",
              "       [1., 1., 1.]])"
            ]
          },
          "metadata": {
            "tags": []
          },
          "execution_count": 45
        }
      ]
    },
    {
      "cell_type": "code",
      "metadata": {
        "id": "ZJxU7gNrF1w8",
        "colab_type": "code",
        "colab": {},
        "outputId": "e624a1a3-cd71-472f-a7d7-95b336e9818d"
      },
      "source": [
        "# create a 4x4 identity matrix - i.e., a matrix with 1's on its diagonal\n",
        "np.eye(4) # or np.identity(4)"
      ],
      "execution_count": 0,
      "outputs": [
        {
          "output_type": "execute_result",
          "data": {
            "text/plain": [
              "array([[1., 0., 0., 0.],\n",
              "       [0., 1., 0., 0.],\n",
              "       [0., 0., 1., 0.],\n",
              "       [0., 0., 0., 1.]])"
            ]
          },
          "metadata": {
            "tags": []
          },
          "execution_count": 46
        }
      ]
    },
    {
      "cell_type": "markdown",
      "metadata": {
        "id": "gIXmRJOmF1w-",
        "colab_type": "text"
      },
      "source": [
        "### Creating 3-D arrays\n",
        "\n",
        "Let’s construct a basic 3-D array."
      ]
    },
    {
      "cell_type": "code",
      "metadata": {
        "id": "bIbrRO42F1w_",
        "colab_type": "code",
        "colab": {},
        "outputId": "4590f10a-6c8e-41c0-8058-0c9c688c6a3c"
      },
      "source": [
        "# construct a 3-D array\n",
        "my_3D = np.array([[\n",
        "                     [2,4,6],\n",
        "                     [8,10,12]\n",
        "                    ],[\n",
        "                     [1,2,3],\n",
        "                     [7,9,11]\n",
        "                    ]])\n",
        "my_3D"
      ],
      "execution_count": 0,
      "outputs": [
        {
          "output_type": "execute_result",
          "data": {
            "text/plain": [
              "array([[[ 2,  4,  6],\n",
              "        [ 8, 10, 12]],\n",
              "\n",
              "       [[ 1,  2,  3],\n",
              "        [ 7,  9, 11]]])"
            ]
          },
          "metadata": {
            "tags": []
          },
          "execution_count": 47
        }
      ]
    },
    {
      "cell_type": "code",
      "metadata": {
        "id": "a4O4HNVPF1xD",
        "colab_type": "code",
        "colab": {},
        "outputId": "5e426f3c-f44c-4750-afe2-f048718a9a00"
      },
      "source": [
        "# check the number of dimensions\n",
        "my_3D.ndim"
      ],
      "execution_count": 0,
      "outputs": [
        {
          "output_type": "execute_result",
          "data": {
            "text/plain": [
              "3"
            ]
          },
          "metadata": {
            "tags": []
          },
          "execution_count": 48
        }
      ]
    },
    {
      "cell_type": "code",
      "metadata": {
        "id": "RCfFBtAYF1xF",
        "colab_type": "code",
        "colab": {},
        "outputId": "674abb33-7721-4466-f6fd-65db713eadc8"
      },
      "source": [
        "# get the shape of the 3-D array - this example has 2 pages, 2 rows and 3 columns: (p, r, c)\n",
        "my_3D.shape"
      ],
      "execution_count": 0,
      "outputs": [
        {
          "output_type": "execute_result",
          "data": {
            "text/plain": [
              "(2, 2, 3)"
            ]
          },
          "metadata": {
            "tags": []
          },
          "execution_count": 50
        }
      ]
    },
    {
      "cell_type": "markdown",
      "metadata": {
        "id": "kvUf_imKF1xN",
        "colab_type": "text"
      },
      "source": [
        "We can also create 3-D arrays with methods such as `ones`, `zeros`, `full`, and `empty` by passing the configuration for `[page, row, columns]` into the shape parameter of the methods. For example:"
      ]
    },
    {
      "cell_type": "code",
      "metadata": {
        "id": "qQOR3eIEF1xO",
        "colab_type": "code",
        "colab": {},
        "outputId": "93030086-ffbd-4a6c-a35c-eec5f0f4ada9"
      },
      "source": [
        "# create a 2-page, 3x3 array of ones\n",
        "np.ones([2,3,3])"
      ],
      "execution_count": 0,
      "outputs": [
        {
          "output_type": "execute_result",
          "data": {
            "text/plain": [
              "array([[[1., 1., 1.],\n",
              "        [1., 1., 1.],\n",
              "        [1., 1., 1.]],\n",
              "\n",
              "       [[1., 1., 1.],\n",
              "        [1., 1., 1.],\n",
              "        [1., 1., 1.]]])"
            ]
          },
          "metadata": {
            "tags": []
          },
          "execution_count": 51
        }
      ]
    },
    {
      "cell_type": "code",
      "metadata": {
        "id": "VbmCaGrcF1xR",
        "colab_type": "code",
        "colab": {},
        "outputId": "add6c614-0eed-4d12-8797-0c09dec7e4f4"
      },
      "source": [
        "# create a 2-page, 3x3 array of zeros\n",
        "np.zeros([2,3,3])"
      ],
      "execution_count": 0,
      "outputs": [
        {
          "output_type": "execute_result",
          "data": {
            "text/plain": [
              "array([[[0., 0., 0.],\n",
              "        [0., 0., 0.],\n",
              "        [0., 0., 0.]],\n",
              "\n",
              "       [[0., 0., 0.],\n",
              "        [0., 0., 0.],\n",
              "        [0., 0., 0.]]])"
            ]
          },
          "metadata": {
            "tags": []
          },
          "execution_count": 52
        }
      ]
    },
    {
      "cell_type": "markdown",
      "metadata": {
        "id": "H3lYCtf5F1xT",
        "colab_type": "text"
      },
      "source": [
        "### Indexing/ Slicing of Matrices\n",
        "\n",
        "Let’s see some examples of indexing and slicing two dimensional arrays. The concept extend nicely from doing the same with 1-D arrays."
      ]
    },
    {
      "cell_type": "code",
      "metadata": {
        "id": "kFe3ryYAF1xT",
        "colab_type": "code",
        "colab": {},
        "outputId": "01a77423-24bc-4e24-f6b8-46419a67cae4"
      },
      "source": [
        "# create a 3x3 array contain random normal numbers\n",
        "my_3D = np.random.randn(3,3)\n",
        "my_3D"
      ],
      "execution_count": 0,
      "outputs": [
        {
          "output_type": "execute_result",
          "data": {
            "text/plain": [
              "array([[-1.02147655, -0.79475226, -0.99177578],\n",
              "       [ 0.54051695, -0.45740188, -0.13316795],\n",
              "       [ 0.65666835, -0.63720061, -0.25384248]])"
            ]
          },
          "metadata": {
            "tags": []
          },
          "execution_count": 54
        }
      ]
    },
    {
      "cell_type": "code",
      "metadata": {
        "id": "Sxu5-kCdF1xV",
        "colab_type": "code",
        "colab": {},
        "outputId": "d6311726-b74f-4fb8-a1a9-5bbf8eb85d5f"
      },
      "source": [
        "# select a particular cell (or element) from a 2-D array.\n",
        "# In this case, the cell at the 2nd row and column\n",
        "my_3D[1,1]    "
      ],
      "execution_count": 0,
      "outputs": [
        {
          "output_type": "execute_result",
          "data": {
            "text/plain": [
              "-0.4574018774910409"
            ]
          },
          "metadata": {
            "tags": []
          },
          "execution_count": 55
        }
      ]
    },
    {
      "cell_type": "code",
      "metadata": {
        "id": "BjmN1bqZF1xX",
        "colab_type": "code",
        "colab": {},
        "outputId": "132fdcb0-b5ad-49bf-e325-83c61d9ee080"
      },
      "source": [
        "# slice the last 3 columns\n",
        "my_3D[:,1:3]"
      ],
      "execution_count": 0,
      "outputs": [
        {
          "output_type": "execute_result",
          "data": {
            "text/plain": [
              "array([[-0.79475226, -0.99177578],\n",
              "       [-0.45740188, -0.13316795],\n",
              "       [-0.63720061, -0.25384248]])"
            ]
          },
          "metadata": {
            "tags": []
          },
          "execution_count": 56
        }
      ]
    },
    {
      "cell_type": "code",
      "metadata": {
        "id": "cTY6xDI-F1xa",
        "colab_type": "code",
        "colab": {},
        "outputId": "f151ce86-6ff8-4bdd-e730-2769cc1b6012"
      },
      "source": [
        "# slice the first 2 rows and columns\n",
        "my_3D[0:2, 0:2]"
      ],
      "execution_count": 0,
      "outputs": [
        {
          "output_type": "execute_result",
          "data": {
            "text/plain": [
              "array([[-1.02147655, -0.79475226],\n",
              "       [ 0.54051695, -0.45740188]])"
            ]
          },
          "metadata": {
            "tags": []
          },
          "execution_count": 57
        }
      ]
    },
    {
      "cell_type": "markdown",
      "metadata": {
        "id": "mXXhTV8SF1xd",
        "colab_type": "text"
      },
      "source": [
        "## Matrix Operations: Linear Algebra\n",
        "Linear Algebra is a convenient and powerful system for manipulating a set of data features and is one of the strong points of NumPy."
      ]
    },
    {
      "cell_type": "markdown",
      "metadata": {
        "id": "ANWI9O0ZF1xd",
        "colab_type": "text"
      },
      "source": [
        "### Matrix Multiplication (dot product)\n",
        "First let’s create random integers using the method `np.random.randint(low, high=None, size=None,)` which returns random integers from low (inclusive) to high (exclusive)."
      ]
    },
    {
      "cell_type": "code",
      "metadata": {
        "id": "2v5-bJXTF1xe",
        "colab_type": "code",
        "colab": {}
      },
      "source": [
        "# create a 3x3 matrix of random integers in the range of 1 to 50\n",
        "A = np.random.randint(1, 50, size=[3,3])\n",
        "B = np.random.randint(1, 50, size=[3,3])"
      ],
      "execution_count": 0,
      "outputs": []
    },
    {
      "cell_type": "code",
      "metadata": {
        "id": "wayUPElLF1xg",
        "colab_type": "code",
        "colab": {},
        "outputId": "8a329d85-438d-4d6a-e1a6-4c182eb62dc8"
      },
      "source": [
        "# print the array A\n",
        "A"
      ],
      "execution_count": 0,
      "outputs": [
        {
          "output_type": "execute_result",
          "data": {
            "text/plain": [
              "array([[38,  4, 20],\n",
              "       [40, 17, 49],\n",
              "       [19, 46, 40]])"
            ]
          },
          "metadata": {
            "tags": []
          },
          "execution_count": 5
        }
      ]
    },
    {
      "cell_type": "code",
      "metadata": {
        "id": "J32GSroGF1xk",
        "colab_type": "code",
        "colab": {},
        "outputId": "1aab7489-9181-4ece-89e0-1d2b8e1806f1"
      },
      "source": [
        "# print the array A\n",
        "B"
      ],
      "execution_count": 0,
      "outputs": [
        {
          "output_type": "execute_result",
          "data": {
            "text/plain": [
              "array([[ 9, 10,  5],\n",
              "       [45, 30, 32],\n",
              "       [27, 45, 21]])"
            ]
          },
          "metadata": {
            "tags": []
          },
          "execution_count": 6
        }
      ]
    },
    {
      "cell_type": "markdown",
      "metadata": {
        "id": "Pb45x_5jF1xn",
        "colab_type": "text"
      },
      "source": [
        "We can use the following routines for matrix multiplication, `np.matmul(a,b)` or `a @ b` if using Python 3.6.  \n",
        "Remember that when multiplying matrices, the inner matrix dimensions must agree. For example, if A\n",
        "is an `m×n` matrix and B is an `n×p` matrix, the product of the matrices will be an `m×p` matrix with the inner dimensions of the respective matrices `n` agreeing.  \n",
        "![Matrix multiplication](https://ekababisong.org/assets/seminar_IEEE/matrix_mul.png)"
      ]
    },
    {
      "cell_type": "code",
      "metadata": {
        "id": "Mk6-R1pzF1xn",
        "colab_type": "code",
        "colab": {},
        "outputId": "5949a47e-32a9-425f-84b3-3b85a3820add"
      },
      "source": [
        "# multiply the two matrices A and B (dot product)\n",
        "A @ B    # or np.matmul(A,B)"
      ],
      "execution_count": 0,
      "outputs": [
        {
          "output_type": "execute_result",
          "data": {
            "text/plain": [
              "array([[1062, 1400,  738],\n",
              "       [2448, 3115, 1773],\n",
              "       [3321, 3370, 2407]])"
            ]
          },
          "metadata": {
            "tags": []
          },
          "execution_count": 7
        }
      ]
    },
    {
      "cell_type": "code",
      "metadata": {
        "id": "xxrknj7xF1xp",
        "colab_type": "code",
        "colab": {},
        "outputId": "2fc397e8-becb-4ebc-b799-ccf0c20a5d53"
      },
      "source": [
        "np.matmul(A,B)"
      ],
      "execution_count": 0,
      "outputs": [
        {
          "output_type": "execute_result",
          "data": {
            "text/plain": [
              "array([[1062, 1400,  738],\n",
              "       [2448, 3115, 1773],\n",
              "       [3321, 3370, 2407]])"
            ]
          },
          "metadata": {
            "tags": []
          },
          "execution_count": 8
        }
      ]
    },
    {
      "cell_type": "markdown",
      "metadata": {
        "id": "PhaSzAPkF1xr",
        "colab_type": "text"
      },
      "source": [
        "### Element-wise operations\n",
        "Element-wise matrix operations involve matrices operating on themselves in an element-wise fashion. The action can be an addition, subtraction, division or multiplication (which is commonly called the Hadamard product). The matrices must be of the same shape. **Please note** that while a matrix is of shape `n×n`, a vector is of shape `n×1`. These concepts easily apply to vectors as well.\n",
        "![Element-wise matrix operations](https://ekababisong.org/assets/seminar_IEEE/element-wise.png)"
      ]
    },
    {
      "cell_type": "markdown",
      "metadata": {
        "id": "odt9enFWF1xr",
        "colab_type": "text"
      },
      "source": [
        "Let’s have some examples."
      ]
    },
    {
      "cell_type": "code",
      "metadata": {
        "id": "UB4-aOdDF1xr",
        "colab_type": "code",
        "colab": {},
        "outputId": "ef4ec39c-7e54-4028-8fd8-c8a7b20ec985"
      },
      "source": [
        "# Hadamard multiplication of A and B\n",
        "A * B"
      ],
      "execution_count": 0,
      "outputs": [
        {
          "output_type": "execute_result",
          "data": {
            "text/plain": [
              "array([[ 342,   40,  100],\n",
              "       [1800,  510, 1568],\n",
              "       [ 513, 2070,  840]])"
            ]
          },
          "metadata": {
            "tags": []
          },
          "execution_count": 9
        }
      ]
    },
    {
      "cell_type": "code",
      "metadata": {
        "id": "GjDsahkfF1xu",
        "colab_type": "code",
        "colab": {},
        "outputId": "81d4adf7-ab39-4928-e75c-a7a89b0ffd4b"
      },
      "source": [
        "# add A and B\n",
        "A + B"
      ],
      "execution_count": 0,
      "outputs": [
        {
          "output_type": "execute_result",
          "data": {
            "text/plain": [
              "array([[47, 14, 25],\n",
              "       [85, 47, 81],\n",
              "       [46, 91, 61]])"
            ]
          },
          "metadata": {
            "tags": []
          },
          "execution_count": 10
        }
      ]
    },
    {
      "cell_type": "code",
      "metadata": {
        "id": "cZMn46_xF1xw",
        "colab_type": "code",
        "colab": {},
        "outputId": "dc42d696-9356-4d64-b72a-4f11326bd717"
      },
      "source": [
        "# subtract A from B\n",
        "B - A"
      ],
      "execution_count": 0,
      "outputs": [
        {
          "output_type": "execute_result",
          "data": {
            "text/plain": [
              "array([[-29,   6, -15],\n",
              "       [  5,  13, -17],\n",
              "       [  8,  -1, -19]])"
            ]
          },
          "metadata": {
            "tags": []
          },
          "execution_count": 11
        }
      ]
    },
    {
      "cell_type": "code",
      "metadata": {
        "id": "eo_Iw2dqF1xz",
        "colab_type": "code",
        "colab": {},
        "outputId": "2523343d-a2d7-4cf6-bb66-5d8ff40fd1db"
      },
      "source": [
        "# divide A with B\n",
        "A / B"
      ],
      "execution_count": 0,
      "outputs": [
        {
          "output_type": "execute_result",
          "data": {
            "text/plain": [
              "array([[4.22222222, 0.4       , 4.        ],\n",
              "       [0.88888889, 0.56666667, 1.53125   ],\n",
              "       [0.7037037 , 1.02222222, 1.9047619 ]])"
            ]
          },
          "metadata": {
            "tags": []
          },
          "execution_count": 13
        }
      ]
    },
    {
      "cell_type": "markdown",
      "metadata": {
        "id": "Z2VeHsdtF1x1",
        "colab_type": "text"
      },
      "source": [
        "### Scalar Operation\n",
        "\n",
        "A matrix can be acted upon by a scalar (i.e., a single numeric entity) in the same way element-wise fashion. This time the scalar operates upon each element of the matrix or vector.\n",
        "![Scalar operations](https://ekababisong.org/assets/seminar_IEEE/scalar-op.png)"
      ]
    },
    {
      "cell_type": "markdown",
      "metadata": {
        "id": "L_SwUiHvF1x1",
        "colab_type": "text"
      },
      "source": [
        "Let’s look at some examples."
      ]
    },
    {
      "cell_type": "code",
      "metadata": {
        "id": "M67DwzdwF1x2",
        "colab_type": "code",
        "colab": {},
        "outputId": "3d95bf68-f947-4207-e333-68871b4d7413"
      },
      "source": [
        "# Hadamard multiplication of A and a scalar, 0.5\n",
        "A * 0.5"
      ],
      "execution_count": 0,
      "outputs": [
        {
          "output_type": "execute_result",
          "data": {
            "text/plain": [
              "array([[19. ,  2. , 10. ],\n",
              "       [20. ,  8.5, 24.5],\n",
              "       [ 9.5, 23. , 20. ]])"
            ]
          },
          "metadata": {
            "tags": []
          },
          "execution_count": 14
        }
      ]
    },
    {
      "cell_type": "code",
      "metadata": {
        "id": "7EzXft1kF1x6",
        "colab_type": "code",
        "colab": {},
        "outputId": "83589ed0-b13b-4ca8-fe72-bd96967a9a44"
      },
      "source": [
        "# add A and a scalar, 0.5\n",
        "A + 0.5"
      ],
      "execution_count": 0,
      "outputs": [
        {
          "output_type": "execute_result",
          "data": {
            "text/plain": [
              "array([[38.5,  4.5, 20.5],\n",
              "       [40.5, 17.5, 49.5],\n",
              "       [19.5, 46.5, 40.5]])"
            ]
          },
          "metadata": {
            "tags": []
          },
          "execution_count": 15
        }
      ]
    },
    {
      "cell_type": "code",
      "metadata": {
        "id": "41NdIZdSF1x-",
        "colab_type": "code",
        "colab": {},
        "outputId": "879d6f31-fcba-46b7-fc0a-5303d4a639f5"
      },
      "source": [
        "# subtract a scalar 0.5 from B\n",
        "B - 0.5"
      ],
      "execution_count": 0,
      "outputs": [
        {
          "output_type": "execute_result",
          "data": {
            "text/plain": [
              "array([[ 8.5,  9.5,  4.5],\n",
              "       [44.5, 29.5, 31.5],\n",
              "       [26.5, 44.5, 20.5]])"
            ]
          },
          "metadata": {
            "tags": []
          },
          "execution_count": 16
        }
      ]
    },
    {
      "cell_type": "code",
      "metadata": {
        "id": "jWjbAjXmF1yF",
        "colab_type": "code",
        "colab": {},
        "outputId": "49bd7eb3-f709-4fe7-d93f-4e1e98a716f0"
      },
      "source": [
        "# divide A and a scalar, 0.5\n",
        "A / 0.5"
      ],
      "execution_count": 0,
      "outputs": [
        {
          "output_type": "execute_result",
          "data": {
            "text/plain": [
              "array([[76.,  8., 40.],\n",
              "       [80., 34., 98.],\n",
              "       [38., 92., 80.]])"
            ]
          },
          "metadata": {
            "tags": []
          },
          "execution_count": 17
        }
      ]
    },
    {
      "cell_type": "markdown",
      "metadata": {
        "id": "TxK2GfS7F1yI",
        "colab_type": "text"
      },
      "source": [
        "### Matrix Transposition\n",
        "\n",
        "Transposition is a vital matrix operation that reverses the rows and columns of a matrix by flipping the row and column indices. The transpose of a matrix is denoted as $A^T$. Observe that the diagonal elements remain unchanged.\n",
        "![Matrix transpose](https://ekababisong.org/assets/seminar_IEEE/matrix-transpose.png)"
      ]
    },
    {
      "cell_type": "markdown",
      "metadata": {
        "id": "PgBP6xdhF1yJ",
        "colab_type": "text"
      },
      "source": [
        "Let’s see an example."
      ]
    },
    {
      "cell_type": "code",
      "metadata": {
        "id": "4AWAqSjqF1yJ",
        "colab_type": "code",
        "colab": {},
        "outputId": "962ec41f-f41c-446b-f7d5-f58c327528f4"
      },
      "source": [
        "A = np.array([[15, 29, 24],\n",
        "                [ 5, 23, 26],\n",
        "                [30, 14, 44]])\n",
        "# transpose A\n",
        "A.T   # or A.transpose()"
      ],
      "execution_count": 0,
      "outputs": [
        {
          "output_type": "execute_result",
          "data": {
            "text/plain": [
              "array([[15,  5, 30],\n",
              "       [29, 23, 14],\n",
              "       [24, 26, 44]])"
            ]
          },
          "metadata": {
            "tags": []
          },
          "execution_count": 18
        }
      ]
    },
    {
      "cell_type": "markdown",
      "metadata": {
        "id": "0OBU4kjhF1yL",
        "colab_type": "text"
      },
      "source": [
        "### The Inverse of a Matrix\n",
        "**Note:** A square matrix is a matrix that has the same number of rows and columns.\n",
        "\n",
        "Let’s use NumPy to get the inverse of a matrix. Some linear algebra modules are found in a sub-module of NumPy called `linalg`."
      ]
    },
    {
      "cell_type": "code",
      "metadata": {
        "id": "ZeUe2q5bF1yM",
        "colab_type": "code",
        "colab": {},
        "outputId": "5ec3a4a0-f759-4a13-cb6f-321be5efed7d"
      },
      "source": [
        "A = np.array([[15, 29, 24],\n",
        "                [ 5, 23, 26],\n",
        "                [30, 14, 44]])\n",
        "# find the inverse of A\n",
        "np.linalg.inv(A)"
      ],
      "execution_count": 0,
      "outputs": [
        {
          "output_type": "execute_result",
          "data": {
            "text/plain": [
              "array([[ 0.05848375, -0.08483755,  0.01823105],\n",
              "       [ 0.05054152, -0.00541516, -0.02436823],\n",
              "       [-0.05595668,  0.05956679,  0.01805054]])"
            ]
          },
          "metadata": {
            "tags": []
          },
          "execution_count": 19
        }
      ]
    },
    {
      "cell_type": "markdown",
      "metadata": {
        "id": "ELuhPRSjF1yQ",
        "colab_type": "text"
      },
      "source": [
        "NumPy also implement the ***Moore-Penrose pseudo inverse***, which gives an inverse derivation for degenerate matrices. Here, we use the `pinv` to find the inverses of invertible matrices."
      ]
    },
    {
      "cell_type": "code",
      "metadata": {
        "id": "LM4jJVfjF1yR",
        "colab_type": "code",
        "colab": {},
        "outputId": "016f456e-6b61-40a4-91bb-400d9de741af"
      },
      "source": [
        "# using pinv()\n",
        "np.linalg.pinv(A)"
      ],
      "execution_count": 0,
      "outputs": [
        {
          "output_type": "execute_result",
          "data": {
            "text/plain": [
              "array([[ 0.05848375, -0.08483755,  0.01823105],\n",
              "       [ 0.05054152, -0.00541516, -0.02436823],\n",
              "       [-0.05595668,  0.05956679,  0.01805054]])"
            ]
          },
          "metadata": {
            "tags": []
          },
          "execution_count": 20
        }
      ]
    },
    {
      "cell_type": "markdown",
      "metadata": {
        "id": "rz7V0PAeF1yU",
        "colab_type": "text"
      },
      "source": [
        "## Reshaping\n",
        "\n",
        "A NumPy array can be restructured to take-on a different shape. Let’s convert a 1-D array to a `m×n` matrix."
      ]
    },
    {
      "cell_type": "code",
      "metadata": {
        "id": "70n3vDxHF1yU",
        "colab_type": "code",
        "colab": {},
        "outputId": "2a7c5030-b5d2-4843-a59b-ec6dcff85b03"
      },
      "source": [
        "# make 20 elements evenly spaced between 0 and 5\n",
        "a = np.linspace(0,5,20)\n",
        "a"
      ],
      "execution_count": 0,
      "outputs": [
        {
          "output_type": "execute_result",
          "data": {
            "text/plain": [
              "array([0.        , 0.26315789, 0.52631579, 0.78947368, 1.05263158,\n",
              "       1.31578947, 1.57894737, 1.84210526, 2.10526316, 2.36842105,\n",
              "       2.63157895, 2.89473684, 3.15789474, 3.42105263, 3.68421053,\n",
              "       3.94736842, 4.21052632, 4.47368421, 4.73684211, 5.        ])"
            ]
          },
          "metadata": {
            "tags": []
          },
          "execution_count": 21
        }
      ]
    },
    {
      "cell_type": "code",
      "metadata": {
        "id": "rncJevApF1yW",
        "colab_type": "code",
        "colab": {},
        "outputId": "b1db42ac-b3e6-440a-cba8-2bfab871ade9"
      },
      "source": [
        "# observe that a is a 1-D array\n",
        "a.shape"
      ],
      "execution_count": 0,
      "outputs": [
        {
          "output_type": "execute_result",
          "data": {
            "text/plain": [
              "(20,)"
            ]
          },
          "metadata": {
            "tags": []
          },
          "execution_count": 22
        }
      ]
    },
    {
      "cell_type": "code",
      "metadata": {
        "id": "ZlT7_Ql_F1yY",
        "colab_type": "code",
        "colab": {},
        "outputId": "4845bc08-e650-4400-c511-4b2a5f2809cd"
      },
      "source": [
        "# reshape into a 5 x 4 matrix\n",
        "A = a.reshape(5, 4)\n",
        "A"
      ],
      "execution_count": 0,
      "outputs": [
        {
          "output_type": "execute_result",
          "data": {
            "text/plain": [
              "array([[0.        , 0.26315789, 0.52631579, 0.78947368],\n",
              "       [1.05263158, 1.31578947, 1.57894737, 1.84210526],\n",
              "       [2.10526316, 2.36842105, 2.63157895, 2.89473684],\n",
              "       [3.15789474, 3.42105263, 3.68421053, 3.94736842],\n",
              "       [4.21052632, 4.47368421, 4.73684211, 5.        ]])"
            ]
          },
          "metadata": {
            "tags": []
          },
          "execution_count": 23
        }
      ]
    },
    {
      "cell_type": "code",
      "metadata": {
        "id": "6XRYOT9bF1yb",
        "colab_type": "code",
        "colab": {},
        "outputId": "52cbeaf6-e782-4cb1-a6b7-1a8c930d7555"
      },
      "source": [
        "# The vector a has been reshaped into a 5 by 4 matrix A\n",
        "A.shape"
      ],
      "execution_count": 0,
      "outputs": [
        {
          "output_type": "execute_result",
          "data": {
            "text/plain": [
              "(5, 4)"
            ]
          },
          "metadata": {
            "tags": []
          },
          "execution_count": 24
        }
      ]
    },
    {
      "cell_type": "markdown",
      "metadata": {
        "id": "jApF_jvqF1yd",
        "colab_type": "text"
      },
      "source": [
        "### Reshape vs. Resize Method\n",
        "\n",
        "NumPy has the `np.reshape` and `np.resize` methods. The reshape method returns an ndarray with a modified shape without changing the original array, whereas the resize method changes the original array. Let’s see an example."
      ]
    },
    {
      "cell_type": "code",
      "metadata": {
        "id": "HFM4ka-4F1yd",
        "colab_type": "code",
        "colab": {},
        "outputId": "cb04aa0c-3614-4aac-f6b8-4abd672d2e49"
      },
      "source": [
        "# generate 9 elements evenly spaced between 0 and 5\n",
        "a = np.linspace(0,5,9)\n",
        "a"
      ],
      "execution_count": 0,
      "outputs": [
        {
          "output_type": "execute_result",
          "data": {
            "text/plain": [
              "array([0.   , 0.625, 1.25 , 1.875, 2.5  , 3.125, 3.75 , 4.375, 5.   ])"
            ]
          },
          "metadata": {
            "tags": []
          },
          "execution_count": 25
        }
      ]
    },
    {
      "cell_type": "code",
      "metadata": {
        "id": "-TJH0CRCF1yf",
        "colab_type": "code",
        "colab": {},
        "outputId": "51ffdce7-e208-4916-a0a2-48e6c96eae25"
      },
      "source": [
        "# the original shape\n",
        "a.shape"
      ],
      "execution_count": 0,
      "outputs": [
        {
          "output_type": "execute_result",
          "data": {
            "text/plain": [
              "(9,)"
            ]
          },
          "metadata": {
            "tags": []
          },
          "execution_count": 26
        }
      ]
    },
    {
      "cell_type": "code",
      "metadata": {
        "id": "-ORCmLwFF1yg",
        "colab_type": "code",
        "colab": {},
        "outputId": "ab54b5fc-2cf4-491d-9bd7-a7f0ddf220d8"
      },
      "source": [
        "# call the resahpe method\n",
        "a.reshape(3,3)"
      ],
      "execution_count": 0,
      "outputs": [
        {
          "output_type": "execute_result",
          "data": {
            "text/plain": [
              "array([[0.   , 0.625, 1.25 ],\n",
              "       [1.875, 2.5  , 3.125],\n",
              "       [3.75 , 4.375, 5.   ]])"
            ]
          },
          "metadata": {
            "tags": []
          },
          "execution_count": 27
        }
      ]
    },
    {
      "cell_type": "code",
      "metadata": {
        "id": "0ZgYqfu5F1yi",
        "colab_type": "code",
        "colab": {},
        "outputId": "c0900cf7-a0b2-495b-d4fd-17b0d30f6748"
      },
      "source": [
        "# the original array maintained it's shape\n",
        "a.shape"
      ],
      "execution_count": 0,
      "outputs": [
        {
          "output_type": "execute_result",
          "data": {
            "text/plain": [
              "(9,)"
            ]
          },
          "metadata": {
            "tags": []
          },
          "execution_count": 28
        }
      ]
    },
    {
      "cell_type": "code",
      "metadata": {
        "id": "MfhWOTE0F1yl",
        "colab_type": "code",
        "colab": {}
      },
      "source": [
        "# call the resize method - resize does not return an array\n",
        "a.resize(3,3)"
      ],
      "execution_count": 0,
      "outputs": []
    },
    {
      "cell_type": "code",
      "metadata": {
        "id": "k9aP-3XnF1ym",
        "colab_type": "code",
        "colab": {},
        "outputId": "9e587a10-3a7b-4986-abd9-9fc62fd74187"
      },
      "source": [
        "# the resize method has changed the shape of the original array\n",
        "a.shape"
      ],
      "execution_count": 0,
      "outputs": [
        {
          "output_type": "execute_result",
          "data": {
            "text/plain": [
              "(3, 3)"
            ]
          },
          "metadata": {
            "tags": []
          },
          "execution_count": 30
        }
      ]
    },
    {
      "cell_type": "markdown",
      "metadata": {
        "id": "wsxmIs6sF1yn",
        "colab_type": "text"
      },
      "source": [
        "### Stacking Arrays\n",
        "\n",
        "NumPy has methods for concatenating arrays - also called stacking. The methods `hstack` and `vstack` are used to stack several arrays along the horizontal and vertical axis respectively."
      ]
    },
    {
      "cell_type": "code",
      "metadata": {
        "id": "UH80J6YWF1yn",
        "colab_type": "code",
        "colab": {}
      },
      "source": [
        "# create a 2x2 matrix of random integers in the range of 1 to 20\n",
        "A = np.random.randint(1, 50, size=[3,3])\n",
        "B = np.random.randint(1, 50, size=[3,3])"
      ],
      "execution_count": 0,
      "outputs": []
    },
    {
      "cell_type": "code",
      "metadata": {
        "id": "15WMGF0JF1yo",
        "colab_type": "code",
        "colab": {},
        "outputId": "9450c49b-5bda-45ec-9b64-d8c84d0cd5c2"
      },
      "source": [
        "# print out the array A\n",
        "A"
      ],
      "execution_count": 0,
      "outputs": [
        {
          "output_type": "execute_result",
          "data": {
            "text/plain": [
              "array([[16, 29, 20],\n",
              "       [12,  3, 33],\n",
              "       [ 1, 36, 29]])"
            ]
          },
          "metadata": {
            "tags": []
          },
          "execution_count": 32
        }
      ]
    },
    {
      "cell_type": "code",
      "metadata": {
        "id": "MnMNE7DGF1yq",
        "colab_type": "code",
        "colab": {},
        "outputId": "7ddcd8d5-f850-4d22-c51f-009fb31bc165"
      },
      "source": [
        "# print out the array B\n",
        "B"
      ],
      "execution_count": 0,
      "outputs": [
        {
          "output_type": "execute_result",
          "data": {
            "text/plain": [
              "array([[12, 39, 31],\n",
              "       [36, 21,  3],\n",
              "       [49,  2, 34]])"
            ]
          },
          "metadata": {
            "tags": []
          },
          "execution_count": 33
        }
      ]
    },
    {
      "cell_type": "markdown",
      "metadata": {
        "id": "nNM0OluIF1yr",
        "colab_type": "text"
      },
      "source": [
        "Let’s stack `A` and `B` horizontally using `hstack`. To use `hstack`, the arrays must have the same number of rows. Also, the arrays to be stacked are passed as a tuple to the `hstack` method."
      ]
    },
    {
      "cell_type": "code",
      "metadata": {
        "id": "lVzjge23F1ys",
        "colab_type": "code",
        "colab": {},
        "outputId": "d5578af3-065e-4861-86da-d0a9f7abfbe6"
      },
      "source": [
        "# arrays are passed as tuple to hstack\n",
        "np.hstack((A,B))"
      ],
      "execution_count": 0,
      "outputs": [
        {
          "output_type": "execute_result",
          "data": {
            "text/plain": [
              "array([[16, 29, 20, 12, 39, 31],\n",
              "       [12,  3, 33, 36, 21,  3],\n",
              "       [ 1, 36, 29, 49,  2, 34]])"
            ]
          },
          "metadata": {
            "tags": []
          },
          "execution_count": 34
        }
      ]
    },
    {
      "cell_type": "markdown",
      "metadata": {
        "id": "HzMz-OlyF1yu",
        "colab_type": "text"
      },
      "source": [
        "To stack `A` and `B` vertically using `vstack` the arrays must have the same number of columns. The arrays to be stacked are also passed as a tuple to the `vstack` method."
      ]
    },
    {
      "cell_type": "code",
      "metadata": {
        "id": "mdZiH14SF1yu",
        "colab_type": "code",
        "colab": {},
        "outputId": "14f98fc2-0378-430e-f309-32ca68fc6c62"
      },
      "source": [
        "# arrays are passed as tuple to hstack\n",
        "np.vstack((A,B))"
      ],
      "execution_count": 0,
      "outputs": [
        {
          "output_type": "execute_result",
          "data": {
            "text/plain": [
              "array([[16, 29, 20],\n",
              "       [12,  3, 33],\n",
              "       [ 1, 36, 29],\n",
              "       [12, 39, 31],\n",
              "       [36, 21,  3],\n",
              "       [49,  2, 34]])"
            ]
          },
          "metadata": {
            "tags": []
          },
          "execution_count": 35
        }
      ]
    },
    {
      "cell_type": "markdown",
      "metadata": {
        "id": "OMxUMwpBF1yv",
        "colab_type": "text"
      },
      "source": [
        "## Broadcasting\n",
        "NumPy has an elegant mechanism for arithmetic operation on arrays with different dimensions or shapes. As an example, when a scalar is added to a vector (or 1-D array). The scalar value is conceptually broadcasted or stretched across the rows of the array and added element-wise.\n",
        "![Broadcasting example of adding a scalar to a vector (or 1-D array)](https://ekababisong.org/assets/seminar_IEEE/scalar-broadcast.png)"
      ]
    },
    {
      "cell_type": "markdown",
      "metadata": {
        "id": "ul92Us91F1yw",
        "colab_type": "text"
      },
      "source": [
        "Matrices with different shapes can be broadcasted to perform arithmetic operations by stretching the dimension of the smaller array. Broadcasting is another vectorized operation for speeding up matrix processing. However, not all arrays with different shapes can be broadcasted. **For broadcasting to occur, the trailing axes for the arrays must be the same size or 1.**\n",
        "\n",
        "See the figure below for more illustration.\n",
        "![Matrix broadcasting example](https://ekababisong.org/assets/seminar_IEEE/matrix-broadcast.png)\n",
        "Let’s see this in code."
      ]
    },
    {
      "cell_type": "code",
      "metadata": {
        "id": "lTj2nuJyF1yw",
        "colab_type": "code",
        "colab": {},
        "outputId": "6319092c-4eed-425a-9e46-348c5046c665"
      },
      "source": [
        "# create a 4 X 3 matrix of random integers between 1 and 10\n",
        "A = np.random.randint(1, 10, [4, 3])\n",
        "A"
      ],
      "execution_count": 0,
      "outputs": [
        {
          "output_type": "execute_result",
          "data": {
            "text/plain": [
              "array([[1, 9, 8],\n",
              "       [3, 6, 5],\n",
              "       [4, 5, 2],\n",
              "       [1, 2, 7]])"
            ]
          },
          "metadata": {
            "tags": []
          },
          "execution_count": 36
        }
      ]
    },
    {
      "cell_type": "code",
      "metadata": {
        "id": "6zaRFzlYF1yz",
        "colab_type": "code",
        "colab": {},
        "outputId": "46d2ef48-0327-48ab-d2a6-a1987169c438"
      },
      "source": [
        "# create a 4 X 1 matrix of random integers between 1 and 10\n",
        "B = np.random.randint(1, 10, [4, 1])\n",
        "B"
      ],
      "execution_count": 0,
      "outputs": [
        {
          "output_type": "execute_result",
          "data": {
            "text/plain": [
              "array([[6],\n",
              "       [8],\n",
              "       [2],\n",
              "       [2]])"
            ]
          },
          "metadata": {
            "tags": []
          },
          "execution_count": 37
        }
      ]
    },
    {
      "cell_type": "code",
      "metadata": {
        "id": "LLt_oZYTF1y1",
        "colab_type": "code",
        "colab": {},
        "outputId": "c395f857-950e-4c85-82f4-3a79a45b9216"
      },
      "source": [
        "# add A and B\n",
        "A + B"
      ],
      "execution_count": 0,
      "outputs": [
        {
          "output_type": "execute_result",
          "data": {
            "text/plain": [
              "array([[ 7, 15, 14],\n",
              "       [11, 14, 13],\n",
              "       [ 6,  7,  4],\n",
              "       [ 3,  4,  9]])"
            ]
          },
          "metadata": {
            "tags": []
          },
          "execution_count": 38
        }
      ]
    },
    {
      "cell_type": "markdown",
      "metadata": {
        "id": "9aQzA1IXF1y3",
        "colab_type": "text"
      },
      "source": [
        "The example below cannot be broadcasted and will result in a `ValueError: operands could not be broadcast together with shapes (4,3) (4,2)` because the matrix `A` and `B` have different columns and does not fit with the afore-mention rules of broadcasting that the trailing axes for the arrays must be the same size or 1."
      ]
    },
    {
      "cell_type": "code",
      "metadata": {
        "id": "bxOQrd_5F1y4",
        "colab_type": "code",
        "colab": {},
        "outputId": "fe8be8db-0eb3-4fd3-c5ce-8db723a819a6"
      },
      "source": [
        "A = np.random.randint(1, 10, [4, 3])\n",
        "B = np.random.randint(1, 10, [4, 2])\n",
        "A + B"
      ],
      "execution_count": 0,
      "outputs": [
        {
          "output_type": "error",
          "ename": "ValueError",
          "evalue": "operands could not be broadcast together with shapes (4,3) (4,2) ",
          "traceback": [
            "\u001b[0;31m---------------------------------------------------------------------------\u001b[0m",
            "\u001b[0;31mValueError\u001b[0m                                Traceback (most recent call last)",
            "\u001b[0;32m<ipython-input-39-32e0fac26b76>\u001b[0m in \u001b[0;36m<module>\u001b[0;34m()\u001b[0m\n\u001b[1;32m      1\u001b[0m \u001b[0mA\u001b[0m \u001b[0;34m=\u001b[0m \u001b[0mnp\u001b[0m\u001b[0;34m.\u001b[0m\u001b[0mrandom\u001b[0m\u001b[0;34m.\u001b[0m\u001b[0mrandint\u001b[0m\u001b[0;34m(\u001b[0m\u001b[0;36m1\u001b[0m\u001b[0;34m,\u001b[0m \u001b[0;36m10\u001b[0m\u001b[0;34m,\u001b[0m \u001b[0;34m[\u001b[0m\u001b[0;36m4\u001b[0m\u001b[0;34m,\u001b[0m \u001b[0;36m3\u001b[0m\u001b[0;34m]\u001b[0m\u001b[0;34m)\u001b[0m\u001b[0;34m\u001b[0m\u001b[0m\n\u001b[1;32m      2\u001b[0m \u001b[0mB\u001b[0m \u001b[0;34m=\u001b[0m \u001b[0mnp\u001b[0m\u001b[0;34m.\u001b[0m\u001b[0mrandom\u001b[0m\u001b[0;34m.\u001b[0m\u001b[0mrandint\u001b[0m\u001b[0;34m(\u001b[0m\u001b[0;36m1\u001b[0m\u001b[0;34m,\u001b[0m \u001b[0;36m10\u001b[0m\u001b[0;34m,\u001b[0m \u001b[0;34m[\u001b[0m\u001b[0;36m4\u001b[0m\u001b[0;34m,\u001b[0m \u001b[0;36m2\u001b[0m\u001b[0;34m]\u001b[0m\u001b[0;34m)\u001b[0m\u001b[0;34m\u001b[0m\u001b[0m\n\u001b[0;32m----> 3\u001b[0;31m \u001b[0mA\u001b[0m \u001b[0;34m+\u001b[0m \u001b[0mB\u001b[0m\u001b[0;34m\u001b[0m\u001b[0m\n\u001b[0m",
            "\u001b[0;31mValueError\u001b[0m: operands could not be broadcast together with shapes (4,3) (4,2) "
          ]
        }
      ]
    },
    {
      "cell_type": "markdown",
      "metadata": {
        "id": "rVMl4S3KF1y6",
        "colab_type": "text"
      },
      "source": [
        "## Loading Data\n",
        "Loading data is an important process in the data analysis/ machine learning pipeline. Data usually comes in `.csv` format. `csv` files can be loaded into Python by using the `loadtxt` method. The parameter `skiprows` skips the first row of the dataset - it is usually the header row of the data."
      ]
    },
    {
      "cell_type": "code",
      "metadata": {
        "id": "fSWEJdxRF1y6",
        "colab_type": "code",
        "colab": {}
      },
      "source": [
        "np.loadtxt(open(\"the_file_name.csv\", \"rb\"), delimiter=\",\", skiprows=1)"
      ],
      "execution_count": 0,
      "outputs": []
    },
    {
      "cell_type": "markdown",
      "metadata": {
        "id": "LbdN8MB4F1y7",
        "colab_type": "text"
      },
      "source": [
        "Pandas is a preferred package for loading data in Python. More about Pandas for data manipulation in the notebook `pandas.ipynb`."
      ]
    }
  ]
}