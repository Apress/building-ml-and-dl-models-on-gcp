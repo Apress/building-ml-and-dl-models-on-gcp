{
  "nbformat": 4,
  "nbformat_minor": 0,
  "metadata": {
    "colab": {
      "name": "regularization_for_deep_learning.ipynb",
      "version": "0.3.2",
      "provenance": []
    },
    "kernelspec": {
      "name": "python3",
      "display_name": "Python 3"
    }
  },
  "cells": [
    {
      "cell_type": "markdown",
      "metadata": {
        "id": "j10xRG87YXup",
        "colab_type": "text"
      },
      "source": [
        "# Chapter 34 - Regularization for Deep Learning\n",
        "## Building Machine Learning and Deep Learning Models on Google Cloud Platform\n",
        "### Ekaba Bisong"
      ]
    },
    {
      "cell_type": "markdown",
      "metadata": {
        "colab_type": "text",
        "id": "ArTKRRIUq0Ac"
      },
      "source": [
        "## Multilayer Perceptron (MLP) with Dropout"
      ]
    },
    {
      "cell_type": "code",
      "metadata": {
        "colab_type": "code",
        "id": "FhInKNxGq0Af",
        "colab": {}
      },
      "source": [
        "# install tensorflow 2.0\n",
        "!pip install -q tensorflow==2.0.0-beta0"
      ],
      "execution_count": 0,
      "outputs": []
    },
    {
      "cell_type": "code",
      "metadata": {
        "colab_type": "code",
        "id": "owCBNTF_q0At",
        "colab": {}
      },
      "source": [
        "# import packages\n",
        "import tensorflow as tf\n",
        "import numpy as np"
      ],
      "execution_count": 0,
      "outputs": []
    },
    {
      "cell_type": "code",
      "metadata": {
        "colab_type": "code",
        "id": "8J12tzn7q0Av",
        "colab": {}
      },
      "source": [
        "# import dataset\n",
        "(x_train, y_train), (x_test, y_test) = tf.keras.datasets.fashion_mnist.load_data()"
      ],
      "execution_count": 0,
      "outputs": []
    },
    {
      "cell_type": "code",
      "metadata": {
        "colab_type": "code",
        "id": "iyYLKtxWq0Az",
        "colab": {}
      },
      "source": [
        "# flatten the 28*28 pixel images into one long 784 pixel vector\n",
        "x_train = np.reshape(x_train, (-1, 784)).astype('float32')\n",
        "x_test = np.reshape(x_test, (-1, 784)).astype('float32')"
      ],
      "execution_count": 0,
      "outputs": []
    },
    {
      "cell_type": "code",
      "metadata": {
        "colab_type": "code",
        "id": "Ma9Zxlbkq0A3",
        "colab": {}
      },
      "source": [
        "# scale dataset from 0 -> 255 to 0 -> 1\n",
        "x_train /= 255\n",
        "x_test /= 255"
      ],
      "execution_count": 0,
      "outputs": []
    },
    {
      "cell_type": "code",
      "metadata": {
        "colab_type": "code",
        "id": "AKJpB2dzq0BF",
        "colab": {}
      },
      "source": [
        "# one-hot encode targets\n",
        "y_train = tf.keras.utils.to_categorical(y_train)\n",
        "y_test = tf.keras.utils.to_categorical(y_test)"
      ],
      "execution_count": 0,
      "outputs": []
    },
    {
      "cell_type": "code",
      "metadata": {
        "colab_type": "code",
        "id": "dTZZEmVvq0BL",
        "colab": {}
      },
      "source": [
        "# create the model\n",
        "def model_fn():\n",
        "    model = tf.keras.Sequential()\n",
        "    # Adds a densely-connected layer with 256 units to the model:\n",
        "    model.add(tf.keras.layers.Dense(256, activation='relu', input_dim=784))\n",
        "    # Add Dropout layer\n",
        "    model.add(tf.keras.layers.Dropout(rate=0.2))\n",
        "    # Add another densely-connected layer with 64 units:\n",
        "    model.add(tf.keras.layers.Dense(64, activation='relu'))\n",
        "    # Add a softmax layer with 10 output units:\n",
        "    model.add(tf.keras.layers.Dense(10, activation='softmax'))\n",
        "    \n",
        "    # compile the model\n",
        "    model.compile(optimizer=tf.keras.optimizers.Adam(0.001),\n",
        "                    loss='categorical_crossentropy',\n",
        "                    metrics=['accuracy'])\n",
        "    return model"
      ],
      "execution_count": 0,
      "outputs": []
    },
    {
      "cell_type": "code",
      "metadata": {
        "colab_type": "code",
        "id": "Xu6B8Bj8q0BN",
        "colab": {}
      },
      "source": [
        "# build model\n",
        "model = model_fn()"
      ],
      "execution_count": 0,
      "outputs": []
    },
    {
      "cell_type": "code",
      "metadata": {
        "colab_type": "code",
        "id": "1FNB_pPjq0BQ",
        "colab": {}
      },
      "source": [
        "# use tf.data to batch and shuffle the dataset\n",
        "train_ds = tf.data.Dataset.from_tensor_slices(\n",
        "    (x_train, y_train)).shuffle(len(x_train)).repeat().batch(32)\n",
        "test_ds = tf.data.Dataset.from_tensor_slices((x_test, y_test)).batch(32)"
      ],
      "execution_count": 0,
      "outputs": []
    },
    {
      "cell_type": "code",
      "metadata": {
        "colab_type": "code",
        "outputId": "572a131a-4bb9-4c94-b6d6-ffd2b0813633",
        "id": "5QNfMBzIq0BX",
        "colab": {
          "base_uri": "https://localhost:8080/",
          "height": 374
        }
      },
      "source": [
        "# train the model\n",
        "model.fit(train_ds, epochs=10,\n",
        "          steps_per_epoch=1000)"
      ],
      "execution_count": 0,
      "outputs": [
        {
          "output_type": "stream",
          "text": [
            "Epoch 1/10\n",
            "1000/1000 [==============================] - 6s 6ms/step - loss: 0.5781 - accuracy: 0.7920\n",
            "Epoch 2/10\n",
            "1000/1000 [==============================] - 5s 5ms/step - loss: 0.4314 - accuracy: 0.8418\n",
            "Epoch 3/10\n",
            "1000/1000 [==============================] - 5s 5ms/step - loss: 0.3924 - accuracy: 0.8579\n",
            "Epoch 4/10\n",
            "1000/1000 [==============================] - 5s 5ms/step - loss: 0.3883 - accuracy: 0.8581\n",
            "Epoch 5/10\n",
            "1000/1000 [==============================] - 5s 5ms/step - loss: 0.3614 - accuracy: 0.8662\n",
            "Epoch 6/10\n",
            "1000/1000 [==============================] - 5s 5ms/step - loss: 0.3542 - accuracy: 0.8711\n",
            "Epoch 7/10\n",
            "1000/1000 [==============================] - 6s 6ms/step - loss: 0.3409 - accuracy: 0.8724\n",
            "Epoch 8/10\n",
            "1000/1000 [==============================] - 5s 5ms/step - loss: 0.3262 - accuracy: 0.8769\n",
            "Epoch 9/10\n",
            "1000/1000 [==============================] - 5s 5ms/step - loss: 0.3267 - accuracy: 0.8803\n",
            "Epoch 10/10\n",
            "1000/1000 [==============================] - 5s 5ms/step - loss: 0.3151 - accuracy: 0.8833\n"
          ],
          "name": "stdout"
        },
        {
          "output_type": "execute_result",
          "data": {
            "text/plain": [
              "<tensorflow.python.keras.callbacks.History at 0x7fa2d6d64828>"
            ]
          },
          "metadata": {
            "tags": []
          },
          "execution_count": 58
        }
      ]
    },
    {
      "cell_type": "code",
      "metadata": {
        "colab_type": "code",
        "outputId": "75a849d8-1d14-41a2-8599-ddecd14b2e4f",
        "id": "lwkw7l3Lq0B-",
        "colab": {
          "base_uri": "https://localhost:8080/",
          "height": 68
        }
      },
      "source": [
        "# evaluate the model\n",
        "score = model.evaluate(test_ds)\n",
        "print('Test loss: {:.2f} \\nTest accuracy: {:.2f}%'.format(score[0], score[1]*100))"
      ],
      "execution_count": 0,
      "outputs": [
        {
          "output_type": "stream",
          "text": [
            "313/313 [==============================] - 1s 3ms/step - loss: 0.3715 - accuracy: 0.8628\n",
            "Test loss: 0.37 \n",
            "Test accuracy: 86.28%\n"
          ],
          "name": "stdout"
        }
      ]
    },
    {
      "cell_type": "markdown",
      "metadata": {
        "colab_type": "text",
        "id": "I39OeF1lu9MJ"
      },
      "source": [
        "## Multilayer Perceptron (MLP) with Noise Injection"
      ]
    },
    {
      "cell_type": "code",
      "metadata": {
        "colab_type": "code",
        "id": "66kuh6Xlu9MK",
        "colab": {}
      },
      "source": [
        "# install tensorflow 2.0\n",
        "!pip install -q tensorflow==2.0.0-beta0"
      ],
      "execution_count": 0,
      "outputs": []
    },
    {
      "cell_type": "code",
      "metadata": {
        "colab_type": "code",
        "id": "RDAc6-4Nu9MM",
        "colab": {}
      },
      "source": [
        "# import packages\n",
        "import tensorflow as tf\n",
        "import numpy as np"
      ],
      "execution_count": 0,
      "outputs": []
    },
    {
      "cell_type": "code",
      "metadata": {
        "colab_type": "code",
        "id": "IN6ncaFGu9MQ",
        "colab": {}
      },
      "source": [
        "# import dataset\n",
        "(x_train, y_train), (x_test, y_test) = tf.keras.datasets.fashion_mnist.load_data()"
      ],
      "execution_count": 0,
      "outputs": []
    },
    {
      "cell_type": "code",
      "metadata": {
        "colab_type": "code",
        "id": "F9gRK3u3u9MS",
        "colab": {}
      },
      "source": [
        "# flatten the 28*28 pixel images into one long 784 pixel vector\n",
        "x_train = np.reshape(x_train, (-1, 784)).astype('float32')\n",
        "x_test = np.reshape(x_test, (-1, 784)).astype('float32')"
      ],
      "execution_count": 0,
      "outputs": []
    },
    {
      "cell_type": "code",
      "metadata": {
        "colab_type": "code",
        "id": "sYxjWB9nu9MU",
        "colab": {}
      },
      "source": [
        "# scale dataset from 0 -> 255 to 0 -> 1\n",
        "x_train /= 255\n",
        "x_test /= 255"
      ],
      "execution_count": 0,
      "outputs": []
    },
    {
      "cell_type": "code",
      "metadata": {
        "colab_type": "code",
        "id": "KRSrtkQdu9MW",
        "colab": {}
      },
      "source": [
        "# one-hot encode targets\n",
        "y_train = tf.keras.utils.to_categorical(y_train)\n",
        "y_test = tf.keras.utils.to_categorical(y_test)"
      ],
      "execution_count": 0,
      "outputs": []
    },
    {
      "cell_type": "code",
      "metadata": {
        "colab_type": "code",
        "id": "PnE9Nwhxu9MZ",
        "colab": {}
      },
      "source": [
        "# create the model\n",
        "def model_fn():\n",
        "    model = tf.keras.Sequential()\n",
        "    # Adds a densely-connected layer with 256 units to the model:\n",
        "    model.add(tf.keras.layers.Dense(256, activation='relu', input_dim=784))\n",
        "    # Add Gaussian Noise\n",
        "    model.add(tf.keras.layers.GaussianNoise(stddev=1.0))\n",
        "    # Add another densely-connected layer with 64 units:\n",
        "    model.add(tf.keras.layers.Dense(64, activation='relu'))\n",
        "    # Add a softmax layer with 10 output units:\n",
        "    model.add(tf.keras.layers.Dense(10, activation='softmax'))\n",
        "    \n",
        "    # compile the model\n",
        "    model.compile(optimizer=tf.keras.optimizers.RMSprop(),\n",
        "                    loss='categorical_crossentropy',\n",
        "                    metrics=['accuracy'])\n",
        "    return model"
      ],
      "execution_count": 0,
      "outputs": []
    },
    {
      "cell_type": "code",
      "metadata": {
        "colab_type": "code",
        "id": "jJFgqobYu9Mb",
        "colab": {}
      },
      "source": [
        "# build model\n",
        "model = model_fn()"
      ],
      "execution_count": 0,
      "outputs": []
    },
    {
      "cell_type": "code",
      "metadata": {
        "colab_type": "code",
        "id": "4xXKdIjZu9Md",
        "colab": {}
      },
      "source": [
        "# use tf.data to batch and shuffle the dataset\n",
        "train_ds = tf.data.Dataset.from_tensor_slices(\n",
        "    (x_train, y_train)).shuffle(len(x_train)).repeat().batch(32)\n",
        "test_ds = tf.data.Dataset.from_tensor_slices((x_test, y_test)).batch(32)"
      ],
      "execution_count": 0,
      "outputs": []
    },
    {
      "cell_type": "code",
      "metadata": {
        "colab_type": "code",
        "outputId": "727a0573-2ec5-448e-9137-605cef632893",
        "id": "2nTTNOqku9Mf",
        "colab": {
          "base_uri": "https://localhost:8080/",
          "height": 374
        }
      },
      "source": [
        "# train the model\n",
        "model.fit(train_ds, epochs=10,\n",
        "          steps_per_epoch=1000)"
      ],
      "execution_count": 0,
      "outputs": [
        {
          "output_type": "stream",
          "text": [
            "Epoch 1/10\n",
            "1000/1000 [==============================] - 7s 7ms/step - loss: 0.6963 - accuracy: 0.7498\n",
            "Epoch 2/10\n",
            "1000/1000 [==============================] - 6s 6ms/step - loss: 0.5024 - accuracy: 0.8155\n",
            "Epoch 3/10\n",
            "1000/1000 [==============================] - 6s 6ms/step - loss: 0.4570 - accuracy: 0.8348\n",
            "Epoch 4/10\n",
            "1000/1000 [==============================] - 6s 6ms/step - loss: 0.4354 - accuracy: 0.8418\n",
            "Epoch 5/10\n",
            "1000/1000 [==============================] - 6s 6ms/step - loss: 0.4272 - accuracy: 0.8508\n",
            "Epoch 6/10\n",
            "1000/1000 [==============================] - 6s 6ms/step - loss: 0.4059 - accuracy: 0.8555\n",
            "Epoch 7/10\n",
            "1000/1000 [==============================] - 6s 6ms/step - loss: 0.4091 - accuracy: 0.8562\n",
            "Epoch 8/10\n",
            "1000/1000 [==============================] - 6s 6ms/step - loss: 0.4064 - accuracy: 0.8580\n",
            "Epoch 9/10\n",
            "1000/1000 [==============================] - 6s 6ms/step - loss: 0.3942 - accuracy: 0.8625\n",
            "Epoch 10/10\n",
            "1000/1000 [==============================] - 6s 6ms/step - loss: 0.4010 - accuracy: 0.8634\n"
          ],
          "name": "stdout"
        },
        {
          "output_type": "execute_result",
          "data": {
            "text/plain": [
              "<tensorflow.python.keras.callbacks.History at 0x7fa2d65e7160>"
            ]
          },
          "metadata": {
            "tags": []
          },
          "execution_count": 71
        }
      ]
    },
    {
      "cell_type": "code",
      "metadata": {
        "colab_type": "code",
        "outputId": "ab85253a-25d4-4aba-d528-a8c3cbc4afcf",
        "id": "z7HlGe4yu9Mk",
        "colab": {
          "base_uri": "https://localhost:8080/",
          "height": 68
        }
      },
      "source": [
        "# evaluate the model\n",
        "score = model.evaluate(test_ds)\n",
        "print('Test loss: {:.2f} \\nTest accuracy: {:.2f}%'.format(score[0], score[1]*100))"
      ],
      "execution_count": 0,
      "outputs": [
        {
          "output_type": "stream",
          "text": [
            "313/313 [==============================] - 1s 3ms/step - loss: 0.4184 - accuracy: 0.8609\n",
            "Test loss: 0.42 \n",
            "Test accuracy: 86.09%\n"
          ],
          "name": "stdout"
        }
      ]
    },
    {
      "cell_type": "markdown",
      "metadata": {
        "colab_type": "text",
        "id": "S51LKHAhxmTi"
      },
      "source": [
        "## Multilayer Perceptron (MLP) with Early Stopping"
      ]
    },
    {
      "cell_type": "code",
      "metadata": {
        "colab_type": "code",
        "id": "M24plu4gxmTj",
        "colab": {}
      },
      "source": [
        "# install tensorflow 2.0\n",
        "!pip install -q tensorflow==2.0.0-beta0"
      ],
      "execution_count": 0,
      "outputs": []
    },
    {
      "cell_type": "code",
      "metadata": {
        "colab_type": "code",
        "id": "-KsCvaNCxmTl",
        "colab": {}
      },
      "source": [
        "# import packages\n",
        "import tensorflow as tf\n",
        "import numpy as np"
      ],
      "execution_count": 0,
      "outputs": []
    },
    {
      "cell_type": "code",
      "metadata": {
        "colab_type": "code",
        "id": "jWK3faQfxmTo",
        "colab": {}
      },
      "source": [
        "# import dataset\n",
        "(x_train, y_train), (x_test, y_test) = tf.keras.datasets.fashion_mnist.load_data()"
      ],
      "execution_count": 0,
      "outputs": []
    },
    {
      "cell_type": "code",
      "metadata": {
        "colab_type": "code",
        "id": "jGvvaecAxmTp",
        "colab": {}
      },
      "source": [
        "# flatten the 28*28 pixel images into one long 784 pixel vector\n",
        "x_train = np.reshape(x_train, (-1, 784)).astype('float32')\n",
        "x_test = np.reshape(x_test, (-1, 784)).astype('float32')"
      ],
      "execution_count": 0,
      "outputs": []
    },
    {
      "cell_type": "code",
      "metadata": {
        "colab_type": "code",
        "id": "2IhNTHbSxmTt",
        "colab": {}
      },
      "source": [
        "# scale dataset from 0 -> 255 to 0 -> 1\n",
        "x_train /= 255\n",
        "x_test /= 255"
      ],
      "execution_count": 0,
      "outputs": []
    },
    {
      "cell_type": "code",
      "metadata": {
        "colab_type": "code",
        "id": "gIROeAE1xmTv",
        "colab": {}
      },
      "source": [
        "# one-hot encode targets\n",
        "y_train = tf.keras.utils.to_categorical(y_train)\n",
        "y_test = tf.keras.utils.to_categorical(y_test)"
      ],
      "execution_count": 0,
      "outputs": []
    },
    {
      "cell_type": "code",
      "metadata": {
        "colab_type": "code",
        "id": "aha5dnZCxmTz",
        "colab": {}
      },
      "source": [
        "# create the model\n",
        "def model_fn():\n",
        "    model = tf.keras.Sequential()\n",
        "    # Adds a densely-connected layer with 256 units to the model:\n",
        "    model.add(tf.keras.layers.Dense(256, activation='relu', input_dim=784))\n",
        "    # Add another densely-connected layer with 128 units:\n",
        "    model.add(tf.keras.layers.Dense(128, activation='relu'))\n",
        "    # Add another densely-connected layer with 64 units:\n",
        "    model.add(tf.keras.layers.Dense(64, activation='relu'))\n",
        "    # Add another densely-connected layer with 32 units:\n",
        "    model.add(tf.keras.layers.Dense(32, activation='relu'))\n",
        "    # Add a softmax layer with 10 output units:\n",
        "    model.add(tf.keras.layers.Dense(10, activation='softmax'))\n",
        "    \n",
        "    # compile the model\n",
        "    model.compile(optimizer=tf.keras.optimizers.RMSprop(),\n",
        "                    loss='categorical_crossentropy',\n",
        "                    metrics=['accuracy'])\n",
        "    return model"
      ],
      "execution_count": 0,
      "outputs": []
    },
    {
      "cell_type": "code",
      "metadata": {
        "colab_type": "code",
        "id": "mH3mW1hrxmT3",
        "colab": {}
      },
      "source": [
        "# use tf.data to batch and shuffle the dataset\n",
        "train_ds = tf.data.Dataset.from_tensor_slices(\n",
        "    (x_train, y_train)).shuffle(len(x_train)).repeat().batch(32)\n",
        "test_ds = tf.data.Dataset.from_tensor_slices((x_test, y_test)).batch(32)"
      ],
      "execution_count": 0,
      "outputs": []
    },
    {
      "cell_type": "code",
      "metadata": {
        "colab_type": "code",
        "id": "u-iPSbDKxmT1",
        "colab": {}
      },
      "source": [
        "# build model\n",
        "model = model_fn()"
      ],
      "execution_count": 0,
      "outputs": []
    },
    {
      "cell_type": "code",
      "metadata": {
        "id": "1pKSWxwWyEOt",
        "colab_type": "code",
        "colab": {}
      },
      "source": [
        "# early stopping\n",
        "checkpoint = tf.keras.callbacks.EarlyStopping(\n",
        "    monitor='val_loss',\n",
        "    mode='auto',\n",
        "    patience=5)"
      ],
      "execution_count": 0,
      "outputs": []
    },
    {
      "cell_type": "code",
      "metadata": {
        "id": "tstjxd2az3cj",
        "colab_type": "code",
        "colab": {}
      },
      "source": [
        "# assign callback\n",
        "callbacks = [checkpoint]"
      ],
      "execution_count": 0,
      "outputs": []
    },
    {
      "cell_type": "code",
      "metadata": {
        "colab_type": "code",
        "outputId": "9af73375-6026-4b79-da02-3ed4a5635b7f",
        "id": "9IKfHI7vxmT7",
        "colab": {
          "base_uri": "https://localhost:8080/",
          "height": 343
        }
      },
      "source": [
        "# train the model\n",
        "history = model.fit(train_ds, epochs=10,\n",
        "                    steps_per_epoch=100,\n",
        "                    validation_data=test_ds,\n",
        "                    callbacks=callbacks)"
      ],
      "execution_count": 0,
      "outputs": [
        {
          "output_type": "stream",
          "text": [
            "Epoch 1/10\n",
            "100/100 [==============================] - 2s 16ms/step - loss: 0.4475 - accuracy: 0.8334 - val_loss: 0.5431 - val_accuracy: 0.8145\n",
            "Epoch 2/10\n",
            "100/100 [==============================] - 1s 14ms/step - loss: 0.4156 - accuracy: 0.8466 - val_loss: 0.4632 - val_accuracy: 0.8347\n",
            "Epoch 3/10\n",
            "100/100 [==============================] - 1s 13ms/step - loss: 0.4231 - accuracy: 0.8475 - val_loss: 0.5019 - val_accuracy: 0.8234\n",
            "Epoch 4/10\n",
            "100/100 [==============================] - 1s 13ms/step - loss: 0.4421 - accuracy: 0.8438 - val_loss: 0.4417 - val_accuracy: 0.8416\n",
            "Epoch 5/10\n",
            "100/100 [==============================] - 1s 14ms/step - loss: 0.4347 - accuracy: 0.8444 - val_loss: 0.4494 - val_accuracy: 0.8410\n",
            "Epoch 6/10\n",
            "100/100 [==============================] - 1s 14ms/step - loss: 0.4358 - accuracy: 0.8453 - val_loss: 0.4554 - val_accuracy: 0.8384\n",
            "Epoch 7/10\n",
            "100/100 [==============================] - 1s 13ms/step - loss: 0.4385 - accuracy: 0.8434 - val_loss: 0.5254 - val_accuracy: 0.8205\n",
            "Epoch 8/10\n",
            "100/100 [==============================] - 1s 14ms/step - loss: 0.4372 - accuracy: 0.8397 - val_loss: 0.4665 - val_accuracy: 0.8220\n",
            "Epoch 9/10\n",
            "100/100 [==============================] - 1s 14ms/step - loss: 0.4411 - accuracy: 0.8350 - val_loss: 0.4583 - val_accuracy: 0.8319\n"
          ],
          "name": "stdout"
        }
      ]
    },
    {
      "cell_type": "code",
      "metadata": {
        "colab_type": "code",
        "outputId": "0b37907c-5baa-454d-a66f-961170afcbd0",
        "id": "ga1ky-EfxmUB",
        "colab": {
          "base_uri": "https://localhost:8080/",
          "height": 68
        }
      },
      "source": [
        "# evaluate the model\n",
        "score = model.evaluate(test_ds)\n",
        "print('Test loss: {:.2f} \\nTest accuracy: {:.2f}%'.format(score[0], score[1]*100))"
      ],
      "execution_count": 0,
      "outputs": [
        {
          "output_type": "stream",
          "text": [
            "313/313 [==============================] - 1s 2ms/step - loss: 0.4583 - accuracy: 0.8319\n",
            "Test loss: 0.46 \n",
            "Test accuracy: 83.19%\n"
          ],
          "name": "stdout"
        }
      ]
    }
  ]
}